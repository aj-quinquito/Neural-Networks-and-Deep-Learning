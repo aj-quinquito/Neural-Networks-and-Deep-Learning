{
 "cells": [
  {
   "cell_type": "code",
   "execution_count": null,
   "metadata": {},
   "outputs": [
    {
     "name": "stderr",
     "output_type": "stream",
     "text": [
      "[nltk_data] Downloading package punkt to\n",
      "[nltk_data]     C:\\Users\\AJ\\AppData\\Roaming\\nltk_data...\n",
      "[nltk_data]   Package punkt is already up-to-date!\n",
      "[nltk_data] Downloading package stopwords to\n",
      "[nltk_data]     C:\\Users\\AJ\\AppData\\Roaming\\nltk_data...\n",
      "[nltk_data]   Package stopwords is already up-to-date!\n"
     ]
    },
    {
     "data": {
      "text/plain": [
       "True"
      ]
     },
     "execution_count": 1,
     "metadata": {},
     "output_type": "execute_result"
    }
   ],
   "source": [
    "import pandas as pd\n",
    "from sklearn.preprocessing import LabelEncoder\n",
    "import numpy as np\n",
    "import seaborn as sns\n",
    "import matplotlib.pyplot as plt\n",
    "import nltk\n",
    "from nltk.tokenize import word_tokenize\n",
    "from autocorrect import Speller\n",
    "from nltk.corpus import stopwords\n",
    "import nltk\n",
    "import re\n",
    "from tensorflow.keras.preprocessing.text import Tokenizer\n",
    "from tensorflow.keras.preprocessing.sequence import pad_sequences\n",
    "import tensorflow as tf\n",
    "from tensorflow.keras.models import Sequential\n",
    "from tensorflow.keras.layers import Embedding, LSTM, GRU, Dense, Dropout, Bidirectional\n",
    "from sklearn.metrics import accuracy_score\n",
    "import seaborn as sns\n",
    "from sklearn.metrics import confusion_matrix\n",
    "import matplotlib.pyplot as plt\n",
    "from tensorflow.keras.layers import Conv1D, MaxPooling1D\n",
    "from sklearn.metrics import classification_report\n",
    "nltk.download('punkt')\n",
    "nltk.download('stopwords')\n"
   ]
  },
  {
   "cell_type": "markdown",
   "metadata": {},
   "source": [
    "1. Data"
   ]
  },
  {
   "cell_type": "code",
   "execution_count": 2,
   "metadata": {},
   "outputs": [],
   "source": [
    "# Specify the paths or filenames of the datasets\n",
    "train_file = \"emotion-labels-train.csv\" \n",
    "val_file = \"emotion-labels-val.csv\"\n",
    "test_file = \"emotion-labels-test.csv\""
   ]
  },
  {
   "cell_type": "code",
   "execution_count": 3,
   "metadata": {},
   "outputs": [
    {
     "name": "stdout",
     "output_type": "stream",
     "text": [
      "Training Data:\n",
      "                                                text label\n",
      "0  Just got back from seeing @GaryDelaney in Burs...   joy\n",
      "1  Oh dear an evening of absolute hilarity I don'...   joy\n",
      "2  Been waiting all week for this game ❤️❤️❤️ #ch...   joy\n",
      "3  @gardiner_love : Thank you so much, Gloria! Yo...   joy\n",
      "4  I feel so blessed to work with the family that...   joy\n",
      "\n",
      "Validation Data:\n",
      "                                                text label\n",
      "0  @theclobra lol I thought maybe, couldn't decid...   joy\n",
      "1  Nawaz Sharif is getting more funnier than @kap...   joy\n",
      "2  Nawaz Sharif is getting more funnier than @kap...   joy\n",
      "3  @tomderivan73 😁...I'll just people watch and e...   joy\n",
      "4  I love my family so much #lucky #grateful #sma...   joy\n",
      "\n",
      "Testing Data:\n",
      "                                                text label\n",
      "0  You must be knowing #blithe means (adj.)  Happ...   joy\n",
      "1  Old saying 'A #smile shared is one gained for ...   joy\n",
      "2  Bridget Jones' Baby was bloody hilarious 😅 #Br...   joy\n",
      "3  @Elaminova sparkling water makes your life spa...   joy\n",
      "4  I'm tired of everybody telling me to chill out...   joy\n"
     ]
    }
   ],
   "source": [
    "# Load the datasets into pandas dataframes\n",
    "try:\n",
    "    train_df = pd.read_csv(train_file)\n",
    "    val_df = pd.read_csv(val_file)\n",
    "    test_df = pd.read_csv(test_file)\n",
    "    \n",
    "    # Display the first few rows of each dataframe to confirm loading\n",
    "    print(\"Training Data:\")\n",
    "    print(train_df.head())\n",
    "    \n",
    "    print(\"\\nValidation Data:\")\n",
    "    print(val_df.head())\n",
    "    \n",
    "    print(\"\\nTesting Data:\")\n",
    "    print(test_df.head())\n",
    "except FileNotFoundError as e:\n",
    "    print(f\"Error: {e}\")"
   ]
  },
  {
   "cell_type": "code",
   "execution_count": 4,
   "metadata": {},
   "outputs": [
    {
     "name": "stdout",
     "output_type": "stream",
     "text": [
      "Training Data Info:\n",
      "<class 'pandas.core.frame.DataFrame'>\n",
      "RangeIndex: 3613 entries, 0 to 3612\n",
      "Data columns (total 2 columns):\n",
      " #   Column  Non-Null Count  Dtype \n",
      "---  ------  --------------  ----- \n",
      " 0   text    3613 non-null   object\n",
      " 1   label   3613 non-null   object\n",
      "dtypes: object(2)\n",
      "memory usage: 56.6+ KB\n",
      "\n",
      "Validation Data Info:\n",
      "<class 'pandas.core.frame.DataFrame'>\n",
      "RangeIndex: 347 entries, 0 to 346\n",
      "Data columns (total 2 columns):\n",
      " #   Column  Non-Null Count  Dtype \n",
      "---  ------  --------------  ----- \n",
      " 0   text    347 non-null    object\n",
      " 1   label   347 non-null    object\n",
      "dtypes: object(2)\n",
      "memory usage: 5.5+ KB\n",
      "\n",
      "Testing Data Info:\n",
      "<class 'pandas.core.frame.DataFrame'>\n",
      "RangeIndex: 3142 entries, 0 to 3141\n",
      "Data columns (total 2 columns):\n",
      " #   Column  Non-Null Count  Dtype \n",
      "---  ------  --------------  ----- \n",
      " 0   text    3142 non-null   object\n",
      " 1   label   3142 non-null   object\n",
      "dtypes: object(2)\n",
      "memory usage: 49.2+ KB\n"
     ]
    }
   ],
   "source": [
    "# Check the datatype and missing values for each dataset\n",
    "print(\"Training Data Info:\")\n",
    "train_df.info()\n",
    "\n",
    "print(\"\\nValidation Data Info:\")\n",
    "val_df.info()\n",
    "\n",
    "print(\"\\nTesting Data Info:\")\n",
    "test_df.info()"
   ]
  },
  {
   "cell_type": "code",
   "execution_count": 5,
   "metadata": {},
   "outputs": [
    {
     "name": "stdout",
     "output_type": "stream",
     "text": [
      "Number of duplicate entries in Training Data: 0\n",
      "Number of duplicate entries in Validation Data: 0\n",
      "Number of duplicate entries in Testing Data: 0\n"
     ]
    }
   ],
   "source": [
    "# Check for duplicate entries in each dataset\n",
    "train_duplicates = train_df.duplicated().sum()\n",
    "val_duplicates = val_df.duplicated().sum()\n",
    "test_duplicates = test_df.duplicated().sum()\n",
    "\n",
    "# Print the results\n",
    "print(f\"Number of duplicate entries in Training Data: {train_duplicates}\")\n",
    "print(f\"Number of duplicate entries in Validation Data: {val_duplicates}\")\n",
    "print(f\"Number of duplicate entries in Testing Data: {test_duplicates}\")"
   ]
  },
  {
   "cell_type": "markdown",
   "metadata": {},
   "source": [
    "Observation: The datasets are clean, with no missing values, duplicate rows, or incorrect data types.\n",
    "\n",
    "\n",
    "Explanation: We loaded the training, validation, and testing datasets, verified their structure using DataFrame.info(), checked for duplicates using DataFrame.duplicated(), and ensured no cleaning was necessary before proceeding."
   ]
  },
  {
   "cell_type": "code",
   "execution_count": 6,
   "metadata": {},
   "outputs": [],
   "source": [
    "# Move labels into a separate DataFrame\n",
    "train_labels = train_df['label']\n",
    "val_labels = val_df['label']\n",
    "test_labels = test_df['label']\n",
    "\n",
    "# Initialize the LabelEncoder\n",
    "label_encoder = LabelEncoder()\n",
    "\n",
    "# Fit and transform the labels\n",
    "train_labels_encoded = label_encoder.fit_transform(train_labels)\n",
    "val_labels_encoded = label_encoder.transform(val_labels)\n",
    "test_labels_encoded = label_encoder.transform(test_labels)\n",
    "\n",
    "# Reshape the labels into 2D arrays\n",
    "train_labels_encoded = train_labels_encoded.reshape(-1, 1)\n",
    "val_labels_encoded = val_labels_encoded.reshape(-1, 1)\n",
    "test_labels_encoded = test_labels_encoded.reshape(-1, 1)"
   ]
  },
  {
   "cell_type": "code",
   "execution_count": 7,
   "metadata": {},
   "outputs": [
    {
     "name": "stdout",
     "output_type": "stream",
     "text": [
      "Sample Encoded Training Labels:\n",
      "[[2]\n",
      " [2]\n",
      " [2]\n",
      " [2]\n",
      " [2]]\n",
      "\n",
      "Sample Encoded Validation Labels:\n",
      "[[2]\n",
      " [2]\n",
      " [2]\n",
      " [2]\n",
      " [2]]\n",
      "\n",
      "Sample Encoded Testing Labels:\n",
      "[[2]\n",
      " [2]\n",
      " [2]\n",
      " [2]\n",
      " [2]]\n"
     ]
    }
   ],
   "source": [
    "# Print to confirm transformation\n",
    "print(\"Sample Encoded Training Labels:\")\n",
    "print(train_labels_encoded[:5])\n",
    "\n",
    "print(\"\\nSample Encoded Validation Labels:\")\n",
    "print(val_labels_encoded[:5])\n",
    "\n",
    "print(\"\\nSample Encoded Testing Labels:\")\n",
    "print(test_labels_encoded[:5])"
   ]
  },
  {
   "cell_type": "code",
   "execution_count": 8,
   "metadata": {},
   "outputs": [
    {
     "name": "stdout",
     "output_type": "stream",
     "text": [
      "Label Mapping:\n",
      "0: anger\n",
      "1: fear\n",
      "2: joy\n",
      "3: sadness\n"
     ]
    }
   ],
   "source": [
    "# Print the mapping of labels\n",
    "print(\"Label Mapping:\")\n",
    "for index, class_label in enumerate(label_encoder.classes_):\n",
    "    print(f\"{index}: {class_label}\")"
   ]
  },
  {
   "cell_type": "markdown",
   "metadata": {},
   "source": [
    "Based on the output of LabelEncoder, the following mapping of emotions to integers has been established:\n",
    "\n",
    "| Label    | Encoded Number |\n",
    "|----------|----------------|\n",
    "| anger    | 0              |\n",
    "| fear     | 1              |\n",
    "| joy      | 2              |\n",
    "| sadness  | 3              |\n",
    "\n",
    "\n",
    "This mapping ensures that the categorical labels are converted into numerical values, which can be directly used in machine learning models."
   ]
  },
  {
   "cell_type": "code",
   "execution_count": 9,
   "metadata": {},
   "outputs": [
    {
     "name": "stderr",
     "output_type": "stream",
     "text": [
      "C:\\Users\\AJ\\AppData\\Local\\Temp\\ipykernel_15952\\2994330365.py:10: FutureWarning: \n",
      "\n",
      "Passing `palette` without assigning `hue` is deprecated and will be removed in v0.14.0. Assign the `x` variable to `hue` and set `legend=False` for the same effect.\n",
      "\n",
      "  sns.barplot(data=label_counts, x='Label', y='Count', palette='viridis')\n"
     ]
    },
    {
     "data": {
      "image/png": "[encoded data removed]",
      "text/plain": [
       "<Figure size 800x600 with 1 Axes>"
      ]
     },
     "metadata": {},
     "output_type": "display_data"
    }
   ],
   "source": [
    "# Combine all labels into a single Series for counting\n",
    "all_labels = pd.concat([train_df['label'], val_df['label'], test_df['label']])\n",
    "\n",
    "# Count the occurrences of each label\n",
    "label_counts = all_labels.value_counts().reset_index()\n",
    "label_counts.columns = ['Label', 'Count']\n",
    "\n",
    "# Create the bar plot\n",
    "plt.figure(figsize=(8, 6))\n",
    "sns.barplot(data=label_counts, x='Label', y='Count', palette='viridis')\n",
    "plt.title('Number of Elements in Each Category', fontsize=16)\n",
    "plt.xlabel('Emotion Label', fontsize=12)\n",
    "plt.ylabel('Count', fontsize=12)\n",
    "plt.xticks(fontsize=10)\n",
    "plt.yticks(fontsize=10)\n",
    "plt.show()"
   ]
  },
  {
   "cell_type": "markdown",
   "metadata": {},
   "source": [
    "The dataset is imbalanced, with \"fear\" having the highest count and the other categories (\"anger,\" \"joy,\" and \"sadness\") having noticeably fewer samples. This imbalance could bias the model toward predicting \"fear,\" leading to poorer performance on the minority classes."
   ]
  },
  {
   "cell_type": "code",
   "execution_count": 10,
   "metadata": {},
   "outputs": [],
   "source": [
    "# Define a function to tokenize tweets\n",
    "def tokenize_tweets(data):\n",
    "    return data['text'].apply(word_tokenize)\n",
    "\n",
    "\n",
    "# Tokenize the datasets\n",
    "train_df['tokens'] = tokenize_tweets(train_df)\n",
    "val_df['tokens'] = tokenize_tweets(val_df)\n",
    "test_df['tokens'] = tokenize_tweets(test_df)"
   ]
  },
  {
   "cell_type": "code",
   "execution_count": 11,
   "metadata": {},
   "outputs": [
    {
     "name": "stdout",
     "output_type": "stream",
     "text": [
      "Sample Tokenized Training Tweet:\n",
      "text      Just got back from seeing @GaryDelaney in Burs...\n",
      "tokens    [Just, got, back, from, seeing, @, GaryDelaney...\n",
      "Name: 0, dtype: object\n",
      "\n",
      "Sample Tokenized Validation Tweet:\n",
      "text      @theclobra lol I thought maybe, couldn't decid...\n",
      "tokens    [@, theclobra, lol, I, thought, maybe, ,, coul...\n",
      "Name: 0, dtype: object\n",
      "\n",
      "Sample Tokenized Testing Tweet:\n",
      "text      You must be knowing #blithe means (adj.)  Happ...\n",
      "tokens    [You, must, be, knowing, #, blithe, means, (, ...\n",
      "Name: 0, dtype: object\n"
     ]
    }
   ],
   "source": [
    "# Display examples of tokenized tweets\n",
    "print(\"Sample Tokenized Training Tweet:\")\n",
    "print(train_df[['text', 'tokens']].iloc[0])\n",
    "\n",
    "print(\"\\nSample Tokenized Validation Tweet:\")\n",
    "print(val_df[['text', 'tokens']].iloc[0])\n",
    "\n",
    "print(\"\\nSample Tokenized Testing Tweet:\")\n",
    "print(test_df[['text', 'tokens']].iloc[0])"
   ]
  },
  {
   "cell_type": "code",
   "execution_count": 12,
   "metadata": {},
   "outputs": [],
   "source": [
    "# Initialize the speller\n",
    "spell = Speller(lang='en')\n",
    "\n",
    "# Define a function to correct spelling in tokenized tweets\n",
    "def correct_spelling(tokens):\n",
    "    return [spell(word) for word in tokens]\n",
    "\n",
    "# Apply spelling correction to the tokenized datasets\n",
    "train_df['corrected_tokens'] = train_df['tokens'].apply(correct_spelling)\n",
    "val_df['corrected_tokens'] = val_df['tokens'].apply(correct_spelling)\n",
    "test_df['corrected_tokens'] = test_df['tokens'].apply(correct_spelling)"
   ]
  },
  {
   "cell_type": "code",
   "execution_count": 13,
   "metadata": {},
   "outputs": [
    {
     "name": "stdout",
     "output_type": "stream",
     "text": [
      "Sample Corrected Training Tweet:\n",
      "tokens              [Just, got, back, from, seeing, @, GaryDelaney...\n",
      "corrected_tokens    [Just, got, back, from, seeing, @, GaryDelaney...\n",
      "Name: 0, dtype: object\n",
      "\n",
      "Sample Corrected Validation Tweet:\n",
      "tokens              [@, theclobra, lol, I, thought, maybe, ,, coul...\n",
      "corrected_tokens    [@, theclobra, lol, I, thought, maybe, ,, coul...\n",
      "Name: 0, dtype: object\n",
      "\n",
      "Sample Corrected Testing Tweet:\n",
      "tokens              [You, must, be, knowing, #, blithe, means, (, ...\n",
      "corrected_tokens    [You, must, be, knowing, #, elite, means, (, a...\n",
      "Name: 0, dtype: object\n"
     ]
    }
   ],
   "source": [
    "# Display examples of corrected tokenized tweets\n",
    "print(\"Sample Corrected Training Tweet:\")\n",
    "print(train_df[['tokens', 'corrected_tokens']].iloc[0])\n",
    "\n",
    "print(\"\\nSample Corrected Validation Tweet:\")\n",
    "print(val_df[['tokens', 'corrected_tokens']].iloc[0])\n",
    "\n",
    "print(\"\\nSample Corrected Testing Tweet:\")\n",
    "print(test_df[['tokens', 'corrected_tokens']].iloc[0])"
   ]
  },
  {
   "cell_type": "code",
   "execution_count": 14,
   "metadata": {},
   "outputs": [],
   "source": [
    "# Get the list of standard English stopwords from NLTK\n",
    "stop_words = set(stopwords.words('english'))\n",
    "\n",
    "# Add dataset-specific custom stopwords\n",
    "custom_stopwords = {\n",
    "    \"u\", \"ur\", \"im\", \"dont\", \"cant\", \"idk\", \"ive\", \"aint\",  # Slang and contractions\n",
    "    \"lol\", \"thx\", \"omg\", \"haha\", \"hahaha\",                 # Informal expressions\n",
    "    \"like\", \"just\", \"rt\", \"amp\",                           # Filler words and placeholders\n",
    "    \"oh\", \"ohh\", \"ahh\",                                    # Expressions with low emotional significance\n",
    "    \"got\", \"get\", \"gotta\", \"gonna\",                        # Neutral action words\n",
    "    \"one\", \"two\", \"three\", \"hey\", \"hi\", \"hello\",           # Greetings and generic numbers\n",
    "}\n",
    "\n",
    "# Update the stop_words set with custom stopwords\n",
    "stop_words.update(custom_stopwords)\n",
    "\n",
    "# Define a function to remove stopwords from tokenized tweets\n",
    "def remove_stopwords(tokens):\n",
    "    return [word for word in tokens if word.lower() not in stop_words]\n",
    "\n",
    "# Apply stopword removal to the corrected tokens in each dataset\n",
    "train_df['filtered_tokens'] = train_df['corrected_tokens'].apply(remove_stopwords)\n",
    "val_df['filtered_tokens'] = val_df['corrected_tokens'].apply(remove_stopwords)\n",
    "test_df['filtered_tokens'] = test_df['corrected_tokens'].apply(remove_stopwords)"
   ]
  },
  {
   "cell_type": "code",
   "execution_count": 15,
   "metadata": {},
   "outputs": [
    {
     "name": "stdout",
     "output_type": "stream",
     "text": [
      "Sample Filtered Training Tweet:\n",
      "corrected_tokens    [Just, got, back, from, seeing, @, GaryDelaney...\n",
      "filtered_tokens     [back, seeing, @, GaryDelaney, Burslem, ., AMA...\n",
      "Name: 0, dtype: object\n",
      "\n",
      "Sample Filtered Validation Tweet:\n",
      "corrected_tokens    [@, theclobra, lol, I, thought, maybe, ,, coul...\n",
      "filtered_tokens     [@, theclobra, thought, maybe, ,, could, n't, ...\n",
      "Name: 0, dtype: object\n",
      "\n",
      "Sample Filtered Testing Tweet:\n",
      "corrected_tokens    [You, must, be, knowing, #, elite, means, (, a...\n",
      "filtered_tokens     [must, knowing, #, elite, means, (, adj, ., ),...\n",
      "Name: 0, dtype: object\n"
     ]
    }
   ],
   "source": [
    "# Display examples of filtered tokenized tweets\n",
    "print(\"Sample Filtered Training Tweet:\")\n",
    "print(train_df[['corrected_tokens', 'filtered_tokens']].iloc[0])\n",
    "\n",
    "print(\"\\nSample Filtered Validation Tweet:\")\n",
    "print(val_df[['corrected_tokens', 'filtered_tokens']].iloc[0])\n",
    "\n",
    "print(\"\\nSample Filtered Testing Tweet:\")\n",
    "print(test_df[['corrected_tokens', 'filtered_tokens']].iloc[0])"
   ]
  },
  {
   "cell_type": "code",
   "execution_count": 16,
   "metadata": {},
   "outputs": [],
   "source": [
    "# Define a function for additional text cleanup using regular expressions\n",
    "def clean_text_with_regex(tokens):\n",
    "    cleaned_tokens = []\n",
    "    for token in tokens:\n",
    "        # Remove URLs\n",
    "        token = re.sub(r\"http\\S+|www\\S+|https\\S+\", '', token, flags=re.MULTILINE)\n",
    "        # Remove usernames (mentions) starting with @\n",
    "        token = re.sub(r\"@\\w+\", '', token)\n",
    "        # Remove hashtags (keep the word, remove the #)\n",
    "        token = re.sub(r\"#\", '', token)\n",
    "        # Remove non-alphanumeric characters (punctuation, symbols, etc.)\n",
    "        token = re.sub(r\"[^a-zA-Z0-9]\", '', token)\n",
    "        # Remove tokens that are now empty after cleanup\n",
    "        if token.strip():\n",
    "            cleaned_tokens.append(token)\n",
    "    return cleaned_tokens\n",
    "\n",
    "# Apply the text cleanup function to the filtered tokens in each dataset\n",
    "train_df['final_tokens'] = train_df['filtered_tokens'].apply(clean_text_with_regex)\n",
    "val_df['final_tokens'] = val_df['filtered_tokens'].apply(clean_text_with_regex)\n",
    "test_df['final_tokens'] = test_df['filtered_tokens'].apply(clean_text_with_regex)"
   ]
  },
  {
   "cell_type": "code",
   "execution_count": 17,
   "metadata": {},
   "outputs": [
    {
     "name": "stdout",
     "output_type": "stream",
     "text": [
      "Sample Cleaned Training Tweet:\n",
      "filtered_tokens    [back, seeing, @, GaryDelaney, Burslem, ., AMA...\n",
      "final_tokens       [back, seeing, GaryDelaney, Burslem, AMAZING, ...\n",
      "Name: 0, dtype: object\n",
      "\n",
      "Sample Cleaned Validation Tweet:\n",
      "filtered_tokens    [@, theclobra, thought, maybe, ,, could, n't, ...\n",
      "final_tokens       [theclobra, thought, maybe, could, nt, decide,...\n",
      "Name: 0, dtype: object\n",
      "\n",
      "Sample Cleaned Testing Tweet:\n",
      "filtered_tokens    [must, knowing, #, elite, means, (, adj, ., ),...\n",
      "final_tokens       [must, knowing, elite, means, adj, Happy, chee...\n",
      "Name: 0, dtype: object\n"
     ]
    }
   ],
   "source": [
    "# Display examples of final cleaned tokens\n",
    "print(\"Sample Cleaned Training Tweet:\")\n",
    "print(train_df[['filtered_tokens', 'final_tokens']].iloc[0])\n",
    "\n",
    "print(\"\\nSample Cleaned Validation Tweet:\")\n",
    "print(val_df[['filtered_tokens', 'final_tokens']].iloc[0])\n",
    "\n",
    "print(\"\\nSample Cleaned Testing Tweet:\")\n",
    "print(test_df[['filtered_tokens', 'final_tokens']].iloc[0])"
   ]
  },
  {
   "cell_type": "code",
   "execution_count": 18,
   "metadata": {},
   "outputs": [
    {
     "name": "stdout",
     "output_type": "stream",
     "text": [
      "First Five Processed Tweets and Their Labels:\n",
      "Tweet 1:\n",
      "Tokens: ['back', 'seeing', 'GaryDelaney', 'Burslem', 'AMAZING', 'Face', 'still', 'hurts', 'laughing', 'much', 'hilarious']\n",
      "Label: joy\n",
      "--------------------------------------------------\n",
      "Tweet 2:\n",
      "Tokens: ['dear', 'evening', 'absolute', 'clarity', 'nt', 'think', 'laughed', 'much', 'long', 'time']\n",
      "Label: joy\n",
      "--------------------------------------------------\n",
      "Tweet 3:\n",
      "Tokens: ['waiting', 'week', 'game', 'cheer', 'friday']\n",
      "Label: joy\n",
      "--------------------------------------------------\n",
      "Tweet 4:\n",
      "Tokens: ['gardenerlove', 'Thank', 'much', 'Gloria', 're', 'sweet', 'thoughtful', 'made', 'day', 'joyful', 'love']\n",
      "Label: joy\n",
      "--------------------------------------------------\n",
      "Tweet 5:\n",
      "Tokens: ['feel', 'blessed', 'work', 'family', 'nanny', 'nothing', 'love', 'appreciation', 'makes', 'smile']\n",
      "Label: joy\n",
      "--------------------------------------------------\n"
     ]
    }
   ],
   "source": [
    "# Print the first five processed tweets and their labels\n",
    "print(\"First Five Processed Tweets and Their Labels:\")\n",
    "for i in range(5):\n",
    "    print(f\"Tweet {i + 1}:\")\n",
    "    print(f\"Tokens: {train_df['final_tokens'].iloc[i]}\")\n",
    "    print(f\"Label: {train_df['label'].iloc[i]}\")\n",
    "    print(\"-\" * 50)"
   ]
  },
  {
   "cell_type": "code",
   "execution_count": 19,
   "metadata": {},
   "outputs": [
    {
     "data": {
      "image/png": "[encoded data removed]",
      "text/plain": [
       "<Figure size 1000x600 with 1 Axes>"
      ]
     },
     "metadata": {},
     "output_type": "display_data"
    }
   ],
   "source": [
    "# Calculate the lengths of the processed sequences\n",
    "train_lengths = train_df['final_tokens'].apply(len)\n",
    "val_lengths = val_df['final_tokens'].apply(len)\n",
    "test_lengths = test_df['final_tokens'].apply(len)\n",
    "\n",
    "# Combine lengths into one series for visualization\n",
    "all_lengths = pd.concat([train_lengths, val_lengths, test_lengths])\n",
    "\n",
    "# Plot the histogram\n",
    "plt.figure(figsize=(10, 6))\n",
    "bins = np.arange(all_lengths.min(), all_lengths.max() + 1) - 0.5  # Align bins with integer values\n",
    "plt.hist(all_lengths, bins=bins, color='blue', alpha=0.7, edgecolor='black', rwidth=0.9)\n",
    "plt.title('Histogram of Sequence Lengths After Preprocessing', fontsize=16)\n",
    "plt.xlabel('Sequence Length', fontsize=12)\n",
    "plt.ylabel('Frequency', fontsize=12)\n",
    "plt.grid(axis='y', linestyle='--', alpha=0.7)\n",
    "plt.show()"
   ]
  },
  {
   "cell_type": "markdown",
   "metadata": {},
   "source": [
    "2. Modeling"
   ]
  },
  {
   "cell_type": "code",
   "execution_count": 20,
   "metadata": {},
   "outputs": [],
   "source": [
    "# Combine all final tokens into a single list for fitting the tokenizer\n",
    "all_tokens = train_df['final_tokens'].tolist() + val_df['final_tokens'].tolist() + test_df['final_tokens'].tolist()\n",
    "\n",
    "# Adjust vocabulary size based on dataset requirements\n",
    "vocab_size = 10000  \n",
    "\n",
    "# Initialize and fit the tokenizer\n",
    "tokenizer = Tokenizer(num_words=vocab_size, oov_token=\"<OOV>\")\n",
    "tokenizer.fit_on_texts(all_tokens)\n",
    "\n",
    "# Convert tweets to sequences\n",
    "train_sequences = tokenizer.texts_to_sequences(train_df['final_tokens'].tolist())\n",
    "val_sequences = tokenizer.texts_to_sequences(val_df['final_tokens'].tolist())\n",
    "test_sequences = tokenizer.texts_to_sequences(test_df['final_tokens'].tolist())\n",
    "\n",
    "# Set maximum sequence length based on the histogram analysis\n",
    "max_len = 50  \n",
    "\n",
    "# Apply padding/truncating\n",
    "train_padded = pad_sequences(train_sequences, maxlen=max_len, padding='post', truncating='post')\n",
    "val_padded = pad_sequences(val_sequences, maxlen=max_len, padding='post', truncating='post')\n",
    "test_padded = pad_sequences(test_sequences, maxlen=max_len, padding='post', truncating='post')"
   ]
  },
  {
   "cell_type": "code",
   "execution_count": 21,
   "metadata": {},
   "outputs": [
    {
     "name": "stdout",
     "output_type": "stream",
     "text": [
      "Vocabulary Size Used: 10000\n",
      "Maximum Length Chosen for Padding/Truncating: 50\n",
      "\n",
      "Sample Padded Training Sequence:\n",
      "[  27  353 3998 3999   78  137   22 1286  397   38   80    0    0    0\n",
      "    0    0    0    0    0    0    0    0    0    0    0    0    0    0\n",
      "    0    0    0    0    0    0    0    0    0    0    0    0    0    0\n",
      "    0    0    0    0    0    0    0    0]\n",
      "\n",
      "Sample Padded Validation Sequence:\n",
      "[  1 152 189  44   3 920 431   0   0   0   0   0   0   0   0   0   0   0\n",
      "   0   0   0   0   0   0   0   0   0   0   0   0   0   0   0   0   0   0\n",
      "   0   0   0   0   0   0   0   0   0   0   0   0   0   0]\n",
      "\n",
      "Sample Padded Testing Sequence:\n",
      "[ 329  755 1579  460    1    9  138    0    0    0    0    0    0    0\n",
      "    0    0    0    0    0    0    0    0    0    0    0    0    0    0\n",
      "    0    0    0    0    0    0    0    0    0    0    0    0    0    0\n",
      "    0    0    0    0    0    0    0    0]\n"
     ]
    }
   ],
   "source": [
    "# Display results to confirm adjustments\n",
    "print(\"Vocabulary Size Used:\", vocab_size)\n",
    "print(\"Maximum Length Chosen for Padding/Truncating:\", max_len)\n",
    "\n",
    "print(\"\\nSample Padded Training Sequence:\")\n",
    "print(train_padded[0])\n",
    "\n",
    "print(\"\\nSample Padded Validation Sequence:\")\n",
    "print(val_padded[0])\n",
    "\n",
    "print(\"\\nSample Padded Testing Sequence:\")\n",
    "print(test_padded[0])"
   ]
  },
  {
   "cell_type": "code",
   "execution_count": 22,
   "metadata": {},
   "outputs": [
    {
     "name": "stdout",
     "output_type": "stream",
     "text": [
      "Model: \"sequential\"\n",
      "_________________________________________________________________\n",
      " Layer (type)                Output Shape              Param #   \n",
      "=================================================================\n",
      " embedding (Embedding)       (None, 50, 64)            640000    \n",
      "                                                                 \n",
      " bidirectional (Bidirectiona  (None, 50, 256)          197632    \n",
      " l)                                                              \n",
      "                                                                 \n",
      " gru (GRU)                   (None, 64)                61824     \n",
      "                                                                 \n",
      " dropout (Dropout)           (None, 64)                0         \n",
      "                                                                 \n",
      " dense (Dense)               (None, 64)                4160      \n",
      "                                                                 \n",
      " dropout_1 (Dropout)         (None, 64)                0         \n",
      "                                                                 \n",
      " dense_1 (Dense)             (None, 4)                 260       \n",
      "                                                                 \n",
      "=================================================================\n",
      "Total params: 903,876\n",
      "Trainable params: 903,876\n",
      "Non-trainable params: 0\n",
      "_________________________________________________________________\n"
     ]
    }
   ],
   "source": [
    "# Define the model parameters\n",
    "embedding_dim = 64  # Dimension of the embedding space\n",
    "lstm_units = 128    # Number of LSTM units\n",
    "dropout_rate = 0.5  # Dropout rate to prevent overfitting\n",
    "output_units = len(label_encoder.classes_)  # Number of unique emotion labels\n",
    "\n",
    "# Define the model with a combination of layers\n",
    "model = Sequential([\n",
    "    # Embedding layer\n",
    "    Embedding(input_dim=vocab_size, output_dim=embedding_dim, input_length=max_len),\n",
    "    \n",
    "    # Bidirectional LSTM layer\n",
    "    Bidirectional(LSTM(lstm_units, return_sequences=True)),\n",
    "    \n",
    "    # GRU layer\n",
    "    GRU(64, return_sequences=False),\n",
    "    \n",
    "    # Dropout for regularization\n",
    "    Dropout(dropout_rate),\n",
    "    \n",
    "    # Dense hidden layer\n",
    "    Dense(64, activation='relu'),\n",
    "    Dropout(0.3),  # Additional dropout for regularization\n",
    "    \n",
    "    # Output layer for multi-class classification\n",
    "    Dense(output_units, activation='softmax')\n",
    "])\n",
    "\n",
    "# Compile the model\n",
    "model.compile(\n",
    "    optimizer='adam',\n",
    "    loss='sparse_categorical_crossentropy',\n",
    "    metrics=['accuracy']\n",
    ")\n",
    "\n",
    "# Display the model summary\n",
    "model.summary()"
   ]
  },
  {
   "cell_type": "code",
   "execution_count": 23,
   "metadata": {},
   "outputs": [
    {
     "name": "stdout",
     "output_type": "stream",
     "text": [
      "Epoch 1/10\n",
      "113/113 [==============================] - 6s 16ms/step - loss: 1.3802 - accuracy: 0.3139\n",
      "Epoch 2/10\n",
      "113/113 [==============================] - 2s 16ms/step - loss: 1.3774 - accuracy: 0.3108\n",
      "Epoch 3/10\n",
      "113/113 [==============================] - 2s 16ms/step - loss: 1.3763 - accuracy: 0.3158\n",
      "Epoch 4/10\n",
      "113/113 [==============================] - 2s 16ms/step - loss: 1.2680 - accuracy: 0.3750\n",
      "Epoch 5/10\n",
      "113/113 [==============================] - 2s 16ms/step - loss: 0.9399 - accuracy: 0.4957\n",
      "Epoch 6/10\n",
      "113/113 [==============================] - 2s 16ms/step - loss: 0.7676 - accuracy: 0.5887\n",
      "Epoch 7/10\n",
      "113/113 [==============================] - 2s 17ms/step - loss: 0.5561 - accuracy: 0.7279\n",
      "Epoch 8/10\n",
      "113/113 [==============================] - 2s 16ms/step - loss: 0.4389 - accuracy: 0.7664\n",
      "Epoch 9/10\n",
      "113/113 [==============================] - 2s 16ms/step - loss: 0.3801 - accuracy: 0.8303\n",
      "Epoch 10/10\n",
      "113/113 [==============================] - 2s 16ms/step - loss: 0.2473 - accuracy: 0.9217\n"
     ]
    }
   ],
   "source": [
    "# Fit the model without a validation split\n",
    "history = model.fit(\n",
    "    train_padded,  # Training data\n",
    "    train_labels_encoded,  # Training labels\n",
    "    epochs=10,\n",
    "    batch_size=32,\n",
    "    verbose=1  # Display training progress\n",
    ")"
   ]
  },
  {
   "cell_type": "code",
   "execution_count": 24,
   "metadata": {},
   "outputs": [
    {
     "name": "stdout",
     "output_type": "stream",
     "text": [
      "Final Training Accuracy: 92.16717%\n"
     ]
    }
   ],
   "source": [
    "# Record and display the final training accuracy\n",
    "final_training_accuracy = history.history['accuracy'][-1]\n",
    "print(f\"Final Training Accuracy: {final_training_accuracy * 100:.5f}%\")"
   ]
  },
  {
   "cell_type": "code",
   "execution_count": 25,
   "metadata": {},
   "outputs": [
    {
     "name": "stdout",
     "output_type": "stream",
     "text": [
      "11/11 [==============================] - 1s 7ms/step\n",
      "Validation Accuracy: 49.27954%\n"
     ]
    }
   ],
   "source": [
    "# Make predictions on the validation data\n",
    "val_predictions = model.predict(val_padded, verbose=1)\n",
    "\n",
    "# Convert predictions to class labels\n",
    "val_predicted_labels = val_predictions.argmax(axis=1)\n",
    "\n",
    "# Calculate the validation accuracy\n",
    "validation_accuracy = accuracy_score(val_labels_encoded, val_predicted_labels)\n",
    "print(f\"Validation Accuracy: {validation_accuracy * 100:.5f}%\")"
   ]
  },
  {
   "cell_type": "code",
   "execution_count": 26,
   "metadata": {},
   "outputs": [
    {
     "data": {
      "image/png": "[encoded data removed]",
      "text/plain": [
       "<Figure size 800x600 with 2 Axes>"
      ]
     },
     "metadata": {},
     "output_type": "display_data"
    }
   ],
   "source": [
    "# Generate the confusion matrix\n",
    "conf_matrix = confusion_matrix(val_labels_encoded, val_predicted_labels)\n",
    "\n",
    "# Display the confusion matrix using a heatmap\n",
    "plt.figure(figsize=(8, 6))\n",
    "sns.heatmap(\n",
    "    conf_matrix, \n",
    "    annot=True, \n",
    "    fmt='d', \n",
    "    cmap='Blues', \n",
    "    xticklabels=label_encoder.classes_, \n",
    "    yticklabels=label_encoder.classes_\n",
    ")\n",
    "plt.title('Confusion Matrix for Validation Data', fontsize=16)\n",
    "plt.xlabel('Predicted Labels', fontsize=12)\n",
    "plt.ylabel('True Labels', fontsize=12)\n",
    "plt.show()"
   ]
  },
  {
   "cell_type": "code",
   "execution_count": 27,
   "metadata": {},
   "outputs": [
    {
     "name": "stdout",
     "output_type": "stream",
     "text": [
      "Model: \"sequential_1\"\n",
      "_________________________________________________________________\n",
      " Layer (type)                Output Shape              Param #   \n",
      "=================================================================\n",
      " embedding_1 (Embedding)     (None, 50, 128)           1280000   \n",
      "                                                                 \n",
      " bidirectional_1 (Bidirectio  (None, 128)              98816     \n",
      " nal)                                                            \n",
      "                                                                 \n",
      " dropout_2 (Dropout)         (None, 128)               0         \n",
      "                                                                 \n",
      " dense_2 (Dense)             (None, 64)                8256      \n",
      "                                                                 \n",
      " dropout_3 (Dropout)         (None, 64)                0         \n",
      "                                                                 \n",
      " dense_3 (Dense)             (None, 4)                 260       \n",
      "                                                                 \n",
      "=================================================================\n",
      "Total params: 1,387,332\n",
      "Trainable params: 1,387,332\n",
      "Non-trainable params: 0\n",
      "_________________________________________________________________\n"
     ]
    }
   ],
   "source": [
    "# Define Model 1\n",
    "model1 = Sequential([\n",
    "    Embedding(input_dim=10000, output_dim=128, input_length=max_len),\n",
    "    \n",
    "    # Single Bidirectional LSTM layer\n",
    "    Bidirectional(LSTM(64, return_sequences=False)),  # Reduced units to 64\n",
    "    Dropout(0.5),\n",
    "    \n",
    "    # Dense layer\n",
    "    Dense(64, activation='relu'),\n",
    "    Dropout(0.5),\n",
    "    \n",
    "    Dense(len(label_encoder.classes_), activation='softmax')  # Output layer\n",
    "])\n",
    "\n",
    "# Compile Model 1\n",
    "model1.compile(optimizer='adam', loss='sparse_categorical_crossentropy', metrics=['accuracy'])\n",
    "\n",
    "# Display the model summary\n",
    "model1.summary()"
   ]
  },
  {
   "cell_type": "code",
   "execution_count": 28,
   "metadata": {},
   "outputs": [
    {
     "name": "stdout",
     "output_type": "stream",
     "text": [
      "Epoch 1/10\n",
      "113/113 [==============================] - 4s 17ms/step - loss: 1.3052 - accuracy: 0.3692 - val_loss: 2.1508 - val_accuracy: 0.3458\n",
      "Epoch 2/10\n",
      "113/113 [==============================] - 1s 11ms/step - loss: 0.7183 - accuracy: 0.7368 - val_loss: 2.1830 - val_accuracy: 0.4582\n",
      "Epoch 3/10\n",
      "113/113 [==============================] - 1s 11ms/step - loss: 0.2248 - accuracy: 0.9408 - val_loss: 2.2823 - val_accuracy: 0.5216\n",
      "Epoch 4/10\n",
      "113/113 [==============================] - 1s 11ms/step - loss: 0.1373 - accuracy: 0.9662 - val_loss: 2.1892 - val_accuracy: 0.6138\n",
      "Epoch 5/10\n",
      "113/113 [==============================] - 1s 11ms/step - loss: 0.0951 - accuracy: 0.9745 - val_loss: 2.0109 - val_accuracy: 0.6081\n",
      "Epoch 6/10\n",
      "113/113 [==============================] - 1s 11ms/step - loss: 0.0820 - accuracy: 0.9770 - val_loss: 2.6334 - val_accuracy: 0.5706\n",
      "Epoch 7/10\n",
      "113/113 [==============================] - 1s 11ms/step - loss: 0.0748 - accuracy: 0.9787 - val_loss: 2.6500 - val_accuracy: 0.5476\n",
      "Epoch 8/10\n",
      "113/113 [==============================] - 1s 11ms/step - loss: 0.0592 - accuracy: 0.9803 - val_loss: 2.3245 - val_accuracy: 0.6023\n",
      "Epoch 9/10\n",
      "113/113 [==============================] - 1s 11ms/step - loss: 0.0587 - accuracy: 0.9795 - val_loss: 2.3628 - val_accuracy: 0.5994\n",
      "Epoch 10/10\n",
      "113/113 [==============================] - 1s 11ms/step - loss: 0.0486 - accuracy: 0.9803 - val_loss: 3.1013 - val_accuracy: 0.6023\n"
     ]
    }
   ],
   "source": [
    "history1 = model1.fit(\n",
    "    train_padded, \n",
    "    train_labels_encoded, \n",
    "    epochs=10,  \n",
    "    batch_size=32, \n",
    "    validation_data=(val_padded, val_labels_encoded),\n",
    "    verbose=1\n",
    ")"
   ]
  },
  {
   "cell_type": "code",
   "execution_count": 29,
   "metadata": {},
   "outputs": [
    {
     "name": "stdout",
     "output_type": "stream",
     "text": [
      "Model 1 - Training Accuracy: 98.03%\n",
      "Model 1 - Validation Accuracy: 60.23%\n"
     ]
    }
   ],
   "source": [
    "# Extract final training accuracy from history\n",
    "training_accuracy1 = history1.history['accuracy'][-1]  # Last epoch training accuracy\n",
    "validation_accuracy1 = history1.history['val_accuracy'][-1]  # Last epoch validation accuracy\n",
    "\n",
    "# Print training and validation accuracies\n",
    "print(f\"Model 1 - Training Accuracy: {training_accuracy1 * 100:.2f}%\")\n",
    "print(f\"Model 1 - Validation Accuracy: {validation_accuracy1 * 100:.2f}%\")"
   ]
  },
  {
   "cell_type": "code",
   "execution_count": 30,
   "metadata": {},
   "outputs": [
    {
     "name": "stdout",
     "output_type": "stream",
     "text": [
      "11/11 [==============================] - 0s 5ms/step\n",
      "Model 1 Validation Accuracy: 60.23%\n"
     ]
    }
   ],
   "source": [
    "# Evaluate Model 3\n",
    "val_predictions1 = model1.predict(val_padded)\n",
    "val_predicted_labels1 = val_predictions1.argmax(axis=1)\n",
    "validation_accuracy1 = accuracy_score(val_labels_encoded, val_predicted_labels1)\n",
    "\n",
    "print(f\"Model 1 Validation Accuracy: {validation_accuracy1 * 100:.2f}%\")"
   ]
  },
  {
   "cell_type": "code",
   "execution_count": 31,
   "metadata": {},
   "outputs": [
    {
     "data": {
      "image/png": "[encoded data removed]",
      "text/plain": [
       "<Figure size 640x480 with 2 Axes>"
      ]
     },
     "metadata": {},
     "output_type": "display_data"
    }
   ],
   "source": [
    "# Confusion Matrix for Model 1\n",
    "conf_matrix1 = confusion_matrix(val_labels_encoded, val_predicted_labels1)\n",
    "sns.heatmap(conf_matrix1, annot=True, fmt='d', cmap='Blues', xticklabels=label_encoder.classes_, yticklabels=label_encoder.classes_)\n",
    "plt.title('Confusion Matrix for Model 1')\n",
    "plt.show()"
   ]
  },
  {
   "cell_type": "code",
   "execution_count": 32,
   "metadata": {},
   "outputs": [
    {
     "name": "stdout",
     "output_type": "stream",
     "text": [
      "Model: \"sequential_2\"\n",
      "_________________________________________________________________\n",
      " Layer (type)                Output Shape              Param #   \n",
      "=================================================================\n",
      " embedding_2 (Embedding)     (None, 50, 128)           1280000   \n",
      "                                                                 \n",
      " bidirectional_2 (Bidirectio  (None, 128)              74496     \n",
      " nal)                                                            \n",
      "                                                                 \n",
      " dropout_4 (Dropout)         (None, 128)               0         \n",
      "                                                                 \n",
      " dense_4 (Dense)             (None, 64)                8256      \n",
      "                                                                 \n",
      " dropout_5 (Dropout)         (None, 64)                0         \n",
      "                                                                 \n",
      " dense_5 (Dense)             (None, 4)                 260       \n",
      "                                                                 \n",
      "=================================================================\n",
      "Total params: 1,363,012\n",
      "Trainable params: 1,363,012\n",
      "Non-trainable params: 0\n",
      "_________________________________________________________________\n"
     ]
    }
   ],
   "source": [
    "# Define Model 2\n",
    "model2 = Sequential([\n",
    "    Embedding(input_dim=10000, output_dim=128, input_length=max_len),\n",
    "    \n",
    "    # Single Bidirectional GRU layer\n",
    "    Bidirectional(GRU(64, return_sequences=False)),  # Reduced units to 64\n",
    "    Dropout(0.5),\n",
    "    \n",
    "    # Dense layer\n",
    "    Dense(64, activation='relu'),\n",
    "    Dropout(0.5),\n",
    "    \n",
    "    Dense(len(label_encoder.classes_), activation='softmax')  # Output layer\n",
    "])\n",
    "\n",
    "# Compile Model 2\n",
    "model2.compile(optimizer='adam', loss='sparse_categorical_crossentropy', metrics=['accuracy'])\n",
    "\n",
    "# Display the model summary\n",
    "model2.summary()"
   ]
  },
  {
   "cell_type": "code",
   "execution_count": 33,
   "metadata": {},
   "outputs": [
    {
     "name": "stdout",
     "output_type": "stream",
     "text": [
      "Epoch 1/10\n",
      "113/113 [==============================] - 3s 15ms/step - loss: 1.2651 - accuracy: 0.3977 - val_loss: 2.6199 - val_accuracy: 0.3429\n",
      "Epoch 2/10\n",
      "113/113 [==============================] - 1s 11ms/step - loss: 0.6789 - accuracy: 0.7440 - val_loss: 2.4791 - val_accuracy: 0.4467\n",
      "Epoch 3/10\n",
      "113/113 [==============================] - 1s 11ms/step - loss: 0.1918 - accuracy: 0.9452 - val_loss: 2.4833 - val_accuracy: 0.5014\n",
      "Epoch 4/10\n",
      "113/113 [==============================] - 1s 11ms/step - loss: 0.1099 - accuracy: 0.9732 - val_loss: 2.6184 - val_accuracy: 0.5187\n",
      "Epoch 5/10\n",
      "113/113 [==============================] - 1s 11ms/step - loss: 0.0926 - accuracy: 0.9773 - val_loss: 2.6022 - val_accuracy: 0.5014\n",
      "Epoch 6/10\n",
      "113/113 [==============================] - 1s 11ms/step - loss: 0.0798 - accuracy: 0.9765 - val_loss: 2.4512 - val_accuracy: 0.5418\n",
      "Epoch 7/10\n",
      "113/113 [==============================] - 1s 11ms/step - loss: 0.0732 - accuracy: 0.9795 - val_loss: 2.5061 - val_accuracy: 0.5331\n",
      "Epoch 8/10\n",
      "113/113 [==============================] - 1s 10ms/step - loss: 0.0644 - accuracy: 0.9790 - val_loss: 2.2370 - val_accuracy: 0.5908\n",
      "Epoch 9/10\n",
      "113/113 [==============================] - 1s 11ms/step - loss: 0.0668 - accuracy: 0.9809 - val_loss: 2.2808 - val_accuracy: 0.5274\n",
      "Epoch 10/10\n",
      "113/113 [==============================] - 1s 11ms/step - loss: 0.0587 - accuracy: 0.9781 - val_loss: 2.2464 - val_accuracy: 0.5504\n"
     ]
    }
   ],
   "source": [
    "history2 = model2.fit(\n",
    "    train_padded, \n",
    "    train_labels_encoded, \n",
    "    epochs=10, \n",
    "    batch_size=32, \n",
    "    verbose=1, \n",
    "    validation_data=(val_padded, val_labels_encoded)\n",
    ")"
   ]
  },
  {
   "cell_type": "code",
   "execution_count": 34,
   "metadata": {},
   "outputs": [
    {
     "name": "stdout",
     "output_type": "stream",
     "text": [
      "Model 2 - Training Accuracy: 97.81%\n",
      "Model 2 - Validation Accuracy: 55.04%\n"
     ]
    }
   ],
   "source": [
    "training_accuracy2 = history2.history['accuracy'][-1]\n",
    "validation_accuracy2 = history2.history['val_accuracy'][-1]\n",
    "\n",
    "\n",
    "print(f\"Model 2 - Training Accuracy: {training_accuracy2 * 100:.2f}%\")\n",
    "print(f\"Model 2 - Validation Accuracy: {validation_accuracy2 * 100:.2f}%\")"
   ]
  },
  {
   "cell_type": "code",
   "execution_count": 35,
   "metadata": {},
   "outputs": [
    {
     "name": "stdout",
     "output_type": "stream",
     "text": [
      "11/11 [==============================] - 0s 4ms/step\n",
      "Model 2 Validation Accuracy: 55.04%\n"
     ]
    }
   ],
   "source": [
    "# Evaluate Model 2\n",
    "val_predictions2 = model2.predict(val_padded)\n",
    "val_predicted_labels2 = val_predictions2.argmax(axis=1)\n",
    "validation_accuracy2 = accuracy_score(val_labels_encoded, val_predicted_labels2)\n",
    "\n",
    "print(f\"Model 2 Validation Accuracy: {validation_accuracy2 * 100:.2f}%\")"
   ]
  },
  {
   "cell_type": "code",
   "execution_count": 36,
   "metadata": {},
   "outputs": [
    {
     "data": {
      "image/png": "[encoded data removed]",
      "text/plain": [
       "<Figure size 640x480 with 2 Axes>"
      ]
     },
     "metadata": {},
     "output_type": "display_data"
    }
   ],
   "source": [
    "# Confusion Matrix for Model 2\n",
    "conf_matrix2 = confusion_matrix(val_labels_encoded, val_predicted_labels2)\n",
    "sns.heatmap(conf_matrix2, annot=True, fmt='d', cmap='Blues', xticklabels=label_encoder.classes_, yticklabels=label_encoder.classes_)\n",
    "plt.title('Confusion Matrix for Model 2')\n",
    "plt.show()"
   ]
  },
  {
   "cell_type": "code",
   "execution_count": 37,
   "metadata": {},
   "outputs": [
    {
     "name": "stdout",
     "output_type": "stream",
     "text": [
      "Model: \"sequential_3\"\n",
      "_________________________________________________________________\n",
      " Layer (type)                Output Shape              Param #   \n",
      "=================================================================\n",
      " embedding_3 (Embedding)     (None, 50, 128)           1280000   \n",
      "                                                                 \n",
      " conv1d (Conv1D)             (None, 46, 64)            41024     \n",
      "                                                                 \n",
      " max_pooling1d (MaxPooling1D  (None, 23, 64)           0         \n",
      " )                                                               \n",
      "                                                                 \n",
      " bidirectional_3 (Bidirectio  (None, 23, 256)          197632    \n",
      " nal)                                                            \n",
      "                                                                 \n",
      " dropout_6 (Dropout)         (None, 23, 256)           0         \n",
      "                                                                 \n",
      " bidirectional_4 (Bidirectio  (None, 128)              164352    \n",
      " nal)                                                            \n",
      "                                                                 \n",
      " dropout_7 (Dropout)         (None, 128)               0         \n",
      "                                                                 \n",
      " dense_6 (Dense)             (None, 64)                8256      \n",
      "                                                                 \n",
      " dropout_8 (Dropout)         (None, 64)                0         \n",
      "                                                                 \n",
      " dense_7 (Dense)             (None, 4)                 260       \n",
      "                                                                 \n",
      "=================================================================\n",
      "Total params: 1,691,524\n",
      "Trainable params: 1,691,524\n",
      "Non-trainable params: 0\n",
      "_________________________________________________________________\n"
     ]
    }
   ],
   "source": [
    "# Define Model 3\n",
    "model3 = Sequential([\n",
    "    # Embedding layer\n",
    "    Embedding(input_dim=10000, output_dim=128, input_length=max_len),\n",
    "    \n",
    "    # Convolutional layer to capture local patterns\n",
    "    Conv1D(filters=64, kernel_size=5, activation='relu'),\n",
    "    MaxPooling1D(pool_size=2),\n",
    "    \n",
    "    # LSTM layer for sequential modeling\n",
    "    Bidirectional(LSTM(128, return_sequences=True)),\n",
    "    Dropout(0.6),\n",
    "    \n",
    "    # Second LSTM layer\n",
    "    Bidirectional(LSTM(64)),\n",
    "    Dropout(0.6),\n",
    "    \n",
    "    # Dense hidden layer\n",
    "    Dense(64, activation='relu'),\n",
    "    Dropout(0.7),\n",
    "    \n",
    "    # Output layer for multi-class classification\n",
    "    Dense(len(label_encoder.classes_), activation='softmax')\n",
    "])\n",
    "\n",
    "# Compile Model 3\n",
    "model3.compile(optimizer='adam', loss='sparse_categorical_crossentropy', metrics=['accuracy'])\n",
    "\n",
    "# Display the model summary\n",
    "model3.summary()"
   ]
  },
  {
   "cell_type": "code",
   "execution_count": 38,
   "metadata": {},
   "outputs": [
    {
     "name": "stdout",
     "output_type": "stream",
     "text": [
      "Epoch 1/10\n",
      "113/113 [==============================] - 10s 26ms/step - loss: 1.3811 - accuracy: 0.2937 - val_loss: 1.3687 - val_accuracy: 0.3170\n",
      "Epoch 2/10\n",
      "113/113 [==============================] - 2s 15ms/step - loss: 1.1263 - accuracy: 0.4885 - val_loss: 2.1473 - val_accuracy: 0.4006\n",
      "Epoch 3/10\n",
      "113/113 [==============================] - 2s 14ms/step - loss: 0.6228 - accuracy: 0.7861 - val_loss: 2.2813 - val_accuracy: 0.4640\n",
      "Epoch 4/10\n",
      "113/113 [==============================] - 2s 14ms/step - loss: 0.3297 - accuracy: 0.9161 - val_loss: 1.9868 - val_accuracy: 0.5187\n",
      "Epoch 5/10\n",
      "113/113 [==============================] - 2s 15ms/step - loss: 0.2098 - accuracy: 0.9535 - val_loss: 2.5209 - val_accuracy: 0.5187\n",
      "Epoch 6/10\n",
      "113/113 [==============================] - 2s 15ms/step - loss: 0.1537 - accuracy: 0.9679 - val_loss: 2.2451 - val_accuracy: 0.5850\n",
      "Epoch 7/10\n",
      "113/113 [==============================] - 2s 15ms/step - loss: 0.1057 - accuracy: 0.9715 - val_loss: 1.7648 - val_accuracy: 0.6571\n",
      "Epoch 8/10\n",
      "113/113 [==============================] - 2s 15ms/step - loss: 0.0936 - accuracy: 0.9770 - val_loss: 2.6479 - val_accuracy: 0.5879\n",
      "Epoch 9/10\n",
      "113/113 [==============================] - 2s 15ms/step - loss: 0.0937 - accuracy: 0.9773 - val_loss: 3.0904 - val_accuracy: 0.5879\n",
      "Epoch 10/10\n",
      "113/113 [==============================] - 2s 15ms/step - loss: 0.0688 - accuracy: 0.9809 - val_loss: 3.5489 - val_accuracy: 0.6023\n"
     ]
    }
   ],
   "source": [
    "history3 = model3.fit(\n",
    "    train_padded, \n",
    "    train_labels_encoded, \n",
    "    epochs=10, \n",
    "    batch_size=32, \n",
    "    verbose=1, \n",
    "    validation_data=(val_padded, val_labels_encoded)\n",
    ")"
   ]
  },
  {
   "cell_type": "code",
   "execution_count": 39,
   "metadata": {},
   "outputs": [
    {
     "name": "stdout",
     "output_type": "stream",
     "text": [
      "Model 3 - Training Accuracy: 98.09%\n",
      "Model 3 - Validation Accuracy: 60.23%\n"
     ]
    }
   ],
   "source": [
    "training_accuracy3 = history3.history['accuracy'][-1]\n",
    "validation_accuracy3 = history3.history['val_accuracy'][-1]\n",
    "\n",
    "\n",
    "print(f\"Model 3 - Training Accuracy: {training_accuracy3 * 100:.2f}%\")\n",
    "print(f\"Model 3 - Validation Accuracy: {validation_accuracy3 * 100:.2f}%\")"
   ]
  },
  {
   "cell_type": "code",
   "execution_count": 40,
   "metadata": {},
   "outputs": [
    {
     "name": "stdout",
     "output_type": "stream",
     "text": [
      "11/11 [==============================] - 1s 6ms/step\n",
      "Model 3 Validation Accuracy: 60.23%\n"
     ]
    }
   ],
   "source": [
    "# Evaluate Model 3\n",
    "val_predictions3 = model3.predict(val_padded)\n",
    "val_predicted_labels3 = val_predictions3.argmax(axis=1)\n",
    "validation_accuracy3 = accuracy_score(val_labels_encoded, val_predicted_labels3)\n",
    "\n",
    "print(f\"Model 3 Validation Accuracy: {validation_accuracy3 * 100:.2f}%\")"
   ]
  },
  {
   "cell_type": "code",
   "execution_count": 41,
   "metadata": {},
   "outputs": [
    {
     "data": {
      "image/png": "[encoded data removed]",
      "text/plain": [
       "<Figure size 640x480 with 2 Axes>"
      ]
     },
     "metadata": {},
     "output_type": "display_data"
    }
   ],
   "source": [
    "# Confusion Matrix for Model 3\n",
    "conf_matrix3 = confusion_matrix(val_labels_encoded, val_predicted_labels3)\n",
    "sns.heatmap(conf_matrix3, annot=True, fmt='d', cmap='Blues', xticklabels=label_encoder.classes_, yticklabels=label_encoder.classes_)\n",
    "plt.title('Confusion Matrix for Model 3')\n",
    "plt.show()"
   ]
  },
  {
   "cell_type": "markdown",
   "metadata": {},
   "source": [
    "3. Discussion"
   ]
  },
  {
   "cell_type": "markdown",
   "metadata": {},
   "source": [
    "a. Comment on the relative merits of each model. Select the best model based on quantitative metrics and plots. Use markdown to explain why you feel this is the best model.\n",
    "\n",
    "\n",
    "Model 1 (LSTM-based model):\n",
    "- Strengths: LSTM is great for capturing long-term dependencies in the sequence, which can help understand the context of words in sentences. In your case, this would help in understanding the emotional context of the words in the tweet. The model achieved decent validation accuracy.\n",
    "- Weaknesses: It struggles with overfitting, which is evident from the validation accuracy dropping after a few epochs. It's less effective in capturing short-term dependencies compared to GRU and CNN.\n",
    "\n",
    "\n",
    "Model 2 (GRU-based model):\n",
    "- Strengths: GRU models tend to perform faster and are more efficient than LSTMs, especially in handling sequential data with less training time and fewer parameters. The model showed fairly good performance but was still susceptible to overfitting as the epochs increased.\n",
    "- Weaknesses: While efficient, GRU struggles with long-range dependencies. In your case, this model showed decent performance but didn't outperform the other models in terms of validation accuracy.\n",
    "\n",
    "\n",
    "Model 3 (LSTM + GRU + Conv1D):\n",
    "- Strengths: Combining LSTM, GRU, and Conv1D layers helped capture both long-range and short-range dependencies. The convolution layer allows the model to focus on key features in the sequence, such as phrases or words with significant emotional weight. This is likely why this model achieved the highest training accuracy.\n",
    "- Weaknesses: While the training accuracy is high, the validation accuracy may still be limited by class imbalance or overfitting. The additional layers may lead to longer training times and the risk of the model becoming overly complex for the task.\n",
    "\n",
    "\n",
    "The best model of Model 3 because it shows the highest performance based on the training and validation results, despite the overfitting. It combines both long-term and short-term dependency learning, along with convolution layers to capture important word patterns and the confusion matrix for test data shows that the model has a tendency to predict anger well, but struggles with fear, joy, and sadness. It seems biased toward anger and fear, suggesting an issue with class imbalance."
   ]
  },
  {
   "cell_type": "markdown",
   "metadata": {},
   "source": [
    "b. Make predictions on the testing data; calculate the testing accuracy and display the confusion matrix for test data."
   ]
  },
  {
   "cell_type": "code",
   "execution_count": 42,
   "metadata": {},
   "outputs": [
    {
     "name": "stdout",
     "output_type": "stream",
     "text": [
      "99/99 [==============================] - 1s 9ms/step\n",
      "Testing Accuracy: 57.96%\n"
     ]
    },
    {
     "data": {
      "image/png": "[encoded data removed]",
      "text/plain": [
       "<Figure size 800x600 with 2 Axes>"
      ]
     },
     "metadata": {},
     "output_type": "display_data"
    }
   ],
   "source": [
    "# Evaluate the best model on the testing data\n",
    "test_predictions = model3.predict(test_padded)\n",
    "test_predicted_labels = test_predictions.argmax(axis=1)\n",
    "\n",
    "# Calculate the testing accuracy\n",
    "test_accuracy = accuracy_score(test_labels_encoded, test_predicted_labels)\n",
    "print(f\"Testing Accuracy: {test_accuracy * 100:.2f}%\")\n",
    "\n",
    "# Generate the confusion matrix for test data\n",
    "test_conf_matrix = confusion_matrix(test_labels_encoded, test_predicted_labels)\n",
    "\n",
    "# Display the confusion matrix using a heatmap\n",
    "plt.figure(figsize=(8, 6))\n",
    "sns.heatmap(test_conf_matrix, annot=True, fmt='d', cmap='Blues', xticklabels=label_encoder.classes_, yticklabels=label_encoder.classes_)\n",
    "plt.title('Confusion Matrix for Test Data')\n",
    "plt.xlabel('Predicted Labels')\n",
    "plt.ylabel('True Labels')\n",
    "plt.show()"
   ]
  },
  {
   "cell_type": "markdown",
   "metadata": {},
   "source": [
    "The model performs best at predicting anger (509 correct predictions). Fear, joy, and sadness predictions are less accurate, with more errors in fear and joy categories."
   ]
  },
  {
   "cell_type": "code",
   "execution_count": 46,
   "metadata": {},
   "outputs": [
    {
     "name": "stdout",
     "output_type": "stream",
     "text": [
      "99/99 [==============================] - 1s 10ms/step\n",
      "Classification Report:\n",
      "              precision    recall  f1-score   support\n",
      "\n",
      "       anger       0.51      0.50      0.50       760\n",
      "        fear       0.59      0.52      0.55       995\n",
      "         joy       0.56      0.32      0.41       714\n",
      "     sadness       0.36      0.59      0.45       673\n",
      "\n",
      "    accuracy                           0.49      3142\n",
      "   macro avg       0.51      0.49      0.48      3142\n",
      "weighted avg       0.52      0.49      0.49      3142\n",
      "\n"
     ]
    }
   ],
   "source": [
    "# Make predictions on the test data\n",
    "test_predictions = model.predict(test_padded, verbose=1)\n",
    "\n",
    "# Convert predictions to class labels\n",
    "test_predicted_labels = test_predictions.argmax(axis=1)\n",
    "\n",
    "# Ensure both true and predicted labels are in integers using LabelEncoder\n",
    "test_true_labels = label_encoder.transform(test_df['label'])\n",
    "\n",
    "# Generate the classification report\n",
    "print(\"Classification Report:\")\n",
    "print(classification_report(test_true_labels, test_predicted_labels, target_names=label_encoder.classes_))"
   ]
  },
  {
   "cell_type": "markdown",
   "metadata": {},
   "source": [
    "c. Describe how well you feel your model will work to classify the emotional connotation of a tweet. Provide a quantitative measure of accuracy and describe shortcomings of the model.\n",
    "\n",
    "\n",
    "Quantitative Accuracy:\n",
    "- The testing accuracy from Model 3 is a good starting point. It performs well at detecting the anger category but has difficulty identifying joy, fear, and sadness, as shown in the confusion matrix.\n",
    "\n",
    "\n",
    "Shortcomings:\n",
    "- Class Imbalance: The model's performance is impacted by the imbalance in the classes (particularly with the \"fear\" class being overrepresented). This results in the model overfitting the majority class and underperforming on the minority classes.\n",
    "- Overfitting: Despite good performance on the training data, the model may struggle with generalizing to unseen data. More regularization, such as additional dropout, could help.\n",
    "- Misclassification in Minority Classes: While the model performs decently in detecting anger, it struggles with other emotions. This might be attributed to the data imbalance or the complexity of the emotional content in tweets."
   ]
  },
  {
   "cell_type": "markdown",
   "metadata": {},
   "source": [
    "To improve the performance of the model, there are a few key suggestions to address its shortcomings:\n",
    "\n",
    "- Class Weighting: The model should incorporate class weights to help balance its sensitivity towards the minority classes. This will allow the model to give more importance to underrepresented emotions like fear, joy, and sadness, thereby improving accuracy for these categories. By adjusting the loss function with higher weights for these minority classes, the model can become more balanced in its predictions.\n",
    "\n",
    "- Data Augmentation: Oversampling the underrepresented classes could help improve performance by increasing the representation of these classes during training. This could involve generating synthetic data points for fear, joy, and sadness or using techniques like SMOTE (Synthetic Minority Over-sampling Technique) to create more training samples. By doing so, the model will encounter more varied examples of these emotions, which should improve its predictive accuracy for these categories.\n",
    "\n",
    "- Regularization: To tackle the issue of overfitting, further regularization techniques should be implemented. For instance, L2 regularization can be applied to the model's weights to penalize large values, thus preventing the model from becoming overly complex. Additionally, early stopping could be employed during training to halt the process once the model starts to overfit, thereby preserving the generalization capability of the model.\n",
    "\n",
    "By applying these strategies—class weighting, data augmentation, and regularization—the model's ability to classify emotional connotations in tweets will improve, particularly in detecting less represented emotions, and its overall robustness will be enhanced."
   ]
  }
 ],
 "metadata": {
  "kernelspec": {
   "display_name": "cuda_env",
   "language": "python",
   "name": "python3"
  },
  "language_info": {
   "codemirror_mode": {
    "name": "ipython",
    "version": 3
   },
   "file_extension": ".py",
   "mimetype": "text/x-python",
   "name": "python",
   "nbconvert_exporter": "python",
   "pygments_lexer": "ipython3",
   "version": "3.8.20"
  }
 },
 "nbformat": 4,
 "nbformat_minor": 2
}
