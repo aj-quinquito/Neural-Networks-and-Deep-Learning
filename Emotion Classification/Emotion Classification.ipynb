{
 "cells": [
  {
   "cell_type": "markdown",
   "id": "2bf3ae7c-5f91-48e8-b7c5-105e0fa4cb88",
   "metadata": {},
   "source": [
    "# **Assignment 6**\n",
    "## **Group 3:**\n",
    "* Karyl Grasparil\n",
    "* Mariah Quinquito\n",
    "* Yanna Polonia"
   ]
  },
  {
   "cell_type": "code",
   "execution_count": 1,
   "id": "7e717700-36e5-4f3e-86ef-862baaa9414e",
   "metadata": {},
   "outputs": [
    {
     "name": "stderr",
     "output_type": "stream",
     "text": [
      "2024-11-25 11:30:09.944670: I tensorflow/core/platform/cpu_feature_guard.cc:182] This TensorFlow binary is optimized to use available CPU instructions in performance-critical operations.\n",
      "To enable the following instructions: SSE4.1 SSE4.2, in other operations, rebuild TensorFlow with the appropriate compiler flags.\n"
     ]
    }
   ],
   "source": [
    "from autocorrect import Speller\n",
    "from nltk import tokenize\n",
    "from nltk.stem import WordNetLemmatizer \n",
    "from sklearn.metrics import accuracy_score, confusion_matrix, multilabel_confusion_matrix\n",
    "from sklearn.preprocessing import LabelEncoder\n",
    "from tabulate import tabulate\n",
    "from tensorflow.keras.layers import Bidirectional, Dense, Embedding, SpatialDropout1D, Dropout, GRU, LSTM, GlobalAveragePooling1D\n",
    "from tensorflow.keras.models import Sequential\n",
    "from tensorflow.keras.preprocessing.sequence import pad_sequences\n",
    "from tensorflow.keras.preprocessing.text import Tokenizer\n",
    "from time import time\n",
    "import matplotlib.pyplot as plt\n",
    "%matplotlib inline\n",
    "import pandas as pd\n",
    "import nltk\n",
    "import numpy as np\n",
    "import re\n",
    "import seaborn as sns\n",
    "import textwrap"
   ]
  },
  {
   "cell_type": "markdown",
   "id": "95d66e69-c25b-4601-9eeb-70c6212b54a8",
   "metadata": {},
   "source": [
    "# 1. Data"
   ]
  },
  {
   "cell_type": "markdown",
   "id": "ab38ce95-961d-4a5a-af28-9f0857b6d2f3",
   "metadata": {},
   "source": [
    "## Loading the three fatafiles into training, validation and testing dataframes"
   ]
  },
  {
   "cell_type": "code",
   "execution_count": 2,
   "id": "3bc4755a-5abc-40ba-8f6e-b12a20da75e0",
   "metadata": {},
   "outputs": [
    {
     "data": {
      "text/html": [
       "<div>\n",
       "<style scoped>\n",
       "    .dataframe tbody tr th:only-of-type {\n",
       "        vertical-align: middle;\n",
       "    }\n",
       "\n",
       "    .dataframe tbody tr th {\n",
       "        vertical-align: top;\n",
       "    }\n",
       "\n",
       "    .dataframe thead th {\n",
       "        text-align: right;\n",
       "    }\n",
       "</style>\n",
       "<table border=\"1\" class=\"dataframe\">\n",
       "  <thead>\n",
       "    <tr style=\"text-align: right;\">\n",
       "      <th></th>\n",
       "      <th>text</th>\n",
       "      <th>label</th>\n",
       "    </tr>\n",
       "  </thead>\n",
       "  <tbody>\n",
       "    <tr>\n",
       "      <th>0</th>\n",
       "      <td>Just got back from seeing @GaryDelaney in Burs...</td>\n",
       "      <td>joy</td>\n",
       "    </tr>\n",
       "    <tr>\n",
       "      <th>1</th>\n",
       "      <td>Oh dear an evening of absolute hilarity I don'...</td>\n",
       "      <td>joy</td>\n",
       "    </tr>\n",
       "    <tr>\n",
       "      <th>2</th>\n",
       "      <td>Been waiting all week for this game ❤️❤️❤️ #ch...</td>\n",
       "      <td>joy</td>\n",
       "    </tr>\n",
       "    <tr>\n",
       "      <th>3</th>\n",
       "      <td>@gardiner_love : Thank you so much, Gloria! Yo...</td>\n",
       "      <td>joy</td>\n",
       "    </tr>\n",
       "    <tr>\n",
       "      <th>4</th>\n",
       "      <td>I feel so blessed to work with the family that...</td>\n",
       "      <td>joy</td>\n",
       "    </tr>\n",
       "  </tbody>\n",
       "</table>\n",
       "</div>"
      ],
      "text/plain": [
       "                                                text label\n",
       "0  Just got back from seeing @GaryDelaney in Burs...   joy\n",
       "1  Oh dear an evening of absolute hilarity I don'...   joy\n",
       "2  Been waiting all week for this game ❤️❤️❤️ #ch...   joy\n",
       "3  @gardiner_love : Thank you so much, Gloria! Yo...   joy\n",
       "4  I feel so blessed to work with the family that...   joy"
      ]
     },
     "execution_count": 2,
     "metadata": {},
     "output_type": "execute_result"
    }
   ],
   "source": [
    "train_data = pd.read_csv('archive-2/emotion-labels-train.csv')\n",
    "train_data.head()"
   ]
  },
  {
   "cell_type": "code",
   "execution_count": 3,
   "id": "0d319d12-7772-44c0-a6fe-396abb36d908",
   "metadata": {},
   "outputs": [
    {
     "data": {
      "text/html": [
       "<div>\n",
       "<style scoped>\n",
       "    .dataframe tbody tr th:only-of-type {\n",
       "        vertical-align: middle;\n",
       "    }\n",
       "\n",
       "    .dataframe tbody tr th {\n",
       "        vertical-align: top;\n",
       "    }\n",
       "\n",
       "    .dataframe thead th {\n",
       "        text-align: right;\n",
       "    }\n",
       "</style>\n",
       "<table border=\"1\" class=\"dataframe\">\n",
       "  <thead>\n",
       "    <tr style=\"text-align: right;\">\n",
       "      <th></th>\n",
       "      <th>text</th>\n",
       "      <th>label</th>\n",
       "    </tr>\n",
       "  </thead>\n",
       "  <tbody>\n",
       "    <tr>\n",
       "      <th>0</th>\n",
       "      <td>You must be knowing #blithe means (adj.)  Happ...</td>\n",
       "      <td>joy</td>\n",
       "    </tr>\n",
       "    <tr>\n",
       "      <th>1</th>\n",
       "      <td>Old saying 'A #smile shared is one gained for ...</td>\n",
       "      <td>joy</td>\n",
       "    </tr>\n",
       "    <tr>\n",
       "      <th>2</th>\n",
       "      <td>Bridget Jones' Baby was bloody hilarious 😅 #Br...</td>\n",
       "      <td>joy</td>\n",
       "    </tr>\n",
       "    <tr>\n",
       "      <th>3</th>\n",
       "      <td>@Elaminova sparkling water makes your life spa...</td>\n",
       "      <td>joy</td>\n",
       "    </tr>\n",
       "    <tr>\n",
       "      <th>4</th>\n",
       "      <td>I'm tired of everybody telling me to chill out...</td>\n",
       "      <td>joy</td>\n",
       "    </tr>\n",
       "  </tbody>\n",
       "</table>\n",
       "</div>"
      ],
      "text/plain": [
       "                                                text label\n",
       "0  You must be knowing #blithe means (adj.)  Happ...   joy\n",
       "1  Old saying 'A #smile shared is one gained for ...   joy\n",
       "2  Bridget Jones' Baby was bloody hilarious 😅 #Br...   joy\n",
       "3  @Elaminova sparkling water makes your life spa...   joy\n",
       "4  I'm tired of everybody telling me to chill out...   joy"
      ]
     },
     "execution_count": 3,
     "metadata": {},
     "output_type": "execute_result"
    }
   ],
   "source": [
    "test_data = pd.read_csv('archive-2/emotion-labels-test.csv')\n",
    "test_data.head()"
   ]
  },
  {
   "cell_type": "code",
   "execution_count": 4,
   "id": "eb5fb995-1cba-412e-9079-83b7dd72845a",
   "metadata": {},
   "outputs": [
    {
     "data": {
      "text/html": [
       "<div>\n",
       "<style scoped>\n",
       "    .dataframe tbody tr th:only-of-type {\n",
       "        vertical-align: middle;\n",
       "    }\n",
       "\n",
       "    .dataframe tbody tr th {\n",
       "        vertical-align: top;\n",
       "    }\n",
       "\n",
       "    .dataframe thead th {\n",
       "        text-align: right;\n",
       "    }\n",
       "</style>\n",
       "<table border=\"1\" class=\"dataframe\">\n",
       "  <thead>\n",
       "    <tr style=\"text-align: right;\">\n",
       "      <th></th>\n",
       "      <th>text</th>\n",
       "      <th>label</th>\n",
       "    </tr>\n",
       "  </thead>\n",
       "  <tbody>\n",
       "    <tr>\n",
       "      <th>0</th>\n",
       "      <td>@theclobra lol I thought maybe, couldn't decid...</td>\n",
       "      <td>joy</td>\n",
       "    </tr>\n",
       "    <tr>\n",
       "      <th>1</th>\n",
       "      <td>Nawaz Sharif is getting more funnier than @kap...</td>\n",
       "      <td>joy</td>\n",
       "    </tr>\n",
       "    <tr>\n",
       "      <th>2</th>\n",
       "      <td>Nawaz Sharif is getting more funnier than @kap...</td>\n",
       "      <td>joy</td>\n",
       "    </tr>\n",
       "    <tr>\n",
       "      <th>3</th>\n",
       "      <td>@tomderivan73 😁...I'll just people watch and e...</td>\n",
       "      <td>joy</td>\n",
       "    </tr>\n",
       "    <tr>\n",
       "      <th>4</th>\n",
       "      <td>I love my family so much #lucky #grateful #sma...</td>\n",
       "      <td>joy</td>\n",
       "    </tr>\n",
       "  </tbody>\n",
       "</table>\n",
       "</div>"
      ],
      "text/plain": [
       "                                                text label\n",
       "0  @theclobra lol I thought maybe, couldn't decid...   joy\n",
       "1  Nawaz Sharif is getting more funnier than @kap...   joy\n",
       "2  Nawaz Sharif is getting more funnier than @kap...   joy\n",
       "3  @tomderivan73 😁...I'll just people watch and e...   joy\n",
       "4  I love my family so much #lucky #grateful #sma...   joy"
      ]
     },
     "execution_count": 4,
     "metadata": {},
     "output_type": "execute_result"
    }
   ],
   "source": [
    "val_data = pd.read_csv('archive-2/emotion-labels-val.csv')\n",
    "val_data.head()"
   ]
  },
  {
   "cell_type": "markdown",
   "id": "da5d8f8a-a70d-4460-bb5c-3f34607a9531",
   "metadata": {},
   "source": [
    "## Verifying datatypes and if there are any missing values"
   ]
  },
  {
   "cell_type": "code",
   "execution_count": 5,
   "id": "7872024f-eaac-48fe-8cb1-ba8f81297209",
   "metadata": {},
   "outputs": [
    {
     "name": "stdout",
     "output_type": "stream",
     "text": [
      "<class 'pandas.core.frame.DataFrame'>\n",
      "RangeIndex: 3613 entries, 0 to 3612\n",
      "Data columns (total 2 columns):\n",
      " #   Column  Non-Null Count  Dtype \n",
      "---  ------  --------------  ----- \n",
      " 0   text    3613 non-null   object\n",
      " 1   label   3613 non-null   object\n",
      "dtypes: object(2)\n",
      "memory usage: 56.6+ KB\n"
     ]
    }
   ],
   "source": [
    "train_data.info()"
   ]
  },
  {
   "cell_type": "code",
   "execution_count": 6,
   "id": "361c2b06-e810-443b-a9ea-fa9940ca0b9b",
   "metadata": {},
   "outputs": [
    {
     "name": "stdout",
     "output_type": "stream",
     "text": [
      "<class 'pandas.core.frame.DataFrame'>\n",
      "RangeIndex: 3142 entries, 0 to 3141\n",
      "Data columns (total 2 columns):\n",
      " #   Column  Non-Null Count  Dtype \n",
      "---  ------  --------------  ----- \n",
      " 0   text    3142 non-null   object\n",
      " 1   label   3142 non-null   object\n",
      "dtypes: object(2)\n",
      "memory usage: 49.2+ KB\n"
     ]
    }
   ],
   "source": [
    "test_data.info()"
   ]
  },
  {
   "cell_type": "code",
   "execution_count": 7,
   "id": "7f68caa9-ada1-47eb-8e0f-cc6688f17e59",
   "metadata": {},
   "outputs": [
    {
     "name": "stdout",
     "output_type": "stream",
     "text": [
      "<class 'pandas.core.frame.DataFrame'>\n",
      "RangeIndex: 347 entries, 0 to 346\n",
      "Data columns (total 2 columns):\n",
      " #   Column  Non-Null Count  Dtype \n",
      "---  ------  --------------  ----- \n",
      " 0   text    347 non-null    object\n",
      " 1   label   347 non-null    object\n",
      "dtypes: object(2)\n",
      "memory usage: 5.5+ KB\n"
     ]
    }
   ],
   "source": [
    "val_data.info()"
   ]
  },
  {
   "cell_type": "markdown",
   "id": "fef1036e-75c8-4378-8d0e-c9784d77310c",
   "metadata": {},
   "source": [
    "## <span style='color:blue'>Apparently there aren't any missing values and the datatype for each column/feature is the appropiate one.</span>"
   ]
  },
  {
   "cell_type": "markdown",
   "id": "43a18d21-56d1-44f0-a350-b29fa3c87073",
   "metadata": {},
   "source": [
    "## Validating for duplicate entries"
   ]
  },
  {
   "cell_type": "code",
   "execution_count": 8,
   "id": "fcc21c0f-8587-46c4-a52d-891cd7e86f01",
   "metadata": {},
   "outputs": [
    {
     "name": "stdout",
     "output_type": "stream",
     "text": [
      "Train duplicate entries count: 0\n",
      "\n",
      "Train duplicate entries:\n",
      "\n"
     ]
    },
    {
     "data": {
      "text/html": [
       "<div>\n",
       "<style scoped>\n",
       "    .dataframe tbody tr th:only-of-type {\n",
       "        vertical-align: middle;\n",
       "    }\n",
       "\n",
       "    .dataframe tbody tr th {\n",
       "        vertical-align: top;\n",
       "    }\n",
       "\n",
       "    .dataframe thead th {\n",
       "        text-align: right;\n",
       "    }\n",
       "</style>\n",
       "<table border=\"1\" class=\"dataframe\">\n",
       "  <thead>\n",
       "    <tr style=\"text-align: right;\">\n",
       "      <th></th>\n",
       "      <th>text</th>\n",
       "      <th>label</th>\n",
       "    </tr>\n",
       "  </thead>\n",
       "  <tbody>\n",
       "  </tbody>\n",
       "</table>\n",
       "</div>"
      ],
      "text/plain": [
       "Empty DataFrame\n",
       "Columns: [text, label]\n",
       "Index: []"
      ]
     },
     "execution_count": 8,
     "metadata": {},
     "output_type": "execute_result"
    }
   ],
   "source": [
    "# Using pandas.DataFrame.duplicates to check for duplicate entries.\n",
    "train_duplicates = train_data.duplicated()\n",
    "\n",
    "# Printing duplicate entries count\n",
    "print(f'Train duplicate entries count: {train_duplicates.sum()}\\n')\n",
    "\n",
    "# Printing duplicates entries\n",
    "print('Train duplicate entries:\\n')\n",
    "train_data[train_duplicates]"
   ]
  },
  {
   "cell_type": "code",
   "execution_count": 9,
   "id": "695e0f6d-e1e1-47a8-9b4f-fedf86198c4c",
   "metadata": {},
   "outputs": [
    {
     "name": "stdout",
     "output_type": "stream",
     "text": [
      "Test duplicate entries count: 0\n",
      "\n",
      "Train duplicate entries:\n",
      "\n"
     ]
    },
    {
     "data": {
      "text/html": [
       "<div>\n",
       "<style scoped>\n",
       "    .dataframe tbody tr th:only-of-type {\n",
       "        vertical-align: middle;\n",
       "    }\n",
       "\n",
       "    .dataframe tbody tr th {\n",
       "        vertical-align: top;\n",
       "    }\n",
       "\n",
       "    .dataframe thead th {\n",
       "        text-align: right;\n",
       "    }\n",
       "</style>\n",
       "<table border=\"1\" class=\"dataframe\">\n",
       "  <thead>\n",
       "    <tr style=\"text-align: right;\">\n",
       "      <th></th>\n",
       "      <th>text</th>\n",
       "      <th>label</th>\n",
       "    </tr>\n",
       "  </thead>\n",
       "  <tbody>\n",
       "  </tbody>\n",
       "</table>\n",
       "</div>"
      ],
      "text/plain": [
       "Empty DataFrame\n",
       "Columns: [text, label]\n",
       "Index: []"
      ]
     },
     "execution_count": 9,
     "metadata": {},
     "output_type": "execute_result"
    }
   ],
   "source": [
    "# Using pandas.DataFrame.duplicates to check for duplicate entries.\n",
    "test_duplicates = test_data.duplicated()\n",
    "\n",
    "# Printing duplicate entries count\n",
    "print(f'Test duplicate entries count: {test_duplicates.sum()}\\n')\n",
    "\n",
    "# Printing duplicates entries\n",
    "print('Train duplicate entries:\\n')\n",
    "test_data[test_duplicates]"
   ]
  },
  {
   "cell_type": "code",
   "execution_count": 10,
   "id": "965dc621-4ac0-4c65-bb50-e23897c65626",
   "metadata": {},
   "outputs": [
    {
     "name": "stdout",
     "output_type": "stream",
     "text": [
      "Validation duplicate entries count: 0\n",
      "\n",
      "Validation duplicate entries:\n",
      "\n"
     ]
    },
    {
     "data": {
      "text/html": [
       "<div>\n",
       "<style scoped>\n",
       "    .dataframe tbody tr th:only-of-type {\n",
       "        vertical-align: middle;\n",
       "    }\n",
       "\n",
       "    .dataframe tbody tr th {\n",
       "        vertical-align: top;\n",
       "    }\n",
       "\n",
       "    .dataframe thead th {\n",
       "        text-align: right;\n",
       "    }\n",
       "</style>\n",
       "<table border=\"1\" class=\"dataframe\">\n",
       "  <thead>\n",
       "    <tr style=\"text-align: right;\">\n",
       "      <th></th>\n",
       "      <th>text</th>\n",
       "      <th>label</th>\n",
       "    </tr>\n",
       "  </thead>\n",
       "  <tbody>\n",
       "  </tbody>\n",
       "</table>\n",
       "</div>"
      ],
      "text/plain": [
       "Empty DataFrame\n",
       "Columns: [text, label]\n",
       "Index: []"
      ]
     },
     "execution_count": 10,
     "metadata": {},
     "output_type": "execute_result"
    }
   ],
   "source": [
    "# Using pandas.DataFrame.duplicates to check for duplicate entries.\n",
    "val_duplicates = val_data.duplicated()\n",
    "\n",
    "# Printing duplicate entries count\n",
    "print(f'Validation duplicate entries count: {val_duplicates.sum()}\\n')\n",
    "\n",
    "# Printing duplicates entries\n",
    "print('Validation duplicate entries:\\n')\n",
    "val_data[val_duplicates]"
   ]
  },
  {
   "cell_type": "markdown",
   "id": "8e60acdd-b0f2-49ad-816a-b8e0c86cf105",
   "metadata": {},
   "source": [
    "## <span style='color:blue'>Based on results previously displayed, there aren't any duplicate entries within the given datasets</span>"
   ]
  },
  {
   "cell_type": "markdown",
   "id": "3b45bb29-1dee-48d4-a898-72874a95bdbf",
   "metadata": {},
   "source": [
    "## Separating text from labels"
   ]
  },
  {
   "cell_type": "code",
   "execution_count": 11,
   "id": "826a6660-6dc5-415b-a24e-9c2c5eccb40d",
   "metadata": {},
   "outputs": [
    {
     "data": {
      "text/html": [
       "<div>\n",
       "<style scoped>\n",
       "    .dataframe tbody tr th:only-of-type {\n",
       "        vertical-align: middle;\n",
       "    }\n",
       "\n",
       "    .dataframe tbody tr th {\n",
       "        vertical-align: top;\n",
       "    }\n",
       "\n",
       "    .dataframe thead th {\n",
       "        text-align: right;\n",
       "    }\n",
       "</style>\n",
       "<table border=\"1\" class=\"dataframe\">\n",
       "  <thead>\n",
       "    <tr style=\"text-align: right;\">\n",
       "      <th></th>\n",
       "      <th>label</th>\n",
       "    </tr>\n",
       "  </thead>\n",
       "  <tbody>\n",
       "    <tr>\n",
       "      <th>0</th>\n",
       "      <td>joy</td>\n",
       "    </tr>\n",
       "    <tr>\n",
       "      <th>1</th>\n",
       "      <td>joy</td>\n",
       "    </tr>\n",
       "    <tr>\n",
       "      <th>2</th>\n",
       "      <td>joy</td>\n",
       "    </tr>\n",
       "    <tr>\n",
       "      <th>3</th>\n",
       "      <td>joy</td>\n",
       "    </tr>\n",
       "    <tr>\n",
       "      <th>4</th>\n",
       "      <td>joy</td>\n",
       "    </tr>\n",
       "  </tbody>\n",
       "</table>\n",
       "</div>"
      ],
      "text/plain": [
       "  label\n",
       "0   joy\n",
       "1   joy\n",
       "2   joy\n",
       "3   joy\n",
       "4   joy"
      ]
     },
     "execution_count": 11,
     "metadata": {},
     "output_type": "execute_result"
    }
   ],
   "source": [
    "train_labels = train_data\n",
    "train_text = train_data\n",
    "train_labels = train_labels.drop(['text'], axis = 1)\n",
    "train_text = train_text.drop(['label'], axis = 1)\n",
    "train_labels.head()"
   ]
  },
  {
   "cell_type": "code",
   "execution_count": 12,
   "id": "b34e8c6c-a554-4610-9fd0-2ef394e361bb",
   "metadata": {},
   "outputs": [
    {
     "data": {
      "text/html": [
       "<div>\n",
       "<style scoped>\n",
       "    .dataframe tbody tr th:only-of-type {\n",
       "        vertical-align: middle;\n",
       "    }\n",
       "\n",
       "    .dataframe tbody tr th {\n",
       "        vertical-align: top;\n",
       "    }\n",
       "\n",
       "    .dataframe thead th {\n",
       "        text-align: right;\n",
       "    }\n",
       "</style>\n",
       "<table border=\"1\" class=\"dataframe\">\n",
       "  <thead>\n",
       "    <tr style=\"text-align: right;\">\n",
       "      <th></th>\n",
       "      <th>text</th>\n",
       "    </tr>\n",
       "  </thead>\n",
       "  <tbody>\n",
       "    <tr>\n",
       "      <th>0</th>\n",
       "      <td>Just got back from seeing @GaryDelaney in Burs...</td>\n",
       "    </tr>\n",
       "    <tr>\n",
       "      <th>1</th>\n",
       "      <td>Oh dear an evening of absolute hilarity I don'...</td>\n",
       "    </tr>\n",
       "    <tr>\n",
       "      <th>2</th>\n",
       "      <td>Been waiting all week for this game ❤️❤️❤️ #ch...</td>\n",
       "    </tr>\n",
       "    <tr>\n",
       "      <th>3</th>\n",
       "      <td>@gardiner_love : Thank you so much, Gloria! Yo...</td>\n",
       "    </tr>\n",
       "    <tr>\n",
       "      <th>4</th>\n",
       "      <td>I feel so blessed to work with the family that...</td>\n",
       "    </tr>\n",
       "  </tbody>\n",
       "</table>\n",
       "</div>"
      ],
      "text/plain": [
       "                                                text\n",
       "0  Just got back from seeing @GaryDelaney in Burs...\n",
       "1  Oh dear an evening of absolute hilarity I don'...\n",
       "2  Been waiting all week for this game ❤️❤️❤️ #ch...\n",
       "3  @gardiner_love : Thank you so much, Gloria! Yo...\n",
       "4  I feel so blessed to work with the family that..."
      ]
     },
     "execution_count": 12,
     "metadata": {},
     "output_type": "execute_result"
    }
   ],
   "source": [
    "train_text.head()"
   ]
  },
  {
   "cell_type": "code",
   "execution_count": 13,
   "id": "587bfccf-437f-48cb-9010-e5cd33920817",
   "metadata": {},
   "outputs": [
    {
     "data": {
      "text/html": [
       "<div>\n",
       "<style scoped>\n",
       "    .dataframe tbody tr th:only-of-type {\n",
       "        vertical-align: middle;\n",
       "    }\n",
       "\n",
       "    .dataframe tbody tr th {\n",
       "        vertical-align: top;\n",
       "    }\n",
       "\n",
       "    .dataframe thead th {\n",
       "        text-align: right;\n",
       "    }\n",
       "</style>\n",
       "<table border=\"1\" class=\"dataframe\">\n",
       "  <thead>\n",
       "    <tr style=\"text-align: right;\">\n",
       "      <th></th>\n",
       "      <th>label</th>\n",
       "    </tr>\n",
       "  </thead>\n",
       "  <tbody>\n",
       "    <tr>\n",
       "      <th>0</th>\n",
       "      <td>joy</td>\n",
       "    </tr>\n",
       "    <tr>\n",
       "      <th>1</th>\n",
       "      <td>joy</td>\n",
       "    </tr>\n",
       "    <tr>\n",
       "      <th>2</th>\n",
       "      <td>joy</td>\n",
       "    </tr>\n",
       "    <tr>\n",
       "      <th>3</th>\n",
       "      <td>joy</td>\n",
       "    </tr>\n",
       "    <tr>\n",
       "      <th>4</th>\n",
       "      <td>joy</td>\n",
       "    </tr>\n",
       "  </tbody>\n",
       "</table>\n",
       "</div>"
      ],
      "text/plain": [
       "  label\n",
       "0   joy\n",
       "1   joy\n",
       "2   joy\n",
       "3   joy\n",
       "4   joy"
      ]
     },
     "execution_count": 13,
     "metadata": {},
     "output_type": "execute_result"
    }
   ],
   "source": [
    "test_labels = test_data\n",
    "test_text = test_data\n",
    "test_labels = test_labels.drop(['text'], axis = 1)\n",
    "test_text = test_text.drop(['label'], axis = 1)\n",
    "test_labels.head()"
   ]
  },
  {
   "cell_type": "code",
   "execution_count": 14,
   "id": "425d0cfc-9bba-46df-9d47-8750a9af590c",
   "metadata": {},
   "outputs": [
    {
     "data": {
      "text/html": [
       "<div>\n",
       "<style scoped>\n",
       "    .dataframe tbody tr th:only-of-type {\n",
       "        vertical-align: middle;\n",
       "    }\n",
       "\n",
       "    .dataframe tbody tr th {\n",
       "        vertical-align: top;\n",
       "    }\n",
       "\n",
       "    .dataframe thead th {\n",
       "        text-align: right;\n",
       "    }\n",
       "</style>\n",
       "<table border=\"1\" class=\"dataframe\">\n",
       "  <thead>\n",
       "    <tr style=\"text-align: right;\">\n",
       "      <th></th>\n",
       "      <th>text</th>\n",
       "    </tr>\n",
       "  </thead>\n",
       "  <tbody>\n",
       "    <tr>\n",
       "      <th>0</th>\n",
       "      <td>You must be knowing #blithe means (adj.)  Happ...</td>\n",
       "    </tr>\n",
       "    <tr>\n",
       "      <th>1</th>\n",
       "      <td>Old saying 'A #smile shared is one gained for ...</td>\n",
       "    </tr>\n",
       "    <tr>\n",
       "      <th>2</th>\n",
       "      <td>Bridget Jones' Baby was bloody hilarious 😅 #Br...</td>\n",
       "    </tr>\n",
       "    <tr>\n",
       "      <th>3</th>\n",
       "      <td>@Elaminova sparkling water makes your life spa...</td>\n",
       "    </tr>\n",
       "    <tr>\n",
       "      <th>4</th>\n",
       "      <td>I'm tired of everybody telling me to chill out...</td>\n",
       "    </tr>\n",
       "  </tbody>\n",
       "</table>\n",
       "</div>"
      ],
      "text/plain": [
       "                                                text\n",
       "0  You must be knowing #blithe means (adj.)  Happ...\n",
       "1  Old saying 'A #smile shared is one gained for ...\n",
       "2  Bridget Jones' Baby was bloody hilarious 😅 #Br...\n",
       "3  @Elaminova sparkling water makes your life spa...\n",
       "4  I'm tired of everybody telling me to chill out..."
      ]
     },
     "execution_count": 14,
     "metadata": {},
     "output_type": "execute_result"
    }
   ],
   "source": [
    "test_text.head()"
   ]
  },
  {
   "cell_type": "code",
   "execution_count": 15,
   "id": "e2d70110-267d-40e7-8df8-3e79b9ba0e96",
   "metadata": {},
   "outputs": [
    {
     "data": {
      "text/html": [
       "<div>\n",
       "<style scoped>\n",
       "    .dataframe tbody tr th:only-of-type {\n",
       "        vertical-align: middle;\n",
       "    }\n",
       "\n",
       "    .dataframe tbody tr th {\n",
       "        vertical-align: top;\n",
       "    }\n",
       "\n",
       "    .dataframe thead th {\n",
       "        text-align: right;\n",
       "    }\n",
       "</style>\n",
       "<table border=\"1\" class=\"dataframe\">\n",
       "  <thead>\n",
       "    <tr style=\"text-align: right;\">\n",
       "      <th></th>\n",
       "      <th>label</th>\n",
       "    </tr>\n",
       "  </thead>\n",
       "  <tbody>\n",
       "    <tr>\n",
       "      <th>0</th>\n",
       "      <td>joy</td>\n",
       "    </tr>\n",
       "    <tr>\n",
       "      <th>1</th>\n",
       "      <td>joy</td>\n",
       "    </tr>\n",
       "    <tr>\n",
       "      <th>2</th>\n",
       "      <td>joy</td>\n",
       "    </tr>\n",
       "    <tr>\n",
       "      <th>3</th>\n",
       "      <td>joy</td>\n",
       "    </tr>\n",
       "    <tr>\n",
       "      <th>4</th>\n",
       "      <td>joy</td>\n",
       "    </tr>\n",
       "  </tbody>\n",
       "</table>\n",
       "</div>"
      ],
      "text/plain": [
       "  label\n",
       "0   joy\n",
       "1   joy\n",
       "2   joy\n",
       "3   joy\n",
       "4   joy"
      ]
     },
     "execution_count": 15,
     "metadata": {},
     "output_type": "execute_result"
    }
   ],
   "source": [
    "val_labels = val_data\n",
    "val_text = val_data\n",
    "val_labels = val_labels.drop(['text'], axis = 1)\n",
    "val_text = val_text.drop(['label'], axis = 1)\n",
    "val_labels.head()"
   ]
  },
  {
   "cell_type": "code",
   "execution_count": 16,
   "id": "2e8a7862-62ff-4541-bf1c-03b8bc644ec6",
   "metadata": {},
   "outputs": [
    {
     "data": {
      "text/html": [
       "<div>\n",
       "<style scoped>\n",
       "    .dataframe tbody tr th:only-of-type {\n",
       "        vertical-align: middle;\n",
       "    }\n",
       "\n",
       "    .dataframe tbody tr th {\n",
       "        vertical-align: top;\n",
       "    }\n",
       "\n",
       "    .dataframe thead th {\n",
       "        text-align: right;\n",
       "    }\n",
       "</style>\n",
       "<table border=\"1\" class=\"dataframe\">\n",
       "  <thead>\n",
       "    <tr style=\"text-align: right;\">\n",
       "      <th></th>\n",
       "      <th>text</th>\n",
       "    </tr>\n",
       "  </thead>\n",
       "  <tbody>\n",
       "    <tr>\n",
       "      <th>0</th>\n",
       "      <td>@theclobra lol I thought maybe, couldn't decid...</td>\n",
       "    </tr>\n",
       "    <tr>\n",
       "      <th>1</th>\n",
       "      <td>Nawaz Sharif is getting more funnier than @kap...</td>\n",
       "    </tr>\n",
       "    <tr>\n",
       "      <th>2</th>\n",
       "      <td>Nawaz Sharif is getting more funnier than @kap...</td>\n",
       "    </tr>\n",
       "    <tr>\n",
       "      <th>3</th>\n",
       "      <td>@tomderivan73 😁...I'll just people watch and e...</td>\n",
       "    </tr>\n",
       "    <tr>\n",
       "      <th>4</th>\n",
       "      <td>I love my family so much #lucky #grateful #sma...</td>\n",
       "    </tr>\n",
       "  </tbody>\n",
       "</table>\n",
       "</div>"
      ],
      "text/plain": [
       "                                                text\n",
       "0  @theclobra lol I thought maybe, couldn't decid...\n",
       "1  Nawaz Sharif is getting more funnier than @kap...\n",
       "2  Nawaz Sharif is getting more funnier than @kap...\n",
       "3  @tomderivan73 😁...I'll just people watch and e...\n",
       "4  I love my family so much #lucky #grateful #sma..."
      ]
     },
     "execution_count": 16,
     "metadata": {},
     "output_type": "execute_result"
    }
   ],
   "source": [
    "val_text.head()"
   ]
  },
  {
   "cell_type": "markdown",
   "id": "2d86e1cf-d0ff-44ce-abff-fd3c9d78d4b9",
   "metadata": {},
   "source": [
    "## Converting the string labels into integers using sklearn.preprocessing.LabelEncoder and displaying which number has been assigned to each label"
   ]
  },
  {
   "cell_type": "code",
   "execution_count": 17,
   "id": "4a058ad3-6f35-47a3-8d8f-0b33149c51b9",
   "metadata": {},
   "outputs": [
    {
     "data": {
      "text/html": [
       "<div>\n",
       "<style scoped>\n",
       "    .dataframe tbody tr th:only-of-type {\n",
       "        vertical-align: middle;\n",
       "    }\n",
       "\n",
       "    .dataframe tbody tr th {\n",
       "        vertical-align: top;\n",
       "    }\n",
       "\n",
       "    .dataframe thead th {\n",
       "        text-align: right;\n",
       "    }\n",
       "</style>\n",
       "<table border=\"1\" class=\"dataframe\">\n",
       "  <thead>\n",
       "    <tr style=\"text-align: right;\">\n",
       "      <th></th>\n",
       "      <th>label</th>\n",
       "      <th>encoded_label</th>\n",
       "    </tr>\n",
       "  </thead>\n",
       "  <tbody>\n",
       "    <tr>\n",
       "      <th>0</th>\n",
       "      <td>joy</td>\n",
       "      <td>2</td>\n",
       "    </tr>\n",
       "    <tr>\n",
       "      <th>1</th>\n",
       "      <td>joy</td>\n",
       "      <td>2</td>\n",
       "    </tr>\n",
       "    <tr>\n",
       "      <th>2</th>\n",
       "      <td>joy</td>\n",
       "      <td>2</td>\n",
       "    </tr>\n",
       "    <tr>\n",
       "      <th>3</th>\n",
       "      <td>joy</td>\n",
       "      <td>2</td>\n",
       "    </tr>\n",
       "    <tr>\n",
       "      <th>4</th>\n",
       "      <td>joy</td>\n",
       "      <td>2</td>\n",
       "    </tr>\n",
       "    <tr>\n",
       "      <th>...</th>\n",
       "      <td>...</td>\n",
       "      <td>...</td>\n",
       "    </tr>\n",
       "    <tr>\n",
       "      <th>3608</th>\n",
       "      <td>sadness</td>\n",
       "      <td>3</td>\n",
       "    </tr>\n",
       "    <tr>\n",
       "      <th>3609</th>\n",
       "      <td>sadness</td>\n",
       "      <td>3</td>\n",
       "    </tr>\n",
       "    <tr>\n",
       "      <th>3610</th>\n",
       "      <td>sadness</td>\n",
       "      <td>3</td>\n",
       "    </tr>\n",
       "    <tr>\n",
       "      <th>3611</th>\n",
       "      <td>sadness</td>\n",
       "      <td>3</td>\n",
       "    </tr>\n",
       "    <tr>\n",
       "      <th>3612</th>\n",
       "      <td>sadness</td>\n",
       "      <td>3</td>\n",
       "    </tr>\n",
       "  </tbody>\n",
       "</table>\n",
       "<p>3613 rows × 2 columns</p>\n",
       "</div>"
      ],
      "text/plain": [
       "        label  encoded_label\n",
       "0         joy              2\n",
       "1         joy              2\n",
       "2         joy              2\n",
       "3         joy              2\n",
       "4         joy              2\n",
       "...       ...            ...\n",
       "3608  sadness              3\n",
       "3609  sadness              3\n",
       "3610  sadness              3\n",
       "3611  sadness              3\n",
       "3612  sadness              3\n",
       "\n",
       "[3613 rows x 2 columns]"
      ]
     },
     "execution_count": 17,
     "metadata": {},
     "output_type": "execute_result"
    }
   ],
   "source": [
    "# Initializing LabelEncoder for the training set\n",
    "train_encoder = LabelEncoder()\n",
    "\n",
    "# Fitting and transforming train_labels\n",
    "train_labels['encoded_label'] = train_encoder.fit_transform(train_labels['label'])\n",
    "train_labels"
   ]
  },
  {
   "cell_type": "code",
   "execution_count": 18,
   "id": "c7d62b51-1e7e-4224-bf47-f284d9389ec5",
   "metadata": {},
   "outputs": [
    {
     "name": "stdout",
     "output_type": "stream",
     "text": [
      "{'anger': 0, 'fear': 1, 'joy': 2, 'sadness': 3}\n"
     ]
    }
   ],
   "source": [
    "# Label mapping displaying the encoded label for each label in the training set\n",
    "label_mapping = dict(zip(train_encoder.classes_, train_encoder.transform(train_encoder.classes_)))\n",
    "print(label_mapping)"
   ]
  },
  {
   "cell_type": "code",
   "execution_count": 19,
   "id": "52c67d0e-596d-4a97-8883-f649d1bfa3e5",
   "metadata": {},
   "outputs": [
    {
     "data": {
      "text/html": [
       "<div>\n",
       "<style scoped>\n",
       "    .dataframe tbody tr th:only-of-type {\n",
       "        vertical-align: middle;\n",
       "    }\n",
       "\n",
       "    .dataframe tbody tr th {\n",
       "        vertical-align: top;\n",
       "    }\n",
       "\n",
       "    .dataframe thead th {\n",
       "        text-align: right;\n",
       "    }\n",
       "</style>\n",
       "<table border=\"1\" class=\"dataframe\">\n",
       "  <thead>\n",
       "    <tr style=\"text-align: right;\">\n",
       "      <th></th>\n",
       "      <th>label</th>\n",
       "      <th>encoded_label</th>\n",
       "    </tr>\n",
       "  </thead>\n",
       "  <tbody>\n",
       "    <tr>\n",
       "      <th>0</th>\n",
       "      <td>joy</td>\n",
       "      <td>2</td>\n",
       "    </tr>\n",
       "    <tr>\n",
       "      <th>1</th>\n",
       "      <td>joy</td>\n",
       "      <td>2</td>\n",
       "    </tr>\n",
       "    <tr>\n",
       "      <th>2</th>\n",
       "      <td>joy</td>\n",
       "      <td>2</td>\n",
       "    </tr>\n",
       "    <tr>\n",
       "      <th>3</th>\n",
       "      <td>joy</td>\n",
       "      <td>2</td>\n",
       "    </tr>\n",
       "    <tr>\n",
       "      <th>4</th>\n",
       "      <td>joy</td>\n",
       "      <td>2</td>\n",
       "    </tr>\n",
       "    <tr>\n",
       "      <th>...</th>\n",
       "      <td>...</td>\n",
       "      <td>...</td>\n",
       "    </tr>\n",
       "    <tr>\n",
       "      <th>3137</th>\n",
       "      <td>sadness</td>\n",
       "      <td>3</td>\n",
       "    </tr>\n",
       "    <tr>\n",
       "      <th>3138</th>\n",
       "      <td>sadness</td>\n",
       "      <td>3</td>\n",
       "    </tr>\n",
       "    <tr>\n",
       "      <th>3139</th>\n",
       "      <td>sadness</td>\n",
       "      <td>3</td>\n",
       "    </tr>\n",
       "    <tr>\n",
       "      <th>3140</th>\n",
       "      <td>sadness</td>\n",
       "      <td>3</td>\n",
       "    </tr>\n",
       "    <tr>\n",
       "      <th>3141</th>\n",
       "      <td>sadness</td>\n",
       "      <td>3</td>\n",
       "    </tr>\n",
       "  </tbody>\n",
       "</table>\n",
       "<p>3142 rows × 2 columns</p>\n",
       "</div>"
      ],
      "text/plain": [
       "        label  encoded_label\n",
       "0         joy              2\n",
       "1         joy              2\n",
       "2         joy              2\n",
       "3         joy              2\n",
       "4         joy              2\n",
       "...       ...            ...\n",
       "3137  sadness              3\n",
       "3138  sadness              3\n",
       "3139  sadness              3\n",
       "3140  sadness              3\n",
       "3141  sadness              3\n",
       "\n",
       "[3142 rows x 2 columns]"
      ]
     },
     "execution_count": 19,
     "metadata": {},
     "output_type": "execute_result"
    }
   ],
   "source": [
    "# Initializing LabelEncoder for the testing set\n",
    "test_encoder = LabelEncoder()\n",
    "\n",
    "# Fitting and transforming test_labels\n",
    "test_labels['encoded_label'] = test_encoder.fit_transform(test_labels['label'])\n",
    "test_labels"
   ]
  },
  {
   "cell_type": "code",
   "execution_count": 20,
   "id": "45b934bd-480e-4156-95c6-c2546ccdc13c",
   "metadata": {},
   "outputs": [
    {
     "name": "stdout",
     "output_type": "stream",
     "text": [
      "{'anger': 0, 'fear': 1, 'joy': 2, 'sadness': 3}\n"
     ]
    }
   ],
   "source": [
    "# Label mapping displaying the encoded label for each label in the testing set\n",
    "print(dict(zip(test_encoder.classes_, test_encoder.transform(test_encoder.classes_))))"
   ]
  },
  {
   "cell_type": "code",
   "execution_count": 21,
   "id": "0e51e2e1-9e3f-4acf-9536-5f6d4fdec5e5",
   "metadata": {},
   "outputs": [
    {
     "data": {
      "text/html": [
       "<div>\n",
       "<style scoped>\n",
       "    .dataframe tbody tr th:only-of-type {\n",
       "        vertical-align: middle;\n",
       "    }\n",
       "\n",
       "    .dataframe tbody tr th {\n",
       "        vertical-align: top;\n",
       "    }\n",
       "\n",
       "    .dataframe thead th {\n",
       "        text-align: right;\n",
       "    }\n",
       "</style>\n",
       "<table border=\"1\" class=\"dataframe\">\n",
       "  <thead>\n",
       "    <tr style=\"text-align: right;\">\n",
       "      <th></th>\n",
       "      <th>label</th>\n",
       "      <th>encoded_label</th>\n",
       "    </tr>\n",
       "  </thead>\n",
       "  <tbody>\n",
       "    <tr>\n",
       "      <th>0</th>\n",
       "      <td>joy</td>\n",
       "      <td>2</td>\n",
       "    </tr>\n",
       "    <tr>\n",
       "      <th>1</th>\n",
       "      <td>joy</td>\n",
       "      <td>2</td>\n",
       "    </tr>\n",
       "    <tr>\n",
       "      <th>2</th>\n",
       "      <td>joy</td>\n",
       "      <td>2</td>\n",
       "    </tr>\n",
       "    <tr>\n",
       "      <th>3</th>\n",
       "      <td>joy</td>\n",
       "      <td>2</td>\n",
       "    </tr>\n",
       "    <tr>\n",
       "      <th>4</th>\n",
       "      <td>joy</td>\n",
       "      <td>2</td>\n",
       "    </tr>\n",
       "    <tr>\n",
       "      <th>...</th>\n",
       "      <td>...</td>\n",
       "      <td>...</td>\n",
       "    </tr>\n",
       "    <tr>\n",
       "      <th>342</th>\n",
       "      <td>sadness</td>\n",
       "      <td>3</td>\n",
       "    </tr>\n",
       "    <tr>\n",
       "      <th>343</th>\n",
       "      <td>sadness</td>\n",
       "      <td>3</td>\n",
       "    </tr>\n",
       "    <tr>\n",
       "      <th>344</th>\n",
       "      <td>sadness</td>\n",
       "      <td>3</td>\n",
       "    </tr>\n",
       "    <tr>\n",
       "      <th>345</th>\n",
       "      <td>sadness</td>\n",
       "      <td>3</td>\n",
       "    </tr>\n",
       "    <tr>\n",
       "      <th>346</th>\n",
       "      <td>sadness</td>\n",
       "      <td>3</td>\n",
       "    </tr>\n",
       "  </tbody>\n",
       "</table>\n",
       "<p>347 rows × 2 columns</p>\n",
       "</div>"
      ],
      "text/plain": [
       "       label  encoded_label\n",
       "0        joy              2\n",
       "1        joy              2\n",
       "2        joy              2\n",
       "3        joy              2\n",
       "4        joy              2\n",
       "..       ...            ...\n",
       "342  sadness              3\n",
       "343  sadness              3\n",
       "344  sadness              3\n",
       "345  sadness              3\n",
       "346  sadness              3\n",
       "\n",
       "[347 rows x 2 columns]"
      ]
     },
     "execution_count": 21,
     "metadata": {},
     "output_type": "execute_result"
    }
   ],
   "source": [
    "# Initializing LabelEncoder for the validation set\n",
    "val_encoder = LabelEncoder()\n",
    "\n",
    "# Fitting and transforming val_labels\n",
    "val_labels['encoded_label'] = val_encoder.fit_transform(val_labels['label'])\n",
    "val_labels"
   ]
  },
  {
   "cell_type": "code",
   "execution_count": 22,
   "id": "3cb5c29b-8deb-454a-ba28-c1f3e9121e83",
   "metadata": {},
   "outputs": [
    {
     "name": "stdout",
     "output_type": "stream",
     "text": [
      "{'anger': 0, 'fear': 1, 'joy': 2, 'sadness': 3}\n"
     ]
    }
   ],
   "source": [
    "# Label mapping displaying the encoded label for each label in the validation set\n",
    "print(dict(zip(val_encoder.classes_, val_encoder.transform(val_encoder.classes_))))"
   ]
  },
  {
   "cell_type": "markdown",
   "id": "c6d525d1-a493-425f-afff-b1817dc11254",
   "metadata": {},
   "source": [
    "## Reshaping the labels datasets into a 2d array "
   ]
  },
  {
   "cell_type": "code",
   "execution_count": 23,
   "id": "369315cb-ec5c-4169-b93e-1db52a3b86c2",
   "metadata": {},
   "outputs": [
    {
     "data": {
      "text/plain": [
       "(3613, 1)"
      ]
     },
     "execution_count": 23,
     "metadata": {},
     "output_type": "execute_result"
    }
   ],
   "source": [
    "# Getting rid of the label column in train_labels\n",
    "train_encoded_labels = train_labels.drop(columns = ['label'])\n",
    "\n",
    "# Converting into a 2d numpy array \n",
    "train_encoded_labels = train_encoded_labels.to_numpy()\n",
    "train_encoded_labels.shape"
   ]
  },
  {
   "cell_type": "code",
   "execution_count": 24,
   "id": "23edc2ae-e7c1-4609-aca2-458585f2a5c5",
   "metadata": {},
   "outputs": [
    {
     "data": {
      "text/plain": [
       "(3142, 1)"
      ]
     },
     "execution_count": 24,
     "metadata": {},
     "output_type": "execute_result"
    }
   ],
   "source": [
    "# Getting rid of the label column in test_labels\n",
    "test_encoded_labels = test_labels.drop(columns = ['label'])\n",
    "\n",
    "# Converting into a 2d numpy array \n",
    "test_encoded_labels = test_encoded_labels.to_numpy()\n",
    "test_encoded_labels.shape"
   ]
  },
  {
   "cell_type": "code",
   "execution_count": 25,
   "id": "7601fff0-ddbc-40bd-9176-01fd9e0be65a",
   "metadata": {},
   "outputs": [
    {
     "data": {
      "text/plain": [
       "(347, 1)"
      ]
     },
     "execution_count": 25,
     "metadata": {},
     "output_type": "execute_result"
    }
   ],
   "source": [
    "# Getting rid of the label column in val_labels\n",
    "val_encoded_labels = val_labels.drop(columns = ['label'])\n",
    "\n",
    "# Converting into a 2d numpy array \n",
    "val_encoded_labels = val_encoded_labels.to_numpy()\n",
    "val_encoded_labels.shape"
   ]
  },
  {
   "cell_type": "markdown",
   "id": "54ca5557-2c44-4abc-a5c9-6527c39a6d05",
   "metadata": {},
   "source": [
    "## Creating a bar plot using seaborn.barplot of the number of elements in each category over the entire dataset"
   ]
  },
  {
   "cell_type": "code",
   "execution_count": 26,
   "id": "e7112911-a334-47de-93f8-64ef18f39360",
   "metadata": {},
   "outputs": [
    {
     "data": {
      "text/html": [
       "<div>\n",
       "<style scoped>\n",
       "    .dataframe tbody tr th:only-of-type {\n",
       "        vertical-align: middle;\n",
       "    }\n",
       "\n",
       "    .dataframe tbody tr th {\n",
       "        vertical-align: top;\n",
       "    }\n",
       "\n",
       "    .dataframe thead th {\n",
       "        text-align: right;\n",
       "    }\n",
       "</style>\n",
       "<table border=\"1\" class=\"dataframe\">\n",
       "  <thead>\n",
       "    <tr style=\"text-align: right;\">\n",
       "      <th></th>\n",
       "      <th>label</th>\n",
       "    </tr>\n",
       "  </thead>\n",
       "  <tbody>\n",
       "    <tr>\n",
       "      <th>0</th>\n",
       "      <td>joy</td>\n",
       "    </tr>\n",
       "    <tr>\n",
       "      <th>1</th>\n",
       "      <td>joy</td>\n",
       "    </tr>\n",
       "    <tr>\n",
       "      <th>2</th>\n",
       "      <td>joy</td>\n",
       "    </tr>\n",
       "    <tr>\n",
       "      <th>3</th>\n",
       "      <td>joy</td>\n",
       "    </tr>\n",
       "    <tr>\n",
       "      <th>4</th>\n",
       "      <td>joy</td>\n",
       "    </tr>\n",
       "    <tr>\n",
       "      <th>...</th>\n",
       "      <td>...</td>\n",
       "    </tr>\n",
       "    <tr>\n",
       "      <th>7097</th>\n",
       "      <td>sadness</td>\n",
       "    </tr>\n",
       "    <tr>\n",
       "      <th>7098</th>\n",
       "      <td>sadness</td>\n",
       "    </tr>\n",
       "    <tr>\n",
       "      <th>7099</th>\n",
       "      <td>sadness</td>\n",
       "    </tr>\n",
       "    <tr>\n",
       "      <th>7100</th>\n",
       "      <td>sadness</td>\n",
       "    </tr>\n",
       "    <tr>\n",
       "      <th>7101</th>\n",
       "      <td>sadness</td>\n",
       "    </tr>\n",
       "  </tbody>\n",
       "</table>\n",
       "<p>7102 rows × 1 columns</p>\n",
       "</div>"
      ],
      "text/plain": [
       "        label\n",
       "0         joy\n",
       "1         joy\n",
       "2         joy\n",
       "3         joy\n",
       "4         joy\n",
       "...       ...\n",
       "7097  sadness\n",
       "7098  sadness\n",
       "7099  sadness\n",
       "7100  sadness\n",
       "7101  sadness\n",
       "\n",
       "[7102 rows x 1 columns]"
      ]
     },
     "execution_count": 26,
     "metadata": {},
     "output_type": "execute_result"
    }
   ],
   "source": [
    "# Combining train, test and validation labels into a DatyaFrame named labels\n",
    "labels = pd.concat([train_labels, test_labels, val_labels], ignore_index = True)\n",
    "\n",
    "# Dropping the encoded_label column\n",
    "labels = labels.drop('encoded_label', axis = 1)\n",
    "labels"
   ]
  },
  {
   "cell_type": "code",
   "execution_count": 27,
   "id": "ab0b51a6-773d-4d5d-9f37-4c3b070ddcf1",
   "metadata": {},
   "outputs": [
    {
     "data": {
      "text/html": [
       "<div>\n",
       "<style scoped>\n",
       "    .dataframe tbody tr th:only-of-type {\n",
       "        vertical-align: middle;\n",
       "    }\n",
       "\n",
       "    .dataframe tbody tr th {\n",
       "        vertical-align: top;\n",
       "    }\n",
       "\n",
       "    .dataframe thead th {\n",
       "        text-align: right;\n",
       "    }\n",
       "</style>\n",
       "<table border=\"1\" class=\"dataframe\">\n",
       "  <thead>\n",
       "    <tr style=\"text-align: right;\">\n",
       "      <th></th>\n",
       "      <th>label</th>\n",
       "      <th>count</th>\n",
       "    </tr>\n",
       "  </thead>\n",
       "  <tbody>\n",
       "    <tr>\n",
       "      <th>0</th>\n",
       "      <td>anger</td>\n",
       "      <td>1701</td>\n",
       "    </tr>\n",
       "    <tr>\n",
       "      <th>1</th>\n",
       "      <td>fear</td>\n",
       "      <td>2252</td>\n",
       "    </tr>\n",
       "    <tr>\n",
       "      <th>2</th>\n",
       "      <td>joy</td>\n",
       "      <td>1616</td>\n",
       "    </tr>\n",
       "    <tr>\n",
       "      <th>3</th>\n",
       "      <td>sadness</td>\n",
       "      <td>1533</td>\n",
       "    </tr>\n",
       "  </tbody>\n",
       "</table>\n",
       "</div>"
      ],
      "text/plain": [
       "     label  count\n",
       "0    anger   1701\n",
       "1     fear   2252\n",
       "2      joy   1616\n",
       "3  sadness   1533"
      ]
     },
     "execution_count": 27,
     "metadata": {},
     "output_type": "execute_result"
    }
   ],
   "source": [
    "# Getting the count per each label\n",
    "label_count = labels.groupby('label').size().reset_index(name = 'count')\n",
    "label_count"
   ]
  },
  {
   "cell_type": "code",
   "execution_count": 28,
   "id": "bc6c1325-ef32-45db-bc52-476098f06016",
   "metadata": {},
   "outputs": [
    {
     "data": {
      "image/png": "[encoded data removed]",
      "text/plain": [
       "<Figure size 640x480 with 1 Axes>"
      ]
     },
     "metadata": {},
     "output_type": "display_data"
    }
   ],
   "source": [
    "plot = sns.barplot(data = label_count, x = 'label', y = 'count', hue = 'label', palette = 'rocket')\n",
    "\n",
    "# Adding counts on each bar\n",
    "for p in plot.patches:\n",
    "    width = p.get_width()\n",
    "    x = p.get_x() + width / 2\n",
    "    y = p.get_height()\n",
    "    plot.text(x, y, f'{y:.0f}', ha = 'center', va = 'bottom')\n",
    "\n",
    "plt.xlabel('Label')\n",
    "plt.ylabel('Number of Elements')\n",
    "plt.title('Number of Elements per Each Label')\n",
    "plt.show()"
   ]
  },
  {
   "cell_type": "markdown",
   "id": "479fa821-68b6-4224-9d71-098362510205",
   "metadata": {},
   "source": [
    "## <span style='color:blue'>The dataset exhibits some degree of imbalance between the labels, although this is not a major concern. The 'fear' label has a slightly higher representation (2,252) compared to the other labels, which are almost balanced. As a result, there may be a slight bias toward the 'fear' label, but the overall distribution is not severely skewed. Therefore, significant issues with model performance due to class imbalance are not expected.</span>"
   ]
  },
  {
   "cell_type": "markdown",
   "id": "83a22c16-ed8c-44db-b81d-cf811d09439a",
   "metadata": {},
   "source": [
    "## Performing the following steps on the tweets in the prefer order to do:\n",
    "* ### Tokenize each tweet into words.\n",
    "* ### Speller use from the autocorrect library to correct spelling mistakes (in case it might be useful).\n",
    "* ### Create a list of stopwords and removing these.\n",
    "* ### Usage of PorterStemmer or WordNetLemmatizer from nltk.stem on the text.\n",
    "* ### Usage of regular expressions to do any additional cleanup of the text."
   ]
  },
  {
   "cell_type": "code",
   "execution_count": 29,
   "id": "672dc59d-0456-40c7-8955-5e158560b441",
   "metadata": {},
   "outputs": [
    {
     "data": {
      "text/plain": [
       "3613"
      ]
     },
     "execution_count": 29,
     "metadata": {},
     "output_type": "execute_result"
    }
   ],
   "source": [
    "# Converting train_text into a list\n",
    "train_raw_text = train_text['text'].to_list()\n",
    "len(train_raw_text)"
   ]
  },
  {
   "cell_type": "code",
   "execution_count": 30,
   "id": "36118fa9-f4d4-4ce9-9245-6779d9c0ffdc",
   "metadata": {},
   "outputs": [
    {
     "data": {
      "text/plain": [
       "3142"
      ]
     },
     "execution_count": 30,
     "metadata": {},
     "output_type": "execute_result"
    }
   ],
   "source": [
    "# Converting test_text into a list\n",
    "test_raw_text = test_text['text'].to_list()\n",
    "len(test_raw_text)"
   ]
  },
  {
   "cell_type": "code",
   "execution_count": 31,
   "id": "4c648402-f20d-4b17-938e-0eab2e28ce72",
   "metadata": {},
   "outputs": [
    {
     "data": {
      "text/plain": [
       "347"
      ]
     },
     "execution_count": 31,
     "metadata": {},
     "output_type": "execute_result"
    }
   ],
   "source": [
    "# Converting val_text into a list\n",
    "val_raw_text = val_text['text'].to_list()\n",
    "len(val_raw_text)"
   ]
  },
  {
   "cell_type": "code",
   "execution_count": 32,
   "id": "3d9f0417-2ea0-467f-a17e-50447e0d37d6",
   "metadata": {},
   "outputs": [],
   "source": [
    "# Initializing the speller using English as the language\n",
    "speller = Speller(lang = 'en')"
   ]
  },
  {
   "cell_type": "code",
   "execution_count": 33,
   "id": "3d60cc80-6564-486f-83dc-76b2aae9f49d",
   "metadata": {},
   "outputs": [
    {
     "data": {
      "text/plain": [
       "\"Oh dear an evening of absolute hilarity I don't think I have laughed so much in a long time! 😂\""
      ]
     },
     "execution_count": 33,
     "metadata": {},
     "output_type": "execute_result"
    }
   ],
   "source": [
    "# Printing a random tweet\n",
    "sample_1 = train_raw_text[1]\n",
    "sample_1"
   ]
  },
  {
   "cell_type": "code",
   "execution_count": 34,
   "id": "b3ce479f-d968-4868-aa5a-847c3af86e63",
   "metadata": {},
   "outputs": [
    {
     "data": {
      "text/plain": [
       "\"Oh dear an evening of absolute clarity I don't think I have laughed so much in a long time! 😂\""
      ]
     },
     "execution_count": 34,
     "metadata": {},
     "output_type": "execute_result"
    }
   ],
   "source": [
    "# Applying speller to sample_1\n",
    "sample_corrected_1 = speller(sample_1)\n",
    "sample_corrected_1"
   ]
  },
  {
   "cell_type": "code",
   "execution_count": 35,
   "id": "f2af84ce-41dc-4c5b-b770-55e18c6e492e",
   "metadata": {},
   "outputs": [
    {
     "data": {
      "text/plain": [
       "'The best #revenge is to move on, get over it, and continue to #succeed. Never give someone the #satisfaction of watching you #suffer....!!!'"
      ]
     },
     "execution_count": 35,
     "metadata": {},
     "output_type": "execute_result"
    }
   ],
   "source": [
    "# Printing a random tweet\n",
    "sample_2 = train_raw_text[2505]\n",
    "sample_2"
   ]
  },
  {
   "cell_type": "code",
   "execution_count": 36,
   "id": "2df7fc07-19bc-40c8-9a57-a9ea7dce31bc",
   "metadata": {},
   "outputs": [
    {
     "data": {
      "text/plain": [
       "'The best #revenge is to move on, get over it, and continue to #succeed. Never give someone the #satisfaction of watching you #suffer....!!!'"
      ]
     },
     "execution_count": 36,
     "metadata": {},
     "output_type": "execute_result"
    }
   ],
   "source": [
    "# Applying speller to sample_2\n",
    "sample_corrected_2 = speller(sample_2)\n",
    "sample_corrected_2"
   ]
  },
  {
   "cell_type": "code",
   "execution_count": 37,
   "id": "6fb76087-eb1a-4945-a3a9-1fc57e8369a6",
   "metadata": {},
   "outputs": [
    {
     "data": {
      "text/plain": [
       "'Never dull moment here'"
      ]
     },
     "execution_count": 37,
     "metadata": {},
     "output_type": "execute_result"
    }
   ],
   "source": [
    "# Printing a random tweet\n",
    "sample_3 = train_raw_text[3602]\n",
    "sample_3"
   ]
  },
  {
   "cell_type": "code",
   "execution_count": 38,
   "id": "c6fe6984-6716-4f26-87c9-c4f51a67bb9f",
   "metadata": {},
   "outputs": [
    {
     "data": {
      "text/plain": [
       "'Never dull moment here'"
      ]
     },
     "execution_count": 38,
     "metadata": {},
     "output_type": "execute_result"
    }
   ],
   "source": [
    "# Applying speller to sample_3\n",
    "sample_corrected_3 = speller(sample_3)\n",
    "sample_corrected_3"
   ]
  },
  {
   "cell_type": "markdown",
   "id": "7870e003-547c-4ec7-9429-e74c70db0364",
   "metadata": {},
   "source": [
    "## <span style='color:blue'>After exploring a few random tweets, it became apparent that in about two-thirds of the samples, no modifications were made after appying the Speller function. In cases where the tweet was modified, the term replacement altered the meaning of the tweet, which was unnecessary for this task. Therefore, we have decided not to use a spell checker, as it would only add unnecessary complexity to the preprocessing stage and slow down the process. This decision will help streamline the overall workflow.</span>"
   ]
  },
  {
   "cell_type": "code",
   "execution_count": 39,
   "id": "03b683a8-b6a7-4cda-8ee4-6fcc43d947f8",
   "metadata": {},
   "outputs": [],
   "source": [
    "# Using stop words from https://github.com/stopwords-iso/stopwords-en/blob/master/stopwords-en.txt, which are three or more characters\n",
    "en_stop_words = set([\"'ll\", \"'tis\", \"'twas\", \"'ve\", \"a's\", \"able\", \"ableabout\", \"about\", \"above\", \"abroad\", \"abst\", \\\n",
    "                   \"accordance\", \"according\",\"accordingly\", \"across\", \"act\", \"actually\", \"added\", \"adj\", \\\n",
    "                   \"adopted\", \"affected\", \"affecting\", \"affects\", \"after\", \"afterwards\", \"again\", \"against\", \\\n",
    "                   \"ago\", \"ahead\", \"ain't\", \"aint\", \"all\", \"allow\", \"allows\", \"almost\", \"alone\", \"along\", \\\n",
    "                   \"alongside\", \"already\", \"also\", \"although\", \"always\", \"amid\", \"amidst\", \"among\", \"amongst\", \\\n",
    "                   \"amoungst\", \"amount\", \"and\", \"announce\", \"another\", \"any\", \"anybody\", \"anyhow\", \"anymore\", \\\n",
    "                   \"anyone\", \"anything\", \"anyway\", \"anyways\", \"anywhere\", \"apart\", \"apparently\", \"appear\", \\\n",
    "                   \"appreciate\", \"appropriate\", \"approximately\", \"are\", \"area\", \"areas\", \"aren\", \"aren't\", \\\n",
    "                   \"arent\", \"arise\", \"around\", \"arpa\", \"aside\", \"ask\", \"asked\", \"asking\", \"asks\", \"associated\", \\\n",
    "                   \"at\", \"au\", \"auth\", \"available\", \"aw\", \"away\", \"awfully\", \"az\", \"b\", \"ba\", \"back\", \"backed\", \\\n",
    "                   \"as\", \"backing\", \"backs\", \"backward\", \"backwards\", \"became\", \"because\", \"become\", \"becomes\", \\\n",
    "                   \"becoming\", \"been\", \"before\", \"beforehand\", \"began\", \"begin\", \"beginning\", \"beginnings\", \\\n",
    "                   \"begins\", \"behind\", \"being\", \"beings\", \"believe\", \"below\", \"beside\", \"besides\", \"best\", \\\n",
    "                   \"better\", \"between\", \"beyond\", \"big\", \"bill\", \"billion\", \"biol\", \"both\", \"bottom\", \"brief\", \\\n",
    "                   \"briefly\", \"but\", \"buy\", \"c'mon\", \"c's\", \"call\", \"came\", \"can\", \"can't\", \"cannot\", \"cant\", \\\n",
    "                   \"caption\", \"case\", \"cases\", \"cause\", \"causes\", \"certain\", \"certainly\", \"changes\", \"clear\", \\\n",
    "                   \"clearly\", \"click\", \"cmon\", \"co.\", \"com\", \"come\", \"comes\", \"computer\", \"con\", \"concerning\", \\\n",
    "                   \"consequently\", \"consider\", \"considering\", \"contain\", \"containing\", \"contains\", \"copy\", \\\n",
    "                   \"corresponding\", \"could\", \"could've\", \"couldn\", \"couldn't\", \"couldnt\", \"course\", \"cry\", \\\n",
    "                   \"currently\", \"dare\", \"daren't\", \"darent\", \"date\", \"dear\", \"definitely\", \"describe\", \"described\", \\\n",
    "                   \"despite\", \"detail\", \"did\", \"didn\", \"didn't\", \"didnt\", \"differ\", \"different\", \"differently\", \\\n",
    "                   \"directly\", \"does\", \"doesn\", \"doesn't\", \"doesnt\", \"doing\", \"don\", \"don't\", \"done\", \"dont\", \\\n",
    "                   \"doubtful\", \"down\", \"downed\", \"downing\", \"downs\", \"downwards\", \"due\", \"during\", \"each\", \\\n",
    "                   \"early\", \"edu\", \"effect\", \"eight\", \"eighty\", \"either\", \"eleven\", \"else\", \"elsewhere\", \"empty\", \\\n",
    "                   \"end\", \"ended\", \"ending\", \"ends\", \"enough\", \"entirely\", \"especially\", \"et-al\", \"etc\", \"even\", \\\n",
    "                   \"evenly\", \"ever\", \"evermore\", \"every\", \"everybody\", \"everyone\", \"everything\", \"everywhere\", \\\n",
    "                   \"exactly\", \"example\", \"except\", \"face\", \"faces\", \"fact\", \"facts\", \"fairly\", \"far\", \"farther\", \\\n",
    "                   \"felt\", \"few\", \"fewer\", \"fifteen\", \"fifth\", \"fifty\", \"fify\", \"fill\", \"find\", \"finds\", \"fire\", \\\n",
    "                   \"first\", \"five\", \"fix\", \"followed\", \"following\", \"follows\", \"for\", \"forever\", \"former\", \\\n",
    "                   \"formerly\", \"forth\", \"forty\", \"forward\", \"found\", \"four\", \"free\", \"from\", \"front\", \"full\", \\\n",
    "                   \"fully\", \"further\", \"furthered\", \"furthering\", \"furthermore\", \"furthers\", \"gave\", \"general\", \\\n",
    "                   \"generally\", \"get\", \"gets\", \"getting\", \"give\", \"given\", \"gives\", \"giving\", \"gmt\", \"goes\", \\\n",
    "                   \"going\", \"gone\", \"good\", \"goods\", \"got\", \"gotten\", \"gov\", \"great\", \"greater\", \"greatest\", \\\n",
    "                   \"greetings\", \"group\", \"grouped\", \"grouping\", \"groups\", \"had\", \"hadn't\", \"hadnt\", \"half\", \\\n",
    "                   \"happens\", \"hardly\", \"has\", \"hasn\", \"hasn't\", \"hasnt\", \"have\", \"haven\", \"haven't\", \"havent\", \\\n",
    "                   \"having\", \"he'd\", \"he'll\", \"he's\", \"hed\", \"hell\", \"hello\", \"help\", \"hence\", \"her\", \"here\", \\\n",
    "                   \"here's\", \"hereafter\", \"hereby\", \"herein\", \"heres\", \"hereupon\", \"hers\", \"herself\", \"herse”\", \\\n",
    "                   \"hes\", \"hid\", \"high\", \"higher\", \"highest\", \"him\", \"himself\", \"himse”\", \"his\", \"hither\", \\\n",
    "                   \"home\", \"homepage\", \"hopefully\", \"how\", \"how'd\", \"how'll\", \"how's\", \"howbeit\", \"however\", \\\n",
    "                   \"htm\", \"html\", \"http\", \"hundred\", \"i\", \"i'd\", \"i'll\", \"i'm\", \"i've\", \"i.e.\", \"ignored\", \"ill\", \\\n",
    "                   \"immediate\", \"immediately\", \"importance\", \"important\", \"inasmuch\", \"inc\", \"inc.\", \"indeed\", \\\n",
    "                   \"index\", \"indicate\", \"indicated\", \"indicates\", \"information\", \"inner\", \"inside\", \"insofar\", \\\n",
    "                   \"instead\", \"int\", \"interest\", \"interested\", \"interesting\", \"interests\", \"into\", \"invention\", \\\n",
    "                   \"inward\", \"is\", \"isn\", \"isn't\", \"isnt\", \"it'd\", \"it'll\", \"it's\", \"itd\", \"itll\", \"its\", \\\n",
    "                   \"itself\", \"itse”\", \"ive\", \"join\", \"just\", \"keep\", \"keeps\", \"kept\", \"keys\", \"kind\", \"knew\", \\\n",
    "                   \"know\", \"known\", \"knows\", \"large\", \"largely\", \"last\", \"lately\", \"later\", \"latest\", \"latter\", \\\n",
    "                   \"latterly\", \"least\", \"length\", \"less\", \"lest\", \"let\", \"let's\", \"lets\", \"like\", \"liked\", \\\n",
    "                   \"likely\", \"likewise\", \"line\", \"little\", \"long\", \"longer\", \"longest\", \"look\", \"looking\", \\\n",
    "                   \"looks\", \"low\", \"lower\", \"ltd\", \"made\", \"mainly\", \"make\", \"makes\", \"making\", \"man\", \"many\", \\\n",
    "                   \"may\", \"maybe\", \"mayn't\", \"maynt\", \"me\", \"mean\", \"means\", \"meantime\", \"meanwhile\", \"member\", \\\n",
    "                   \"members\", \"men\", \"merely\", \"microsoft\", \"might\", \"might've\", \"mightn't\", \"mightnt\", \"mil\", \\\n",
    "                   \"mill\", \"million\", \"mine\", \"minus\", \"miss\", \"more\", \"moreover\", \"most\", \"mostly\", \"move\", \\\n",
    "                   \"mrs\", \"msie\", \"much\", \"mug\", \"must\", \"must've\", \"mustn't\", \"mustnt\", \"my\", \"myself\", \"myse”\", \\\n",
    "                   \"name\", \"namely\", \"nay\", \"near\", \"nearly\", \"necessarily\", \"necessary\", \"need\", \"needed\", \\\n",
    "                   \"needing\", \"needn't\", \"neednt\", \"needs\", \"neither\", \"net\", \"netscape\", \"never\", \"neverf\", \\\n",
    "                   \"neverless\", \"nevertheless\", \"new\", \"newer\", \"newest\", \"next\", \"nine\", \"ninety\", \"no-one\", \\\n",
    "                   \"nobody\", \"non\", \"none\", \"nonetheless\", \"noone\", \"nor\", \"normally\", \"nos\", \"not\", \"noted\", \\\n",
    "                   \"nothing\", \"notwithstanding\", \"novel\", \"now\", \"nowhere\", \"null\", \"number\", \"numbers\", \\\n",
    "                   \"obtain\", \"obtained\", \"obviously\", \"off\", \"often\", \"okay\", \"old\", \"older\", \"oldest\", \\\n",
    "                   \"omitted\", \"once\", \"one\", \"one's\", \"ones\", \"only\", \"onto\", \"open\", \"opened\", \"opening\", \\\n",
    "                   \"opens\", \"opposite\", \"ord\", \"order\", \"ordered\", \"ordering\", \"orders\", \"org\", \"other\", \\\n",
    "                   \"others\", \"otherwise\", \"ought\", \"oughtn't\", \"oughtnt\", \"our\", \"ours\", \"ourselves\", \"out\", \\\n",
    "                   \"outside\", \"over\", \"overall\", \"owing\", \"own\", \"page\", \"pages\", \"part\", \"parted\", \"particular\", \\\n",
    "                   \"particularly\", \"parting\", \"parts\", \"past\", \"per\", \"perhaps\", \"place\", \"placed\", \"places\", \\\n",
    "                   \"please\", \"plus\", \"pmid\", \"point\", \"pointed\", \"pointing\", \"points\", \"poorly\", \"possible\", \\\n",
    "                   \"possibly\", \"potentially\", \"predominantly\", \"present\", \"presented\", \"presenting\", \"presents\", \\\n",
    "                   \"presumably\", \"previously\", \"primarily\", \"probably\", \"problem\", \"problems\", \"promptly\", \\\n",
    "                   \"proud\", \"provided\", \"provides\", \"put\", \"puts\", \"que\", \"quickly\", \"quite\", \"ran\", \"rather\", \\\n",
    "                   \"readily\", \"really\", \"reasonably\", \"recent\", \"recently\", \"ref\", \"refs\", \"regarding\", \\\n",
    "                   \"regardless\", \"regards\", \"related\", \"relatively\", \\\n",
    "                   \"research\", \"reserved\", \"respectively\", \"resulted\", \"resulting\", \"results\", \"right\", \"ring\", \\\n",
    "                   \"room\", \"rooms\", \"round\", \"run\", \"said\", \"same\", \"saw\", \"say\", \"saying\", \"says\", \"sec\", \\\n",
    "                   \"second\", \"secondly\", \"seconds\", \"section\", \"see\", \"seeing\", \"seem\", \"seemed\", \"seeming\", \\\n",
    "                   \"seems\", \"seen\", \"sees\", \"self\", \"selves\", \"sensible\", \"sent\", \"serious\", \"seriously\", \\\n",
    "                   \"seven\", \"seventy\", \"several\", \"shall\", \"shan't\", \"shant\", \"she\", \"she'd\", \"she'll\", \"she's\", \\\n",
    "                   \"shed\", \"shell\", \"shes\", \"should\", \"should've\", \"shouldn\", \"shouldn't\", \"shouldnt\", \"show\", \\\n",
    "                   \"showed\", \"showing\", \"shown\", \"showns\", \"shows\", \"side\", \"sides\", \"significant\", \\\n",
    "                   \"significantly\", \"similar\", \"similarly\", \"since\", \"sincere\", \"site\", \"six\", \"sixty\", \\\n",
    "                   \"slightly\", \"small\", \"smaller\", \"smallest\", \"some\", \"somebody\", \"someday\", \"somehow\", \\\n",
    "                   \"someone\", \"somethan\", \"something\", \"sometime\", \"sometimes\", \"somewhat\", \"somewhere\", \\\n",
    "                   \"soon\", \"sorry\", \"specifically\", \"specified\", \"specify\", \"specifying\", \"state\", \"states\", \\\n",
    "                   \"still\", \"stop\", \"strongly\", \"sub\", \"substantially\", \"successfully\", \"such\", \"sufficiently\", \\\n",
    "                   \"suggest\", \"sup\", \"sure\", \"system\", \"t's\", \"take\", \"taken\", \"taking\", \"tell\", \"ten\", \"tends\", \\\n",
    "                   \"test\", \"text\", \"than\", \"thank\", \"thanks\", \"thanx\", \"that\", \"that'll\", \"that's\", \"that've\", \\\n",
    "                   \"thatll\", \"thats\", \"thatve\", \"the\", \"their\", \"theirs\", \"them\", \"themselves\", \"then\", \\\n",
    "                   \"thence\", \"there\", \"there'd\", \"there'll\", \"there're\", \"there's\", \"there've\", \"thereafter\", \\\n",
    "                   \"thereby\", \"thered\", \"therefore\", \"therein\", \"therell\", \"thereof\", \"therere\", \"theres\", \\\n",
    "                   \"thereto\", \"thereupon\", \"thereve\", \"these\", \"they\", \"they'd\", \"they'll\", \"they're\", \\\n",
    "                   \"they've\", \"theyd\", \"theyll\", \"theyre\", \"theyve\", \"thick\", \"thin\", \"thing\", \"things\", \\\n",
    "                   \"think\", \"thinks\", \"third\", \"thirty\", \"this\", \"thorough\", \"thoroughly\", \"those\", \"thou\", \\\n",
    "                   \"though\", \"thoughh\", \"thought\", \"thoughts\", \"thousand\", \"three\", \"throug\", \"through\", \\\n",
    "                   \"throughout\", \"thru\", \"thus\", \"til\", \"till\", \"tip\", \"tis\", \"today\", \"together\", \"too\", \\\n",
    "                   \"took\", \"top\", \"toward\", \"towards\", \"tried\", \"tries\", \"trillion\", \"truly\", \"try\", \"trying\", \\\n",
    "                   \"turn\", \"turned\", \"turning\", \"turns\", \"twas\", \"twelve\", \"twenty\", \"twice\", \"two\", \"under\", \\\n",
    "                   \"underneath\", \"undoing\", \"unfortunately\", \"unless\", \"unlike\", \"unlikely\", \"until\", \"unto\", \\\n",
    "                   \"upon\", \"ups\", \"upwards\", \"use\", \"used\", \"useful\", \"usefully\", \"usefulness\", \"uses\", \"using\", \\\n",
    "                   \"usually\", \"uucp\", \"value\", \"various\", \"versus\", \"very\", \"via\", \"viz\", \"vol\", \"vols\", \"want\", \\\n",
    "                   \"wanted\", \"wanting\", \"wants\", \"was\", \"wasn\", \"wasn't\", \"wasnt\", \"way\", \"ways\", \"we'd\", \\\n",
    "                   \"we'll\", \"we're\", \"we've\", \"web\", \"webpage\", \"website\", \"wed\", \"welcome\", \"well\", \"wells\", \\\n",
    "                   \"went\", \"were\", \"weren\", \"weren't\", \"werent\", \"weve\", \"wf\", \"what\", \"what'd\", \"what'll\", \\\n",
    "                   \"what's\", \"what've\", \"whatever\", \"whatll\", \"whats\", \"whatve\", \"when\", \"when'd\", \"when'll\", \\\n",
    "                   \"when's\", \"whence\", \"whenever\", \"where\", \"where'd\", \"where'll\", \"where's\", \"whereafter\", \\\n",
    "                   \"whereas\", \"whereby\", \"wherein\", \"wheres\", \"whereupon\", \"wherever\", \"whether\", \"which\", \\\n",
    "                   \"whichever\", \"while\", \"whilst\", \"whim\", \"whither\", \"who\", \"who'd\", \"who'll\", \"who's\", \"whod\", \\\n",
    "                   \"whoever\", \"whole\", \"wholl\", \"whom\", \"whomever\", \"whos\", \"whose\", \"why\", \"why'd\", \"why'll\", \\\n",
    "                   \"why's\", \"widely\", \"width\", \"will\", \"willing\", \"wish\", \"with\", \"within\", \"without\", \"won\", \\\n",
    "                   \"won't\", \"wonder\", \"wont\", \"words\", \"work\", \"worked\", \"working\", \"works\", \"world\", \"would\", \\\n",
    "                   \"would've\", \"wouldn\", \"wouldn't\", \"wouldnt\", \"www\", \"year\", \"years\", \"yes\", \"yet\", \"you\", \\\n",
    "                   \"you'd\", \"you'll\", \"you're\", \"you've\", \"youd\", \"youll\", \"young\", \"younger\", \"youngest\", \\\n",
    "                   \"your\", \"youre\", \"yours\", \"yourself\", \"yourselves\", \"youve\", \"zero\"])"
   ]
  },
  {
   "cell_type": "code",
   "execution_count": 40,
   "id": "b6675fd7-bcad-4cf2-b76c-5290d1314856",
   "metadata": {},
   "outputs": [],
   "source": [
    "def perform_lemmatization(wrd):\n",
    "    \"\"\"Performs lemmatization using wordnet dictionary previously loaded\"\"\"\n",
    "    out = nltk.corpus.wordnet.morphy(wrd)\n",
    "    return (wrd if out is None else out)"
   ]
  },
  {
   "cell_type": "code",
   "execution_count": 41,
   "id": "520c9752-e006-41ff-89b2-ee9e2bee820d",
   "metadata": {},
   "outputs": [],
   "source": [
    "def clean_text(txt):\n",
    "    \"\"\"Cleans given text based on task like: lowering text, tokenization, removing irrelevant terms / stopwords / numbers and performing \n",
    "    lemmatization.\"\"\"\n",
    "\n",
    "    ## Lowering the case of the given text\n",
    "    out = txt.lower()\n",
    "    \n",
    "    # Tokenizing\n",
    "    out = tokenize.word_tokenize(out)\n",
    "    \n",
    "    # Removing words with one to two characters\n",
    "    out = [re.sub('\\\\b\\w{1,2}\\\\b', '', i) for i in out]\n",
    "    \n",
    "    # Finding and replacing website addresses starting with http, https, or www\n",
    "    out = [re.sub('https?://\\S+|www\\.\\S+', '', i) for i in out]\n",
    "\n",
    "    # Removing punctuation using regex, keeping only word characters and whitespace\n",
    "    out = [re.sub('[^\\\\w\\\\s]|\\n]', '', i) for i in out]\n",
    "    \n",
    "    # Removing numbers that are three digits or more considering first step\n",
    "    out = [re.sub('\\d', '', i) for i in out]\n",
    "    \n",
    "    # Removing stopwords using set for faster lookup   \n",
    "    out = [i for i in out if i not in en_stop_words]\n",
    "    \n",
    "    # Removing '' if any\n",
    "    out = list(filter(None, out))\n",
    "    \n",
    "    # lemmatizing\n",
    "    out = [perform_lemmatization(i) for i in out]\n",
    "    \n",
    "    return out"
   ]
  },
  {
   "cell_type": "code",
   "execution_count": 42,
   "id": "75fe0b24-c9fd-40f5-b474-959d70d37a1a",
   "metadata": {},
   "outputs": [
    {
     "name": "stdout",
     "output_type": "stream",
     "text": [
      "Time taken:  2.7046782970428467\n"
     ]
    }
   ],
   "source": [
    "# Recording  the starting time of the text cleaning process of the training text\n",
    "tick = time()\n",
    "\n",
    "# Applying the consolidated_clean_text function to each item in the train_raw_text\n",
    "cleaned_train_text = [clean_text(text) for text in train_raw_text]\n",
    "\n",
    "print(\"Time taken: \", time() - tick)"
   ]
  },
  {
   "cell_type": "code",
   "execution_count": 43,
   "id": "06564367-7dbe-4868-be98-b25ce9006360",
   "metadata": {},
   "outputs": [
    {
     "name": "stdout",
     "output_type": "stream",
     "text": [
      "Time taken:  0.5421700477600098\n"
     ]
    }
   ],
   "source": [
    "# Recording  the starting time of the text cleaning process of the test text\n",
    "tick = time()\n",
    "\n",
    "# Applying the consolidated_clean_text function to each item in the test_raw_text\n",
    "cleaned_test_text = [clean_text(text) for text in test_raw_text]\n",
    "\n",
    "print(\"Time taken: \", time() - tick)"
   ]
  },
  {
   "cell_type": "code",
   "execution_count": 44,
   "id": "8e8f02b5-08eb-46cd-8d22-0da24797ea7f",
   "metadata": {},
   "outputs": [
    {
     "name": "stdout",
     "output_type": "stream",
     "text": [
      "Time taken:  0.060575008392333984\n"
     ]
    }
   ],
   "source": [
    "# Recording  the starting time of the text cleaning process of the validation text\n",
    "tick = time()\n",
    "\n",
    "# Applying the consolidated_clean_text function to each item in the val_raw_text\n",
    "cleaned_val_text = [clean_text(text) for text in val_raw_text]\n",
    "\n",
    "print(\"Time taken: \", time() - tick)"
   ]
  },
  {
   "cell_type": "markdown",
   "id": "0771dcae-f3a7-43e1-af72-f0d253cf3f71",
   "metadata": {},
   "source": [
    "## Printing out the words in the first five processed tweets along with their labels for the training set"
   ]
  },
  {
   "cell_type": "code",
   "execution_count": 45,
   "id": "99da56ae-40fb-4fb6-8a59-758774c429b6",
   "metadata": {},
   "outputs": [
    {
     "name": "stdout",
     "output_type": "stream",
     "text": [
      "Original Tweet: Just got back from seeing @GaryDelaney in Burslem. AMAZING!! Face still hurts from laughing so much #hilarious\n",
      "Cleaned Tweet: ['garydelaney', 'burslem', 'amaze', 'hurt', 'laugh', 'hilarious']\n",
      "Label: joy\n",
      "\n",
      "\n",
      "Original Tweet: Oh dear an evening of absolute hilarity I don't think I have laughed so much in a long time! 😂\n",
      "Cleaned Tweet: ['evening', 'absolute', 'hilarity', 'laugh', 'time']\n",
      "Label: joy\n",
      "\n",
      "\n",
      "Original Tweet: Been waiting all week for this game ❤️❤️❤️ #cheer #friday ❤️\n",
      "Cleaned Tweet: ['waiting', 'week', 'game', 'cheer', 'friday']\n",
      "Label: joy\n",
      "\n",
      "\n",
      "Original Tweet: @gardiner_love : Thank you so much, Gloria! You're so sweet, and thoughtful! You just made my day more joyful! I love you too! 😊💕\n",
      "Cleaned Tweet: ['gardiner_love', 'gloria', 'sweet', 'thoughtful', 'day', 'joyful', 'love']\n",
      "Label: joy\n",
      "\n",
      "\n",
      "Original Tweet: I feel so blessed to work with the family that I nanny for ❤️ nothing but love &amp; appreciation, makes me smile.\n",
      "Cleaned Tweet: ['feel', 'bless', 'family', 'nanny', 'love', 'amp', 'appreciation', 'smile']\n",
      "Label: joy\n",
      "\n",
      "\n"
     ]
    }
   ],
   "source": [
    "for i in range(5):\n",
    "    print(f'Original Tweet: {train_raw_text[i]}')\n",
    "    print(f'Cleaned Tweet: {cleaned_train_text[i]}')\n",
    "    print(f\"Label: {train_labels['label'][i]}\\n\\n\")"
   ]
  },
  {
   "cell_type": "markdown",
   "id": "c39869f4-5d5a-42be-84d3-96c5a9e947dd",
   "metadata": {},
   "source": [
    "## Creating a histogram showing the lengths of the sequences after preprocessing and commenting on how this helps to choose the maximum length hyperparameter used when truncating/padding the input sequences"
   ]
  },
  {
   "cell_type": "code",
   "execution_count": 46,
   "id": "face7186-eb66-4a4d-ae45-9b4bb81f01db",
   "metadata": {},
   "outputs": [],
   "source": [
    "# Getting the length of each sequence (number of tokens in each tweet after preprocessing)\n",
    "sequence_lengths = [len(text) for text in cleaned_train_text]"
   ]
  },
  {
   "cell_type": "code",
   "execution_count": 47,
   "id": "b77a66b8-b2ff-4881-97fa-bedccff6ffda",
   "metadata": {},
   "outputs": [
    {
     "data": {
      "text/plain": [
       "12"
      ]
     },
     "execution_count": 47,
     "metadata": {},
     "output_type": "execute_result"
    }
   ],
   "source": [
    "# Calculating the number of bins using Sturges' Rule\n",
    "num_bins = int(1 + np.log2(len(sequence_lengths)))\n",
    "num_bins"
   ]
  },
  {
   "cell_type": "code",
   "execution_count": 48,
   "id": "7115b242-b649-4ada-af5f-a5e79a489adb",
   "metadata": {},
   "outputs": [
    {
     "data": {
      "image/png": "[encoded data removed]",
      "text/plain": [
       "<Figure size 1000x600 with 1 Axes>"
      ]
     },
     "metadata": {},
     "output_type": "display_data"
    }
   ],
   "source": [
    "# Plotting the histogram\n",
    "plt.figure(figsize = (10, 6))\n",
    "\n",
    "# Adding count values on top of each bar\n",
    "counts, bins, patches = plt.hist(sequence_lengths, bins = num_bins, alpha = 0.7, color = 'skyblue', edgecolor = 'black')\n",
    "\n",
    "# Looping through each bar and displaying the count on top of it\n",
    "for count, bin_edge in zip(counts, bins):\n",
    "    # Calculating the position of the count label\n",
    "    if count > 0:  # Only adding labels to non-zero counts\n",
    "        plt.text(bin_edge + 0.25, count, str(int(count)), ha = 'center', va = 'bottom', fontsize = 10, color = 'black')\n",
    "\n",
    "# Setting x-axis to show every integer tick (instead of default ticks that was 2.5)\n",
    "plt.xticks(np.arange(min(sequence_lengths), max(sequence_lengths) + 1, 1))\n",
    "        \n",
    "plt.title('Distribution of Sequence Lengths After Preprocessing')\n",
    "plt.xlabel('Sequence Length (Number of Tokens)')\n",
    "plt.ylabel('Frequency')\n",
    "plt.show()"
   ]
  },
  {
   "cell_type": "code",
   "execution_count": 49,
   "id": "50337f12-147f-4f2b-b38a-a04fcac27099",
   "metadata": {},
   "outputs": [
    {
     "data": {
      "text/plain": [
       "12.0"
      ]
     },
     "execution_count": 49,
     "metadata": {},
     "output_type": "execute_result"
    }
   ],
   "source": [
    "# Choosing a percentile value (95% in this case)\n",
    "percentile = 95\n",
    "\n",
    "# Calculating the sequence length at the chosen percentile\n",
    "max_len = np.percentile(sequence_lengths, percentile)\n",
    "max_len"
   ]
  },
  {
   "cell_type": "code",
   "execution_count": 50,
   "id": "a2da50c6-7df0-47a9-a377-676db79b324d",
   "metadata": {},
   "outputs": [
    {
     "data": {
      "text/plain": [
       "14.0"
      ]
     },
     "execution_count": 50,
     "metadata": {},
     "output_type": "execute_result"
    }
   ],
   "source": [
    "# Choosing a percentile value (99% in this case)\n",
    "percentile = 99\n",
    "\n",
    "# Calculating the sequence length at the chosen percentile\n",
    "max_len = np.percentile(sequence_lengths, percentile)\n",
    "max_len"
   ]
  },
  {
   "cell_type": "markdown",
   "id": "c7a40d9d-b2c7-4cf0-8ba7-2396a84c3f95",
   "metadata": {},
   "source": [
    "## <span style='color:blue'>Based on the histogram, most of the sequences fall between the 3rd and 8th bars, corresponding to lengths from 3 to around 12 tokens. This observation is consistent with the 95th percentile calculation, which also suggests a maximum length of 12. Since max_len directly affects the size of the input sequences after padding and truncating, and influences model performance, memory usage, and training efficiency, 12 tokens is a reasonable choice. However, looking further at the histogram, we notice that beyond the 10th bar, the frequency of sequences decreases significantly. This drop in frequency aligns with the 99th percentile, which suggests a slightly longer maximum sequence length. As a result, setting max_len to 14 tokens would be more appropriate, ensuring we capture almost all of the data while still keeping the sequence length manageable for model training.</span>"
   ]
  },
  {
   "cell_type": "markdown",
   "id": "bc22bde5-2323-4169-8c4d-27a842060ef4",
   "metadata": {},
   "source": [
    "# 2. Modeling"
   ]
  },
  {
   "cell_type": "markdown",
   "id": "e6a76074-33a4-435f-8ed3-100a17bcd7fb",
   "metadata": {},
   "source": [
    "## Choosing a vocabulary size and fitting a tokenizer on the preprocessed data"
   ]
  },
  {
   "cell_type": "code",
   "execution_count": 51,
   "id": "c0666be7-0813-483c-9929-b05b577e9579",
   "metadata": {},
   "outputs": [],
   "source": [
    "# Initializing vocabulary size\n",
    "vocab_size = 10000\n",
    "\n",
    "# Initializing the tokenizer\n",
    "tokenizer = Tokenizer(num_words = vocab_size)\n",
    "\n",
    "# Fitting a tokenizer on the preprocessed data\n",
    "tokenizer.fit_on_texts(cleaned_train_text)"
   ]
  },
  {
   "cell_type": "markdown",
   "id": "64ab0adc-569d-4d13-b029-71649df8c79b",
   "metadata": {},
   "source": [
    "## Using tokenizer.text_to_sequences() to generate a list of index numbers for each tweet"
   ]
  },
  {
   "cell_type": "code",
   "execution_count": 52,
   "id": "f0dbf7e9-afc9-4488-96d9-32e4dda102bf",
   "metadata": {
    "scrolled": true
   },
   "outputs": [
    {
     "data": {
      "text/plain": [
       "[[1802, 1803, 13, 192, 35, 48],\n",
       " [390, 437, 214, 35, 5],\n",
       " [244, 23, 49, 139, 438],\n",
       " [3617, 3618, 215, 1804, 3, 118, 2],\n",
       " [9, 348, 245, 3619, 2, 1, 3620, 16],\n",
       " [963, 1805, 668, 1806],\n",
       " [1807, 78, 2, 8, 3, 165, 586, 1808, 1809, 79, 16],\n",
       " [1810, 296, 83, 587, 1811, 2, 1812],\n",
       " [1802, 1803, 13, 192, 35],\n",
       " [3621, 793, 174, 349, 669],\n",
       " [8, 1813],\n",
       " [794, 8, 8],\n",
       " [151, 216, 1814, 217],\n",
       " [78, 7, 13, 3, 3622],\n",
       " [3623, 5, 84, 3624, 11, 1275, 48, 3625],\n",
       " [3626, 2, 16],\n",
       " [3627, 3628, 3629, 588, 113, 3630, 589, 218, 9],\n",
       " [71, 1815, 71, 1816, 106, 166],\n",
       " [1817, 439, 440, 1818, 1819, 246, 140, 6, 964],\n",
       " [3631, 3632, 85, 350, 118, 72, 351],\n",
       " [1820, 2, 1821, 504, 267, 43, 18, 48],\n",
       " [152, 219, 35, 297, 35, 48],\n",
       " [130, 352, 9, 8, 193, 10, 8, 1822, 1276],\n",
       " [391, 3, 36, 8, 8, 3633, 167, 215, 1823],\n",
       " [1824, 439, 220, 84, 321, 1825, 1826, 79],\n",
       " [1827, 8, 298, 348, 3, 2, 1277, 590],\n",
       " [1828, 118, 669],\n",
       " [78, 1278, 505, 78, 247],\n",
       " [1807, 78, 2, 8, 3, 165, 586, 1808, 1809],\n",
       " [965, 8, 1829, 3634, 1279, 441, 166, 8, 165, 591],\n",
       " [1280, 1830, 1831, 1832, 8, 592, 348, 175],\n",
       " [3635, 8, 298, 50, 439, 3, 506, 353, 221, 79, 670, 1281],\n",
       " [2, 2, 2, 99, 1833],\n",
       " [3, 1834, 3636, 175, 392, 3637, 3638, 78],\n",
       " [2, 35, 671, 79, 671, 221],\n",
       " [3, 113, 442, 322, 795, 1835, 796, 1836, 141],\n",
       " [82, 966, 79, 107, 323, 248, 3639, 593],\n",
       " [3, 16, 268, 16],\n",
       " [963, 1805, 8, 668, 1806],\n",
       " [1837, 967, 1838, 108, 968, 1839, 123, 48],\n",
       " [3640, 3641, 99, 83, 100, 3642, 214, 797],\n",
       " [3643, 3644, 3645, 3646, 124, 3647, 354, 969, 3648, 671, 970],\n",
       " [3649, 3650, 507, 443, 194],\n",
       " [3651, 222, 798, 13, 51, 195, 798],\n",
       " [3652, 166, 2, 63],\n",
       " [5, 1840, 672, 37, 508, 1841, 393, 1842, 139, 1843],\n",
       " [2, 223, 1844, 3653, 5, 1845, 1282],\n",
       " [78, 118, 4, 673, 248, 3, 78, 118, 248, 1846],\n",
       " [1280, 1830, 1831, 1832, 8, 592, 348],\n",
       " [971, 8, 298, 586, 1847, 1848, 50, 3, 1849, 590, 1850],\n",
       " [101, 1851, 16, 668],\n",
       " [355, 6, 509, 176, 5, 177, 79, 1852],\n",
       " [5, 1283, 1284, 12, 224, 5, 674, 3654, 8, 508],\n",
       " [394, 395, 141, 8],\n",
       " [2, 16, 91],\n",
       " [38, 444, 972],\n",
       " [594, 353, 299, 99, 79, 299, 1853, 99, 79],\n",
       " [3655, 3656, 799, 218, 390],\n",
       " [8, 3657, 3658, 3659, 2, 91, 3660, 8, 13],\n",
       " [3, 113, 442, 322, 795, 1835, 796, 1836],\n",
       " [39, 3661, 3662, 800, 37, 214, 973, 3663],\n",
       " [801, 16],\n",
       " [1854, 439, 220, 1285, 19, 1855, 195, 1856],\n",
       " [3664, 196, 18, 3665],\n",
       " [1837, 967, 1838, 108, 968, 1839, 123],\n",
       " [3666, 8, 298],\n",
       " [2, 109, 102, 3667, 197, 1286, 174],\n",
       " [3668, 3669, 3670, 3671, 396, 114, 48, 445, 198],\n",
       " [3672, 392, 99, 595, 249, 1287, 99, 250, 194, 248, 3673],\n",
       " [3, 506, 300, 2, 79, 197, 3, 142, 3674, 3675, 78, 3676],\n",
       " [71, 1815, 71, 1816, 106],\n",
       " [83, 10, 174, 974, 3677, 3678, 3679, 3680],\n",
       " [8, 298, 3681, 3682, 3683, 3684, 3685, 3686, 139],\n",
       " [669, 3687, 16, 1857, 669],\n",
       " [16, 1858, 3, 3, 131, 16],\n",
       " [84, 118, 675, 5, 510, 2, 153, 3688],\n",
       " [301, 5, 298, 3689, 3690, 298, 142, 79, 353, 2, 975],\n",
       " [130, 352, 9, 8, 193, 10, 1822, 1276],\n",
       " [1810, 296, 83, 587, 1811, 2, 48, 1812],\n",
       " [5, 1840, 672, 37, 508, 1841, 393, 1842, 1843],\n",
       " [3691, 802, 596, 1288, 225, 1859],\n",
       " [3692, 1, 141, 3693, 49],\n",
       " [3694, 4, 3695, 3696, 8, 218, 976, 3, 5, 3697],\n",
       " [3698, 38, 356],\n",
       " [1860, 64],\n",
       " [1817, 439, 440, 1818, 1819, 246, 140, 6, 964],\n",
       " [3699, 3700, 3701, 3702, 3703, 178],\n",
       " [3704, 64, 247, 3705],\n",
       " [3706, 215, 1, 167],\n",
       " [78, 3707, 45, 3708],\n",
       " [1861, 676, 179, 397, 1862, 13, 1863, 48],\n",
       " [977, 324, 3709, 36, 194, 72],\n",
       " [3710, 3711, 7, 16, 1834, 323, 10, 174, 3712, 73, 8],\n",
       " [511, 1864, 1, 1865, 1866, 978, 19, 1867, 48, 1868],\n",
       " [3713, 3714, 3715, 1289, 3716, 803, 140],\n",
       " [3717, 223],\n",
       " [1869, 199, 194, 677, 979],\n",
       " [1290, 1870, 50, 3718, 5, 804, 125, 48, 3719],\n",
       " [1854, 439, 220, 1285, 19, 1855, 1856],\n",
       " [1871, 226, 302, 48, 1872, 512],\n",
       " [1873, 1291, 8],\n",
       " [3720, 597, 1292, 3721, 980, 3722, 981, 3723, 48],\n",
       " [971, 8, 298, 586, 1847, 1848, 50, 3, 1849, 590, 8, 1850],\n",
       " [2, 8, 86, 3724, 168],\n",
       " [982, 1293, 3725, 167, 1294, 3726, 983],\n",
       " [1874, 325, 1295, 194, 805, 6, 176, 3727, 3728, 3729, 979, 677],\n",
       " [3730, 166, 102, 3731, 324, 3732, 51, 3733, 357, 3734, 109, 102],\n",
       " [801, 16, 16],\n",
       " [16, 85, 85, 16, 74, 1875, 2, 1876, 99],\n",
       " [983, 3735, 1877, 48, 3736, 326, 1, 3737, 126, 3738, 446, 3739, 3740],\n",
       " [174, 16, 8, 154, 9, 3741, 3742, 10, 9, 598],\n",
       " [594, 353, 299, 99, 79, 299, 1853, 99],\n",
       " [2, 2, 2, 16, 99, 1833],\n",
       " [3743, 222, 984, 3744, 513, 984, 806, 269, 115, 985, 984, 139, 3745],\n",
       " [8, 298, 3746, 166, 3747, 439, 3748],\n",
       " [39, 101, 155, 1878, 447, 71],\n",
       " [1879, 1880, 1881, 807, 1882, 114, 23, 200, 48],\n",
       " [107, 1296, 514, 358, 64, 678, 1297, 1883, 48, 83, 35, 8],\n",
       " [1861, 676, 179, 397, 1862, 13, 1863],\n",
       " [3749, 1884, 679, 1298, 3750, 141, 119],\n",
       " [3751, 3752, 65],\n",
       " [16, 4, 327, 16, 3753, 3754],\n",
       " [398, 270, 165, 71],\n",
       " [394, 395],\n",
       " [3755, 680, 986, 223, 221],\n",
       " [599, 271, 2, 3756, 3757, 1299, 196, 3758, 224, 3759],\n",
       " [323, 156, 808, 808, 3760, 1300],\n",
       " [1885, 3761, 1886, 3762, 118, 3763, 3764, 3765],\n",
       " [78, 118, 4, 673, 248, 3, 78, 248, 1846],\n",
       " [3766, 2, 45, 681, 809],\n",
       " [1887, 810, 987, 988, 175, 1, 392, 71, 1301, 221, 195],\n",
       " [3767, 600, 399, 1888, 1869, 5, 194, 326, 38, 18],\n",
       " [669, 1828, 118, 669, 3768],\n",
       " [3769, 1889, 682, 6, 48, 157],\n",
       " [1824, 439, 220, 84, 321, 1825, 1826],\n",
       " [3770, 3771, 3772, 65],\n",
       " [12, 515, 219, 516, 2, 35, 353, 989, 74, 683, 8],\n",
       " [8, 156, 3773, 3774, 1890, 245, 990, 249, 245, 1877, 41, 3775, 3776],\n",
       " [152, 219, 35, 297, 35],\n",
       " [1820, 2, 1821, 504, 267, 43, 18],\n",
       " [3777, 1302, 196, 440, 1891],\n",
       " [3778, 8, 590, 596],\n",
       " [1827, 8, 298, 348, 3, 2, 1277, 590, 16],\n",
       " [601, 106, 3779, 303, 1303, 3780, 196],\n",
       " [1892, 517, 180, 1893, 48, 991],\n",
       " [328, 174, 516, 1894, 3781, 142, 598],\n",
       " [140, 3782, 3783, 3784, 3785, 357, 811, 3786, 518, 3787, 3788, 3789],\n",
       " [3790, 3791, 48],\n",
       " [812, 227, 83, 519, 813, 18],\n",
       " [1895, 672, 992, 36, 993, 684],\n",
       " [3792, 685, 201, 448, 304],\n",
       " [1887, 810, 987, 988, 175, 1, 392, 71, 1301, 221],\n",
       " [3793, 449, 305, 140, 126],\n",
       " [1896, 151, 181],\n",
       " [3794, 3795, 118, 3],\n",
       " [3796, 1304, 12, 1, 520, 194],\n",
       " [3, 1897, 511, 272, 1305, 1306, 1898, 8, 1899],\n",
       " [3797, 3798, 3799, 3800, 3801, 3802, 3803, 118, 3],\n",
       " [994, 805, 1900, 246, 3804, 194],\n",
       " [194, 1901, 994, 677],\n",
       " [3, 140, 3805, 103, 3806],\n",
       " [1902, 1903, 995, 1904, 686, 1, 63],\n",
       " [3807, 520, 1307, 1905, 10, 521, 215, 1308, 3808, 1906, 3809, 166],\n",
       " [326, 3, 1907, 1278, 270],\n",
       " [3810, 1908, 3811, 1309, 175],\n",
       " [218, 3812, 3813, 3814, 3815, 3816, 3817, 3818, 3819, 3820],\n",
       " [1909, 602, 1910, 132, 168, 682, 198, 1911, 16, 177, 79],\n",
       " [1912, 228, 1913, 327, 1914],\n",
       " [1871, 226, 302, 1872, 512],\n",
       " [1915, 3821, 5, 3822, 3823, 1916, 41, 166, 3824],\n",
       " [3825, 3826, 3827, 3828, 3829, 48, 3830, 1310],\n",
       " [6, 13, 12, 20, 1917, 24],\n",
       " [1918, 3831, 1, 223],\n",
       " [3832, 3833, 3834, 82, 141, 193, 687, 306],\n",
       " [3835, 3836, 140, 400, 688, 3837, 156, 16, 3838, 3839, 3840],\n",
       " [810, 1919, 814, 229, 166],\n",
       " [996, 8, 16, 3841],\n",
       " [3842, 401, 130, 307, 443, 140, 3843, 3844, 273],\n",
       " [5, 359, 1920, 444, 1307, 132, 1311, 997, 78, 65, 132, 603],\n",
       " [84, 3845, 3846, 75, 48, 802],\n",
       " [3847, 1921, 79],\n",
       " [85, 522, 450, 689, 45],\n",
       " [3848, 3849, 356, 966, 214, 815, 1312, 3850, 78, 3851, 3852, 3853],\n",
       " [274, 998, 3854, 3855, 3856, 690, 1, 165, 3857, 1, 4, 196],\n",
       " [1922, 1313, 130, 1923, 308, 1924, 1925, 194, 1926],\n",
       " [3858, 3859, 16, 3860],\n",
       " [816, 999, 3, 1927],\n",
       " [6, 13, 12, 20, 1928, 24],\n",
       " [1000, 1929, 402, 195, 9, 2, 604, 3861, 1001, 51, 1929],\n",
       " [357, 16],\n",
       " [1314, 39, 194, 1930],\n",
       " [1931, 1315, 1932, 48],\n",
       " [3862, 3863, 1316, 360, 275, 18, 2],\n",
       " [361, 691, 329, 1933, 5, 817, 79, 691, 1934, 1935, 18],\n",
       " [127, 35, 79, 1317],\n",
       " [1931, 1315, 1932],\n",
       " [2, 1936, 1937, 1938, 1939, 8, 1, 1318, 1, 689, 1940, 8, 1002],\n",
       " [6, 13, 12, 20, 1941, 38, 24],\n",
       " [3864, 1319, 230, 248, 45, 3865, 3866],\n",
       " [3867, 224, 10, 5, 510, 1003, 8, 692, 3868],\n",
       " [1942, 1943, 1944, 1320, 48],\n",
       " [84, 1945, 1946, 48, 1947],\n",
       " [3869, 1948, 451, 3870, 693, 3871, 202, 79],\n",
       " [8, 45],\n",
       " [3872, 3873, 276, 1321, 1949, 48],\n",
       " [1950, 215],\n",
       " [38, 818, 200, 819, 277, 589, 586],\n",
       " [1860, 64, 605],\n",
       " [3874, 3875, 983, 606, 140],\n",
       " [3876, 1951, 174, 3877, 604, 689, 820, 3878, 3879, 192, 694, 3880],\n",
       " [131, 10, 452, 41, 118, 220, 1322, 3881],\n",
       " [3882, 228, 692, 214, 3883],\n",
       " [1323, 1952, 1953, 1954, 1004, 48],\n",
       " [178, 39, 3884, 1, 228, 3885, 3886, 3887],\n",
       " [3888, 3889, 607, 1915, 119, 223],\n",
       " [515, 3890, 608, 45, 3, 3891, 3892, 3893],\n",
       " [3894, 3895, 1324, 114, 1955, 1005, 10, 166],\n",
       " [1896, 151, 181, 45],\n",
       " [7, 84, 65, 23, 1956, 65, 1957],\n",
       " [3896, 1958, 84, 609, 3897, 3, 3898, 97, 3899],\n",
       " [275, 275, 326, 128, 453, 821],\n",
       " [403, 1006, 678, 1959, 85, 3, 1325, 1960, 1961, 523, 1006, 16, 1294],\n",
       " [1962, 139, 139, 453, 128, 1007, 524, 143, 182, 3900],\n",
       " [812, 227, 83, 519, 18, 813],\n",
       " [6, 13, 12, 20, 1963, 38, 24],\n",
       " [3901, 167, 3902, 822, 3903, 454, 3904, 3905],\n",
       " [3906, 1326, 3907, 3908, 525, 3909, 1964, 3910, 214],\n",
       " [455, 1008, 3911, 201, 3912, 3913, 3914, 1327, 3915],\n",
       " [355, 1965, 3916, 821, 456, 275],\n",
       " [124, 24, 3917, 38, 3918],\n",
       " [3919, 45],\n",
       " [1009,\n",
       "  3920,\n",
       "  3921,\n",
       "  3922,\n",
       "  274,\n",
       "  118,\n",
       "  3923,\n",
       "  3924,\n",
       "  3925,\n",
       "  97,\n",
       "  3926,\n",
       "  203,\n",
       "  1328,\n",
       "  610,\n",
       "  2],\n",
       " [41, 823, 56, 79, 3, 17],\n",
       " [225],\n",
       " [166, 404, 1010, 3927, 3928],\n",
       " [3929, 824, 8, 109, 3930],\n",
       " [126, 1329, 1966, 278, 1, 9, 1, 92, 118, 1],\n",
       " [3931, 35, 405, 973, 611, 3932, 612],\n",
       " [3933, 3934, 141],\n",
       " [3935, 3936, 1967, 3937, 3938, 3939, 3940, 362, 362, 167, 215],\n",
       " [8],\n",
       " [1968, 1969, 1970, 1971],\n",
       " [124, 326, 1972, 1973, 1011, 1330, 1974, 1975, 16, 1976],\n",
       " [98, 75, 231, 1331, 131, 23, 1332, 8],\n",
       " [1977, 1333, 214, 3],\n",
       " [1334, 804, 276, 140, 399],\n",
       " [3941, 1335, 526, 983, 447, 3942, 7, 204, 1336, 1337, 454, 363],\n",
       " [812, 227, 83, 519, 813, 18],\n",
       " [810, 1919, 814, 229],\n",
       " [330, 21, 48],\n",
       " [85, 522, 450, 689],\n",
       " [6, 13, 12, 20, 1978, 38, 24],\n",
       " [3943, 50, 3, 16, 450, 124, 3944],\n",
       " [3945, 1979, 141],\n",
       " [330, 48],\n",
       " [167, 18, 169, 3, 205],\n",
       " [3946, 3947, 602, 1012, 1013, 3948],\n",
       " [1980, 406, 3949, 48, 63],\n",
       " [812, 227, 83, 519, 813, 18],\n",
       " [1902, 1903, 995, 1904, 686, 1, 63, 8],\n",
       " [3950, 3951, 1338, 170, 198],\n",
       " [3952, 1981, 178, 355],\n",
       " [1339, 1014, 8],\n",
       " [825, 1981, 178],\n",
       " [2, 1936, 1937, 1938, 1939, 8, 1, 1318, 1, 689, 1940, 1002],\n",
       " [303, 303, 1015, 75, 48],\n",
       " [3953, 194],\n",
       " [8, 224, 695, 205],\n",
       " [45, 457, 142, 1982, 1983, 142, 193],\n",
       " [794],\n",
       " [16, 458],\n",
       " [1984, 131, 349, 1985, 8],\n",
       " [3954, 3955, 1340, 8, 3956, 8, 129],\n",
       " [84, 3957, 1341, 6, 3958, 218, 3959],\n",
       " [3960, 3961, 1342, 251, 157, 152, 48],\n",
       " [3962, 527, 79, 1343],\n",
       " [223, 1016],\n",
       " [6, 13, 12, 20, 1986, 38, 24],\n",
       " [6, 13, 12, 20, 1987, 38, 24],\n",
       " [6, 13, 12, 20, 1988, 24],\n",
       " [3963, 3964, 3965, 3966, 140, 126, 3967, 1989, 3968],\n",
       " [3969, 1344, 3970, 826, 141, 322],\n",
       " [1990, 1991, 1992, 1, 1993, 1994, 48],\n",
       " [279, 250, 9, 459, 696, 3971, 697, 1345, 1346],\n",
       " [6, 13, 12, 20, 1995, 24],\n",
       " [63, 1996, 698, 141],\n",
       " [279, 250, 9, 459, 696],\n",
       " [3972, 222, 228, 248, 79, 613, 35, 41],\n",
       " [101, 1851, 668],\n",
       " [3973, 3974, 3975, 3976, 1017, 3977, 114, 3978, 397, 167],\n",
       " [1997, 1998, 3979, 3980, 1997, 3981],\n",
       " [1018, 827, 3982, 1347, 225, 3983, 1999, 3984],\n",
       " [6, 13, 12, 20, 1987, 24],\n",
       " [3985, 8],\n",
       " [2, 1348, 3986, 45, 252, 3987, 63],\n",
       " [16, 85, 85, 16, 74, 1875, 16, 2, 1876, 99],\n",
       " [16, 78, 328, 114, 7, 1303, 3988],\n",
       " [3989, 3990, 3991, 356, 3992, 51, 3993, 51, 3994, 396, 133, 528, 140],\n",
       " [6, 13, 12, 20, 1349, 2000, 38, 24],\n",
       " [828, 270, 10, 597],\n",
       " [611, 614, 460, 1019],\n",
       " [6, 13, 12, 20, 2001, 38, 24],\n",
       " [6, 13, 12, 20, 2002, 38, 24],\n",
       " [2003, 3, 2004, 364, 7, 829, 615, 1020, 2005, 2006, 196],\n",
       " [1350, 218, 278, 2007, 3995, 3996, 461],\n",
       " [331, 2008, 1021, 1022, 452, 2009, 2010, 326, 2011],\n",
       " [1912, 228, 1913, 327, 1914, 195],\n",
       " [6, 13, 12, 20, 2012, 38, 24],\n",
       " [91, 461, 2013, 57, 140, 616],\n",
       " [2014, 440, 182, 72, 972, 2015, 830],\n",
       " [3997, 141, 3998, 3999, 4000],\n",
       " [6, 13, 12, 20, 2016, 38, 24],\n",
       " [1950, 215, 45],\n",
       " [2014, 440, 182, 72, 972, 2015, 830, 65],\n",
       " [1922, 1313, 130, 1923, 308, 1924, 1925, 1926],\n",
       " [816, 999, 3, 1927, 175],\n",
       " [6, 13, 12, 20, 2017, 24],\n",
       " [4001, 392, 1023, 223, 4002, 8, 529],\n",
       " [1873, 1291],\n",
       " [6, 13, 12, 20, 2018, 24],\n",
       " [4003, 178, 1351, 831, 1352, 1352],\n",
       " [4004, 2019, 225, 604, 2020, 2021],\n",
       " [4005, 51, 804, 140],\n",
       " [37, 195, 4006, 4007, 1285, 280, 1343, 4008, 4009, 158, 1, 2022],\n",
       " [1024, 4010, 16, 151, 197, 4011, 530, 2023, 218, 832, 4012],\n",
       " [281, 300, 309, 332, 331, 617, 407, 699, 618, 195],\n",
       " [6, 13, 12, 20, 2024, 38, 24],\n",
       " [6, 13, 12, 20, 1963, 24],\n",
       " [4013, 8, 700],\n",
       " [4014, 408, 2025, 156, 232, 365],\n",
       " [4015, 282, 123, 178, 833],\n",
       " [4016, 701, 4017, 4018, 225, 4019, 4020, 4021],\n",
       " [6, 13, 12, 20, 1988, 38, 24],\n",
       " [1025, 1026, 1353, 4022, 702, 4023, 4024, 4025, 167],\n",
       " [4026, 2026, 354, 1354, 806],\n",
       " [4027, 127, 409, 4028, 703, 48, 1355, 4029, 4030],\n",
       " [273, 166],\n",
       " [4031, 4032, 4033, 183, 447],\n",
       " [6, 13, 12, 20, 1995, 38, 24],\n",
       " [4034, 174, 613, 834, 1007, 4035, 16, 4036, 4037, 4038, 619, 2027],\n",
       " [6, 4039, 4040, 4, 76, 4041, 195],\n",
       " [130, 156],\n",
       " [167, 1857, 4042, 114, 2028, 1025, 4043],\n",
       " [6, 13, 12, 20, 1986, 24],\n",
       " [12, 515, 219, 516, 2, 35, 353, 989, 74, 683],\n",
       " [156, 206, 2029, 1027, 1356, 4044, 1336, 333],\n",
       " [6, 13, 12, 20, 2012, 24],\n",
       " [4045, 332, 4046, 704, 1357, 1358, 214, 4047],\n",
       " [6, 13, 12, 20, 2030, 24],\n",
       " [705, 1340, 4048, 588, 13, 4049, 156, 706, 828, 4050, 410, 518],\n",
       " [359, 270, 3, 1028, 4051, 224, 107],\n",
       " [6, 13, 12, 20, 1978, 24],\n",
       " [403, 1006, 678, 1959, 85, 3, 1325, 1960, 1961, 523, 1006, 1294],\n",
       " [6, 13, 12, 20, 2031, 24],\n",
       " [1014, 8, 45],\n",
       " [531, 4052, 197, 2032, 4053, 45],\n",
       " [1359, 113, 134, 118, 692, 4054, 4055, 85, 10],\n",
       " [279, 250, 9, 459, 4056, 4057, 4058],\n",
       " [4059, 4060, 835, 115, 404, 679, 141, 215],\n",
       " [5, 359, 1920, 444, 1307, 132, 1311, 997, 78, 132, 603],\n",
       " [1984, 131, 349, 1985],\n",
       " [1029, 4061, 532, 4062, 609, 1360, 2033, 4063, 675],\n",
       " [8, 248, 2034, 10, 178],\n",
       " [279, 250, 9, 459, 696],\n",
       " [118, 2035, 4064, 1, 4065, 349, 4066, 4067, 827, 1361, 49],\n",
       " [4068, 4069, 411],\n",
       " [2036, 1362, 230, 1363, 2037, 48],\n",
       " [4070, 1030, 267, 836, 1364, 2038],\n",
       " [4071, 4072, 4073, 837, 707, 2039, 78, 270, 4074, 2040, 4075],\n",
       " [4076, 139],\n",
       " [6, 13, 12, 20, 2041, 24],\n",
       " [812, 227, 83, 519, 813, 18, 48],\n",
       " [4077, 4078, 1365, 154, 247, 184, 4079],\n",
       " [6, 13, 12, 20, 2018, 38, 24],\n",
       " [4080, 2042, 7, 2043, 16, 225],\n",
       " [6, 13, 12, 20, 1917, 38, 24],\n",
       " [4081, 596, 270],\n",
       " [218, 2044, 35, 4082, 838, 4083, 2045, 4084, 839, 830, 4085],\n",
       " [1879, 1880, 1881, 807, 1882, 114, 23, 200],\n",
       " [4086, 840, 2, 223, 2046],\n",
       " [4087, 4088, 1031, 4089, 4090, 2047, 36, 8, 157, 4091],\n",
       " [708, 2048, 4092, 2049, 216, 4093, 228, 194, 1032, 4094, 153],\n",
       " [361, 691, 329, 1933, 5, 817, 691, 1934, 1935, 18],\n",
       " [4095, 709, 223],\n",
       " [6, 13, 12, 20, 1928, 38, 24],\n",
       " [1015, 841, 2050, 2051, 992, 2052, 841, 1033, 214, 2053, 2054, 2055],\n",
       " [279, 250, 9, 459, 696, 462, 2056],\n",
       " [331, 2008, 1021, 1022, 452, 2009, 2010, 326, 118, 2011],\n",
       " [4096, 4097, 1366, 72, 2027, 140, 2057, 454, 975, 4098],\n",
       " [7, 84, 65, 23, 1956, 1957],\n",
       " [2058, 451, 1367, 45, 2059, 63],\n",
       " [4099, 9, 9, 609, 4100, 2060, 620, 64, 1034],\n",
       " [4101, 710, 4102, 6, 4103, 515, 710, 411, 144, 225, 458],\n",
       " [196, 274, 463, 464, 1024, 1035, 232, 10, 4104],\n",
       " [4105, 229, 608, 16, 4106],\n",
       " [310, 107, 4107, 4108, 412, 597, 270, 326, 4109],\n",
       " [355, 6, 509, 176, 5, 177, 1852],\n",
       " [6, 13, 12, 20, 1941, 24],\n",
       " [6, 13, 12, 20, 1349, 2000, 24],\n",
       " [1968, 1969, 1970, 1971, 354],\n",
       " [2061, 2062, 2063, 2, 533, 48, 2064],\n",
       " [6, 13, 12, 20, 2017, 38, 24],\n",
       " [2019, 225, 604, 2020, 2021],\n",
       " [4110, 1368, 447, 83, 534, 349, 100],\n",
       " [2065, 2066, 2067, 465, 392, 2068],\n",
       " [127, 842, 55, 2069, 221, 74, 843, 1036],\n",
       " [4111, 159, 4112, 166, 688],\n",
       " [6, 13, 12, 20, 2070, 24],\n",
       " [6, 13, 12, 20, 2071, 38, 24],\n",
       " [6, 13, 12, 20, 2030, 38, 24],\n",
       " [1895, 672, 992, 36, 993, 167, 684],\n",
       " [38, 1, 444, 4113, 4114, 4115, 4116],\n",
       " [4117, 110, 5, 223, 1369, 4118],\n",
       " [4119, 523, 184, 4120, 1037, 1299, 12, 4121, 4122, 611, 1370, 10],\n",
       " [4123, 973, 11, 218, 1038, 1371, 82],\n",
       " [4124, 535, 79, 1372, 1039, 4125],\n",
       " [4126, 1373, 2, 45],\n",
       " [4127, 55, 170, 509, 464, 2072],\n",
       " [98, 75, 231, 1331, 131, 23, 1332],\n",
       " [4128, 4129, 225, 2073, 4130, 4131, 197, 1374, 394, 1040, 413],\n",
       " [4132, 201, 844, 1375],\n",
       " [4133, 41, 2074, 334, 175, 1301],\n",
       " [6, 13, 12, 20, 2031, 38, 24],\n",
       " [4134, 4135, 140, 7, 466, 4136],\n",
       " [6, 13, 12, 20, 2075, 24],\n",
       " [6, 13, 12, 20, 2076, 38, 24],\n",
       " [4137, 2077, 366, 2078, 837, 1376],\n",
       " [65, 1041, 4138, 2079, 4139, 4140],\n",
       " [4141, 4142, 9, 4143],\n",
       " [4144, 796, 836, 84, 4145, 207],\n",
       " [6, 13, 12, 20, 2076, 24],\n",
       " [174, 87, 4146, 4147, 1377, 4148],\n",
       " [4149, 461, 4150, 609, 4151, 21, 143],\n",
       " [2061, 2062, 2063, 2, 533, 2064],\n",
       " [107, 1296, 514, 358, 64, 678, 1297, 1883, 83, 35],\n",
       " [1014, 8],\n",
       " [4152, 332, 1042, 4153, 4154, 218, 4155, 199, 1814],\n",
       " [6, 13, 12, 20, 2080, 38, 24],\n",
       " [4156, 467, 160, 48, 131],\n",
       " [6, 13, 12, 20, 2081, 38, 2082],\n",
       " [4157, 2083, 166, 2084, 711],\n",
       " [2065, 2066, 2067, 465, 392, 2068, 48],\n",
       " [4158,\n",
       "  4159,\n",
       "  1043,\n",
       "  2085,\n",
       "  1378,\n",
       "  4160,\n",
       "  1292,\n",
       "  4161,\n",
       "  4162,\n",
       "  1044,\n",
       "  4163,\n",
       "  845,\n",
       "  1,\n",
       "  1998],\n",
       " [106, 536, 4164, 46, 140, 1, 413, 4165, 233],\n",
       " [4166, 151, 517, 170, 234],\n",
       " [2086, 846, 2087],\n",
       " [4167, 1045, 156, 330, 330],\n",
       " [4168, 4169, 4170, 4171, 214],\n",
       " [4172, 4173, 2088, 2089, 225, 49, 4174, 4175],\n",
       " [6, 13, 12, 20, 2090, 24],\n",
       " [621, 704, 2091, 1046, 45],\n",
       " [2092, 60, 1047, 79],\n",
       " [4176, 613, 359, 622, 159, 847, 141, 1379],\n",
       " [2093, 459, 230, 391, 4177],\n",
       " [45, 457, 142, 1982, 1983, 142, 45, 193],\n",
       " [4178, 167, 848, 4179, 537, 530, 4180],\n",
       " [247, 279, 2094, 348, 2095, 2096],\n",
       " [2086, 846, 2087, 170],\n",
       " [849, 1380, 16, 4181, 849, 3, 1380, 16, 4182, 166, 4183, 4184],\n",
       " [1339, 1014, 8, 45],\n",
       " [6, 13, 12, 20, 2002, 24],\n",
       " [414, 4, 283, 2097, 1381, 18, 200, 1382, 284, 2098],\n",
       " [4185, 4186, 618, 4187, 4188, 511, 79, 177],\n",
       " [4189, 4190, 4191, 850, 513, 1048, 214],\n",
       " [6, 13, 12, 20, 2071, 24],\n",
       " [6, 13, 12, 20, 2001, 24],\n",
       " [124, 91, 50, 218, 10, 1383],\n",
       " [196, 415, 177, 41, 671, 273],\n",
       " [6, 13, 12, 20, 2075, 38, 24],\n",
       " [6, 13, 12, 20, 2024, 24],\n",
       " [4192, 4193, 18, 201, 2099],\n",
       " [4194, 4195, 247, 273, 99],\n",
       " [4196, 65, 65, 65, 65, 65, 65, 11, 11, 11, 4197],\n",
       " [6, 13, 12, 20, 2016, 24],\n",
       " [6, 13, 12, 20, 2070, 38, 24],\n",
       " [201, 4198, 2100, 2101, 2102, 2103, 2104],\n",
       " [174, 4199, 4200, 132, 41, 1384],\n",
       " [4201, 597, 270, 326, 4202, 2105],\n",
       " [279, 250, 9, 459, 696, 462, 2056],\n",
       " [247, 279, 2094, 348, 2095, 2096, 4203, 416, 4204],\n",
       " [271, 335, 1372, 851, 79, 538, 852],\n",
       " [4205, 4206, 4207, 1332, 534, 170, 367, 2106, 4208, 145],\n",
       " [185, 2107, 2108, 2109, 1385, 5],\n",
       " [4209, 1948, 9, 2110, 141],\n",
       " [853, 987, 2097, 4210, 972, 4211, 4212],\n",
       " [522, 4213, 4214, 247, 4215],\n",
       " [4216, 332, 4217, 854, 1386, 679, 354, 4218],\n",
       " [229, 367, 2111, 170, 2112],\n",
       " [185, 2107, 2108, 2109, 1385, 5, 45],\n",
       " [2113, 84, 1369, 1049, 8, 298],\n",
       " [1323, 1952, 1953, 1954, 1004],\n",
       " [4219, 83, 1029, 820, 855, 1050, 45],\n",
       " [55, 87, 4, 539, 16, 139],\n",
       " [2114, 2, 1051, 856, 16],\n",
       " [4220, 4221, 176, 156],\n",
       " [611, 614, 460, 1019, 4222, 4223, 4224],\n",
       " [4225, 1382, 71, 354, 596],\n",
       " [540, 25, 331, 8, 1387],\n",
       " [390, 125, 4226, 37, 4227, 4228, 4229, 4230, 4231, 4232],\n",
       " [2115, 155, 2116, 8, 4233, 2117, 1, 623, 4234, 4235, 2118, 2119, 836, 1364],\n",
       " [175, 4236, 175, 4237, 4238, 4239],\n",
       " [4240, 1388, 4241, 2120, 4242, 4243, 247, 1894, 2121],\n",
       " [2113, 84, 1369, 1049, 298],\n",
       " [4244, 4245, 101, 850, 118],\n",
       " [4246, 285, 699, 4247, 4248, 38, 541, 154],\n",
       " [1389, 1279, 201, 249, 857, 1328, 4249, 4250, 1279],\n",
       " [101, 2122, 966, 214],\n",
       " [4251, 139],\n",
       " [4252, 4253, 86, 135, 1, 118, 624, 4254, 4255],\n",
       " [6, 13, 12, 20, 2090, 38, 24],\n",
       " [4256, 2100, 2101, 2102, 2103, 2104, 286, 201, 233, 283, 2123, 468],\n",
       " [4257, 4258, 131, 141, 91, 4259, 353],\n",
       " [4260, 4261, 141, 4262, 414],\n",
       " [456, 29, 858, 1390, 1391, 8, 10, 469, 45, 2],\n",
       " [2124, 542, 4263, 1, 1392, 1393, 402, 4264, 1, 368, 2093, 2125],\n",
       " [286, 701, 1041, 63, 2126],\n",
       " [4265, 123, 50, 174],\n",
       " [1052, 4266, 859, 79, 4267, 4268, 4269],\n",
       " [4270, 4271, 860, 712, 195, 1394, 1395],\n",
       " [4272, 296, 118, 4273, 50],\n",
       " [4274, 2127, 2128, 175, 5, 4275, 4276, 1396],\n",
       " [4277, 333, 55, 79],\n",
       " [3, 1897, 511, 272, 1305, 1306, 1898, 1899],\n",
       " [287, 523, 1053, 201, 249, 4278, 4279, 713],\n",
       " [2129, 2130, 132, 2131, 369, 45, 2132],\n",
       " [357],\n",
       " [469, 625, 2133, 825, 2134, 74],\n",
       " [4280,\n",
       "  170,\n",
       "  4281,\n",
       "  4282,\n",
       "  4283,\n",
       "  4284,\n",
       "  4285,\n",
       "  4286,\n",
       "  370,\n",
       "  4287,\n",
       "  2135,\n",
       "  543,\n",
       "  4288,\n",
       "  4289],\n",
       " [4290, 459, 4291, 4292, 1397, 4293, 4294, 4295, 4296],\n",
       " [964, 714, 144, 1, 2136, 179, 1398, 1, 195, 2137],\n",
       " [4297, 140, 532, 4298, 30, 75, 2138, 390],\n",
       " [2139, 1399, 5, 65],\n",
       " [174, 87, 1317, 715, 826, 406, 2140, 2141, 279, 1400, 1401, 1402, 407],\n",
       " [6, 13, 12, 20, 2081, 2082],\n",
       " [174, 87, 1317, 715, 826, 406, 2140, 1377],\n",
       " [4299, 4300, 366],\n",
       " [4301, 251, 1403, 65],\n",
       " [84, 1945, 1946, 1947],\n",
       " [7, 65, 253, 544, 2, 136],\n",
       " [456, 29, 858, 1390, 1391, 10, 469, 2],\n",
       " [964, 714, 144, 1, 2136, 179, 1398, 1, 2137],\n",
       " [65],\n",
       " [4302, 167, 1404, 4303, 4304],\n",
       " [18, 466, 545, 470, 4305, 119, 701, 4306, 196, 471],\n",
       " [4307, 103, 139],\n",
       " [621, 704, 2091, 1046],\n",
       " [2142, 1905, 716, 4308, 1405, 4309, 175, 402],\n",
       " [4310, 2143, 203, 247, 2144, 1406],\n",
       " [4311, 472, 4312, 178, 4313],\n",
       " [4314, 4315, 18, 4316, 4317, 235, 2145, 4318, 139, 2145],\n",
       " [4319, 717, 2146, 4320, 65],\n",
       " [416, 718, 196, 1023, 2147, 4321, 245, 546],\n",
       " [4322, 194, 805, 861, 143, 4323, 603, 92],\n",
       " [1368, 626, 471, 627, 1, 16, 4324, 4325, 445, 1401],\n",
       " [473, 311, 4326, 628, 37, 4327, 1407, 38, 628],\n",
       " [6, 13, 12, 20, 2080, 24],\n",
       " [1892, 517, 180, 1893, 991],\n",
       " [4328, 1408, 1045, 38],\n",
       " [286, 4329, 82, 335, 4330, 593, 3, 4331, 225, 678],\n",
       " [4332, 111, 247, 4333, 371, 719, 4334],\n",
       " [286, 701, 1041, 63, 2126, 45],\n",
       " [4335, 4336, 417, 2148, 37, 4337, 141, 282, 77, 6, 862, 179, 18],\n",
       " [336, 193, 4338, 194, 106, 1, 93, 5, 4339],\n",
       " [4340, 139],\n",
       " [198, 140, 1409, 536, 474, 372, 2149, 1054, 2150],\n",
       " [4341, 1055, 679, 547, 8],\n",
       " [815, 4342, 447, 7, 23, 4343, 4344, 157, 4345, 4346],\n",
       " [228, 366, 4347],\n",
       " [1410, 611, 819, 1411, 222],\n",
       " [2151, 38, 4348],\n",
       " [5, 2152, 1412, 4349, 55, 1056, 546, 4350, 548, 366],\n",
       " [2153, 175, 287],\n",
       " [167, 4351, 413, 4352],\n",
       " [127, 842, 55, 4353, 221, 74, 45, 843, 1036],\n",
       " [1290, 65, 55, 177, 65],\n",
       " [394, 4354, 16, 4355],\n",
       " [73, 178, 4356],\n",
       " [2153, 4357, 116, 160, 4358, 65, 4359, 712, 629],\n",
       " [124, 326, 1972, 1973, 1011, 1330, 1974, 1975, 1976],\n",
       " [4360, 4361, 4362, 2154, 214],\n",
       " [4363, 4364, 4365, 4366, 47, 4367, 398, 170, 4368],\n",
       " [2155, 2156, 2155, 2156, 417, 863, 4369, 195],\n",
       " [549, 16],\n",
       " [511, 1864, 1, 1865, 1866, 978, 19, 1867, 1868],\n",
       " [2157, 1413, 16, 2158, 2159],\n",
       " [4370, 1384, 128, 4371, 175],\n",
       " [4372, 1057, 165, 4373, 10, 221, 74, 843, 1036],\n",
       " [4374, 131, 366, 222, 1414, 296, 4375, 1058],\n",
       " [469, 625, 2133, 825, 2134, 45, 74],\n",
       " [4376, 864, 254, 1048, 4377, 4378, 720, 1, 45, 4379, 1415],\n",
       " [4380, 4381, 38, 4382, 2160, 4383, 4384, 1282, 4385, 1416, 358],\n",
       " [4386, 550, 865, 38, 475, 1417, 1059],\n",
       " [4387, 104, 630, 311, 200, 137, 4388, 196, 337],\n",
       " [4389, 255, 304, 296, 1012, 4390, 1418, 4391],\n",
       " [4392, 1060, 1419, 721, 247],\n",
       " [116, 270],\n",
       " [2, 174, 86, 324, 4393, 4394, 866, 2161],\n",
       " [71, 848, 1061, 182, 1061, 459, 722, 4395, 1420, 1062, 4396],\n",
       " [281, 300, 309, 332, 331, 617, 407, 699, 618],\n",
       " [270, 323],\n",
       " [1063, 1365, 2162, 504, 195, 4397, 4398, 4399, 396, 4400],\n",
       " [3, 144, 178, 41, 540, 1421, 710, 551, 446, 178, 41],\n",
       " [4401, 77, 2, 254, 178],\n",
       " [124, 4402, 2, 4403, 4404, 4405, 4406, 626, 13, 16, 2163, 4407],\n",
       " [4408, 2164, 226, 270, 18, 476, 19, 2164, 418, 234, 206, 180],\n",
       " [4409, 605, 3, 4410, 605, 1422],\n",
       " [821, 275, 595, 1064, 526, 2165, 2165, 16],\n",
       " [4411, 631, 354],\n",
       " [2157, 1413, 2158, 2159],\n",
       " [4412, 1423, 1282, 218, 599, 4413, 4414, 64, 233],\n",
       " [4415, 45, 208, 4416],\n",
       " [1065, 2, 632, 364, 2166, 2167, 2168, 221, 175],\n",
       " [2169, 2169, 1066, 4417, 4418, 1067, 410, 245, 1424, 810, 1303, 156, 1068],\n",
       " [127, 842, 55, 2069, 221, 74, 45, 843, 1036],\n",
       " [52, 1425, 370, 155, 16, 6, 4419, 12, 1021],\n",
       " [2170, 195, 195, 2170],\n",
       " [4420, 99, 99, 156, 182, 1426],\n",
       " [1300, 4421, 178, 1300, 1427, 4422],\n",
       " [4423, 201, 249, 197, 3],\n",
       " [4424, 170, 4425, 507, 820, 4426, 2171, 363],\n",
       " [4427, 5, 6, 4428, 4429, 1069, 23, 457, 218, 4430, 4431],\n",
       " [4432, 4433, 4434, 4435, 178, 1070, 4436, 104, 215],\n",
       " [73, 1071, 97, 419, 246, 167],\n",
       " [4437, 2172, 328, 795, 174, 2173, 2046, 7, 4438],\n",
       " [144, 2174, 247, 4439, 867, 373, 2175, 4440],\n",
       " [4441, 1406, 36, 2089, 225, 183, 136, 4442, 4443],\n",
       " [5, 141, 4444],\n",
       " [2176, 2177, 21, 2178, 2179, 1072, 130, 156, 2180, 2181],\n",
       " [167, 75],\n",
       " [524, 39, 4445, 308, 4446, 2182, 79, 39],\n",
       " [4447, 4448, 146, 2183, 609, 126, 233, 1401, 126, 4449],\n",
       " [2184, 192, 85, 2185, 868, 45],\n",
       " [2, 252, 167, 2186, 4450, 2187, 2188, 4451, 1043],\n",
       " [4452, 4453, 4454, 1428, 2189, 170, 1428, 4455, 552, 613],\n",
       " [2190, 195, 538, 4456, 1073],\n",
       " [4457, 4458, 50, 354, 365, 1891, 248, 2079, 4459, 134, 420],\n",
       " [156, 329, 2191, 2192, 274, 1074],\n",
       " [437, 195, 136, 9, 723, 1065, 1075, 9],\n",
       " [4460, 366, 29, 160, 1076, 544, 2193, 2194, 4461],\n",
       " [4462, 4463, 4464, 200, 170, 2195, 49],\n",
       " [2196, 178],\n",
       " [2196],\n",
       " [4465, 605, 332, 4466, 4467],\n",
       " [4468, 4469, 336, 65, 4470, 179, 4471, 633, 97],\n",
       " [1429, 2197, 2198, 869, 247, 279, 2199, 2200],\n",
       " [4472, 38, 303, 1430],\n",
       " [4473, 4474, 4475, 2201, 38],\n",
       " [2176, 2177, 21, 2178, 2179, 1072, 130, 2180, 2181],\n",
       " [254, 710, 167, 147, 4476, 1077, 4477],\n",
       " [1078, 4478, 4479, 4480, 1392, 4481],\n",
       " [4482, 4483, 4484, 1431],\n",
       " [4485, 2202, 338, 365, 4486, 354, 1001, 4487],\n",
       " [4488, 366, 553, 351, 2203],\n",
       " [4489, 4490, 366, 2204, 634, 4491, 4492, 1079, 619],\n",
       " [507, 1432, 252, 448, 1433, 4493, 1434, 184, 223],\n",
       " [156, 4494, 4495],\n",
       " [4496, 374, 2160, 609],\n",
       " [58, 4497, 194, 4498, 4499, 2205, 6],\n",
       " [4500, 65, 179, 6, 4501],\n",
       " [4502, 1080, 166, 544, 4503, 542, 1384],\n",
       " [421, 4504, 296, 4505, 2206, 139, 4506],\n",
       " [4507, 158, 223],\n",
       " [457, 214, 724, 4, 220, 4508],\n",
       " [4509, 4510, 5, 605],\n",
       " [4511, 352, 178, 4512, 4513, 136, 312],\n",
       " [4514, 322, 77, 36, 2207, 2207, 175],\n",
       " [1909, 602, 1910, 132, 168, 682, 198, 1911, 16, 177],\n",
       " [4515, 4516, 445, 507, 375, 1435, 208, 209, 4517],\n",
       " [1429, 2197, 2198, 869, 247, 279, 2199, 2200],\n",
       " [4518, 4519, 12, 10, 4520, 605, 4521, 4522, 10],\n",
       " [6, 13, 12, 20, 2041, 38, 24],\n",
       " [2208, 288, 235, 870, 334, 10, 45],\n",
       " [4523, 607, 1081, 4524, 2116, 65, 4525],\n",
       " [1082, 1319, 8, 4526],\n",
       " [464, 4527, 4528, 256, 65, 871, 464, 4529, 200, 4530],\n",
       " [82, 1083, 4531, 141, 1436, 1083, 4532],\n",
       " [4533, 376, 6, 60, 139],\n",
       " [626, 520, 4534, 4, 2209, 158, 4535, 4536, 4537, 445, 1084],\n",
       " [4538, 275],\n",
       " [],\n",
       " [1437, 1437, 1437, 872, 872, 872, 275, 275, 275, 126],\n",
       " [4539, 366, 335, 145],\n",
       " [2114, 2, 1051, 856],\n",
       " [511, 4540, 635, 845, 441, 4541, 4542, 170, 636],\n",
       " [4543, 275, 845, 4544],\n",
       " [637, 1, 1085, 196, 4545, 310, 339, 4546],\n",
       " [4547, 605, 4548, 477, 4549, 289, 1438, 1439],\n",
       " [4550, 4551, 4552, 290, 354, 1086],\n",
       " [166, 725],\n",
       " [4553, 399, 475, 478, 402, 91, 4554, 65, 726],\n",
       " [2003, 3, 2004, 364, 7, 829, 615, 1020, 2005, 2006],\n",
       " [554, 168, 194, 4555],\n",
       " [328, 873, 4556, 635, 45, 1440, 1441],\n",
       " [2210, 185, 281, 1042, 236, 186, 348, 727, 4557, 4558, 1087, 4559, 4560, 218],\n",
       " [540, 25, 331, 1387],\n",
       " [2036, 1362, 230, 1363, 2037],\n",
       " [226, 849, 4561, 479, 170, 479, 4562],\n",
       " [4563, 4564, 4565, 4566, 2211, 214, 4567, 4568, 728],\n",
       " [230, 82, 480, 4569, 729, 141, 51, 82],\n",
       " [4570, 4571, 481, 2212, 1088, 1059, 4572, 4573, 454, 4574, 167, 4575],\n",
       " [5, 4576, 65, 113, 4577, 422, 2213, 198, 419],\n",
       " [1990, 1991, 1992, 1, 1993, 1994],\n",
       " [2214, 1442, 2215, 1044, 4578, 836, 4579, 4580],\n",
       " [4581, 45],\n",
       " [4582, 1423, 98, 38],\n",
       " [4583, 1012],\n",
       " [4584, 129, 482, 440, 65],\n",
       " [2139, 1399, 5],\n",
       " [4585, 445, 183, 88, 4586, 4587, 4588, 530, 4589],\n",
       " [4590, 4591, 874, 2216, 4592, 4593],\n",
       " [1089, 404, 125, 2217, 71, 2218, 2219, 2220, 270],\n",
       " [41, 875, 2221, 7, 2222, 4594, 366],\n",
       " [1089, 404, 125, 2217, 71, 2218, 2219, 2220],\n",
       " [71, 94, 876, 467, 2223, 45],\n",
       " [4595, 196, 1063, 98, 4596],\n",
       " [270, 291, 39, 1090, 4597, 3],\n",
       " [4598, 139, 4599],\n",
       " [4600, 877, 133, 4601, 2224, 1309],\n",
       " [219, 2225, 1, 1, 1443, 730, 39, 706, 638, 1, 1, 201, 1, 1, 55],\n",
       " [4602, 128, 1091, 35, 2226, 253, 4603, 196],\n",
       " [365, 3, 366, 4604, 4605, 4606, 4607],\n",
       " [4608, 1444, 447, 99, 423, 1445],\n",
       " [1942, 1943, 1944, 1320],\n",
       " [2208, 288, 235, 870, 334, 10],\n",
       " [1065, 2, 632, 364, 2166, 2167, 2168, 221],\n",
       " [4609, 2227, 1446, 175, 1446, 1446, 424, 154],\n",
       " [2228, 2229, 23, 45],\n",
       " [670, 4610, 670, 148, 170, 2230, 670, 2231],\n",
       " [1015, 841, 2050, 2051, 992, 2052, 841, 1033, 2053, 2054, 2055],\n",
       " [878, 79, 31],\n",
       " [4611, 179, 170, 23, 363],\n",
       " [4612, 275],\n",
       " [451, 223, 4613],\n",
       " [1087, 38],\n",
       " [1290, 65, 55, 177],\n",
       " [131, 153, 170, 207, 230, 879, 4614, 483, 4615, 880, 731],\n",
       " [4616, 307, 639, 4617, 2232, 272, 8, 223],\n",
       " [4618, 201, 249, 4619],\n",
       " [135, 834, 79, 365, 692, 480, 732, 244, 591, 4620],\n",
       " [2184, 192, 85, 2185, 868],\n",
       " [4621, 376, 201, 249, 733, 376, 2233, 4622, 1930, 4623, 413],\n",
       " [4624, 1092, 111, 16, 1337, 16, 1337],\n",
       " [4625, 2234, 1447, 1, 619, 2235, 1448, 356, 2234, 4626, 140],\n",
       " [1093, 410, 48, 4627, 443, 4628, 881],\n",
       " [1094, 734, 4629, 1449, 4630, 1, 2236],\n",
       " [78, 611, 4631, 4632, 4633],\n",
       " [229, 367, 2111, 2112],\n",
       " [857, 304, 4634, 1095, 2025, 4635, 2141, 156, 232, 365],\n",
       " [673, 376, 201, 249],\n",
       " [270],\n",
       " [4636, 1450, 4637, 105, 170, 882],\n",
       " [286, 2237, 197, 1017, 1017, 2238, 4638, 170, 4639, 4640, 1296, 2239],\n",
       " [2129, 2130, 132, 2131, 369, 2132],\n",
       " [1451, 2240, 275, 3, 333, 482, 92, 4641, 4642],\n",
       " [2241, 4643, 4644, 1452, 1096, 445, 4645, 425, 43],\n",
       " [4646, 377, 237, 4647, 883, 628, 225, 529, 1453, 2242],\n",
       " [118, 4648, 1454, 675, 609, 640, 118, 4649, 1454, 2243],\n",
       " [2244, 4650, 2245, 1455, 2151, 38, 4651],\n",
       " [87, 2246, 196],\n",
       " [4652, 4653, 4654, 11, 4655, 1097, 615, 4656, 45, 378],\n",
       " [209, 445, 146, 2247, 408, 233, 4657, 47],\n",
       " [4658, 334, 3, 4659, 4660, 177, 174],\n",
       " [141, 51, 4661, 884, 4662],\n",
       " [4663, 2248, 108, 156, 1292, 4664, 4665, 885, 2088],\n",
       " [4666, 2249, 534, 139],\n",
       " [223, 30, 555, 39, 75, 114],\n",
       " [4667,\n",
       "  4668,\n",
       "  1,\n",
       "  4669,\n",
       "  4670,\n",
       "  4671,\n",
       "  1311,\n",
       "  147,\n",
       "  735,\n",
       "  4672,\n",
       "  2214,\n",
       "  156,\n",
       "  4673,\n",
       "  4674],\n",
       " [4675, 17, 45, 4676, 4677],\n",
       " [4678, 2250, 1889, 354, 4679, 2251, 4680, 736, 4681],\n",
       " [4682, 1456, 737, 45, 379, 161, 513, 2252],\n",
       " [4683, 4684, 225, 4685, 238, 391, 4686],\n",
       " [4687, 1457, 9, 21, 196, 4688, 4689, 422, 4690, 2253, 181],\n",
       " [4691, 250, 1094, 225, 1458, 881, 708],\n",
       " [119, 88, 2254, 223, 119, 4692, 471, 380, 120],\n",
       " [131, 65, 137, 549, 123, 107],\n",
       " [98, 63, 139, 26, 3],\n",
       " [4693, 1459, 60, 2255, 218, 2044],\n",
       " [52, 167, 482, 18],\n",
       " [4694, 4695, 556, 1098, 484, 1099, 5, 195, 5],\n",
       " [375, 531, 100, 4696, 225, 4697, 4698, 4699],\n",
       " [4, 160, 31, 174, 160],\n",
       " [4700, 4701, 1460, 4702, 2254, 2256, 886, 738, 2236, 4703, 4704],\n",
       " [4705, 83, 447, 1461, 228, 177, 21, 4706],\n",
       " [4707, 1977, 426, 297, 275, 739, 1091],\n",
       " [445, 517, 1378, 4708, 1275],\n",
       " [201, 2257],\n",
       " [10, 178, 178],\n",
       " [4709, 480, 1012, 136],\n",
       " [16, 2, 2],\n",
       " [4710, 479, 445],\n",
       " [4711, 39, 257, 6, 227, 170, 4712, 403, 2258, 290],\n",
       " [349, 4, 312, 887, 4, 4713, 485, 11, 611, 7],\n",
       " [888, 1462, 486, 201, 2259, 533, 2259],\n",
       " [4714, 1100, 1463, 218, 4715, 2260, 1101, 8, 1102, 1103],\n",
       " [2092, 60, 1047],\n",
       " [187, 8, 98, 1099, 513],\n",
       " [2228, 2229, 23],\n",
       " [3, 4716, 2261, 65],\n",
       " [71, 94, 876, 467, 2223],\n",
       " [4717, 201, 249, 371],\n",
       " [821, 275, 155, 4718],\n",
       " [91, 140, 7, 541],\n",
       " [680, 201, 995, 680, 487],\n",
       " [4719, 247, 1104, 4720, 1105, 1464, 525, 340, 740, 255],\n",
       " [6, 889, 2262, 510, 30, 32, 471, 550, 45],\n",
       " [1465, 2263, 641, 2, 82, 1465, 800, 641, 4, 174],\n",
       " [447, 43, 180, 408, 4721, 129, 1466, 4722, 4723],\n",
       " [65, 506, 4724, 406, 4725, 1467, 2264, 55, 4726, 1, 290],\n",
       " [4727, 4728, 45, 4729, 4730],\n",
       " [2265, 4731, 4732, 447],\n",
       " [4733, 2266, 856, 2267, 1468, 483, 2268, 2269, 154, 4734, 836, 681, 4735],\n",
       " [30, 156, 1, 30, 417],\n",
       " [1455, 377, 373, 17],\n",
       " [1087],\n",
       " [6, 889, 2262, 510, 30, 32, 471, 550],\n",
       " [1469, 1106, 4736, 354, 2270, 4737, 4738, 4739, 4740, 4741, 4742],\n",
       " [4743, 4744, 4745, 4746, 141, 1454, 159, 4, 235, 139, 1097, 147],\n",
       " [2271, 185, 1470, 104, 139, 984, 394],\n",
       " [642, 632, 1392, 1107],\n",
       " [1455, 377, 373, 17, 65],\n",
       " [52, 4747, 2272, 77, 8, 4748],\n",
       " [4, 139, 1287, 51, 1108, 890, 292],\n",
       " [4749, 4750, 196, 371],\n",
       " [9, 1082, 40, 31, 2273, 1109],\n",
       " [46, 361, 127, 77, 235],\n",
       " [11, 2274, 53],\n",
       " [9, 1082, 40, 2273, 1109],\n",
       " [350, 239, 33, 115, 104, 6, 2275, 643],\n",
       " [4751, 7, 253, 53, 105, 4752, 1466, 9],\n",
       " [274, 2276, 2277, 2278, 14, 2279],\n",
       " [2280, 204, 616, 53, 10, 741],\n",
       " [427, 203, 644, 240, 98, 23, 437, 33, 2281, 680, 26],\n",
       " [427, 203, 644, 240, 98, 23, 437, 33, 2281, 680],\n",
       " [4753, 99, 289, 5, 488, 53, 105],\n",
       " [31, 4754, 37, 4755, 4756, 31, 4757],\n",
       " [2282, 46, 2283, 2284, 2285, 2286, 2287],\n",
       " [53, 53, 105, 14, 428, 4758],\n",
       " [113, 258, 711, 46],\n",
       " [303, 11, 1110, 429, 1084, 429, 645, 2288],\n",
       " [31, 370],\n",
       " [4759, 152, 4760, 30, 42],\n",
       " [863, 53, 105, 1471, 31, 2289, 2290, 56, 4761, 371],\n",
       " [4762, 1472, 5, 313, 121, 46],\n",
       " [1473, 1474, 43, 1111, 30, 536, 1475, 66],\n",
       " [55, 4763, 4764, 2291, 14, 134, 2291],\n",
       " [2292, 1112, 2293, 83, 636, 46],\n",
       " [253, 4765, 127, 31, 105, 104, 4766],\n",
       " [891, 111, 4767, 283, 1476, 4, 31, 4768, 241],\n",
       " [443, 2294, 892, 46],\n",
       " [1028, 4769, 5, 633, 524, 31, 554],\n",
       " [4770, 329, 185, 2295, 4771, 157, 1, 1477, 2296, 423, 1113],\n",
       " [303, 11, 1110, 429, 1084, 429, 645, 2288, 643],\n",
       " [403, 2297, 46, 675, 4772, 641],\n",
       " [52, 4, 91, 91, 31],\n",
       " [489, 423, 210, 240, 355],\n",
       " [277, 4773, 135, 13, 412, 4774, 44, 165, 282, 10],\n",
       " [313, 2298, 46],\n",
       " [2282, 2283, 2284, 2285, 2286, 2287],\n",
       " [138, 240, 4775, 18],\n",
       " [2299, 1009, 1, 893, 350, 75, 179, 87, 259],\n",
       " [2300, 2301, 834, 2302, 2303, 2304, 46, 2305, 106],\n",
       " [2306, 2307, 1478, 21, 252, 21, 894, 2308, 557, 742, 2309],\n",
       " [4776, 14, 130, 4777],\n",
       " [3, 633, 72, 46],\n",
       " [2310, 4778, 31, 4779, 510, 4780, 714, 4781, 4782],\n",
       " [4783, 149, 490, 617, 4784, 4785],\n",
       " [104, 4786, 246, 31],\n",
       " [2311, 2312, 2313, 425, 1479, 27, 335, 743, 2314, 2315, 1480],\n",
       " [2316, 468, 644, 116, 42],\n",
       " [2317, 72, 73],\n",
       " [72, 93, 21, 4787, 46],\n",
       " [134, 5, 165, 155, 152, 210, 29, 1114, 4788, 4789, 2318],\n",
       " [128, 239, 73, 4790, 314, 47, 239, 895, 314, 171, 2319, 1481, 4791],\n",
       " [67, 3],\n",
       " [2320,\n",
       "  4792,\n",
       "  743,\n",
       "  44,\n",
       "  105,\n",
       "  558,\n",
       "  726,\n",
       "  2321,\n",
       "  4793,\n",
       "  4794,\n",
       "  4795,\n",
       "  2322,\n",
       "  1989,\n",
       "  1097],\n",
       " [21, 119, 1482, 10, 134, 32, 40, 31, 1483],\n",
       " [4796, 30, 601, 437, 42],\n",
       " [1473, 1474, 43, 1111, 30, 536, 1475],\n",
       " [10, 14, 4797, 75, 1084, 2323, 4798],\n",
       " [4799, 4800, 896, 4801, 12, 2324, 536, 310, 27, 4802],\n",
       " [2299, 1009, 1, 893, 350, 75, 179, 87],\n",
       " [7, 4803, 1457, 46, 18],\n",
       " [88, 14, 314, 27, 1484],\n",
       " [2325, 1074, 1115, 4, 1116, 1334, 4, 2326, 31, 2327],\n",
       " [1117, 236, 136, 30, 2328, 4804, 291, 14, 369, 740],\n",
       " [53, 105, 2329, 101, 101, 1281, 2330, 53],\n",
       " [284, 589, 371, 41, 2331, 1118],\n",
       " [2332, 2333, 2334, 268, 5, 646, 53, 63],\n",
       " [72, 60, 39, 155, 1485, 2335, 1486, 520, 2336, 558],\n",
       " [1119, 305, 897, 2337, 559, 31],\n",
       " [274, 2276, 2277, 2278, 2279],\n",
       " [138, 240, 46, 30, 732, 2, 10],\n",
       " [9, 67, 4805, 2338, 2339],\n",
       " [2340, 2341, 371, 1487, 66],\n",
       " [1488, 9, 26],\n",
       " [2306, 2307, 1478, 21, 252, 21, 894, 2308, 557, 742, 2309, 33],\n",
       " [2342, 1489, 137, 136, 2343, 1120],\n",
       " [4806, 2344, 744, 4807, 4808, 29],\n",
       " [898, 2345, 35, 155, 268, 93, 75],\n",
       " [219, 158, 484, 55, 2346, 484],\n",
       " [1121, 334, 814, 4809, 7, 589, 188, 522],\n",
       " [1490, 355, 259],\n",
       " [46, 1491, 4810],\n",
       " [4811, 46, 2323, 1054],\n",
       " [612, 53, 4812, 469, 639],\n",
       " [93, 224, 4813, 31, 17, 40, 229, 4814],\n",
       " [284, 589, 371, 41, 2331],\n",
       " [4815, 145, 1492, 861, 4816, 2347, 88, 5, 4817, 715, 44, 1122],\n",
       " [37, 46],\n",
       " [4818, 4819, 4820, 4821, 258, 93, 560, 426, 517, 517, 239],\n",
       " [46, 9, 37, 9, 647],\n",
       " [2348, 2349, 337, 899, 1493, 2350],\n",
       " [2348, 2349, 337, 899, 42, 1493, 2350],\n",
       " [561, 2351, 617, 477, 47, 1, 1494, 645, 2352],\n",
       " [4822, 643, 93],\n",
       " [152, 2353, 44, 719, 2354, 2120, 4823, 522, 1123, 1, 1495, 232, 4824, 119],\n",
       " [152, 42, 257, 155, 4825, 5, 562],\n",
       " [4826, 42],\n",
       " [2355, 2356, 1124, 39, 37, 1124, 2357, 31, 1125],\n",
       " [807, 2358, 1126],\n",
       " [219, 648, 2359, 42, 2360, 2361],\n",
       " [807, 2358, 1126, 32],\n",
       " [745, 485, 975, 2362, 4827, 32],\n",
       " [292, 188, 4, 4828, 256, 256, 4829, 14, 10],\n",
       " [4830, 256, 7, 240, 50, 235],\n",
       " [381, 744, 508],\n",
       " [161, 746, 135, 2363, 2364, 2365, 896, 4831, 88, 44, 718, 4832, 4833],\n",
       " [4834, 602, 900, 113, 258, 103, 46],\n",
       " [4835, 29],\n",
       " [1062, 258, 46],\n",
       " [2366, 744, 42, 2367],\n",
       " [93, 1496, 2368, 2369, 2370, 14, 612],\n",
       " [152, 2371, 368, 380, 563, 136, 42, 1034, 1497],\n",
       " [747, 31, 4836],\n",
       " [1498, 564, 98, 210, 725, 98, 110, 2194, 4837, 7],\n",
       " [2372, 886, 648],\n",
       " [381, 1283],\n",
       " [2373, 455, 42],\n",
       " [4838, 110, 4839, 9, 1127, 9, 891],\n",
       " [29, 12],\n",
       " [4840, 66, 2374, 54, 732, 231, 901, 4841, 471, 1, 6, 4842],\n",
       " [219, 648, 2359, 2360, 2361],\n",
       " [132, 748, 1, 4843, 849, 510, 240],\n",
       " [1128, 2375, 997, 252, 1128, 1129, 10, 42],\n",
       " [2311, 2312, 2313, 425, 1479, 335, 743, 2314, 2315, 1480],\n",
       " [1130, 1130, 2376, 2377, 31, 2378, 2379],\n",
       " [491, 627, 3, 2380, 360, 53],\n",
       " [2381, 19, 53],\n",
       " [4844, 145, 255, 27, 492, 4845],\n",
       " [120, 66, 72, 245, 4846, 182, 161, 2382],\n",
       " [4847, 746, 1291, 131, 746, 53],\n",
       " [4848, 4849, 288, 46],\n",
       " [1499, 2383, 1500, 2384, 337, 737, 337, 2385, 42],\n",
       " [92, 30, 259],\n",
       " [4850, 46],\n",
       " [2386, 2387, 4, 161, 487, 161, 4, 14],\n",
       " [4851, 4852, 44, 4853, 97, 4854, 4855, 2388, 4856, 1501, 4857, 136],\n",
       " [4, 2389, 6, 33, 367],\n",
       " [289, 155, 99, 3, 260],\n",
       " [350, 239, 33, 115, 104, 6, 2275],\n",
       " [242, 489, 565, 88, 2390, 271, 902, 161, 1131, 2391, 27],\n",
       " [4858, 4859, 640, 31, 1502, 1078, 649, 745, 256, 282, 396],\n",
       " [4860, 4861, 1132, 18, 9, 32],\n",
       " [113, 258, 711],\n",
       " [103, 3, 304, 2392, 373, 46, 106],\n",
       " [2393, 277, 1133, 2394, 822, 1298, 650, 1134, 2395, 1503, 53],\n",
       " [2396,\n",
       "  4862,\n",
       "  4863,\n",
       "  4864,\n",
       "  4865,\n",
       "  1407,\n",
       "  2397,\n",
       "  4866,\n",
       "  2398,\n",
       "  4867,\n",
       "  44,\n",
       "  747,\n",
       "  561,\n",
       "  4868,\n",
       "  119],\n",
       " [2399, 203, 2400, 404, 2401, 42, 651],\n",
       " [4869, 1504, 4870, 1135, 553, 31, 4871],\n",
       " [2195, 42],\n",
       " [23, 7, 61],\n",
       " [199, 2, 31, 105, 1089, 245, 529],\n",
       " [88, 566, 567, 27, 1136, 1137, 4872, 566, 4873, 27, 565],\n",
       " [44, 2402, 568, 4874, 652, 2403, 4875, 2404, 4876],\n",
       " [205, 4, 835, 73, 92],\n",
       " [2405, 232, 150, 114, 27, 4877, 4878, 1, 861, 4879, 232, 4880, 1492],\n",
       " [561, 2351, 617, 477, 47, 1, 1494, 645, 2352, 46],\n",
       " [273, 510, 53, 1138, 673],\n",
       " [126, 116, 4881, 4882, 39, 26, 119, 50],\n",
       " [4883, 887, 293, 966, 2406, 1421, 643, 2407],\n",
       " [257, 358, 394, 53],\n",
       " [113, 258, 1139, 2408, 94, 46],\n",
       " [4884, 4885, 4886, 33, 153, 643, 136, 749, 153, 42],\n",
       " [4887, 903, 750, 42],\n",
       " [29],\n",
       " [1505, 88, 1140, 2409, 44, 105],\n",
       " [77, 4888, 14, 587],\n",
       " [566,\n",
       "  719,\n",
       "  1131,\n",
       "  4889,\n",
       "  4890,\n",
       "  394,\n",
       "  249,\n",
       "  1495,\n",
       "  27,\n",
       "  861,\n",
       "  145,\n",
       "  43,\n",
       "  1056,\n",
       "  4891,\n",
       "  4892,\n",
       "  4893],\n",
       " [2316, 468, 644, 116],\n",
       " [1425, 1506, 2410, 2411, 31, 2412, 53, 105],\n",
       " [4894, 46, 4895, 19, 91, 100, 1507],\n",
       " [4896, 693, 4897, 1000, 2413, 693, 27],\n",
       " [73, 97, 751, 397],\n",
       " [2414, 301, 1141, 473, 4898, 4899, 4900, 44, 1122, 422, 2415, 39],\n",
       " [4901, 4902, 259, 183, 467, 43, 2416, 267, 382],\n",
       " [1489, 93, 33, 115, 1508, 29, 44, 1509, 2322, 7, 2417, 752, 2417],\n",
       " [1075, 11, 132, 1510, 824, 548, 2418, 154, 42, 2419],\n",
       " [4903, 241, 4904, 831, 895],\n",
       " [1142, 14, 350, 14, 7, 2420, 653],\n",
       " [31, 181],\n",
       " ...]"
      ]
     },
     "execution_count": 52,
     "metadata": {},
     "output_type": "execute_result"
    }
   ],
   "source": [
    "train_sequences = tokenizer.texts_to_sequences(cleaned_train_text)\n",
    "train_sequences"
   ]
  },
  {
   "cell_type": "code",
   "execution_count": 53,
   "id": "b291610d-7c07-4563-afa8-2b3004946473",
   "metadata": {},
   "outputs": [],
   "source": [
    "test_sequences = tokenizer.texts_to_sequences(cleaned_test_text)\n",
    "val_sequences = tokenizer.texts_to_sequences(cleaned_val_text)"
   ]
  },
  {
   "cell_type": "markdown",
   "id": "53f333fc-f039-4265-9fbb-c4abe1ff7032",
   "metadata": {},
   "source": [
    "## Using padding/truncating to make each sequence the same length, as chosen before"
   ]
  },
  {
   "cell_type": "code",
   "execution_count": 54,
   "id": "19f9a963-f24a-4156-bde5-e5dc1adeb247",
   "metadata": {},
   "outputs": [
    {
     "data": {
      "text/plain": [
       "(3613, 14)"
      ]
     },
     "execution_count": 54,
     "metadata": {},
     "output_type": "execute_result"
    }
   ],
   "source": [
    "X_train = pad_sequences(train_sequences, maxlen = int(max_len))\n",
    "X_test = pad_sequences(test_sequences, maxlen = int(max_len))\n",
    "X_val = pad_sequences(val_sequences, maxlen = int(max_len))\n",
    "X_train.shape"
   ]
  },
  {
   "cell_type": "markdown",
   "id": "050666fc-52a9-4088-afdb-d1b2fe57864e",
   "metadata": {},
   "source": [
    "## Creating and compiling a model using tf.keras.Sequential to predict the emotion label from the text. Starting with an embedding layer and building an architecture from dense, LSTM, GRU, bidirectional LSTM or GRU, and dropout layers. Compiling the model using a choice of optimizer, sparse_binary_crossentropy for the loss, and the metric set to accuracy"
   ]
  },
  {
   "cell_type": "code",
   "execution_count": 55,
   "id": "580328af-6545-488d-8d23-e3cb45b1c0f2",
   "metadata": {},
   "outputs": [],
   "source": [
    "embedding_dim = 32 # Embedding dimension for the words\n",
    "num_classes = 4 # Considering the 4 emotion labels we have (anger, fear, joy, sadness)"
   ]
  },
  {
   "cell_type": "code",
   "execution_count": 56,
   "id": "7efa834d-7bd9-48d5-b283-5f842c28b983",
   "metadata": {},
   "outputs": [
    {
     "name": "stderr",
     "output_type": "stream",
     "text": [
      "2024-11-25 11:30:16.556669: I tensorflow/core/common_runtime/pluggable_device/pluggable_device_factory.cc:306] Could not identify NUMA node of platform GPU ID 0, defaulting to 0. Your kernel may not have been built with NUMA support.\n",
      "2024-11-25 11:30:16.557456: I tensorflow/core/common_runtime/pluggable_device/pluggable_device_factory.cc:272] Created TensorFlow device (/job:localhost/replica:0/task:0/device:GPU:0 with 0 MB memory) -> physical PluggableDevice (device: 0, name: METAL, pci bus id: <undefined>)\n",
      "2024-11-25 11:30:17.084950: I tensorflow/core/common_runtime/executor.cc:1197] [/device:CPU:0] (DEBUG INFO) Executor start aborting (this does not indicate an error and you can ignore this message): INVALID_ARGUMENT: You must feed a value for placeholder tensor 'gradients/split_2_grad/concat/split_2/split_dim' with dtype int32\n",
      "\t [[{{node gradients/split_2_grad/concat/split_2/split_dim}}]]\n",
      "2024-11-25 11:30:17.085995: I tensorflow/core/common_runtime/executor.cc:1197] [/device:CPU:0] (DEBUG INFO) Executor start aborting (this does not indicate an error and you can ignore this message): INVALID_ARGUMENT: You must feed a value for placeholder tensor 'gradients/split_grad/concat/split/split_dim' with dtype int32\n",
      "\t [[{{node gradients/split_grad/concat/split/split_dim}}]]\n",
      "2024-11-25 11:30:17.086670: I tensorflow/core/common_runtime/executor.cc:1197] [/device:CPU:0] (DEBUG INFO) Executor start aborting (this does not indicate an error and you can ignore this message): INVALID_ARGUMENT: You must feed a value for placeholder tensor 'gradients/split_1_grad/concat/split_1/split_dim' with dtype int32\n",
      "\t [[{{node gradients/split_1_grad/concat/split_1/split_dim}}]]\n",
      "2024-11-25 11:30:17.153809: I tensorflow/core/common_runtime/executor.cc:1197] [/device:CPU:0] (DEBUG INFO) Executor start aborting (this does not indicate an error and you can ignore this message): INVALID_ARGUMENT: You must feed a value for placeholder tensor 'gradients/ReverseV2_grad/ReverseV2/ReverseV2/axis' with dtype int32 and shape [1]\n",
      "\t [[{{node gradients/ReverseV2_grad/ReverseV2/ReverseV2/axis}}]]\n",
      "2024-11-25 11:30:17.173175: I tensorflow/core/common_runtime/executor.cc:1197] [/device:CPU:0] (DEBUG INFO) Executor start aborting (this does not indicate an error and you can ignore this message): INVALID_ARGUMENT: You must feed a value for placeholder tensor 'gradients/split_2_grad/concat/split_2/split_dim' with dtype int32\n",
      "\t [[{{node gradients/split_2_grad/concat/split_2/split_dim}}]]\n",
      "2024-11-25 11:30:17.173785: I tensorflow/core/common_runtime/executor.cc:1197] [/device:CPU:0] (DEBUG INFO) Executor start aborting (this does not indicate an error and you can ignore this message): INVALID_ARGUMENT: You must feed a value for placeholder tensor 'gradients/split_grad/concat/split/split_dim' with dtype int32\n",
      "\t [[{{node gradients/split_grad/concat/split/split_dim}}]]\n",
      "2024-11-25 11:30:17.174346: I tensorflow/core/common_runtime/executor.cc:1197] [/device:CPU:0] (DEBUG INFO) Executor start aborting (this does not indicate an error and you can ignore this message): INVALID_ARGUMENT: You must feed a value for placeholder tensor 'gradients/split_1_grad/concat/split_1/split_dim' with dtype int32\n",
      "\t [[{{node gradients/split_1_grad/concat/split_1/split_dim}}]]\n"
     ]
    }
   ],
   "source": [
    "# Creating the model\n",
    "initial_model = Sequential()\n",
    "\n",
    "# Embedding layer\n",
    "initial_model.add(Embedding(input_dim = vocab_size, output_dim = embedding_dim, input_length = int(max_len)))\n",
    "initial_model.add(SpatialDropout1D(0.5)) # Adding a spatial dropout of 50%\n",
    "\n",
    "# Bidirectional LSTM Layer (process sequences in both directions)\n",
    "initial_model.add(Bidirectional(LSTM(64)))  # LSTM layer with 64 units\n",
    "initial_model.add(Dropout(0.5))  # Dropout to prevent overfitting\n",
    "\n",
    "# Dense Layer (fully connected layer to output predictions)\n",
    "initial_model.add(Dense(32, activation = 'relu'))  # Dense layer with 32 units\n",
    "\n",
    "# Output layer (four neurons for multi-class classification based on emotion labels we have)\n",
    "initial_model.add(Dense(num_classes, activation = 'softmax'))"
   ]
  },
  {
   "cell_type": "code",
   "execution_count": 57,
   "id": "bb425153-9f21-41d1-a14a-6788c71f97b4",
   "metadata": {},
   "outputs": [
    {
     "name": "stdout",
     "output_type": "stream",
     "text": [
      "Model: \"sequential\"\n",
      "_________________________________________________________________\n",
      " Layer (type)                Output Shape              Param #   \n",
      "=================================================================\n",
      " embedding (Embedding)       (None, 14, 32)            320000    \n",
      "                                                                 \n",
      " spatial_dropout1d (SpatialD  (None, 14, 32)           0         \n",
      " ropout1D)                                                       \n",
      "                                                                 \n",
      " bidirectional (Bidirectiona  (None, 128)              49664     \n",
      " l)                                                              \n",
      "                                                                 \n",
      " dropout (Dropout)           (None, 128)               0         \n",
      "                                                                 \n",
      " dense (Dense)               (None, 32)                4128      \n",
      "                                                                 \n",
      " dense_1 (Dense)             (None, 4)                 132       \n",
      "                                                                 \n",
      "=================================================================\n",
      "Total params: 373,924\n",
      "Trainable params: 373,924\n",
      "Non-trainable params: 0\n",
      "_________________________________________________________________\n"
     ]
    }
   ],
   "source": [
    "# Compiling the model using Adam as optimizer and 'Sparse categorical crossentropy' for integer labels\n",
    "initial_model.compile(optimizer = 'rmsprop', loss = 'sparse_categorical_crossentropy', metrics = ['accuracy'])\n",
    "\n",
    "# Printing model summary to verify architecture\n",
    "initial_model.summary()"
   ]
  },
  {
   "cell_type": "markdown",
   "id": "52904d51-9cb7-4327-bc75-dd2d412ae043",
   "metadata": {},
   "source": [
    "## Training the model on the training data without using a validation split. Calculating and recording the training accuracy"
   ]
  },
  {
   "cell_type": "code",
   "execution_count": 58,
   "id": "a3efb7c2-c5ad-4e2e-b14a-9445e879b597",
   "metadata": {},
   "outputs": [
    {
     "name": "stdout",
     "output_type": "stream",
     "text": [
      "Epoch 1/20\n"
     ]
    },
    {
     "name": "stderr",
     "output_type": "stream",
     "text": [
      "2024-11-25 11:30:17.490583: I tensorflow/core/common_runtime/executor.cc:1197] [/device:CPU:0] (DEBUG INFO) Executor start aborting (this does not indicate an error and you can ignore this message): INVALID_ARGUMENT: You must feed a value for placeholder tensor 'gradients/split_2_grad/concat/split_2/split_dim' with dtype int32\n",
      "\t [[{{node gradients/split_2_grad/concat/split_2/split_dim}}]]\n",
      "2024-11-25 11:30:17.491360: I tensorflow/core/common_runtime/executor.cc:1197] [/device:CPU:0] (DEBUG INFO) Executor start aborting (this does not indicate an error and you can ignore this message): INVALID_ARGUMENT: You must feed a value for placeholder tensor 'gradients/split_grad/concat/split/split_dim' with dtype int32\n",
      "\t [[{{node gradients/split_grad/concat/split/split_dim}}]]\n",
      "2024-11-25 11:30:17.492022: I tensorflow/core/common_runtime/executor.cc:1197] [/device:CPU:0] (DEBUG INFO) Executor start aborting (this does not indicate an error and you can ignore this message): INVALID_ARGUMENT: You must feed a value for placeholder tensor 'gradients/split_1_grad/concat/split_1/split_dim' with dtype int32\n",
      "\t [[{{node gradients/split_1_grad/concat/split_1/split_dim}}]]\n",
      "2024-11-25 11:30:17.553652: I tensorflow/core/common_runtime/executor.cc:1197] [/device:CPU:0] (DEBUG INFO) Executor start aborting (this does not indicate an error and you can ignore this message): INVALID_ARGUMENT: You must feed a value for placeholder tensor 'gradients/ReverseV2_grad/ReverseV2/ReverseV2/axis' with dtype int32 and shape [1]\n",
      "\t [[{{node gradients/ReverseV2_grad/ReverseV2/ReverseV2/axis}}]]\n",
      "2024-11-25 11:30:17.573487: I tensorflow/core/common_runtime/executor.cc:1197] [/device:CPU:0] (DEBUG INFO) Executor start aborting (this does not indicate an error and you can ignore this message): INVALID_ARGUMENT: You must feed a value for placeholder tensor 'gradients/split_2_grad/concat/split_2/split_dim' with dtype int32\n",
      "\t [[{{node gradients/split_2_grad/concat/split_2/split_dim}}]]\n",
      "2024-11-25 11:30:17.574084: I tensorflow/core/common_runtime/executor.cc:1197] [/device:CPU:0] (DEBUG INFO) Executor start aborting (this does not indicate an error and you can ignore this message): INVALID_ARGUMENT: You must feed a value for placeholder tensor 'gradients/split_grad/concat/split/split_dim' with dtype int32\n",
      "\t [[{{node gradients/split_grad/concat/split/split_dim}}]]\n",
      "2024-11-25 11:30:17.574780: I tensorflow/core/common_runtime/executor.cc:1197] [/device:CPU:0] (DEBUG INFO) Executor start aborting (this does not indicate an error and you can ignore this message): INVALID_ARGUMENT: You must feed a value for placeholder tensor 'gradients/split_1_grad/concat/split_1/split_dim' with dtype int32\n",
      "\t [[{{node gradients/split_1_grad/concat/split_1/split_dim}}]]\n",
      "2024-11-25 11:30:17.788667: I tensorflow/core/common_runtime/executor.cc:1197] [/device:CPU:0] (DEBUG INFO) Executor start aborting (this does not indicate an error and you can ignore this message): INVALID_ARGUMENT: You must feed a value for placeholder tensor 'gradients/ReverseV2_grad/ReverseV2/ReverseV2/axis' with dtype int32 and shape [1]\n",
      "\t [[{{node gradients/ReverseV2_grad/ReverseV2/ReverseV2/axis}}]]\n",
      "2024-11-25 11:30:17.974432: I tensorflow/core/common_runtime/executor.cc:1197] [/device:CPU:0] (DEBUG INFO) Executor start aborting (this does not indicate an error and you can ignore this message): INVALID_ARGUMENT: You must feed a value for placeholder tensor 'gradients/split_2_grad/concat/split_2/split_dim' with dtype int32\n",
      "\t [[{{node gradients/split_2_grad/concat/split_2/split_dim}}]]\n",
      "2024-11-25 11:30:17.975229: I tensorflow/core/common_runtime/executor.cc:1197] [/device:CPU:0] (DEBUG INFO) Executor start aborting (this does not indicate an error and you can ignore this message): INVALID_ARGUMENT: You must feed a value for placeholder tensor 'gradients/split_grad/concat/split/split_dim' with dtype int32\n",
      "\t [[{{node gradients/split_grad/concat/split/split_dim}}]]\n",
      "2024-11-25 11:30:17.975920: I tensorflow/core/common_runtime/executor.cc:1197] [/device:CPU:0] (DEBUG INFO) Executor start aborting (this does not indicate an error and you can ignore this message): INVALID_ARGUMENT: You must feed a value for placeholder tensor 'gradients/split_1_grad/concat/split_1/split_dim' with dtype int32\n",
      "\t [[{{node gradients/split_1_grad/concat/split_1/split_dim}}]]\n",
      "2024-11-25 11:30:18.038960: I tensorflow/core/common_runtime/executor.cc:1197] [/device:CPU:0] (DEBUG INFO) Executor start aborting (this does not indicate an error and you can ignore this message): INVALID_ARGUMENT: You must feed a value for placeholder tensor 'gradients/ReverseV2_grad/ReverseV2/ReverseV2/axis' with dtype int32 and shape [1]\n",
      "\t [[{{node gradients/ReverseV2_grad/ReverseV2/ReverseV2/axis}}]]\n",
      "2024-11-25 11:30:18.059253: I tensorflow/core/common_runtime/executor.cc:1197] [/device:CPU:0] (DEBUG INFO) Executor start aborting (this does not indicate an error and you can ignore this message): INVALID_ARGUMENT: You must feed a value for placeholder tensor 'gradients/split_2_grad/concat/split_2/split_dim' with dtype int32\n",
      "\t [[{{node gradients/split_2_grad/concat/split_2/split_dim}}]]\n",
      "2024-11-25 11:30:18.059829: I tensorflow/core/common_runtime/executor.cc:1197] [/device:CPU:0] (DEBUG INFO) Executor start aborting (this does not indicate an error and you can ignore this message): INVALID_ARGUMENT: You must feed a value for placeholder tensor 'gradients/split_grad/concat/split/split_dim' with dtype int32\n",
      "\t [[{{node gradients/split_grad/concat/split/split_dim}}]]\n",
      "2024-11-25 11:30:18.060454: I tensorflow/core/common_runtime/executor.cc:1197] [/device:CPU:0] (DEBUG INFO) Executor start aborting (this does not indicate an error and you can ignore this message): INVALID_ARGUMENT: You must feed a value for placeholder tensor 'gradients/split_1_grad/concat/split_1/split_dim' with dtype int32\n",
      "\t [[{{node gradients/split_1_grad/concat/split_1/split_dim}}]]\n",
      "2024-11-25 11:30:18.258487: I tensorflow/core/common_runtime/executor.cc:1197] [/device:CPU:0] (DEBUG INFO) Executor start aborting (this does not indicate an error and you can ignore this message): INVALID_ARGUMENT: You must feed a value for placeholder tensor 'gradients/ReverseV2_grad/ReverseV2/ReverseV2/axis' with dtype int32 and shape [1]\n",
      "\t [[{{node gradients/ReverseV2_grad/ReverseV2/ReverseV2/axis}}]]\n",
      "2024-11-25 11:30:18.353372: I tensorflow/core/grappler/optimizers/custom_graph_optimizer_registry.cc:114] Plugin optimizer for device_type GPU is enabled.\n",
      "2024-11-25 11:30:18.705351: I tensorflow/core/grappler/optimizers/custom_graph_optimizer_registry.cc:114] Plugin optimizer for device_type GPU is enabled.\n",
      "2024-11-25 11:30:18.725688: I tensorflow/core/grappler/optimizers/custom_graph_optimizer_registry.cc:114] Plugin optimizer for device_type GPU is enabled.\n",
      "2024-11-25 11:30:19.081728: I tensorflow/core/grappler/optimizers/custom_graph_optimizer_registry.cc:114] Plugin optimizer for device_type GPU is enabled.\n",
      "2024-11-25 11:30:19.108313: I tensorflow/core/grappler/optimizers/custom_graph_optimizer_registry.cc:114] Plugin optimizer for device_type GPU is enabled.\n"
     ]
    },
    {
     "name": "stdout",
     "output_type": "stream",
     "text": [
      "57/57 [==============================] - 4s 40ms/step - loss: 1.3762 - accuracy: 0.3169\n",
      "Epoch 2/20\n",
      "57/57 [==============================] - 2s 36ms/step - loss: 1.3545 - accuracy: 0.3274\n",
      "Epoch 3/20\n",
      "57/57 [==============================] - 2s 33ms/step - loss: 1.2165 - accuracy: 0.4669\n",
      "Epoch 4/20\n",
      "57/57 [==============================] - 2s 30ms/step - loss: 0.8010 - accuracy: 0.6892\n",
      "Epoch 5/20\n",
      "57/57 [==============================] - 1s 25ms/step - loss: 0.4941 - accuracy: 0.8325\n",
      "Epoch 6/20\n",
      "57/57 [==============================] - 2s 27ms/step - loss: 0.3564 - accuracy: 0.8846\n",
      "Epoch 7/20\n",
      "57/57 [==============================] - 2s 27ms/step - loss: 0.2762 - accuracy: 0.9117\n",
      "Epoch 8/20\n",
      "57/57 [==============================] - 2s 27ms/step - loss: 0.2440 - accuracy: 0.9267\n",
      "Epoch 9/20\n",
      "57/57 [==============================] - 2s 27ms/step - loss: 0.1901 - accuracy: 0.9410\n",
      "Epoch 10/20\n",
      "57/57 [==============================] - 2s 27ms/step - loss: 0.1626 - accuracy: 0.9510\n",
      "Epoch 11/20\n",
      "57/57 [==============================] - 2s 29ms/step - loss: 0.1527 - accuracy: 0.9524\n",
      "Epoch 12/20\n",
      "57/57 [==============================] - 2s 27ms/step - loss: 0.1285 - accuracy: 0.9599\n",
      "Epoch 13/20\n",
      "57/57 [==============================] - 1s 25ms/step - loss: 0.1170 - accuracy: 0.9637\n",
      "Epoch 14/20\n",
      "57/57 [==============================] - 1s 24ms/step - loss: 0.1067 - accuracy: 0.9671\n",
      "Epoch 15/20\n",
      "57/57 [==============================] - 1s 25ms/step - loss: 0.1077 - accuracy: 0.9654\n",
      "Epoch 16/20\n",
      "57/57 [==============================] - 1s 24ms/step - loss: 0.0867 - accuracy: 0.9726\n",
      "Epoch 17/20\n",
      "57/57 [==============================] - 1s 25ms/step - loss: 0.0937 - accuracy: 0.9698\n",
      "Epoch 18/20\n",
      "57/57 [==============================] - 1s 24ms/step - loss: 0.0834 - accuracy: 0.9734\n",
      "Epoch 19/20\n",
      "57/57 [==============================] - 1s 24ms/step - loss: 0.0814 - accuracy: 0.9743\n",
      "Epoch 20/20\n",
      "57/57 [==============================] - 1s 25ms/step - loss: 0.0838 - accuracy: 0.9704\n",
      "\n",
      "\n",
      "Training Time: 33.560083866119385\n"
     ]
    }
   ],
   "source": [
    "# Recording  the starting time of the training process\n",
    "tick = time()\n",
    "\n",
    "# Training the model on the train data without using validation split\n",
    "initial_model_history = initial_model.fit(X_train, train_encoded_labels, epochs = 20, batch_size = 64, validation_split = 0.0)\n",
    "\n",
    "# Recording training time\n",
    "initial_model_train_time = time() - tick\n",
    "\n",
    "# Getting training accuracy history\n",
    "initial_model_train_accuracy = initial_model_history.history['accuracy']\n",
    "\n",
    "print('\\n\\nTraining Time:', initial_model_train_time)"
   ]
  },
  {
   "cell_type": "code",
   "execution_count": 59,
   "id": "640da26e-e25d-409b-b153-19c0c2cd18e2",
   "metadata": {},
   "outputs": [
    {
     "name": "stdout",
     "output_type": "stream",
     "text": [
      "Initial Model Training Accuracy per Epoch: \n",
      "\n",
      "Epoch 1: Training Accuracy = 0.3169\n",
      "\n",
      "Epoch 2: Training Accuracy = 0.3274\n",
      "\n",
      "Epoch 3: Training Accuracy = 0.4669\n",
      "\n",
      "Epoch 4: Training Accuracy = 0.6892\n",
      "\n",
      "Epoch 5: Training Accuracy = 0.8325\n",
      "\n",
      "Epoch 6: Training Accuracy = 0.8846\n",
      "\n",
      "Epoch 7: Training Accuracy = 0.9117\n",
      "\n",
      "Epoch 8: Training Accuracy = 0.9267\n",
      "\n",
      "Epoch 9: Training Accuracy = 0.9410\n",
      "\n",
      "Epoch 10: Training Accuracy = 0.9510\n",
      "\n",
      "Epoch 11: Training Accuracy = 0.9524\n",
      "\n",
      "Epoch 12: Training Accuracy = 0.9599\n",
      "\n",
      "Epoch 13: Training Accuracy = 0.9637\n",
      "\n",
      "Epoch 14: Training Accuracy = 0.9671\n",
      "\n",
      "Epoch 15: Training Accuracy = 0.9654\n",
      "\n",
      "Epoch 16: Training Accuracy = 0.9726\n",
      "\n",
      "Epoch 17: Training Accuracy = 0.9698\n",
      "\n",
      "Epoch 18: Training Accuracy = 0.9734\n",
      "\n",
      "Epoch 19: Training Accuracy = 0.9743\n",
      "\n",
      "Epoch 20: Training Accuracy = 0.9704\n",
      "\n"
     ]
    }
   ],
   "source": [
    "# Printing the training accuracy per epoch\n",
    "print('Initial Model Training Accuracy per Epoch: \\n')\n",
    "for epoch, acc in enumerate(initial_model_train_accuracy, start = 1):\n",
    "    print(f'Epoch {epoch}: Training Accuracy = {acc:.4f}\\n')"
   ]
  },
  {
   "cell_type": "markdown",
   "id": "4f521c0b-848e-4261-bd8c-221c85c7fcea",
   "metadata": {},
   "source": [
    "## Using the model to make predictions on the validation data. Calculating and recording the validation accuracy"
   ]
  },
  {
   "cell_type": "code",
   "execution_count": 60,
   "id": "ea827a96-1ea6-43fa-b884-dcae6fd8b342",
   "metadata": {},
   "outputs": [
    {
     "name": "stderr",
     "output_type": "stream",
     "text": [
      "2024-11-25 11:30:50.977680: I tensorflow/core/common_runtime/executor.cc:1197] [/device:CPU:0] (DEBUG INFO) Executor start aborting (this does not indicate an error and you can ignore this message): INVALID_ARGUMENT: You must feed a value for placeholder tensor 'gradients/split_2_grad/concat/split_2/split_dim' with dtype int32\n",
      "\t [[{{node gradients/split_2_grad/concat/split_2/split_dim}}]]\n",
      "2024-11-25 11:30:50.978592: I tensorflow/core/common_runtime/executor.cc:1197] [/device:CPU:0] (DEBUG INFO) Executor start aborting (this does not indicate an error and you can ignore this message): INVALID_ARGUMENT: You must feed a value for placeholder tensor 'gradients/split_grad/concat/split/split_dim' with dtype int32\n",
      "\t [[{{node gradients/split_grad/concat/split/split_dim}}]]\n",
      "2024-11-25 11:30:50.979264: I tensorflow/core/common_runtime/executor.cc:1197] [/device:CPU:0] (DEBUG INFO) Executor start aborting (this does not indicate an error and you can ignore this message): INVALID_ARGUMENT: You must feed a value for placeholder tensor 'gradients/split_1_grad/concat/split_1/split_dim' with dtype int32\n",
      "\t [[{{node gradients/split_1_grad/concat/split_1/split_dim}}]]\n",
      "2024-11-25 11:30:51.040642: I tensorflow/core/common_runtime/executor.cc:1197] [/device:CPU:0] (DEBUG INFO) Executor start aborting (this does not indicate an error and you can ignore this message): INVALID_ARGUMENT: You must feed a value for placeholder tensor 'gradients/ReverseV2_grad/ReverseV2/ReverseV2/axis' with dtype int32 and shape [1]\n",
      "\t [[{{node gradients/ReverseV2_grad/ReverseV2/ReverseV2/axis}}]]\n",
      "2024-11-25 11:30:51.059765: I tensorflow/core/common_runtime/executor.cc:1197] [/device:CPU:0] (DEBUG INFO) Executor start aborting (this does not indicate an error and you can ignore this message): INVALID_ARGUMENT: You must feed a value for placeholder tensor 'gradients/split_2_grad/concat/split_2/split_dim' with dtype int32\n",
      "\t [[{{node gradients/split_2_grad/concat/split_2/split_dim}}]]\n",
      "2024-11-25 11:30:51.060370: I tensorflow/core/common_runtime/executor.cc:1197] [/device:CPU:0] (DEBUG INFO) Executor start aborting (this does not indicate an error and you can ignore this message): INVALID_ARGUMENT: You must feed a value for placeholder tensor 'gradients/split_grad/concat/split/split_dim' with dtype int32\n",
      "\t [[{{node gradients/split_grad/concat/split/split_dim}}]]\n",
      "2024-11-25 11:30:51.060847: I tensorflow/core/common_runtime/executor.cc:1197] [/device:CPU:0] (DEBUG INFO) Executor start aborting (this does not indicate an error and you can ignore this message): INVALID_ARGUMENT: You must feed a value for placeholder tensor 'gradients/split_1_grad/concat/split_1/split_dim' with dtype int32\n",
      "\t [[{{node gradients/split_1_grad/concat/split_1/split_dim}}]]\n",
      "2024-11-25 11:30:51.083848: I tensorflow/core/grappler/optimizers/custom_graph_optimizer_registry.cc:114] Plugin optimizer for device_type GPU is enabled.\n",
      "2024-11-25 11:30:51.157365: I tensorflow/core/grappler/optimizers/custom_graph_optimizer_registry.cc:114] Plugin optimizer for device_type GPU is enabled.\n",
      "2024-11-25 11:30:51.169964: I tensorflow/core/grappler/optimizers/custom_graph_optimizer_registry.cc:114] Plugin optimizer for device_type GPU is enabled.\n"
     ]
    },
    {
     "name": "stdout",
     "output_type": "stream",
     "text": [
      "11/11 [==============================] - 1s 9ms/step\n",
      "Initial Model Validation Accuracy: 0.8300\n"
     ]
    }
   ],
   "source": [
    "# Making predictions on the validation data\n",
    "initial_model_predictions = initial_model.predict(X_val)\n",
    "\n",
    "# Converting predictions from probabilities to class labels\n",
    "initial_model_predicted_labels = np.argmax(initial_model_predictions, axis = 1)\n",
    "\n",
    "# Calculating validation accuracy\n",
    "initial_model_validation_accuracy = accuracy_score(val_encoded_labels, initial_model_predicted_labels)\n",
    "\n",
    "# Printing the validation accuracy\n",
    "print(f'Initial Model Validation Accuracy: {initial_model_validation_accuracy:.4f}')"
   ]
  },
  {
   "cell_type": "markdown",
   "id": "9eea6f91-55a3-407a-94ac-cbe1c80133ac",
   "metadata": {},
   "source": [
    "## Displaying the confusion matrix for the validation data"
   ]
  },
  {
   "cell_type": "code",
   "execution_count": 92,
   "id": "fe80128d-7dce-4f6b-b9c4-a94970fb2aa5",
   "metadata": {},
   "outputs": [
    {
     "data": {
      "image/png": "[encoded data removed]",
      "text/plain": [
       "<Figure size 800x600 with 2 Axes>"
      ]
     },
     "metadata": {},
     "output_type": "display_data"
    }
   ],
   "source": [
    "# Defining the emotion labels we have\n",
    "emotion_labels = ['anger', 'fear', 'joy', 'sadness']\n",
    "\n",
    "# Generating the confusion matrix\n",
    "cm = confusion_matrix(val_encoded_labels, initial_model_predicted_labels)\n",
    "\n",
    "# Plotting the confusion matrix using Seaborn heatmap\n",
    "plt.figure(figsize = (8, 6))\n",
    "sns.heatmap(cm, annot = True, fmt = 'd', cmap = 'Blues', xticklabels = emotion_labels, yticklabels = emotion_labels)\n",
    "\n",
    "# Customize the plot\n",
    "plt.title(\"Initial Model Confusion Matrix for Validation Data\")\n",
    "plt.xlabel(\"Predicted Labels\")\n",
    "plt.ylabel(\"True Labels\")\n",
    "plt.xticks(rotation=45)\n",
    "plt.yticks(rotation=45)\n",
    "plt.show()"
   ]
  },
  {
   "cell_type": "markdown",
   "id": "95e5c8d1-7996-4640-9e4e-64d0c6e8b46a",
   "metadata": {},
   "source": [
    "## <span style='color:blue'>For anger we have:</span>\n",
    "* 69 TP\n",
    "* 219 TN\n",
    "* 11 FP\n",
    "* 15 FN\n",
    "\n",
    "## <span style='color:blue'>For fear we have:</span>\n",
    "* 94 TP\n",
    "* 194 TN\n",
    "* 23 FP\n",
    "* 16 FN\n",
    "\n",
    "## <span style='color:blue'>For joy we have:</span>\n",
    "* 68 TP\n",
    "* 220 TN\n",
    "* 13 FP\n",
    "* 11 FN\n",
    "\n",
    "## <span style='color:blue'>For sadness we have:</span>\n",
    "* 57 TP\n",
    "* 231 TN\n",
    "* 17 FP\n",
    "* 12 FN\n",
    "\n",
    "## <span style='color:blue'>Given that the model's training accuracy in the last epoch was 0.970385, while the validation accuracy was 0.829971, we can conclude that the model is overfitting. However, it still generalizes to unseen data to some extent, although not perfectly.</span>"
   ]
  },
  {
   "cell_type": "markdown",
   "id": "62c92381-8e34-44f9-88b9-d568e2aaa5e8",
   "metadata": {},
   "source": [
    "## Revisiting the previous steps to make at least three models in total by changing architecture and hyperparameters"
   ]
  },
  {
   "cell_type": "code",
   "execution_count": 62,
   "id": "842f3df8-58dc-409c-8430-95f6610ecd97",
   "metadata": {},
   "outputs": [
    {
     "name": "stderr",
     "output_type": "stream",
     "text": [
      "2024-11-25 11:30:51.620430: I tensorflow/core/common_runtime/executor.cc:1197] [/device:CPU:0] (DEBUG INFO) Executor start aborting (this does not indicate an error and you can ignore this message): INVALID_ARGUMENT: You must feed a value for placeholder tensor 'gradients/split_2_grad/concat/split_2/split_dim' with dtype int32\n",
      "\t [[{{node gradients/split_2_grad/concat/split_2/split_dim}}]]\n",
      "2024-11-25 11:30:51.621354: I tensorflow/core/common_runtime/executor.cc:1197] [/device:CPU:0] (DEBUG INFO) Executor start aborting (this does not indicate an error and you can ignore this message): INVALID_ARGUMENT: You must feed a value for placeholder tensor 'gradients/split_grad/concat/split/split_dim' with dtype int32\n",
      "\t [[{{node gradients/split_grad/concat/split/split_dim}}]]\n",
      "2024-11-25 11:30:51.621963: I tensorflow/core/common_runtime/executor.cc:1197] [/device:CPU:0] (DEBUG INFO) Executor start aborting (this does not indicate an error and you can ignore this message): INVALID_ARGUMENT: You must feed a value for placeholder tensor 'gradients/split_1_grad/concat/split_1/split_dim' with dtype int32\n",
      "\t [[{{node gradients/split_1_grad/concat/split_1/split_dim}}]]\n",
      "2024-11-25 11:30:51.684448: I tensorflow/core/common_runtime/executor.cc:1197] [/device:CPU:0] (DEBUG INFO) Executor start aborting (this does not indicate an error and you can ignore this message): INVALID_ARGUMENT: You must feed a value for placeholder tensor 'gradients/ReverseV2_grad/ReverseV2/ReverseV2/axis' with dtype int32 and shape [1]\n",
      "\t [[{{node gradients/ReverseV2_grad/ReverseV2/ReverseV2/axis}}]]\n",
      "2024-11-25 11:30:51.704515: I tensorflow/core/common_runtime/executor.cc:1197] [/device:CPU:0] (DEBUG INFO) Executor start aborting (this does not indicate an error and you can ignore this message): INVALID_ARGUMENT: You must feed a value for placeholder tensor 'gradients/split_2_grad/concat/split_2/split_dim' with dtype int32\n",
      "\t [[{{node gradients/split_2_grad/concat/split_2/split_dim}}]]\n",
      "2024-11-25 11:30:51.705123: I tensorflow/core/common_runtime/executor.cc:1197] [/device:CPU:0] (DEBUG INFO) Executor start aborting (this does not indicate an error and you can ignore this message): INVALID_ARGUMENT: You must feed a value for placeholder tensor 'gradients/split_grad/concat/split/split_dim' with dtype int32\n",
      "\t [[{{node gradients/split_grad/concat/split/split_dim}}]]\n",
      "2024-11-25 11:30:51.705706: I tensorflow/core/common_runtime/executor.cc:1197] [/device:CPU:0] (DEBUG INFO) Executor start aborting (this does not indicate an error and you can ignore this message): INVALID_ARGUMENT: You must feed a value for placeholder tensor 'gradients/split_1_grad/concat/split_1/split_dim' with dtype int32\n",
      "\t [[{{node gradients/split_1_grad/concat/split_1/split_dim}}]]\n"
     ]
    }
   ],
   "source": [
    "# Creating the model\n",
    "model_1 = Sequential()\n",
    "\n",
    "# Embedding layer\n",
    "model_1.add(Embedding(input_dim = vocab_size, output_dim = embedding_dim, input_length = int(max_len)))\n",
    "model_1.add(SpatialDropout1D(0.75)) # Adding a spatial dropout of 75%\n",
    "\n",
    "# Bidirectional LSTM Layer (process sequences in both directions)\n",
    "model_1.add(Bidirectional(LSTM(32)))  # LSTM layer with 64 units\n",
    "model_1.add(Dropout(0.75))  # Dropout to prevent overfitting\n",
    "\n",
    "# Dense Layer (fully connected layer to output predictions)\n",
    "model_1.add(Dense(24, activation = 'relu'))  # Dense layer with 24 units\n",
    "\n",
    "# Output layer (four neurons for multi-class classification based on emotion labels we have)\n",
    "model_1.add(Dense(num_classes, activation = 'softmax'))"
   ]
  },
  {
   "cell_type": "code",
   "execution_count": 63,
   "id": "f0282789-044e-4bf4-81cc-2fd6d9956fa2",
   "metadata": {},
   "outputs": [
    {
     "name": "stdout",
     "output_type": "stream",
     "text": [
      "Model: \"sequential_1\"\n",
      "_________________________________________________________________\n",
      " Layer (type)                Output Shape              Param #   \n",
      "=================================================================\n",
      " embedding_1 (Embedding)     (None, 14, 32)            320000    \n",
      "                                                                 \n",
      " spatial_dropout1d_1 (Spatia  (None, 14, 32)           0         \n",
      " lDropout1D)                                                     \n",
      "                                                                 \n",
      " bidirectional_1 (Bidirectio  (None, 64)               16640     \n",
      " nal)                                                            \n",
      "                                                                 \n",
      " dropout_1 (Dropout)         (None, 64)                0         \n",
      "                                                                 \n",
      " dense_2 (Dense)             (None, 24)                1560      \n",
      "                                                                 \n",
      " dense_3 (Dense)             (None, 4)                 100       \n",
      "                                                                 \n",
      "=================================================================\n",
      "Total params: 338,300\n",
      "Trainable params: 338,300\n",
      "Non-trainable params: 0\n",
      "_________________________________________________________________\n"
     ]
    }
   ],
   "source": [
    "# Compiling the model using Adam as optimizer and 'Sparse categorical crossentropy' for integer labels\n",
    "model_1.compile(optimizer = 'rmsprop', loss = 'sparse_categorical_crossentropy', metrics = ['accuracy'])\n",
    "\n",
    "# Printing model summary to verify architecture\n",
    "model_1.summary()"
   ]
  },
  {
   "cell_type": "code",
   "execution_count": 64,
   "id": "16a4648e-885c-4a82-9610-12329efa2936",
   "metadata": {},
   "outputs": [
    {
     "name": "stdout",
     "output_type": "stream",
     "text": [
      "Epoch 1/20\n"
     ]
    },
    {
     "name": "stderr",
     "output_type": "stream",
     "text": [
      "2024-11-25 11:30:51.879237: I tensorflow/core/common_runtime/executor.cc:1197] [/device:CPU:0] (DEBUG INFO) Executor start aborting (this does not indicate an error and you can ignore this message): INVALID_ARGUMENT: You must feed a value for placeholder tensor 'gradients/split_2_grad/concat/split_2/split_dim' with dtype int32\n",
      "\t [[{{node gradients/split_2_grad/concat/split_2/split_dim}}]]\n",
      "2024-11-25 11:30:51.880084: I tensorflow/core/common_runtime/executor.cc:1197] [/device:CPU:0] (DEBUG INFO) Executor start aborting (this does not indicate an error and you can ignore this message): INVALID_ARGUMENT: You must feed a value for placeholder tensor 'gradients/split_grad/concat/split/split_dim' with dtype int32\n",
      "\t [[{{node gradients/split_grad/concat/split/split_dim}}]]\n",
      "2024-11-25 11:30:51.881416: I tensorflow/core/common_runtime/executor.cc:1197] [/device:CPU:0] (DEBUG INFO) Executor start aborting (this does not indicate an error and you can ignore this message): INVALID_ARGUMENT: You must feed a value for placeholder tensor 'gradients/split_1_grad/concat/split_1/split_dim' with dtype int32\n",
      "\t [[{{node gradients/split_1_grad/concat/split_1/split_dim}}]]\n",
      "2024-11-25 11:30:51.944286: I tensorflow/core/common_runtime/executor.cc:1197] [/device:CPU:0] (DEBUG INFO) Executor start aborting (this does not indicate an error and you can ignore this message): INVALID_ARGUMENT: You must feed a value for placeholder tensor 'gradients/ReverseV2_grad/ReverseV2/ReverseV2/axis' with dtype int32 and shape [1]\n",
      "\t [[{{node gradients/ReverseV2_grad/ReverseV2/ReverseV2/axis}}]]\n",
      "2024-11-25 11:30:51.965373: I tensorflow/core/common_runtime/executor.cc:1197] [/device:CPU:0] (DEBUG INFO) Executor start aborting (this does not indicate an error and you can ignore this message): INVALID_ARGUMENT: You must feed a value for placeholder tensor 'gradients/split_2_grad/concat/split_2/split_dim' with dtype int32\n",
      "\t [[{{node gradients/split_2_grad/concat/split_2/split_dim}}]]\n",
      "2024-11-25 11:30:51.966059: I tensorflow/core/common_runtime/executor.cc:1197] [/device:CPU:0] (DEBUG INFO) Executor start aborting (this does not indicate an error and you can ignore this message): INVALID_ARGUMENT: You must feed a value for placeholder tensor 'gradients/split_grad/concat/split/split_dim' with dtype int32\n",
      "\t [[{{node gradients/split_grad/concat/split/split_dim}}]]\n",
      "2024-11-25 11:30:51.966681: I tensorflow/core/common_runtime/executor.cc:1197] [/device:CPU:0] (DEBUG INFO) Executor start aborting (this does not indicate an error and you can ignore this message): INVALID_ARGUMENT: You must feed a value for placeholder tensor 'gradients/split_1_grad/concat/split_1/split_dim' with dtype int32\n",
      "\t [[{{node gradients/split_1_grad/concat/split_1/split_dim}}]]\n",
      "2024-11-25 11:30:52.382939: I tensorflow/core/common_runtime/executor.cc:1197] [/device:CPU:0] (DEBUG INFO) Executor start aborting (this does not indicate an error and you can ignore this message): INVALID_ARGUMENT: You must feed a value for placeholder tensor 'gradients/ReverseV2_grad/ReverseV2/ReverseV2/axis' with dtype int32 and shape [1]\n",
      "\t [[{{node gradients/ReverseV2_grad/ReverseV2/ReverseV2/axis}}]]\n",
      "2024-11-25 11:30:52.561233: I tensorflow/core/common_runtime/executor.cc:1197] [/device:CPU:0] (DEBUG INFO) Executor start aborting (this does not indicate an error and you can ignore this message): INVALID_ARGUMENT: You must feed a value for placeholder tensor 'gradients/split_2_grad/concat/split_2/split_dim' with dtype int32\n",
      "\t [[{{node gradients/split_2_grad/concat/split_2/split_dim}}]]\n",
      "2024-11-25 11:30:52.561896: I tensorflow/core/common_runtime/executor.cc:1197] [/device:CPU:0] (DEBUG INFO) Executor start aborting (this does not indicate an error and you can ignore this message): INVALID_ARGUMENT: You must feed a value for placeholder tensor 'gradients/split_grad/concat/split/split_dim' with dtype int32\n",
      "\t [[{{node gradients/split_grad/concat/split/split_dim}}]]\n",
      "2024-11-25 11:30:52.562417: I tensorflow/core/common_runtime/executor.cc:1197] [/device:CPU:0] (DEBUG INFO) Executor start aborting (this does not indicate an error and you can ignore this message): INVALID_ARGUMENT: You must feed a value for placeholder tensor 'gradients/split_1_grad/concat/split_1/split_dim' with dtype int32\n",
      "\t [[{{node gradients/split_1_grad/concat/split_1/split_dim}}]]\n",
      "2024-11-25 11:30:52.629012: I tensorflow/core/common_runtime/executor.cc:1197] [/device:CPU:0] (DEBUG INFO) Executor start aborting (this does not indicate an error and you can ignore this message): INVALID_ARGUMENT: You must feed a value for placeholder tensor 'gradients/ReverseV2_grad/ReverseV2/ReverseV2/axis' with dtype int32 and shape [1]\n",
      "\t [[{{node gradients/ReverseV2_grad/ReverseV2/ReverseV2/axis}}]]\n",
      "2024-11-25 11:30:52.650509: I tensorflow/core/common_runtime/executor.cc:1197] [/device:CPU:0] (DEBUG INFO) Executor start aborting (this does not indicate an error and you can ignore this message): INVALID_ARGUMENT: You must feed a value for placeholder tensor 'gradients/split_2_grad/concat/split_2/split_dim' with dtype int32\n",
      "\t [[{{node gradients/split_2_grad/concat/split_2/split_dim}}]]\n",
      "2024-11-25 11:30:52.651273: I tensorflow/core/common_runtime/executor.cc:1197] [/device:CPU:0] (DEBUG INFO) Executor start aborting (this does not indicate an error and you can ignore this message): INVALID_ARGUMENT: You must feed a value for placeholder tensor 'gradients/split_grad/concat/split/split_dim' with dtype int32\n",
      "\t [[{{node gradients/split_grad/concat/split/split_dim}}]]\n",
      "2024-11-25 11:30:52.651972: I tensorflow/core/common_runtime/executor.cc:1197] [/device:CPU:0] (DEBUG INFO) Executor start aborting (this does not indicate an error and you can ignore this message): INVALID_ARGUMENT: You must feed a value for placeholder tensor 'gradients/split_1_grad/concat/split_1/split_dim' with dtype int32\n",
      "\t [[{{node gradients/split_1_grad/concat/split_1/split_dim}}]]\n",
      "2024-11-25 11:30:52.883533: I tensorflow/core/common_runtime/executor.cc:1197] [/device:CPU:0] (DEBUG INFO) Executor start aborting (this does not indicate an error and you can ignore this message): INVALID_ARGUMENT: You must feed a value for placeholder tensor 'gradients/ReverseV2_grad/ReverseV2/ReverseV2/axis' with dtype int32 and shape [1]\n",
      "\t [[{{node gradients/ReverseV2_grad/ReverseV2/ReverseV2/axis}}]]\n",
      "2024-11-25 11:30:52.989498: I tensorflow/core/grappler/optimizers/custom_graph_optimizer_registry.cc:114] Plugin optimizer for device_type GPU is enabled.\n",
      "2024-11-25 11:30:53.245283: I tensorflow/core/grappler/optimizers/custom_graph_optimizer_registry.cc:114] Plugin optimizer for device_type GPU is enabled.\n",
      "2024-11-25 11:30:53.264249: I tensorflow/core/grappler/optimizers/custom_graph_optimizer_registry.cc:114] Plugin optimizer for device_type GPU is enabled.\n",
      "2024-11-25 11:30:53.488465: I tensorflow/core/grappler/optimizers/custom_graph_optimizer_registry.cc:114] Plugin optimizer for device_type GPU is enabled.\n",
      "2024-11-25 11:30:53.513823: I tensorflow/core/grappler/optimizers/custom_graph_optimizer_registry.cc:114] Plugin optimizer for device_type GPU is enabled.\n"
     ]
    },
    {
     "name": "stdout",
     "output_type": "stream",
     "text": [
      "57/57 [==============================] - 4s 37ms/step - loss: 1.3794 - accuracy: 0.3028\n",
      "Epoch 2/20\n",
      "57/57 [==============================] - 2s 30ms/step - loss: 1.3700 - accuracy: 0.3224\n",
      "Epoch 3/20\n",
      "57/57 [==============================] - 2s 30ms/step - loss: 1.3514 - accuracy: 0.3429\n",
      "Epoch 4/20\n",
      "57/57 [==============================] - 1s 26ms/step - loss: 1.2918 - accuracy: 0.3961\n",
      "Epoch 5/20\n",
      "57/57 [==============================] - 2s 27ms/step - loss: 1.1717 - accuracy: 0.4877\n",
      "Epoch 6/20\n",
      "57/57 [==============================] - 2s 27ms/step - loss: 1.0133 - accuracy: 0.5796\n",
      "Epoch 7/20\n",
      "57/57 [==============================] - 2s 27ms/step - loss: 0.8678 - accuracy: 0.6374\n",
      "Epoch 8/20\n",
      "57/57 [==============================] - 2s 28ms/step - loss: 0.7667 - accuracy: 0.6823\n",
      "Epoch 9/20\n",
      "57/57 [==============================] - 2s 27ms/step - loss: 0.6867 - accuracy: 0.7241\n",
      "Epoch 10/20\n",
      "57/57 [==============================] - 1s 25ms/step - loss: 0.6159 - accuracy: 0.7487\n",
      "Epoch 11/20\n",
      "57/57 [==============================] - 1s 25ms/step - loss: 0.5618 - accuracy: 0.7896\n",
      "Epoch 12/20\n",
      "57/57 [==============================] - 1s 25ms/step - loss: 0.5095 - accuracy: 0.8107\n",
      "Epoch 13/20\n",
      "57/57 [==============================] - 1s 25ms/step - loss: 0.4620 - accuracy: 0.8256\n",
      "Epoch 14/20\n",
      "57/57 [==============================] - 1s 24ms/step - loss: 0.4232 - accuracy: 0.8494\n",
      "Epoch 15/20\n",
      "57/57 [==============================] - 1s 25ms/step - loss: 0.3971 - accuracy: 0.8608\n",
      "Epoch 16/20\n",
      "57/57 [==============================] - 1s 25ms/step - loss: 0.3555 - accuracy: 0.8757\n",
      "Epoch 17/20\n",
      "57/57 [==============================] - 1s 25ms/step - loss: 0.3454 - accuracy: 0.8832\n",
      "Epoch 18/20\n",
      "57/57 [==============================] - 1s 24ms/step - loss: 0.3144 - accuracy: 0.8921\n",
      "Epoch 19/20\n",
      "57/57 [==============================] - 1s 26ms/step - loss: 0.2900 - accuracy: 0.9042\n",
      "Epoch 20/20\n",
      "57/57 [==============================] - 1s 25ms/step - loss: 0.2737 - accuracy: 0.9134\n",
      "\n",
      "\n",
      "Training Time: 32.48387408256531\n"
     ]
    }
   ],
   "source": [
    "# Recording  the starting time of the training process\n",
    "tick = time()\n",
    "\n",
    "# Training the model on the train data without using validation split\n",
    "model_1_history = model_1.fit(X_train, train_encoded_labels, epochs = 20, batch_size = 64, validation_split = 0.0)\n",
    "\n",
    "# Recording training time\n",
    "model_1_train_time = time() - tick\n",
    "\n",
    "# Getting training accuracy history\n",
    "model_1_train_accuracy = model_1_history.history['accuracy']\n",
    "\n",
    "print('\\n\\nTraining Time:', model_1_train_time)"
   ]
  },
  {
   "cell_type": "code",
   "execution_count": 65,
   "id": "62632ae4-f005-4dae-978e-56be10daa768",
   "metadata": {},
   "outputs": [
    {
     "name": "stdout",
     "output_type": "stream",
     "text": [
      "Model 1 Training Accuracy per Epoch: \n",
      "\n",
      "Epoch 1: Training Accuracy = 0.3028\n",
      "\n",
      "Epoch 2: Training Accuracy = 0.3224\n",
      "\n",
      "Epoch 3: Training Accuracy = 0.3429\n",
      "\n",
      "Epoch 4: Training Accuracy = 0.3961\n",
      "\n",
      "Epoch 5: Training Accuracy = 0.4877\n",
      "\n",
      "Epoch 6: Training Accuracy = 0.5796\n",
      "\n",
      "Epoch 7: Training Accuracy = 0.6374\n",
      "\n",
      "Epoch 8: Training Accuracy = 0.6823\n",
      "\n",
      "Epoch 9: Training Accuracy = 0.7241\n",
      "\n",
      "Epoch 10: Training Accuracy = 0.7487\n",
      "\n",
      "Epoch 11: Training Accuracy = 0.7896\n",
      "\n",
      "Epoch 12: Training Accuracy = 0.8107\n",
      "\n",
      "Epoch 13: Training Accuracy = 0.8256\n",
      "\n",
      "Epoch 14: Training Accuracy = 0.8494\n",
      "\n",
      "Epoch 15: Training Accuracy = 0.8608\n",
      "\n",
      "Epoch 16: Training Accuracy = 0.8757\n",
      "\n",
      "Epoch 17: Training Accuracy = 0.8832\n",
      "\n",
      "Epoch 18: Training Accuracy = 0.8921\n",
      "\n",
      "Epoch 19: Training Accuracy = 0.9042\n",
      "\n",
      "Epoch 20: Training Accuracy = 0.9134\n",
      "\n"
     ]
    }
   ],
   "source": [
    "# Printing the training accuracy per epoch\n",
    "print('Model 1 Training Accuracy per Epoch: \\n')\n",
    "for epoch, acc in enumerate(model_1_train_accuracy, start = 1):\n",
    "    print(f'Epoch {epoch}: Training Accuracy = {acc:.4f}\\n')"
   ]
  },
  {
   "cell_type": "code",
   "execution_count": 66,
   "id": "4af9ef71-3fa8-43fd-b06d-36779cc4e609",
   "metadata": {},
   "outputs": [
    {
     "name": "stdout",
     "output_type": "stream",
     "text": [
      "11/11 [==============================] - 0s 5ms/step\n",
      "Model 1 Validation Accuracy: 0.8300\n"
     ]
    }
   ],
   "source": [
    "# Making predictions on the validation data\n",
    "model_1_predictions = initial_model.predict(X_val)\n",
    "\n",
    "# Converting predictions from probabilities to class labels\n",
    "model_1_predicted_labels = np.argmax(model_1_predictions, axis = 1)\n",
    "\n",
    "# Calculating validation accuracy\n",
    "model_1_validation_accuracy = accuracy_score(val_encoded_labels, model_1_predicted_labels)\n",
    "\n",
    "# Printing the validation accuracy\n",
    "print(f'Model 1 Validation Accuracy: {model_1_validation_accuracy:.4f}')"
   ]
  },
  {
   "cell_type": "code",
   "execution_count": 67,
   "id": "6a8bbe17-33dd-400b-9dc9-f8d3ef2f345e",
   "metadata": {},
   "outputs": [
    {
     "data": {
      "image/png": "[encoded data removed]",
      "text/plain": [
       "<Figure size 800x600 with 2 Axes>"
      ]
     },
     "metadata": {},
     "output_type": "display_data"
    }
   ],
   "source": [
    "# Generating the confusion matrix\n",
    "model_1_cm = confusion_matrix(val_encoded_labels, model_1_predicted_labels)\n",
    "\n",
    "# Plotting the confusion matrix using Seaborn heatmap\n",
    "plt.figure(figsize = (8, 6))\n",
    "sns.heatmap(model_1_cm, annot = True, fmt = 'd', cmap = 'Blues', xticklabels = emotion_labels, yticklabels = emotion_labels)\n",
    "\n",
    "plt.title(\"Model 1 Confusion Matrix for Validation Data\")\n",
    "plt.xlabel(\"Predicted Labels\")\n",
    "plt.ylabel(\"True Labels\")\n",
    "plt.xticks(rotation=45)\n",
    "plt.yticks(rotation=45)\n",
    "plt.show()"
   ]
  },
  {
   "cell_type": "markdown",
   "id": "57396a45-3515-4199-8070-e39c5d2d0119",
   "metadata": {},
   "source": [
    "## <span style='color:blue'>For anger we have:</span>\n",
    "* 69 TP\n",
    "* 219 TN\n",
    "* 11 FP\n",
    "* 15 FN\n",
    "\n",
    "## <span style='color:blue'>For fear we have:</span>\n",
    "* 94 TP\n",
    "* 194 TN\n",
    "* 23 FP\n",
    "* 16 FN\n",
    "\n",
    "## <span style='color:blue'>For joy we have:</span>\n",
    "* 68 TP\n",
    "* 220 TN\n",
    "* 13 FP\n",
    "* 11 FN\n",
    "\n",
    "## <span style='color:blue'>For sadness we have:</span>\n",
    "* 57 TP\n",
    "* 231 TN\n",
    "* 17 FP\n",
    "* 12 FN\n",
    "\n",
    "## <span style='color:blue'>Given that the model's training accuracy in the last epoch was 0.913368, while the validation accuracy was 0.829971, we can conclude that the model is overfitting. However, it still generalizes to unseen data to some extent, although not perfectly. Compared to initial_model results model_1 is taking more time to identify the patterns within the training data (based on training accuracy differences).</span>"
   ]
  },
  {
   "cell_type": "code",
   "execution_count": 68,
   "id": "4f696456-542d-4c3e-8eb4-73213b9ada5b",
   "metadata": {},
   "outputs": [
    {
     "name": "stderr",
     "output_type": "stream",
     "text": [
      "2024-11-25 11:31:24.667977: I tensorflow/core/common_runtime/executor.cc:1197] [/device:CPU:0] (DEBUG INFO) Executor start aborting (this does not indicate an error and you can ignore this message): INVALID_ARGUMENT: You must feed a value for placeholder tensor 'gradients/split_2_grad/concat/split_2/split_dim' with dtype int32\n",
      "\t [[{{node gradients/split_2_grad/concat/split_2/split_dim}}]]\n",
      "2024-11-25 11:31:24.668905: I tensorflow/core/common_runtime/executor.cc:1197] [/device:CPU:0] (DEBUG INFO) Executor start aborting (this does not indicate an error and you can ignore this message): INVALID_ARGUMENT: You must feed a value for placeholder tensor 'gradients/split_grad/concat/split/split_dim' with dtype int32\n",
      "\t [[{{node gradients/split_grad/concat/split/split_dim}}]]\n",
      "2024-11-25 11:31:24.669497: I tensorflow/core/common_runtime/executor.cc:1197] [/device:CPU:0] (DEBUG INFO) Executor start aborting (this does not indicate an error and you can ignore this message): INVALID_ARGUMENT: You must feed a value for placeholder tensor 'gradients/split_1_grad/concat/split_1/split_dim' with dtype int32\n",
      "\t [[{{node gradients/split_1_grad/concat/split_1/split_dim}}]]\n",
      "2024-11-25 11:31:24.735900: I tensorflow/core/common_runtime/executor.cc:1197] [/device:CPU:0] (DEBUG INFO) Executor start aborting (this does not indicate an error and you can ignore this message): INVALID_ARGUMENT: You must feed a value for placeholder tensor 'gradients/ReverseV2_grad/ReverseV2/ReverseV2/axis' with dtype int32 and shape [1]\n",
      "\t [[{{node gradients/ReverseV2_grad/ReverseV2/ReverseV2/axis}}]]\n",
      "2024-11-25 11:31:24.756670: I tensorflow/core/common_runtime/executor.cc:1197] [/device:CPU:0] (DEBUG INFO) Executor start aborting (this does not indicate an error and you can ignore this message): INVALID_ARGUMENT: You must feed a value for placeholder tensor 'gradients/split_2_grad/concat/split_2/split_dim' with dtype int32\n",
      "\t [[{{node gradients/split_2_grad/concat/split_2/split_dim}}]]\n",
      "2024-11-25 11:31:24.757208: I tensorflow/core/common_runtime/executor.cc:1197] [/device:CPU:0] (DEBUG INFO) Executor start aborting (this does not indicate an error and you can ignore this message): INVALID_ARGUMENT: You must feed a value for placeholder tensor 'gradients/split_grad/concat/split/split_dim' with dtype int32\n",
      "\t [[{{node gradients/split_grad/concat/split/split_dim}}]]\n",
      "2024-11-25 11:31:24.757729: I tensorflow/core/common_runtime/executor.cc:1197] [/device:CPU:0] (DEBUG INFO) Executor start aborting (this does not indicate an error and you can ignore this message): INVALID_ARGUMENT: You must feed a value for placeholder tensor 'gradients/split_1_grad/concat/split_1/split_dim' with dtype int32\n",
      "\t [[{{node gradients/split_1_grad/concat/split_1/split_dim}}]]\n"
     ]
    }
   ],
   "source": [
    "# Creating the model\n",
    "model_2 = Sequential()\n",
    "\n",
    "# Embedding layer\n",
    "model_2.add(Embedding(input_dim = vocab_size, output_dim = 32, input_length = int(max_len)))\n",
    "model_2.add(SpatialDropout1D(0.6)) # Adding a spatial dropout of 75%\n",
    "\n",
    "# Bidirectional LSTM Layer (process sequences in both directions)\n",
    "model_2.add(Bidirectional(LSTM(75)))  # LSTM layer with 64 units\n",
    "model_2.add(Dropout(0.6))  # Dropout to prevent overfitting\n",
    "\n",
    "# Dense Layer (fully connected layer to output predictions)\n",
    "model_2.add(Dense(45, activation = 'relu'))  # Dense layer with 32 units\n",
    "\n",
    "# Output layer (four neurons for multi-class classification based on emotion labels we have)\n",
    "model_2.add(Dense(num_classes, activation = 'softmax'))"
   ]
  },
  {
   "cell_type": "code",
   "execution_count": 69,
   "id": "1e62a420-7e95-4b37-8f82-e6c21cb49f8c",
   "metadata": {},
   "outputs": [
    {
     "name": "stdout",
     "output_type": "stream",
     "text": [
      "Model: \"sequential_2\"\n",
      "_________________________________________________________________\n",
      " Layer (type)                Output Shape              Param #   \n",
      "=================================================================\n",
      " embedding_2 (Embedding)     (None, 14, 32)            320000    \n",
      "                                                                 \n",
      " spatial_dropout1d_2 (Spatia  (None, 14, 32)           0         \n",
      " lDropout1D)                                                     \n",
      "                                                                 \n",
      " bidirectional_2 (Bidirectio  (None, 150)              64800     \n",
      " nal)                                                            \n",
      "                                                                 \n",
      " dropout_2 (Dropout)         (None, 150)               0         \n",
      "                                                                 \n",
      " dense_4 (Dense)             (None, 45)                6795      \n",
      "                                                                 \n",
      " dense_5 (Dense)             (None, 4)                 184       \n",
      "                                                                 \n",
      "=================================================================\n",
      "Total params: 391,779\n",
      "Trainable params: 391,779\n",
      "Non-trainable params: 0\n",
      "_________________________________________________________________\n"
     ]
    }
   ],
   "source": [
    "# Compiling the model using Adam as optimizer and 'Sparse categorical crossentropy' for integer labels\n",
    "model_2.compile(optimizer = 'rmsprop', loss = 'sparse_categorical_crossentropy', metrics = ['accuracy'])\n",
    "\n",
    "# Printing model summary to verify architecture\n",
    "model_2.summary()"
   ]
  },
  {
   "cell_type": "code",
   "execution_count": 70,
   "id": "cffcfd08-6360-45b2-9611-c586babf9513",
   "metadata": {},
   "outputs": [
    {
     "name": "stdout",
     "output_type": "stream",
     "text": [
      "Epoch 1/20\n"
     ]
    },
    {
     "name": "stderr",
     "output_type": "stream",
     "text": [
      "2024-11-25 11:31:24.954976: I tensorflow/core/common_runtime/executor.cc:1197] [/device:CPU:0] (DEBUG INFO) Executor start aborting (this does not indicate an error and you can ignore this message): INVALID_ARGUMENT: You must feed a value for placeholder tensor 'gradients/split_2_grad/concat/split_2/split_dim' with dtype int32\n",
      "\t [[{{node gradients/split_2_grad/concat/split_2/split_dim}}]]\n",
      "2024-11-25 11:31:24.955987: I tensorflow/core/common_runtime/executor.cc:1197] [/device:CPU:0] (DEBUG INFO) Executor start aborting (this does not indicate an error and you can ignore this message): INVALID_ARGUMENT: You must feed a value for placeholder tensor 'gradients/split_grad/concat/split/split_dim' with dtype int32\n",
      "\t [[{{node gradients/split_grad/concat/split/split_dim}}]]\n",
      "2024-11-25 11:31:24.956612: I tensorflow/core/common_runtime/executor.cc:1197] [/device:CPU:0] (DEBUG INFO) Executor start aborting (this does not indicate an error and you can ignore this message): INVALID_ARGUMENT: You must feed a value for placeholder tensor 'gradients/split_1_grad/concat/split_1/split_dim' with dtype int32\n",
      "\t [[{{node gradients/split_1_grad/concat/split_1/split_dim}}]]\n",
      "2024-11-25 11:31:25.024466: I tensorflow/core/common_runtime/executor.cc:1197] [/device:CPU:0] (DEBUG INFO) Executor start aborting (this does not indicate an error and you can ignore this message): INVALID_ARGUMENT: You must feed a value for placeholder tensor 'gradients/ReverseV2_grad/ReverseV2/ReverseV2/axis' with dtype int32 and shape [1]\n",
      "\t [[{{node gradients/ReverseV2_grad/ReverseV2/ReverseV2/axis}}]]\n",
      "2024-11-25 11:31:25.047567: I tensorflow/core/common_runtime/executor.cc:1197] [/device:CPU:0] (DEBUG INFO) Executor start aborting (this does not indicate an error and you can ignore this message): INVALID_ARGUMENT: You must feed a value for placeholder tensor 'gradients/split_2_grad/concat/split_2/split_dim' with dtype int32\n",
      "\t [[{{node gradients/split_2_grad/concat/split_2/split_dim}}]]\n",
      "2024-11-25 11:31:25.048309: I tensorflow/core/common_runtime/executor.cc:1197] [/device:CPU:0] (DEBUG INFO) Executor start aborting (this does not indicate an error and you can ignore this message): INVALID_ARGUMENT: You must feed a value for placeholder tensor 'gradients/split_grad/concat/split/split_dim' with dtype int32\n",
      "\t [[{{node gradients/split_grad/concat/split/split_dim}}]]\n",
      "2024-11-25 11:31:25.048952: I tensorflow/core/common_runtime/executor.cc:1197] [/device:CPU:0] (DEBUG INFO) Executor start aborting (this does not indicate an error and you can ignore this message): INVALID_ARGUMENT: You must feed a value for placeholder tensor 'gradients/split_1_grad/concat/split_1/split_dim' with dtype int32\n",
      "\t [[{{node gradients/split_1_grad/concat/split_1/split_dim}}]]\n",
      "2024-11-25 11:31:25.260231: I tensorflow/core/common_runtime/executor.cc:1197] [/device:CPU:0] (DEBUG INFO) Executor start aborting (this does not indicate an error and you can ignore this message): INVALID_ARGUMENT: You must feed a value for placeholder tensor 'gradients/ReverseV2_grad/ReverseV2/ReverseV2/axis' with dtype int32 and shape [1]\n",
      "\t [[{{node gradients/ReverseV2_grad/ReverseV2/ReverseV2/axis}}]]\n",
      "2024-11-25 11:31:25.452426: I tensorflow/core/common_runtime/executor.cc:1197] [/device:CPU:0] (DEBUG INFO) Executor start aborting (this does not indicate an error and you can ignore this message): INVALID_ARGUMENT: You must feed a value for placeholder tensor 'gradients/split_2_grad/concat/split_2/split_dim' with dtype int32\n",
      "\t [[{{node gradients/split_2_grad/concat/split_2/split_dim}}]]\n",
      "2024-11-25 11:31:25.453035: I tensorflow/core/common_runtime/executor.cc:1197] [/device:CPU:0] (DEBUG INFO) Executor start aborting (this does not indicate an error and you can ignore this message): INVALID_ARGUMENT: You must feed a value for placeholder tensor 'gradients/split_grad/concat/split/split_dim' with dtype int32\n",
      "\t [[{{node gradients/split_grad/concat/split/split_dim}}]]\n",
      "2024-11-25 11:31:25.453564: I tensorflow/core/common_runtime/executor.cc:1197] [/device:CPU:0] (DEBUG INFO) Executor start aborting (this does not indicate an error and you can ignore this message): INVALID_ARGUMENT: You must feed a value for placeholder tensor 'gradients/split_1_grad/concat/split_1/split_dim' with dtype int32\n",
      "\t [[{{node gradients/split_1_grad/concat/split_1/split_dim}}]]\n",
      "2024-11-25 11:31:25.519697: I tensorflow/core/common_runtime/executor.cc:1197] [/device:CPU:0] (DEBUG INFO) Executor start aborting (this does not indicate an error and you can ignore this message): INVALID_ARGUMENT: You must feed a value for placeholder tensor 'gradients/ReverseV2_grad/ReverseV2/ReverseV2/axis' with dtype int32 and shape [1]\n",
      "\t [[{{node gradients/ReverseV2_grad/ReverseV2/ReverseV2/axis}}]]\n",
      "2024-11-25 11:31:25.540856: I tensorflow/core/common_runtime/executor.cc:1197] [/device:CPU:0] (DEBUG INFO) Executor start aborting (this does not indicate an error and you can ignore this message): INVALID_ARGUMENT: You must feed a value for placeholder tensor 'gradients/split_2_grad/concat/split_2/split_dim' with dtype int32\n",
      "\t [[{{node gradients/split_2_grad/concat/split_2/split_dim}}]]\n",
      "2024-11-25 11:31:25.541479: I tensorflow/core/common_runtime/executor.cc:1197] [/device:CPU:0] (DEBUG INFO) Executor start aborting (this does not indicate an error and you can ignore this message): INVALID_ARGUMENT: You must feed a value for placeholder tensor 'gradients/split_grad/concat/split/split_dim' with dtype int32\n",
      "\t [[{{node gradients/split_grad/concat/split/split_dim}}]]\n",
      "2024-11-25 11:31:25.542160: I tensorflow/core/common_runtime/executor.cc:1197] [/device:CPU:0] (DEBUG INFO) Executor start aborting (this does not indicate an error and you can ignore this message): INVALID_ARGUMENT: You must feed a value for placeholder tensor 'gradients/split_1_grad/concat/split_1/split_dim' with dtype int32\n",
      "\t [[{{node gradients/split_1_grad/concat/split_1/split_dim}}]]\n",
      "2024-11-25 11:31:25.764102: I tensorflow/core/common_runtime/executor.cc:1197] [/device:CPU:0] (DEBUG INFO) Executor start aborting (this does not indicate an error and you can ignore this message): INVALID_ARGUMENT: You must feed a value for placeholder tensor 'gradients/ReverseV2_grad/ReverseV2/ReverseV2/axis' with dtype int32 and shape [1]\n",
      "\t [[{{node gradients/ReverseV2_grad/ReverseV2/ReverseV2/axis}}]]\n",
      "2024-11-25 11:31:25.862584: I tensorflow/core/grappler/optimizers/custom_graph_optimizer_registry.cc:114] Plugin optimizer for device_type GPU is enabled.\n",
      "2024-11-25 11:31:26.114232: I tensorflow/core/grappler/optimizers/custom_graph_optimizer_registry.cc:114] Plugin optimizer for device_type GPU is enabled.\n",
      "2024-11-25 11:31:26.131521: I tensorflow/core/grappler/optimizers/custom_graph_optimizer_registry.cc:114] Plugin optimizer for device_type GPU is enabled.\n",
      "2024-11-25 11:31:26.372851: I tensorflow/core/grappler/optimizers/custom_graph_optimizer_registry.cc:114] Plugin optimizer for device_type GPU is enabled.\n",
      "2024-11-25 11:31:26.397265: I tensorflow/core/grappler/optimizers/custom_graph_optimizer_registry.cc:114] Plugin optimizer for device_type GPU is enabled.\n"
     ]
    },
    {
     "name": "stdout",
     "output_type": "stream",
     "text": [
      "57/57 [==============================] - 4s 43ms/step - loss: 1.3753 - accuracy: 0.3136\n",
      "Epoch 2/20\n",
      "57/57 [==============================] - 2s 32ms/step - loss: 1.3503 - accuracy: 0.3255\n",
      "Epoch 3/20\n",
      "57/57 [==============================] - 2s 30ms/step - loss: 1.1646 - accuracy: 0.4747\n",
      "Epoch 4/20\n",
      "57/57 [==============================] - 2s 27ms/step - loss: 0.8301 - accuracy: 0.6723\n",
      "Epoch 5/20\n",
      "57/57 [==============================] - 2s 28ms/step - loss: 0.6370 - accuracy: 0.7415\n",
      "Epoch 6/20\n",
      "57/57 [==============================] - 2s 30ms/step - loss: 0.4915 - accuracy: 0.8270\n",
      "Epoch 7/20\n",
      "57/57 [==============================] - 2s 28ms/step - loss: 0.3641 - accuracy: 0.8746\n",
      "Epoch 8/20\n",
      "57/57 [==============================] - 1s 26ms/step - loss: 0.2794 - accuracy: 0.9076\n",
      "Epoch 9/20\n",
      "57/57 [==============================] - 1s 26ms/step - loss: 0.2280 - accuracy: 0.9172\n",
      "Epoch 10/20\n",
      "57/57 [==============================] - 2s 26ms/step - loss: 0.1989 - accuracy: 0.9325\n",
      "Epoch 11/20\n",
      "57/57 [==============================] - 2s 27ms/step - loss: 0.1802 - accuracy: 0.9391\n",
      "Epoch 12/20\n",
      "57/57 [==============================] - 1s 25ms/step - loss: 0.1635 - accuracy: 0.9424\n",
      "Epoch 13/20\n",
      "57/57 [==============================] - 1s 26ms/step - loss: 0.1397 - accuracy: 0.9552\n",
      "Epoch 14/20\n",
      "57/57 [==============================] - 1s 26ms/step - loss: 0.1403 - accuracy: 0.9563\n",
      "Epoch 15/20\n",
      "57/57 [==============================] - 1s 26ms/step - loss: 0.1312 - accuracy: 0.9552\n",
      "Epoch 16/20\n",
      "57/57 [==============================] - 1s 26ms/step - loss: 0.1219 - accuracy: 0.9621\n",
      "Epoch 17/20\n",
      "57/57 [==============================] - 2s 26ms/step - loss: 0.1037 - accuracy: 0.9640\n",
      "Epoch 18/20\n",
      "57/57 [==============================] - 2s 28ms/step - loss: 0.0918 - accuracy: 0.9690\n",
      "Epoch 19/20\n",
      "57/57 [==============================] - 2s 29ms/step - loss: 0.1023 - accuracy: 0.9660\n",
      "Epoch 20/20\n",
      "57/57 [==============================] - 2s 28ms/step - loss: 0.0913 - accuracy: 0.9707\n",
      "\n",
      "\n",
      "Training Time: 33.96592712402344\n"
     ]
    }
   ],
   "source": [
    "# Recording  the starting time of the training process\n",
    "tick = time()\n",
    "\n",
    "# Training the model on the train data without using validation split\n",
    "model_2_history = model_2.fit(X_train, train_encoded_labels, epochs = 20, batch_size = 64, validation_split = 0.0)\n",
    "\n",
    "# Recording training time\n",
    "model_2_train_time = time() - tick\n",
    "\n",
    "# Getting training accuracy history\n",
    "model_2_train_accuracy = model_2_history.history['accuracy']\n",
    "\n",
    "print('\\n\\nTraining Time:', model_2_train_time)"
   ]
  },
  {
   "cell_type": "code",
   "execution_count": 71,
   "id": "0dca4bba-b9d4-4628-975d-cc9a35530cb0",
   "metadata": {},
   "outputs": [
    {
     "name": "stdout",
     "output_type": "stream",
     "text": [
      "Model 2 Training Accuracy per Epoch: \n",
      "\n",
      "Epoch 1: Training Accuracy = 0.3136\n",
      "\n",
      "Epoch 2: Training Accuracy = 0.3255\n",
      "\n",
      "Epoch 3: Training Accuracy = 0.4747\n",
      "\n",
      "Epoch 4: Training Accuracy = 0.6723\n",
      "\n",
      "Epoch 5: Training Accuracy = 0.7415\n",
      "\n",
      "Epoch 6: Training Accuracy = 0.8270\n",
      "\n",
      "Epoch 7: Training Accuracy = 0.8746\n",
      "\n",
      "Epoch 8: Training Accuracy = 0.9076\n",
      "\n",
      "Epoch 9: Training Accuracy = 0.9172\n",
      "\n",
      "Epoch 10: Training Accuracy = 0.9325\n",
      "\n",
      "Epoch 11: Training Accuracy = 0.9391\n",
      "\n",
      "Epoch 12: Training Accuracy = 0.9424\n",
      "\n",
      "Epoch 13: Training Accuracy = 0.9552\n",
      "\n",
      "Epoch 14: Training Accuracy = 0.9563\n",
      "\n",
      "Epoch 15: Training Accuracy = 0.9552\n",
      "\n",
      "Epoch 16: Training Accuracy = 0.9621\n",
      "\n",
      "Epoch 17: Training Accuracy = 0.9640\n",
      "\n",
      "Epoch 18: Training Accuracy = 0.9690\n",
      "\n",
      "Epoch 19: Training Accuracy = 0.9660\n",
      "\n",
      "Epoch 20: Training Accuracy = 0.9707\n",
      "\n"
     ]
    }
   ],
   "source": [
    "# Printing the training accuracy per epoch\n",
    "print('Model 2 Training Accuracy per Epoch: \\n')\n",
    "for epoch, acc in enumerate(model_2_train_accuracy, start = 1):\n",
    "    print(f'Epoch {epoch}: Training Accuracy = {acc:.4f}\\n')"
   ]
  },
  {
   "cell_type": "code",
   "execution_count": 72,
   "id": "4d472ad1-4266-439f-927e-4e5a6ece3688",
   "metadata": {},
   "outputs": [
    {
     "name": "stderr",
     "output_type": "stream",
     "text": [
      "2024-11-25 11:31:59.031403: I tensorflow/core/common_runtime/executor.cc:1197] [/device:CPU:0] (DEBUG INFO) Executor start aborting (this does not indicate an error and you can ignore this message): INVALID_ARGUMENT: You must feed a value for placeholder tensor 'gradients/split_2_grad/concat/split_2/split_dim' with dtype int32\n",
      "\t [[{{node gradients/split_2_grad/concat/split_2/split_dim}}]]\n",
      "2024-11-25 11:31:59.032320: I tensorflow/core/common_runtime/executor.cc:1197] [/device:CPU:0] (DEBUG INFO) Executor start aborting (this does not indicate an error and you can ignore this message): INVALID_ARGUMENT: You must feed a value for placeholder tensor 'gradients/split_grad/concat/split/split_dim' with dtype int32\n",
      "\t [[{{node gradients/split_grad/concat/split/split_dim}}]]\n",
      "2024-11-25 11:31:59.032818: I tensorflow/core/common_runtime/executor.cc:1197] [/device:CPU:0] (DEBUG INFO) Executor start aborting (this does not indicate an error and you can ignore this message): INVALID_ARGUMENT: You must feed a value for placeholder tensor 'gradients/split_1_grad/concat/split_1/split_dim' with dtype int32\n",
      "\t [[{{node gradients/split_1_grad/concat/split_1/split_dim}}]]\n",
      "2024-11-25 11:31:59.095167: I tensorflow/core/common_runtime/executor.cc:1197] [/device:CPU:0] (DEBUG INFO) Executor start aborting (this does not indicate an error and you can ignore this message): INVALID_ARGUMENT: You must feed a value for placeholder tensor 'gradients/ReverseV2_grad/ReverseV2/ReverseV2/axis' with dtype int32 and shape [1]\n",
      "\t [[{{node gradients/ReverseV2_grad/ReverseV2/ReverseV2/axis}}]]\n",
      "2024-11-25 11:31:59.116932: I tensorflow/core/common_runtime/executor.cc:1197] [/device:CPU:0] (DEBUG INFO) Executor start aborting (this does not indicate an error and you can ignore this message): INVALID_ARGUMENT: You must feed a value for placeholder tensor 'gradients/split_2_grad/concat/split_2/split_dim' with dtype int32\n",
      "\t [[{{node gradients/split_2_grad/concat/split_2/split_dim}}]]\n",
      "2024-11-25 11:31:59.117508: I tensorflow/core/common_runtime/executor.cc:1197] [/device:CPU:0] (DEBUG INFO) Executor start aborting (this does not indicate an error and you can ignore this message): INVALID_ARGUMENT: You must feed a value for placeholder tensor 'gradients/split_grad/concat/split/split_dim' with dtype int32\n",
      "\t [[{{node gradients/split_grad/concat/split/split_dim}}]]\n",
      "2024-11-25 11:31:59.118215: I tensorflow/core/common_runtime/executor.cc:1197] [/device:CPU:0] (DEBUG INFO) Executor start aborting (this does not indicate an error and you can ignore this message): INVALID_ARGUMENT: You must feed a value for placeholder tensor 'gradients/split_1_grad/concat/split_1/split_dim' with dtype int32\n",
      "\t [[{{node gradients/split_1_grad/concat/split_1/split_dim}}]]\n",
      "2024-11-25 11:31:59.146975: I tensorflow/core/grappler/optimizers/custom_graph_optimizer_registry.cc:114] Plugin optimizer for device_type GPU is enabled.\n"
     ]
    },
    {
     "name": "stdout",
     "output_type": "stream",
     "text": [
      "10/11 [==========================>...] - ETA: 0s"
     ]
    },
    {
     "name": "stderr",
     "output_type": "stream",
     "text": [
      "2024-11-25 11:31:59.237515: I tensorflow/core/grappler/optimizers/custom_graph_optimizer_registry.cc:114] Plugin optimizer for device_type GPU is enabled.\n",
      "2024-11-25 11:31:59.252576: I tensorflow/core/grappler/optimizers/custom_graph_optimizer_registry.cc:114] Plugin optimizer for device_type GPU is enabled.\n"
     ]
    },
    {
     "name": "stdout",
     "output_type": "stream",
     "text": [
      "11/11 [==============================] - 1s 10ms/step\n",
      "Model 2 Validation Accuracy: 0.8271\n"
     ]
    }
   ],
   "source": [
    "# Making predictions on the validation data\n",
    "model_2_predictions = model_2.predict(X_val)\n",
    "\n",
    "# Converting predictions from probabilities to class labels\n",
    "model_2_predicted_labels = np.argmax(model_2_predictions, axis = 1)\n",
    "\n",
    "# Calculating validation accuracy\n",
    "model_2_validation_accuracy = accuracy_score(val_encoded_labels, model_2_predicted_labels)\n",
    "\n",
    "# Printing the validation accuracy\n",
    "print(f'Model 2 Validation Accuracy: {model_2_validation_accuracy:.4f}')"
   ]
  },
  {
   "cell_type": "code",
   "execution_count": 73,
   "id": "e7bd421f-b738-4374-a6dd-b54a927be511",
   "metadata": {},
   "outputs": [
    {
     "data": {
      "image/png": "[encoded data removed]",
      "text/plain": [
       "<Figure size 800x600 with 2 Axes>"
      ]
     },
     "metadata": {},
     "output_type": "display_data"
    }
   ],
   "source": [
    "# Generating the confusion matrix\n",
    "model_2_cm = confusion_matrix(val_encoded_labels, model_2_predicted_labels)\n",
    "\n",
    "# Plot the confusion matrix using Seaborn heatmap\n",
    "plt.figure(figsize = (8, 6))\n",
    "sns.heatmap(model_2_cm, annot = True, fmt = 'd', cmap = 'Blues', xticklabels = emotion_labels, yticklabels = emotion_labels)\n",
    "\n",
    "#sns.heatmap(cm, annot=True, fmt='d', cmap='Blues', xticklabels=np.arange(num_classes), yticklabels=np.arange(num_classes))\n",
    "\n",
    "plt.title(\"Model 2 Confusion Matrix for Validation Data\")\n",
    "plt.xlabel(\"Predicted Labels\")\n",
    "plt.ylabel(\"True Labels\")\n",
    "plt.xticks(rotation=45)\n",
    "plt.yticks(rotation=45)\n",
    "plt.show()"
   ]
  },
  {
   "cell_type": "markdown",
   "id": "c9adf0a2-0da0-48fb-971e-b88194819bf5",
   "metadata": {},
   "source": [
    "## <span style='color:blue'>For anger we have:</span>\n",
    "* 69 TP\n",
    "* 216 TN (decreased 3 units compared to initial_model and model_1)\n",
    "* 9 FP (decreased 2 units compared to initial_model and model_1)\n",
    "* 17 FN (increased 3 units compared to initial_model and model_1)\n",
    "\n",
    "## <span style='color:blue'>For fear we have:</span>\n",
    "* 92 TP (decreased 2 units compared to initial_model and model_1)\n",
    "* 133 TN (decreased 61 units compared to initial_model and model_1)\n",
    "* 24 FP (increased 1 unit compared to initial_model and model_1)\n",
    "* 21 FN (increased 5 units compared to initial_model and model_1)\n",
    "\n",
    "## <span style='color:blue'>For joy we have:</span>\n",
    "* 68 TP\n",
    "* 219 TN (decreased 1 unit compared to initial_model and model_1)\n",
    "* 11 FP (decreased 2 units compared to initial_model and model_1)\n",
    "* 11 FN\n",
    "\n",
    "## <span style='color:blue'>For sadness we have:</span>\n",
    "* 58 TP (increased 1 unit compared to initial_model and model_1)\n",
    "* 229 TN (decreased 2 units compared to initial_model and model_1)\n",
    "* 16 FP (decreased 1 unit compared to initial_model and model_1)\n",
    "* 16 FN (increased 4 units compared to initial_model and model_1)\n",
    "\n",
    "## <span style='color:blue'>Given that the model's training accuracy in the last epoch was 0.9707, while the validation accuracy was 0.8271, we can conclude that the model is overfitting. However, it still generalizes to unseen data to some extent, although not perfectly. Compared to initial_model and model_1 results is identifying a bit more patterns within the training data (based on training accuracy differences) and exhibits a lower performance while generalizing to unseen data (its validation accuracy is the lowest recorded so far).</span>"
   ]
  },
  {
   "cell_type": "code",
   "execution_count": 74,
   "id": "54526cf8-16a6-464a-aecc-5c0d10c3e36e",
   "metadata": {},
   "outputs": [
    {
     "name": "stdout",
     "output_type": "stream",
     "text": [
      "WARNING:tensorflow:Layer gru will not use cuDNN kernels since it doesn't meet the criteria. It will use a generic GPU kernel as fallback when running on GPU.\n"
     ]
    }
   ],
   "source": [
    "# Creating the model\n",
    "model_3 = Sequential()\n",
    "\n",
    "# Embedding layer\n",
    "model_3.add(Embedding(input_dim = vocab_size, output_dim = 32, input_length = int(max_len)))\n",
    "\n",
    "# Bidirectional LSTM Layer (process sequences in both directions)\n",
    "model_3.add(GRU(64, reset_after=False))  # GRU layer with 64 units\n",
    "model_3.add(Dropout(0.6))  # Dropout to prevent overfitting\n",
    "\n",
    "# Dense Layer (fully connected layer to output predictions)\n",
    "#model_2.add(GlobalAveragePooling1D())  # Taking average of sequence length for better generalization\n",
    "model_3.add(Dense(45, activation = 'relu'))  # Dense layer with 32 units\n",
    "\n",
    "# Output layer (four neurons for multi-class classification based on emotion labels we have)\n",
    "model_3.add(Dense(num_classes, activation = 'softmax'))"
   ]
  },
  {
   "cell_type": "code",
   "execution_count": 75,
   "id": "683e1fdb-2545-4d2a-af7c-6815b9de940b",
   "metadata": {},
   "outputs": [
    {
     "name": "stdout",
     "output_type": "stream",
     "text": [
      "Model: \"sequential_3\"\n",
      "_________________________________________________________________\n",
      " Layer (type)                Output Shape              Param #   \n",
      "=================================================================\n",
      " embedding_3 (Embedding)     (None, 14, 32)            320000    \n",
      "                                                                 \n",
      " gru (GRU)                   (None, 64)                18624     \n",
      "                                                                 \n",
      " dropout_3 (Dropout)         (None, 64)                0         \n",
      "                                                                 \n",
      " dense_6 (Dense)             (None, 45)                2925      \n",
      "                                                                 \n",
      " dense_7 (Dense)             (None, 4)                 184       \n",
      "                                                                 \n",
      "=================================================================\n",
      "Total params: 341,733\n",
      "Trainable params: 341,733\n",
      "Non-trainable params: 0\n",
      "_________________________________________________________________\n"
     ]
    }
   ],
   "source": [
    "# Compiling the model using Adam as optimizer and 'Sparse categorical crossentropy' for integer labels\n",
    "model_3.compile(optimizer = 'rmsprop', loss = 'sparse_categorical_crossentropy', metrics = ['accuracy'])\n",
    "\n",
    "# Printing model summary to verify architecture\n",
    "model_3.summary()"
   ]
  },
  {
   "cell_type": "code",
   "execution_count": 76,
   "id": "48d0be82-f39e-4f8e-a09c-a1c79fbfd8bc",
   "metadata": {},
   "outputs": [
    {
     "name": "stdout",
     "output_type": "stream",
     "text": [
      "Epoch 1/20\n"
     ]
    },
    {
     "name": "stderr",
     "output_type": "stream",
     "text": [
      "2024-11-25 11:32:00.249285: I tensorflow/core/grappler/optimizers/custom_graph_optimizer_registry.cc:114] Plugin optimizer for device_type GPU is enabled.\n"
     ]
    },
    {
     "name": "stdout",
     "output_type": "stream",
     "text": [
      "57/57 [==============================] - 18s 301ms/step - loss: 1.3680 - accuracy: 0.3230\n",
      "Epoch 2/20\n",
      "57/57 [==============================] - 17s 300ms/step - loss: 1.1867 - accuracy: 0.4857\n",
      "Epoch 3/20\n",
      "57/57 [==============================] - 17s 294ms/step - loss: 0.7515 - accuracy: 0.7470\n",
      "Epoch 4/20\n",
      "57/57 [==============================] - 17s 295ms/step - loss: 0.3980 - accuracy: 0.8898\n",
      "Epoch 5/20\n",
      "57/57 [==============================] - 17s 293ms/step - loss: 0.2240 - accuracy: 0.9383\n",
      "Epoch 6/20\n",
      "57/57 [==============================] - 17s 290ms/step - loss: 0.1589 - accuracy: 0.9538\n",
      "Epoch 7/20\n",
      "57/57 [==============================] - 16s 283ms/step - loss: 0.1225 - accuracy: 0.9624\n",
      "Epoch 8/20\n",
      "57/57 [==============================] - 17s 299ms/step - loss: 0.1001 - accuracy: 0.9665\n",
      "Epoch 9/20\n",
      "57/57 [==============================] - 17s 306ms/step - loss: 0.0903 - accuracy: 0.9687\n",
      "Epoch 10/20\n",
      "57/57 [==============================] - 16s 285ms/step - loss: 0.0843 - accuracy: 0.9745\n",
      "Epoch 11/20\n",
      "57/57 [==============================] - 16s 285ms/step - loss: 0.0691 - accuracy: 0.9759\n",
      "Epoch 12/20\n",
      "57/57 [==============================] - 16s 285ms/step - loss: 0.0657 - accuracy: 0.9759\n",
      "Epoch 13/20\n",
      "57/57 [==============================] - 16s 283ms/step - loss: 0.0666 - accuracy: 0.9776\n",
      "Epoch 14/20\n",
      "57/57 [==============================] - 16s 284ms/step - loss: 0.0591 - accuracy: 0.9776\n",
      "Epoch 15/20\n",
      "57/57 [==============================] - 16s 285ms/step - loss: 0.0561 - accuracy: 0.9798\n",
      "Epoch 16/20\n",
      "57/57 [==============================] - 16s 286ms/step - loss: 0.0598 - accuracy: 0.9790\n",
      "Epoch 17/20\n",
      "57/57 [==============================] - 16s 287ms/step - loss: 0.0562 - accuracy: 0.9792\n",
      "Epoch 18/20\n",
      "57/57 [==============================] - 16s 283ms/step - loss: 0.0460 - accuracy: 0.9803\n",
      "Epoch 19/20\n",
      "57/57 [==============================] - 16s 286ms/step - loss: 0.0511 - accuracy: 0.9795\n",
      "Epoch 20/20\n",
      "57/57 [==============================] - 16s 283ms/step - loss: 0.0553 - accuracy: 0.9779\n",
      "\n",
      "\n",
      "Training Time: 331.5574188232422\n"
     ]
    }
   ],
   "source": [
    "# Recording  the starting time of the training process\n",
    "tick = time()\n",
    "\n",
    "# Training the model on the train data without using validation split\n",
    "model_3_history = model_3.fit(X_train, train_encoded_labels, epochs = 20, batch_size = 64, validation_split = 0.0)\n",
    "\n",
    "# Recording training time\n",
    "model_3_train_time = time() - tick\n",
    "\n",
    "# Getting training accuracy history\n",
    "model_3_train_accuracy = model_3_history.history['accuracy']\n",
    "\n",
    "print('\\n\\nTraining Time:', model_3_train_time)"
   ]
  },
  {
   "cell_type": "code",
   "execution_count": 77,
   "id": "5ee4ec04-6342-43f2-b724-25ccc078d189",
   "metadata": {},
   "outputs": [
    {
     "name": "stdout",
     "output_type": "stream",
     "text": [
      "Model 3 Training Accuracy per Epoch: \n",
      "\n",
      "Epoch 1: Training Accuracy = 0.3230\n",
      "\n",
      "Epoch 2: Training Accuracy = 0.4857\n",
      "\n",
      "Epoch 3: Training Accuracy = 0.7470\n",
      "\n",
      "Epoch 4: Training Accuracy = 0.8898\n",
      "\n",
      "Epoch 5: Training Accuracy = 0.9383\n",
      "\n",
      "Epoch 6: Training Accuracy = 0.9538\n",
      "\n",
      "Epoch 7: Training Accuracy = 0.9624\n",
      "\n",
      "Epoch 8: Training Accuracy = 0.9665\n",
      "\n",
      "Epoch 9: Training Accuracy = 0.9687\n",
      "\n",
      "Epoch 10: Training Accuracy = 0.9745\n",
      "\n",
      "Epoch 11: Training Accuracy = 0.9759\n",
      "\n",
      "Epoch 12: Training Accuracy = 0.9759\n",
      "\n",
      "Epoch 13: Training Accuracy = 0.9776\n",
      "\n",
      "Epoch 14: Training Accuracy = 0.9776\n",
      "\n",
      "Epoch 15: Training Accuracy = 0.9798\n",
      "\n",
      "Epoch 16: Training Accuracy = 0.9790\n",
      "\n",
      "Epoch 17: Training Accuracy = 0.9792\n",
      "\n",
      "Epoch 18: Training Accuracy = 0.9803\n",
      "\n",
      "Epoch 19: Training Accuracy = 0.9795\n",
      "\n",
      "Epoch 20: Training Accuracy = 0.9779\n",
      "\n"
     ]
    }
   ],
   "source": [
    "# Printing the training accuracy per epoch\n",
    "print('Model 3 Training Accuracy per Epoch: \\n')\n",
    "for epoch, acc in enumerate(model_3_train_accuracy, start = 1):\n",
    "    print(f'Epoch {epoch}: Training Accuracy = {acc:.4f}\\n')"
   ]
  },
  {
   "cell_type": "code",
   "execution_count": 78,
   "id": "41bd9d9d-f808-4a26-a371-ba772a646978",
   "metadata": {},
   "outputs": [
    {
     "name": "stdout",
     "output_type": "stream",
     "text": [
      "11/11 [==============================] - 0s 5ms/step\n",
      "Model 3 Validation Accuracy: 0.8271\n"
     ]
    }
   ],
   "source": [
    "# Making predictions on the validation data\n",
    "model_3_predictions = model_2.predict(X_val)\n",
    "\n",
    "# Converting predictions from probabilities to class labels\n",
    "model_3_predicted_labels = np.argmax(model_3_predictions, axis = 1)\n",
    "\n",
    "# Calculating validation accuracy\n",
    "model_3_validation_accuracy = accuracy_score(val_encoded_labels, model_3_predicted_labels)\n",
    "\n",
    "# Printing the validation accuracy\n",
    "print(f'Model 3 Validation Accuracy: {model_3_validation_accuracy:.4f}')"
   ]
  },
  {
   "cell_type": "code",
   "execution_count": 79,
   "id": "a75e789b-d4eb-4f48-9b37-0de8b4539706",
   "metadata": {},
   "outputs": [
    {
     "data": {
      "image/png": "[encoded data removed]",
      "text/plain": [
       "<Figure size 800x600 with 2 Axes>"
      ]
     },
     "metadata": {},
     "output_type": "display_data"
    }
   ],
   "source": [
    "# Generating the confusion matrix\n",
    "model_3_cm = confusion_matrix(val_encoded_labels, model_3_predicted_labels)\n",
    "\n",
    "# Plotting the confusion matrix using Seaborn heatmap\n",
    "plt.figure(figsize = (8, 6))\n",
    "sns.heatmap(model_3_cm, annot = True, fmt = 'd', cmap = 'Blues', xticklabels = emotion_labels, yticklabels = emotion_labels)\n",
    "\n",
    "#sns.heatmap(cm, annot=True, fmt='d', cmap='Blues', xticklabels=np.arange(num_classes), yticklabels=np.arange(num_classes))\n",
    "\n",
    "plt.title(\"Model 3 Confusion Matrix for Validation Data\")\n",
    "plt.xlabel(\"Predicted Labels\")\n",
    "plt.ylabel(\"True Labels\")\n",
    "plt.xticks(rotation=45)\n",
    "plt.yticks(rotation=45)\n",
    "plt.show()"
   ]
  },
  {
   "cell_type": "markdown",
   "id": "40a37afe-1d8e-48fb-8f9a-4762d1f1d90f",
   "metadata": {},
   "source": [
    "## <span style='color:blue'>For anger we have:</span>\n",
    "* 69 TP\n",
    "* 218 TN (decreased 1 unit compared to model_1 and initial_model)\n",
    "* 9 FP (decreased 2 units compared to initial_model and model_1)\n",
    "* 17 FN (increased 2 units compared to initial_model and model_1)\n",
    "\n",
    "## <span style='color:blue'>For fear we have:</span>\n",
    "* 92 TP (decreased 2 units compared to initial_model and model_1)\n",
    "* 195 TN (increased 1 unit compared to initial_model and model_1)\n",
    "* 24 FP (increased 1 unit compared to initial_model and model_1)\n",
    "* 18 FN (increased 2 units compared to initial_model and model_1)\n",
    "\n",
    "## <span style='color:blue'>For joy we have:</span>\n",
    "* 68 TP\n",
    "* 219 TN (decreased 1 unit compared to initial_model and model_1)\n",
    "* 11 FP (decreased 2 units compared to initial_model and model_1)\n",
    "* 11 FN\n",
    "\n",
    "## <span style='color:blue'>For sadness we have:</span>\n",
    "* 58 TP (increased 1 unit compared to initial_model and model_1)\n",
    "* 229 TN (decreased 2 units compared to initial_model and model_1)\n",
    "* 15 FP (decreased 1 unit compared to initial_model and model_1)\n",
    "* 16 FN (increased 4 units compared to initial_model and model_1)\n",
    "\n",
    "## <span style='color:blue'>Given that the model's training accuracy in the last epoch was 0.9779 and the validation accuracy was 0.8271, we can conclude that the model is overfitting. However, it still generalizes to unseen data to some extent, although not perfectly. Compared to the results from the initial model, model_1, and model_2, this model took significantly longer to train. However, its training accuracy is the highest recorded training accuracy so far. In terms of generalization along with model_2, it shows a lower performance compared to initial_model and model_1.</span>"
   ]
  },
  {
   "cell_type": "markdown",
   "id": "28203c34-7936-4f02-ae6a-a33d203eb2cd",
   "metadata": {},
   "source": [
    "# 3. Discussion"
   ]
  },
  {
   "cell_type": "markdown",
   "id": "7320a6ab-1db0-4d10-9e6e-208a934e7c6d",
   "metadata": {},
   "source": [
    "## Commenting on the relative merits of each model. Selecting the best model based on quantitative metrics and plots and explaining this is the best model"
   ]
  },
  {
   "cell_type": "code",
   "execution_count": 91,
   "id": "a53d22c5-981e-4a51-888d-b1d105867fe6",
   "metadata": {},
   "outputs": [
    {
     "name": "stdout",
     "output_type": "stream",
     "text": [
      "╒═══════════════╤══════════════════╤═════════════════════╤═══════════════════════╤══════════════════════════════════════════════════╕\n",
      "│     Model     │  Training Times  │  Training Accuracy  │  Validation Accuracy  │                      Notes                       │\n",
      "╞═══════════════╪══════════════════╪═════════════════════╪═══════════════════════╪══════════════════════════════════════════════════╡\n",
      "│ initial_model │     33.5601      │      0.970385       │       0.829971        │   High training accuracy, overfitting, decent    │\n",
      "│               │                  │                     │                       │    training time, generalizes to some extent     │\n",
      "├───────────────┼──────────────────┼─────────────────────┼───────────────────────┼──────────────────────────────────────────────────┤\n",
      "│    model_1    │     32.4839      │      0.913368       │       0.829971        │ The Lowest training accuracy, overfitting,  best │\n",
      "│               │                  │                     │                       │    training time, generalizes to some extent     │\n",
      "├───────────────┼──────────────────┼─────────────────────┼───────────────────────┼──────────────────────────────────────────────────┤\n",
      "│    model_2    │     33.9659      │      0.970662       │       0.827089        │   High training accuracy, overfitting, decent    │\n",
      "│               │                  │                     │                       │       training time, lower generalization        │\n",
      "├───────────────┼──────────────────┼─────────────────────┼───────────────────────┼──────────────────────────────────────────────────┤\n",
      "│    model_3    │     331.557      │      0.977858       │       0.827089        │   The Highest training accuracy, overfitting,    │\n",
      "│               │                  │                     │                       │   excesive training time, lower generalization   │\n",
      "╘═══════════════╧══════════════════╧═════════════════════╧═══════════════════════╧══════════════════════════════════════════════════╛\n"
     ]
    }
   ],
   "source": [
    "model_names = ['initial_model', 'model_1', 'model_2', 'model_3']\n",
    "training_acc = [initial_model_train_accuracy[-1], model_1_train_accuracy[-1], model_2_train_accuracy[-1], model_3_train_accuracy[-1]]\n",
    "val_acc = [initial_model_validation_accuracy, model_1_validation_accuracy, model_2_validation_accuracy, model_3_validation_accuracy]\n",
    "training_times = [initial_model_train_time, model_1_train_time, model_2_train_time, model_3_train_time]\n",
    "notes = [\n",
    "        'High training accuracy, overfitting, decent training time, generalizes to some extent',\n",
    "        'The Lowest training accuracy, overfitting,  best training time, generalizes to some extent',\n",
    "        'High training accuracy, overfitting, decent training time, lower generalization',\n",
    "        'The Highest training accuracy, overfitting, excesive training time, lower generalization',\n",
    "]\n",
    "\n",
    "# Wraping long notes text\n",
    "max_width = 50  # Adjusting the max width of the text to fit in the column\n",
    "wrapped_notes = [textwrap.fill(note, max_width) for note in notes]\n",
    "\n",
    "# Preparing the data for tabulation\n",
    "model_comparison = zip(model_names, training_times, training_acc, val_acc, wrapped_notes)\n",
    "\n",
    "# Creating the table using tabulate\n",
    "table = tabulate(model_comparison, headers = ['Model', 'Training Times', 'Training Accuracy', 'Validation Accuracy', 'Notes'], \n",
    "                 tablefmt = 'fancy_grid', showindex = False, numalign = \"center\", stralign = \"center\")\n",
    "\n",
    "# Printing the table\n",
    "print(table)"
   ]
  },
  {
   "cell_type": "markdown",
   "id": "41d06465-c47f-41ab-b7ec-32f67327b9aa",
   "metadata": {},
   "source": [
    "## <span style='color:blue'>Based on what was stated before the best model is initial_model.</span>"
   ]
  },
  {
   "cell_type": "code",
   "execution_count": 88,
   "id": "695f46c6-afb8-49f9-bba0-560f5c3c1281",
   "metadata": {},
   "outputs": [],
   "source": [
    "best_model = initial_model"
   ]
  },
  {
   "cell_type": "markdown",
   "id": "3894f97a-fd84-405e-ae70-44c20c4716d5",
   "metadata": {},
   "source": [
    "## Making predictions on the testing data, calculating the testing accuracy and displaying the confusion matrix for test data"
   ]
  },
  {
   "cell_type": "code",
   "execution_count": 89,
   "id": "9f4cefdd-0d68-4978-9d9b-9ed37c4f06aa",
   "metadata": {},
   "outputs": [
    {
     "name": "stdout",
     "output_type": "stream",
     "text": [
      "99/99 [==============================] - 1s 12ms/step\n",
      "Best Model Testing Accuracy: 0.8205\n"
     ]
    }
   ],
   "source": [
    "# Making predictions on the testing data\n",
    "best_model_predictions = best_model.predict(X_test)\n",
    "\n",
    "# Converting predictions from probabilities to class labels\n",
    "best_model_predicted_labels = np.argmax(best_model_predictions, axis = 1)\n",
    "\n",
    "# Calculating validation accuracy\n",
    "best_model_test_accuracy = accuracy_score(test_encoded_labels, best_model_predicted_labels)\n",
    "\n",
    "# Printing the validation accuracy\n",
    "print(f'Best Model Testing Accuracy: {best_model_test_accuracy:.4f}')"
   ]
  },
  {
   "cell_type": "code",
   "execution_count": 90,
   "id": "923d6047-56b4-4ba0-8c4c-0c7d6a73a4ac",
   "metadata": {},
   "outputs": [
    {
     "data": {
      "image/png": "[encoded data removed]",
      "text/plain": [
       "<Figure size 800x600 with 2 Axes>"
      ]
     },
     "metadata": {},
     "output_type": "display_data"
    }
   ],
   "source": [
    "# Generating the confusion matrix\n",
    "best_model_cm = confusion_matrix(test_encoded_labels, best_model_predicted_labels)\n",
    "\n",
    "# Plotting the confusion matrix using Seaborn heatmap\n",
    "plt.figure(figsize = (8, 6))\n",
    "sns.heatmap(best_model_cm, annot = True, fmt = 'd', cmap = 'Blues', xticklabels = emotion_labels, yticklabels = emotion_labels)\n",
    "\n",
    "#sns.heatmap(cm, annot=True, fmt='d', cmap='Blues', xticklabels=np.arange(num_classes), yticklabels=np.arange(num_classes))\n",
    "\n",
    "plt.title(\"Best Model Confusion Matrix for Test Data\")\n",
    "plt.xlabel(\"Predicted Labels\")\n",
    "plt.ylabel(\"True Labels\")\n",
    "plt.xticks(rotation = 45)\n",
    "plt.yticks(rotation = 45)\n",
    "plt.show()"
   ]
  },
  {
   "cell_type": "markdown",
   "id": "65cdba0e-da6b-42cd-a352-ecb792e8a8cf",
   "metadata": {},
   "source": [
    "## Describing how well the model will work to classify the emotional connotation of a tweet. Providing a quantitative measure of accuracy and describing an shortcomings of the model"
   ]
  },
  {
   "cell_type": "markdown",
   "id": "38bccaa4-a290-48b0-9045-e35beca1227c",
   "metadata": {},
   "source": [
    "## <span style='color:blue'>**Quantitative Performance Metrics:**</span>\n",
    "* ## **Training Accuracy:** 97.04%\n",
    "* ## **Validation Accuracy:** 83.00%\n",
    "* ## **Test Accuracy:** 82.05%\n",
    "\n",
    "## <span style='color:blue'>**Insights / shortcommings of the model, based on previous results:**</span>\n",
    "\n",
    "## <span style='color:blue'>The model demonstrates high accuracy on the training data, which suggests that it has learned the patterns in the training set well. However, the gap between training accuracy and validation/test accuracy indicates overfitting. This suggests that the model might be memorizing patterns specific to the training data, rather than learning to generalize effectively to new, unseen data. In short, while the model is overfitting to some extent, it still generalizes reasonably well, but there is room for improvement.</span>\n",
    "\n",
    "## <span style='color:blue'>The test accuracy of 82.05% provides an indication of how the model is likely to perform in real-world scenarios, where tweets may come from a diverse range of users with different writing styles. While the performance here is decent, there is still room for improvement. Notably, increasing the number of epochs has been shown to improve the accuracy. This could be an area to explore further, potentially leading to better results.</span>\n",
    "\n",
    "## <span style='color:blue'>Considering the nature of tweets — which often contain slang, sarcasm, abbreviations, and even emojis — the model may struggle to fully grasp the context behind these expressions. Training a model capable of understanding such nuances would be highly challenging, requiring more computational resources, and would likely involve complex logical and contextual reasoning. A more realistic path forward may be to focus on practical improvements such as:</span>\n",
    "\n",
    "* ## **Increasing the number of epochs** to give the model more training time.\n",
    "* ## **Data augmentation**, particularly by increasing the diversity of tweet data, which could improve the model’s ability to generalize to different types of language.\n",
    "* ## **Fine-tuning** the model to optimize performance.\n",
    "* ## **Exploring more advanced language models** (e.g., transformers, BERT, etc.) that are better equipped to handle the complexities of natural language, including slang and sarcasm."
   ]
  },
  {
   "cell_type": "code",
   "execution_count": null,
   "id": "4742c35f-e226-4b07-bcf7-80c9aa64bcf0",
   "metadata": {},
   "outputs": [],
   "source": []
  }
 ],
 "metadata": {
  "kernelspec": {
   "display_name": "Python 3 (ipykernel)",
   "language": "python",
   "name": "python3"
  },
  "language_info": {
   "codemirror_mode": {
    "name": "ipython",
    "version": 3
   },
   "file_extension": ".py",
   "mimetype": "text/x-python",
   "name": "python",
   "nbconvert_exporter": "python",
   "pygments_lexer": "ipython3",
   "version": "3.8.0"
  }
 },
 "nbformat": 4,
 "nbformat_minor": 5
}
