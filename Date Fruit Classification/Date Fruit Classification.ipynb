{
 "cells": [
  {
   "cell_type": "markdown",
   "id": "3fa848e9-3f02-4831-be4f-365f091c9963",
   "metadata": {
    "id": "3fa848e9-3f02-4831-be4f-365f091c9963"
   },
   "source": [
    "# **Assignment 1**\n",
    "## **Group 3:**\n",
    "* Karyl Grasparil\n",
    "* Mariah Quinquito\n",
    "* Yanna Polonia"
   ]
  },
  {
   "cell_type": "code",
   "execution_count": 1,
   "id": "ccf4367a-80a8-495d-bae9-9714d8439dfb",
   "metadata": {
    "id": "ccf4367a-80a8-495d-bae9-9714d8439dfb"
   },
   "outputs": [],
   "source": [
    "from matplotlib import pyplot as plt\n",
    "%matplotlib inline\n",
    "from sklearn.preprocessing import LabelEncoder, MinMaxScaler\n",
    "from sklearn.metrics import confusion_matrix\n",
    "from sklearn.model_selection import train_test_split\n",
    "import pandas as pd\n",
    "import numpy as np\n",
    "import seaborn as sns\n",
    "import tensorflow as tf\n",
    "from tensorflow.keras.models import Sequential\n",
    "from tensorflow.keras.layers import Dense"
   ]
  },
  {
   "cell_type": "markdown",
   "id": "5d64306f-0711-4235-9ba4-925c7674faf8",
   "metadata": {
    "id": "5d64306f-0711-4235-9ba4-925c7674faf8"
   },
   "source": [
    "# **1. Data Steps**"
   ]
  },
  {
   "cell_type": "markdown",
   "id": "34edd5b5-f7be-41c4-83f0-9d7499cd9fd6",
   "metadata": {
    "id": "34edd5b5-f7be-41c4-83f0-9d7499cd9fd6"
   },
   "source": [
    "## Loading Date_Fruit_Datasets.csv into a pandas dataframe named data and displaying its header"
   ]
  },
  {
   "cell_type": "code",
   "execution_count": 3,
   "id": "ea2849d2-0074-4b7c-8afe-8685d82fe553",
   "metadata": {
    "colab": {
     "base_uri": "https://localhost:8080/",
     "height": 256
    },
    "id": "ea2849d2-0074-4b7c-8afe-8685d82fe553",
    "outputId": "5f3b70b1-a050-4709-cd3a-0f911c71e713"
   },
   "outputs": [
    {
     "data": {
      "application/vnd.google.colaboratory.intrinsic+json": {
       "type": "dataframe",
       "variable_name": "data"
      },
      "text/html": [
       "\n",
       "  <div id=\"df-4417872a-2698-4375-beda-acf7217d3dd9\" class=\"colab-df-container\">\n",
       "    <div>\n",
       "<style scoped>\n",
       "    .dataframe tbody tr th:only-of-type {\n",
       "        vertical-align: middle;\n",
       "    }\n",
       "\n",
       "    .dataframe tbody tr th {\n",
       "        vertical-align: top;\n",
       "    }\n",
       "\n",
       "    .dataframe thead th {\n",
       "        text-align: right;\n",
       "    }\n",
       "</style>\n",
       "<table border=\"1\" class=\"dataframe\">\n",
       "  <thead>\n",
       "    <tr style=\"text-align: right;\">\n",
       "      <th></th>\n",
       "      <th>AREA</th>\n",
       "      <th>PERIMETER</th>\n",
       "      <th>MAJOR_AXIS</th>\n",
       "      <th>MINOR_AXIS</th>\n",
       "      <th>ECCENTRICITY</th>\n",
       "      <th>EQDIASQ</th>\n",
       "      <th>SOLIDITY</th>\n",
       "      <th>CONVEX_AREA</th>\n",
       "      <th>EXTENT</th>\n",
       "      <th>ASPECT_RATIO</th>\n",
       "      <th>...</th>\n",
       "      <th>KurtosisRR</th>\n",
       "      <th>KurtosisRG</th>\n",
       "      <th>KurtosisRB</th>\n",
       "      <th>EntropyRR</th>\n",
       "      <th>EntropyRG</th>\n",
       "      <th>EntropyRB</th>\n",
       "      <th>ALLdaub4RR</th>\n",
       "      <th>ALLdaub4RG</th>\n",
       "      <th>ALLdaub4RB</th>\n",
       "      <th>Class</th>\n",
       "    </tr>\n",
       "  </thead>\n",
       "  <tbody>\n",
       "    <tr>\n",
       "      <th>0</th>\n",
       "      <td>422163</td>\n",
       "      <td>2378.908</td>\n",
       "      <td>837.8484</td>\n",
       "      <td>645.6693</td>\n",
       "      <td>0.6373</td>\n",
       "      <td>733.1539</td>\n",
       "      <td>0.9947</td>\n",
       "      <td>424428</td>\n",
       "      <td>0.7831</td>\n",
       "      <td>1.2976</td>\n",
       "      <td>...</td>\n",
       "      <td>3.2370</td>\n",
       "      <td>2.9574</td>\n",
       "      <td>4.2287</td>\n",
       "      <td>-5.919126e+10</td>\n",
       "      <td>-50714214400</td>\n",
       "      <td>-39922372608</td>\n",
       "      <td>58.7255</td>\n",
       "      <td>54.9554</td>\n",
       "      <td>47.8400</td>\n",
       "      <td>BERHI</td>\n",
       "    </tr>\n",
       "    <tr>\n",
       "      <th>1</th>\n",
       "      <td>338136</td>\n",
       "      <td>2085.144</td>\n",
       "      <td>723.8198</td>\n",
       "      <td>595.2073</td>\n",
       "      <td>0.5690</td>\n",
       "      <td>656.1464</td>\n",
       "      <td>0.9974</td>\n",
       "      <td>339014</td>\n",
       "      <td>0.7795</td>\n",
       "      <td>1.2161</td>\n",
       "      <td>...</td>\n",
       "      <td>2.6228</td>\n",
       "      <td>2.6350</td>\n",
       "      <td>3.1704</td>\n",
       "      <td>-3.423307e+10</td>\n",
       "      <td>-37462601728</td>\n",
       "      <td>-31477794816</td>\n",
       "      <td>50.0259</td>\n",
       "      <td>52.8168</td>\n",
       "      <td>47.8315</td>\n",
       "      <td>BERHI</td>\n",
       "    </tr>\n",
       "    <tr>\n",
       "      <th>2</th>\n",
       "      <td>526843</td>\n",
       "      <td>2647.394</td>\n",
       "      <td>940.7379</td>\n",
       "      <td>715.3638</td>\n",
       "      <td>0.6494</td>\n",
       "      <td>819.0222</td>\n",
       "      <td>0.9962</td>\n",
       "      <td>528876</td>\n",
       "      <td>0.7657</td>\n",
       "      <td>1.3150</td>\n",
       "      <td>...</td>\n",
       "      <td>3.7516</td>\n",
       "      <td>3.8611</td>\n",
       "      <td>4.7192</td>\n",
       "      <td>-9.394835e+10</td>\n",
       "      <td>-74738221056</td>\n",
       "      <td>-60311207936</td>\n",
       "      <td>65.4772</td>\n",
       "      <td>59.2860</td>\n",
       "      <td>51.9378</td>\n",
       "      <td>BERHI</td>\n",
       "    </tr>\n",
       "    <tr>\n",
       "      <th>3</th>\n",
       "      <td>416063</td>\n",
       "      <td>2351.210</td>\n",
       "      <td>827.9804</td>\n",
       "      <td>645.2988</td>\n",
       "      <td>0.6266</td>\n",
       "      <td>727.8378</td>\n",
       "      <td>0.9948</td>\n",
       "      <td>418255</td>\n",
       "      <td>0.7759</td>\n",
       "      <td>1.2831</td>\n",
       "      <td>...</td>\n",
       "      <td>5.0401</td>\n",
       "      <td>8.6136</td>\n",
       "      <td>8.2618</td>\n",
       "      <td>-3.207431e+10</td>\n",
       "      <td>-32060925952</td>\n",
       "      <td>-29575010304</td>\n",
       "      <td>43.3900</td>\n",
       "      <td>44.1259</td>\n",
       "      <td>41.1882</td>\n",
       "      <td>BERHI</td>\n",
       "    </tr>\n",
       "    <tr>\n",
       "      <th>4</th>\n",
       "      <td>347562</td>\n",
       "      <td>2160.354</td>\n",
       "      <td>763.9877</td>\n",
       "      <td>582.8359</td>\n",
       "      <td>0.6465</td>\n",
       "      <td>665.2291</td>\n",
       "      <td>0.9908</td>\n",
       "      <td>350797</td>\n",
       "      <td>0.7569</td>\n",
       "      <td>1.3108</td>\n",
       "      <td>...</td>\n",
       "      <td>2.7016</td>\n",
       "      <td>2.9761</td>\n",
       "      <td>4.4146</td>\n",
       "      <td>-3.998097e+10</td>\n",
       "      <td>-35980042240</td>\n",
       "      <td>-25593278464</td>\n",
       "      <td>52.7743</td>\n",
       "      <td>50.9080</td>\n",
       "      <td>42.6666</td>\n",
       "      <td>BERHI</td>\n",
       "    </tr>\n",
       "  </tbody>\n",
       "</table>\n",
       "<p>5 rows × 35 columns</p>\n",
       "</div>\n",
       "    <div class=\"colab-df-buttons\">\n",
       "\n",
       "  <div class=\"colab-df-container\">\n",
       "    <button class=\"colab-df-convert\" onclick=\"convertToInteractive('df-4417872a-2698-4375-beda-acf7217d3dd9')\"\n",
       "            title=\"Convert this dataframe to an interactive table.\"\n",
       "            style=\"display:none;\">\n",
       "\n",
       "  <svg xmlns=\"http://www.w3.org/2000/svg\" height=\"24px\" viewBox=\"0 -960 960 960\">\n",
       "    <path d=\"M120-120v-720h720v720H120Zm60-500h600v-160H180v160Zm220 220h160v-160H400v160Zm0 220h160v-160H400v160ZM180-400h160v-160H180v160Zm440 0h160v-160H620v160ZM180-180h160v-160H180v160Zm440 0h160v-160H620v160Z\"/>\n",
       "  </svg>\n",
       "    </button>\n",
       "\n",
       "  <style>\n",
       "    .colab-df-container {\n",
       "      display:flex;\n",
       "      gap: 12px;\n",
       "    }\n",
       "\n",
       "    .colab-df-convert {\n",
       "      background-color: #E8F0FE;\n",
       "      border: none;\n",
       "      border-radius: 50%;\n",
       "      cursor: pointer;\n",
       "      display: none;\n",
       "      fill: #1967D2;\n",
       "      height: 32px;\n",
       "      padding: 0 0 0 0;\n",
       "      width: 32px;\n",
       "    }\n",
       "\n",
       "    .colab-df-convert:hover {\n",
       "      background-color: #E2EBFA;\n",
       "      box-shadow: 0px 1px 2px rgba(60, 64, 67, 0.3), 0px 1px 3px 1px rgba(60, 64, 67, 0.15);\n",
       "      fill: #174EA6;\n",
       "    }\n",
       "\n",
       "    .colab-df-buttons div {\n",
       "      margin-bottom: 4px;\n",
       "    }\n",
       "\n",
       "    [theme=dark] .colab-df-convert {\n",
       "      background-color: #3B4455;\n",
       "      fill: #D2E3FC;\n",
       "    }\n",
       "\n",
       "    [theme=dark] .colab-df-convert:hover {\n",
       "      background-color: #434B5C;\n",
       "      box-shadow: 0px 1px 3px 1px rgba(0, 0, 0, 0.15);\n",
       "      filter: drop-shadow(0px 1px 2px rgba(0, 0, 0, 0.3));\n",
       "      fill: #FFFFFF;\n",
       "    }\n",
       "  </style>\n",
       "\n",
       "    <script>\n",
       "      const buttonEl =\n",
       "        document.querySelector('#df-4417872a-2698-4375-beda-acf7217d3dd9 button.colab-df-convert');\n",
       "      buttonEl.style.display =\n",
       "        google.colab.kernel.accessAllowed ? 'block' : 'none';\n",
       "\n",
       "      async function convertToInteractive(key) {\n",
       "        const element = document.querySelector('#df-4417872a-2698-4375-beda-acf7217d3dd9');\n",
       "        const dataTable =\n",
       "          await google.colab.kernel.invokeFunction('convertToInteractive',\n",
       "                                                    [key], {});\n",
       "        if (!dataTable) return;\n",
       "\n",
       "        const docLinkHtml = 'Like what you see? Visit the ' +\n",
       "          '<a target=\"_blank\" href=https://colab.research.google.com/notebooks/data_table.ipynb>data table notebook</a>'\n",
       "          + ' to learn more about interactive tables.';\n",
       "        element.innerHTML = '';\n",
       "        dataTable['output_type'] = 'display_data';\n",
       "        await google.colab.output.renderOutput(dataTable, element);\n",
       "        const docLink = document.createElement('div');\n",
       "        docLink.innerHTML = docLinkHtml;\n",
       "        element.appendChild(docLink);\n",
       "      }\n",
       "    </script>\n",
       "  </div>\n",
       "\n",
       "\n",
       "<div id=\"df-a0eb2535-27ff-49da-8878-d9190040a49b\">\n",
       "  <button class=\"colab-df-quickchart\" onclick=\"quickchart('df-a0eb2535-27ff-49da-8878-d9190040a49b')\"\n",
       "            title=\"Suggest charts\"\n",
       "            style=\"display:none;\">\n",
       "\n",
       "<svg xmlns=\"http://www.w3.org/2000/svg\" height=\"24px\"viewBox=\"0 0 24 24\"\n",
       "     width=\"24px\">\n",
       "    <g>\n",
       "        <path d=\"M19 3H5c-1.1 0-2 .9-2 2v14c0 1.1.9 2 2 2h14c1.1 0 2-.9 2-2V5c0-1.1-.9-2-2-2zM9 17H7v-7h2v7zm4 0h-2V7h2v10zm4 0h-2v-4h2v4z\"/>\n",
       "    </g>\n",
       "</svg>\n",
       "  </button>\n",
       "\n",
       "<style>\n",
       "  .colab-df-quickchart {\n",
       "      --bg-color: #E8F0FE;\n",
       "      --fill-color: #1967D2;\n",
       "      --hover-bg-color: #E2EBFA;\n",
       "      --hover-fill-color: #174EA6;\n",
       "      --disabled-fill-color: #AAA;\n",
       "      --disabled-bg-color: #DDD;\n",
       "  }\n",
       "\n",
       "  [theme=dark] .colab-df-quickchart {\n",
       "      --bg-color: #3B4455;\n",
       "      --fill-color: #D2E3FC;\n",
       "      --hover-bg-color: #434B5C;\n",
       "      --hover-fill-color: #FFFFFF;\n",
       "      --disabled-bg-color: #3B4455;\n",
       "      --disabled-fill-color: #666;\n",
       "  }\n",
       "\n",
       "  .colab-df-quickchart {\n",
       "    background-color: var(--bg-color);\n",
       "    border: none;\n",
       "    border-radius: 50%;\n",
       "    cursor: pointer;\n",
       "    display: none;\n",
       "    fill: var(--fill-color);\n",
       "    height: 32px;\n",
       "    padding: 0;\n",
       "    width: 32px;\n",
       "  }\n",
       "\n",
       "  .colab-df-quickchart:hover {\n",
       "    background-color: var(--hover-bg-color);\n",
       "    box-shadow: 0 1px 2px rgba(60, 64, 67, 0.3), 0 1px 3px 1px rgba(60, 64, 67, 0.15);\n",
       "    fill: var(--button-hover-fill-color);\n",
       "  }\n",
       "\n",
       "  .colab-df-quickchart-complete:disabled,\n",
       "  .colab-df-quickchart-complete:disabled:hover {\n",
       "    background-color: var(--disabled-bg-color);\n",
       "    fill: var(--disabled-fill-color);\n",
       "    box-shadow: none;\n",
       "  }\n",
       "\n",
       "  .colab-df-spinner {\n",
       "    border: 2px solid var(--fill-color);\n",
       "    border-color: transparent;\n",
       "    border-bottom-color: var(--fill-color);\n",
       "    animation:\n",
       "      spin 1s steps(1) infinite;\n",
       "  }\n",
       "\n",
       "  @keyframes spin {\n",
       "    0% {\n",
       "      border-color: transparent;\n",
       "      border-bottom-color: var(--fill-color);\n",
       "      border-left-color: var(--fill-color);\n",
       "    }\n",
       "    20% {\n",
       "      border-color: transparent;\n",
       "      border-left-color: var(--fill-color);\n",
       "      border-top-color: var(--fill-color);\n",
       "    }\n",
       "    30% {\n",
       "      border-color: transparent;\n",
       "      border-left-color: var(--fill-color);\n",
       "      border-top-color: var(--fill-color);\n",
       "      border-right-color: var(--fill-color);\n",
       "    }\n",
       "    40% {\n",
       "      border-color: transparent;\n",
       "      border-right-color: var(--fill-color);\n",
       "      border-top-color: var(--fill-color);\n",
       "    }\n",
       "    60% {\n",
       "      border-color: transparent;\n",
       "      border-right-color: var(--fill-color);\n",
       "    }\n",
       "    80% {\n",
       "      border-color: transparent;\n",
       "      border-right-color: var(--fill-color);\n",
       "      border-bottom-color: var(--fill-color);\n",
       "    }\n",
       "    90% {\n",
       "      border-color: transparent;\n",
       "      border-bottom-color: var(--fill-color);\n",
       "    }\n",
       "  }\n",
       "</style>\n",
       "\n",
       "  <script>\n",
       "    async function quickchart(key) {\n",
       "      const quickchartButtonEl =\n",
       "        document.querySelector('#' + key + ' button');\n",
       "      quickchartButtonEl.disabled = true;  // To prevent multiple clicks.\n",
       "      quickchartButtonEl.classList.add('colab-df-spinner');\n",
       "      try {\n",
       "        const charts = await google.colab.kernel.invokeFunction(\n",
       "            'suggestCharts', [key], {});\n",
       "      } catch (error) {\n",
       "        console.error('Error during call to suggestCharts:', error);\n",
       "      }\n",
       "      quickchartButtonEl.classList.remove('colab-df-spinner');\n",
       "      quickchartButtonEl.classList.add('colab-df-quickchart-complete');\n",
       "    }\n",
       "    (() => {\n",
       "      let quickchartButtonEl =\n",
       "        document.querySelector('#df-a0eb2535-27ff-49da-8878-d9190040a49b button');\n",
       "      quickchartButtonEl.style.display =\n",
       "        google.colab.kernel.accessAllowed ? 'block' : 'none';\n",
       "    })();\n",
       "  </script>\n",
       "</div>\n",
       "\n",
       "    </div>\n",
       "  </div>\n"
      ],
      "text/plain": [
       "     AREA  PERIMETER  MAJOR_AXIS  MINOR_AXIS  ECCENTRICITY   EQDIASQ  \\\n",
       "0  422163   2378.908    837.8484    645.6693        0.6373  733.1539   \n",
       "1  338136   2085.144    723.8198    595.2073        0.5690  656.1464   \n",
       "2  526843   2647.394    940.7379    715.3638        0.6494  819.0222   \n",
       "3  416063   2351.210    827.9804    645.2988        0.6266  727.8378   \n",
       "4  347562   2160.354    763.9877    582.8359        0.6465  665.2291   \n",
       "\n",
       "   SOLIDITY  CONVEX_AREA  EXTENT  ASPECT_RATIO  ...  KurtosisRR  KurtosisRG  \\\n",
       "0    0.9947       424428  0.7831        1.2976  ...      3.2370      2.9574   \n",
       "1    0.9974       339014  0.7795        1.2161  ...      2.6228      2.6350   \n",
       "2    0.9962       528876  0.7657        1.3150  ...      3.7516      3.8611   \n",
       "3    0.9948       418255  0.7759        1.2831  ...      5.0401      8.6136   \n",
       "4    0.9908       350797  0.7569        1.3108  ...      2.7016      2.9761   \n",
       "\n",
       "   KurtosisRB     EntropyRR    EntropyRG    EntropyRB  ALLdaub4RR  ALLdaub4RG  \\\n",
       "0      4.2287 -5.919126e+10 -50714214400 -39922372608     58.7255     54.9554   \n",
       "1      3.1704 -3.423307e+10 -37462601728 -31477794816     50.0259     52.8168   \n",
       "2      4.7192 -9.394835e+10 -74738221056 -60311207936     65.4772     59.2860   \n",
       "3      8.2618 -3.207431e+10 -32060925952 -29575010304     43.3900     44.1259   \n",
       "4      4.4146 -3.998097e+10 -35980042240 -25593278464     52.7743     50.9080   \n",
       "\n",
       "   ALLdaub4RB  Class  \n",
       "0     47.8400  BERHI  \n",
       "1     47.8315  BERHI  \n",
       "2     51.9378  BERHI  \n",
       "3     41.1882  BERHI  \n",
       "4     42.6666  BERHI  \n",
       "\n",
       "[5 rows x 35 columns]"
      ]
     },
     "execution_count": 3,
     "metadata": {},
     "output_type": "execute_result"
    }
   ],
   "source": [
    "data = pd.read_csv('Date_Fruit_Datasets.csv')\n",
    "data.head()"
   ]
  },
  {
   "cell_type": "markdown",
   "id": "173ee004-7696-45af-81b2-470a93619bf0",
   "metadata": {
    "id": "173ee004-7696-45af-81b2-470a93619bf0"
   },
   "source": [
    "## Using pandas.DataFrame.describe to summarize the data"
   ]
  },
  {
   "cell_type": "code",
   "execution_count": 4,
   "id": "07b41050-4639-4f34-acca-511e09698d4c",
   "metadata": {
    "colab": {
     "base_uri": "https://localhost:8080/",
     "height": 350
    },
    "id": "07b41050-4639-4f34-acca-511e09698d4c",
    "outputId": "fed14591-0c82-43ad-c432-4aaaffd3fd2c"
   },
   "outputs": [
    {
     "data": {
      "application/vnd.google.colaboratory.intrinsic+json": {
       "type": "dataframe"
      },
      "text/html": [
       "\n",
       "  <div id=\"df-1f759f7f-642e-41c3-b5f1-7faa40607174\" class=\"colab-df-container\">\n",
       "    <div>\n",
       "<style scoped>\n",
       "    .dataframe tbody tr th:only-of-type {\n",
       "        vertical-align: middle;\n",
       "    }\n",
       "\n",
       "    .dataframe tbody tr th {\n",
       "        vertical-align: top;\n",
       "    }\n",
       "\n",
       "    .dataframe thead th {\n",
       "        text-align: right;\n",
       "    }\n",
       "</style>\n",
       "<table border=\"1\" class=\"dataframe\">\n",
       "  <thead>\n",
       "    <tr style=\"text-align: right;\">\n",
       "      <th></th>\n",
       "      <th>AREA</th>\n",
       "      <th>PERIMETER</th>\n",
       "      <th>MAJOR_AXIS</th>\n",
       "      <th>MINOR_AXIS</th>\n",
       "      <th>ECCENTRICITY</th>\n",
       "      <th>EQDIASQ</th>\n",
       "      <th>SOLIDITY</th>\n",
       "      <th>CONVEX_AREA</th>\n",
       "      <th>EXTENT</th>\n",
       "      <th>ASPECT_RATIO</th>\n",
       "      <th>...</th>\n",
       "      <th>SkewRB</th>\n",
       "      <th>KurtosisRR</th>\n",
       "      <th>KurtosisRG</th>\n",
       "      <th>KurtosisRB</th>\n",
       "      <th>EntropyRR</th>\n",
       "      <th>EntropyRG</th>\n",
       "      <th>EntropyRB</th>\n",
       "      <th>ALLdaub4RR</th>\n",
       "      <th>ALLdaub4RG</th>\n",
       "      <th>ALLdaub4RB</th>\n",
       "    </tr>\n",
       "  </thead>\n",
       "  <tbody>\n",
       "    <tr>\n",
       "      <th>count</th>\n",
       "      <td>898.000000</td>\n",
       "      <td>898.000000</td>\n",
       "      <td>898.000000</td>\n",
       "      <td>898.000000</td>\n",
       "      <td>898.000000</td>\n",
       "      <td>898.000000</td>\n",
       "      <td>898.000000</td>\n",
       "      <td>898.000000</td>\n",
       "      <td>898.000000</td>\n",
       "      <td>898.000000</td>\n",
       "      <td>...</td>\n",
       "      <td>898.000000</td>\n",
       "      <td>898.000000</td>\n",
       "      <td>898.000000</td>\n",
       "      <td>898.000000</td>\n",
       "      <td>8.980000e+02</td>\n",
       "      <td>8.980000e+02</td>\n",
       "      <td>8.980000e+02</td>\n",
       "      <td>898.000000</td>\n",
       "      <td>898.000000</td>\n",
       "      <td>898.000000</td>\n",
       "    </tr>\n",
       "    <tr>\n",
       "      <th>mean</th>\n",
       "      <td>298295.207127</td>\n",
       "      <td>2057.660953</td>\n",
       "      <td>750.811994</td>\n",
       "      <td>495.872785</td>\n",
       "      <td>0.737468</td>\n",
       "      <td>604.577938</td>\n",
       "      <td>0.981840</td>\n",
       "      <td>303845.592428</td>\n",
       "      <td>0.736267</td>\n",
       "      <td>2.131102</td>\n",
       "      <td>...</td>\n",
       "      <td>0.250518</td>\n",
       "      <td>4.247845</td>\n",
       "      <td>5.110894</td>\n",
       "      <td>3.780928</td>\n",
       "      <td>-3.185021e+10</td>\n",
       "      <td>-2.901860e+10</td>\n",
       "      <td>-2.771876e+10</td>\n",
       "      <td>50.082888</td>\n",
       "      <td>48.805681</td>\n",
       "      <td>48.098393</td>\n",
       "    </tr>\n",
       "    <tr>\n",
       "      <th>std</th>\n",
       "      <td>107245.205337</td>\n",
       "      <td>410.012459</td>\n",
       "      <td>144.059326</td>\n",
       "      <td>114.268917</td>\n",
       "      <td>0.088727</td>\n",
       "      <td>119.593888</td>\n",
       "      <td>0.018157</td>\n",
       "      <td>108815.656947</td>\n",
       "      <td>0.053745</td>\n",
       "      <td>17.820778</td>\n",
       "      <td>...</td>\n",
       "      <td>0.632918</td>\n",
       "      <td>2.892357</td>\n",
       "      <td>3.745463</td>\n",
       "      <td>2.049831</td>\n",
       "      <td>2.037241e+10</td>\n",
       "      <td>1.712952e+10</td>\n",
       "      <td>1.484137e+10</td>\n",
       "      <td>16.063125</td>\n",
       "      <td>14.125911</td>\n",
       "      <td>10.813862</td>\n",
       "    </tr>\n",
       "    <tr>\n",
       "      <th>min</th>\n",
       "      <td>1987.000000</td>\n",
       "      <td>911.828000</td>\n",
       "      <td>336.722700</td>\n",
       "      <td>2.283200</td>\n",
       "      <td>0.344800</td>\n",
       "      <td>50.298400</td>\n",
       "      <td>0.836600</td>\n",
       "      <td>2257.000000</td>\n",
       "      <td>0.512300</td>\n",
       "      <td>1.065300</td>\n",
       "      <td>...</td>\n",
       "      <td>-1.029100</td>\n",
       "      <td>1.708200</td>\n",
       "      <td>1.607600</td>\n",
       "      <td>1.767200</td>\n",
       "      <td>-1.091220e+11</td>\n",
       "      <td>-9.261697e+10</td>\n",
       "      <td>-8.747177e+10</td>\n",
       "      <td>15.191100</td>\n",
       "      <td>20.524700</td>\n",
       "      <td>22.130000</td>\n",
       "    </tr>\n",
       "    <tr>\n",
       "      <th>25%</th>\n",
       "      <td>206948.000000</td>\n",
       "      <td>1726.091500</td>\n",
       "      <td>641.068650</td>\n",
       "      <td>404.684375</td>\n",
       "      <td>0.685625</td>\n",
       "      <td>513.317075</td>\n",
       "      <td>0.978825</td>\n",
       "      <td>210022.750000</td>\n",
       "      <td>0.705875</td>\n",
       "      <td>1.373725</td>\n",
       "      <td>...</td>\n",
       "      <td>-0.196950</td>\n",
       "      <td>2.536625</td>\n",
       "      <td>2.508850</td>\n",
       "      <td>2.577275</td>\n",
       "      <td>-4.429444e+10</td>\n",
       "      <td>-3.894638e+10</td>\n",
       "      <td>-3.564534e+10</td>\n",
       "      <td>38.224425</td>\n",
       "      <td>38.654525</td>\n",
       "      <td>39.250725</td>\n",
       "    </tr>\n",
       "    <tr>\n",
       "      <th>50%</th>\n",
       "      <td>319833.000000</td>\n",
       "      <td>2196.345450</td>\n",
       "      <td>791.363400</td>\n",
       "      <td>495.054850</td>\n",
       "      <td>0.754700</td>\n",
       "      <td>638.140950</td>\n",
       "      <td>0.987300</td>\n",
       "      <td>327207.000000</td>\n",
       "      <td>0.746950</td>\n",
       "      <td>1.524150</td>\n",
       "      <td>...</td>\n",
       "      <td>0.135550</td>\n",
       "      <td>3.069800</td>\n",
       "      <td>3.127800</td>\n",
       "      <td>3.080700</td>\n",
       "      <td>-2.826156e+10</td>\n",
       "      <td>-2.620990e+10</td>\n",
       "      <td>-2.392928e+10</td>\n",
       "      <td>53.841300</td>\n",
       "      <td>50.337800</td>\n",
       "      <td>49.614100</td>\n",
       "    </tr>\n",
       "    <tr>\n",
       "      <th>75%</th>\n",
       "      <td>382573.000000</td>\n",
       "      <td>2389.716575</td>\n",
       "      <td>858.633750</td>\n",
       "      <td>589.031700</td>\n",
       "      <td>0.802150</td>\n",
       "      <td>697.930525</td>\n",
       "      <td>0.991800</td>\n",
       "      <td>388804.000000</td>\n",
       "      <td>0.775850</td>\n",
       "      <td>1.674750</td>\n",
       "      <td>...</td>\n",
       "      <td>0.593950</td>\n",
       "      <td>4.449850</td>\n",
       "      <td>7.320400</td>\n",
       "      <td>4.283125</td>\n",
       "      <td>-1.460482e+10</td>\n",
       "      <td>-1.433105e+10</td>\n",
       "      <td>-1.660367e+10</td>\n",
       "      <td>63.063350</td>\n",
       "      <td>59.573600</td>\n",
       "      <td>56.666675</td>\n",
       "    </tr>\n",
       "    <tr>\n",
       "      <th>max</th>\n",
       "      <td>546063.000000</td>\n",
       "      <td>2811.997100</td>\n",
       "      <td>1222.723000</td>\n",
       "      <td>766.453600</td>\n",
       "      <td>1.000000</td>\n",
       "      <td>833.827900</td>\n",
       "      <td>0.997400</td>\n",
       "      <td>552598.000000</td>\n",
       "      <td>0.856200</td>\n",
       "      <td>535.525700</td>\n",
       "      <td>...</td>\n",
       "      <td>3.092300</td>\n",
       "      <td>26.171100</td>\n",
       "      <td>26.736700</td>\n",
       "      <td>32.249500</td>\n",
       "      <td>-1.627316e+08</td>\n",
       "      <td>-5.627727e+08</td>\n",
       "      <td>-4.370435e+08</td>\n",
       "      <td>79.828900</td>\n",
       "      <td>83.064900</td>\n",
       "      <td>74.104600</td>\n",
       "    </tr>\n",
       "  </tbody>\n",
       "</table>\n",
       "<p>8 rows × 34 columns</p>\n",
       "</div>\n",
       "    <div class=\"colab-df-buttons\">\n",
       "\n",
       "  <div class=\"colab-df-container\">\n",
       "    <button class=\"colab-df-convert\" onclick=\"convertToInteractive('df-1f759f7f-642e-41c3-b5f1-7faa40607174')\"\n",
       "            title=\"Convert this dataframe to an interactive table.\"\n",
       "            style=\"display:none;\">\n",
       "\n",
       "  <svg xmlns=\"http://www.w3.org/2000/svg\" height=\"24px\" viewBox=\"0 -960 960 960\">\n",
       "    <path d=\"M120-120v-720h720v720H120Zm60-500h600v-160H180v160Zm220 220h160v-160H400v160Zm0 220h160v-160H400v160ZM180-400h160v-160H180v160Zm440 0h160v-160H620v160ZM180-180h160v-160H180v160Zm440 0h160v-160H620v160Z\"/>\n",
       "  </svg>\n",
       "    </button>\n",
       "\n",
       "  <style>\n",
       "    .colab-df-container {\n",
       "      display:flex;\n",
       "      gap: 12px;\n",
       "    }\n",
       "\n",
       "    .colab-df-convert {\n",
       "      background-color: #E8F0FE;\n",
       "      border: none;\n",
       "      border-radius: 50%;\n",
       "      cursor: pointer;\n",
       "      display: none;\n",
       "      fill: #1967D2;\n",
       "      height: 32px;\n",
       "      padding: 0 0 0 0;\n",
       "      width: 32px;\n",
       "    }\n",
       "\n",
       "    .colab-df-convert:hover {\n",
       "      background-color: #E2EBFA;\n",
       "      box-shadow: 0px 1px 2px rgba(60, 64, 67, 0.3), 0px 1px 3px 1px rgba(60, 64, 67, 0.15);\n",
       "      fill: #174EA6;\n",
       "    }\n",
       "\n",
       "    .colab-df-buttons div {\n",
       "      margin-bottom: 4px;\n",
       "    }\n",
       "\n",
       "    [theme=dark] .colab-df-convert {\n",
       "      background-color: #3B4455;\n",
       "      fill: #D2E3FC;\n",
       "    }\n",
       "\n",
       "    [theme=dark] .colab-df-convert:hover {\n",
       "      background-color: #434B5C;\n",
       "      box-shadow: 0px 1px 3px 1px rgba(0, 0, 0, 0.15);\n",
       "      filter: drop-shadow(0px 1px 2px rgba(0, 0, 0, 0.3));\n",
       "      fill: #FFFFFF;\n",
       "    }\n",
       "  </style>\n",
       "\n",
       "    <script>\n",
       "      const buttonEl =\n",
       "        document.querySelector('#df-1f759f7f-642e-41c3-b5f1-7faa40607174 button.colab-df-convert');\n",
       "      buttonEl.style.display =\n",
       "        google.colab.kernel.accessAllowed ? 'block' : 'none';\n",
       "\n",
       "      async function convertToInteractive(key) {\n",
       "        const element = document.querySelector('#df-1f759f7f-642e-41c3-b5f1-7faa40607174');\n",
       "        const dataTable =\n",
       "          await google.colab.kernel.invokeFunction('convertToInteractive',\n",
       "                                                    [key], {});\n",
       "        if (!dataTable) return;\n",
       "\n",
       "        const docLinkHtml = 'Like what you see? Visit the ' +\n",
       "          '<a target=\"_blank\" href=https://colab.research.google.com/notebooks/data_table.ipynb>data table notebook</a>'\n",
       "          + ' to learn more about interactive tables.';\n",
       "        element.innerHTML = '';\n",
       "        dataTable['output_type'] = 'display_data';\n",
       "        await google.colab.output.renderOutput(dataTable, element);\n",
       "        const docLink = document.createElement('div');\n",
       "        docLink.innerHTML = docLinkHtml;\n",
       "        element.appendChild(docLink);\n",
       "      }\n",
       "    </script>\n",
       "  </div>\n",
       "\n",
       "\n",
       "<div id=\"df-1f255e90-4896-460f-9448-5a30334d369b\">\n",
       "  <button class=\"colab-df-quickchart\" onclick=\"quickchart('df-1f255e90-4896-460f-9448-5a30334d369b')\"\n",
       "            title=\"Suggest charts\"\n",
       "            style=\"display:none;\">\n",
       "\n",
       "<svg xmlns=\"http://www.w3.org/2000/svg\" height=\"24px\"viewBox=\"0 0 24 24\"\n",
       "     width=\"24px\">\n",
       "    <g>\n",
       "        <path d=\"M19 3H5c-1.1 0-2 .9-2 2v14c0 1.1.9 2 2 2h14c1.1 0 2-.9 2-2V5c0-1.1-.9-2-2-2zM9 17H7v-7h2v7zm4 0h-2V7h2v10zm4 0h-2v-4h2v4z\"/>\n",
       "    </g>\n",
       "</svg>\n",
       "  </button>\n",
       "\n",
       "<style>\n",
       "  .colab-df-quickchart {\n",
       "      --bg-color: #E8F0FE;\n",
       "      --fill-color: #1967D2;\n",
       "      --hover-bg-color: #E2EBFA;\n",
       "      --hover-fill-color: #174EA6;\n",
       "      --disabled-fill-color: #AAA;\n",
       "      --disabled-bg-color: #DDD;\n",
       "  }\n",
       "\n",
       "  [theme=dark] .colab-df-quickchart {\n",
       "      --bg-color: #3B4455;\n",
       "      --fill-color: #D2E3FC;\n",
       "      --hover-bg-color: #434B5C;\n",
       "      --hover-fill-color: #FFFFFF;\n",
       "      --disabled-bg-color: #3B4455;\n",
       "      --disabled-fill-color: #666;\n",
       "  }\n",
       "\n",
       "  .colab-df-quickchart {\n",
       "    background-color: var(--bg-color);\n",
       "    border: none;\n",
       "    border-radius: 50%;\n",
       "    cursor: pointer;\n",
       "    display: none;\n",
       "    fill: var(--fill-color);\n",
       "    height: 32px;\n",
       "    padding: 0;\n",
       "    width: 32px;\n",
       "  }\n",
       "\n",
       "  .colab-df-quickchart:hover {\n",
       "    background-color: var(--hover-bg-color);\n",
       "    box-shadow: 0 1px 2px rgba(60, 64, 67, 0.3), 0 1px 3px 1px rgba(60, 64, 67, 0.15);\n",
       "    fill: var(--button-hover-fill-color);\n",
       "  }\n",
       "\n",
       "  .colab-df-quickchart-complete:disabled,\n",
       "  .colab-df-quickchart-complete:disabled:hover {\n",
       "    background-color: var(--disabled-bg-color);\n",
       "    fill: var(--disabled-fill-color);\n",
       "    box-shadow: none;\n",
       "  }\n",
       "\n",
       "  .colab-df-spinner {\n",
       "    border: 2px solid var(--fill-color);\n",
       "    border-color: transparent;\n",
       "    border-bottom-color: var(--fill-color);\n",
       "    animation:\n",
       "      spin 1s steps(1) infinite;\n",
       "  }\n",
       "\n",
       "  @keyframes spin {\n",
       "    0% {\n",
       "      border-color: transparent;\n",
       "      border-bottom-color: var(--fill-color);\n",
       "      border-left-color: var(--fill-color);\n",
       "    }\n",
       "    20% {\n",
       "      border-color: transparent;\n",
       "      border-left-color: var(--fill-color);\n",
       "      border-top-color: var(--fill-color);\n",
       "    }\n",
       "    30% {\n",
       "      border-color: transparent;\n",
       "      border-left-color: var(--fill-color);\n",
       "      border-top-color: var(--fill-color);\n",
       "      border-right-color: var(--fill-color);\n",
       "    }\n",
       "    40% {\n",
       "      border-color: transparent;\n",
       "      border-right-color: var(--fill-color);\n",
       "      border-top-color: var(--fill-color);\n",
       "    }\n",
       "    60% {\n",
       "      border-color: transparent;\n",
       "      border-right-color: var(--fill-color);\n",
       "    }\n",
       "    80% {\n",
       "      border-color: transparent;\n",
       "      border-right-color: var(--fill-color);\n",
       "      border-bottom-color: var(--fill-color);\n",
       "    }\n",
       "    90% {\n",
       "      border-color: transparent;\n",
       "      border-bottom-color: var(--fill-color);\n",
       "    }\n",
       "  }\n",
       "</style>\n",
       "\n",
       "  <script>\n",
       "    async function quickchart(key) {\n",
       "      const quickchartButtonEl =\n",
       "        document.querySelector('#' + key + ' button');\n",
       "      quickchartButtonEl.disabled = true;  // To prevent multiple clicks.\n",
       "      quickchartButtonEl.classList.add('colab-df-spinner');\n",
       "      try {\n",
       "        const charts = await google.colab.kernel.invokeFunction(\n",
       "            'suggestCharts', [key], {});\n",
       "      } catch (error) {\n",
       "        console.error('Error during call to suggestCharts:', error);\n",
       "      }\n",
       "      quickchartButtonEl.classList.remove('colab-df-spinner');\n",
       "      quickchartButtonEl.classList.add('colab-df-quickchart-complete');\n",
       "    }\n",
       "    (() => {\n",
       "      let quickchartButtonEl =\n",
       "        document.querySelector('#df-1f255e90-4896-460f-9448-5a30334d369b button');\n",
       "      quickchartButtonEl.style.display =\n",
       "        google.colab.kernel.accessAllowed ? 'block' : 'none';\n",
       "    })();\n",
       "  </script>\n",
       "</div>\n",
       "\n",
       "    </div>\n",
       "  </div>\n"
      ],
      "text/plain": [
       "                AREA    PERIMETER   MAJOR_AXIS  MINOR_AXIS  ECCENTRICITY  \\\n",
       "count     898.000000   898.000000   898.000000  898.000000    898.000000   \n",
       "mean   298295.207127  2057.660953   750.811994  495.872785      0.737468   \n",
       "std    107245.205337   410.012459   144.059326  114.268917      0.088727   \n",
       "min      1987.000000   911.828000   336.722700    2.283200      0.344800   \n",
       "25%    206948.000000  1726.091500   641.068650  404.684375      0.685625   \n",
       "50%    319833.000000  2196.345450   791.363400  495.054850      0.754700   \n",
       "75%    382573.000000  2389.716575   858.633750  589.031700      0.802150   \n",
       "max    546063.000000  2811.997100  1222.723000  766.453600      1.000000   \n",
       "\n",
       "          EQDIASQ    SOLIDITY    CONVEX_AREA      EXTENT  ASPECT_RATIO  ...  \\\n",
       "count  898.000000  898.000000     898.000000  898.000000    898.000000  ...   \n",
       "mean   604.577938    0.981840  303845.592428    0.736267      2.131102  ...   \n",
       "std    119.593888    0.018157  108815.656947    0.053745     17.820778  ...   \n",
       "min     50.298400    0.836600    2257.000000    0.512300      1.065300  ...   \n",
       "25%    513.317075    0.978825  210022.750000    0.705875      1.373725  ...   \n",
       "50%    638.140950    0.987300  327207.000000    0.746950      1.524150  ...   \n",
       "75%    697.930525    0.991800  388804.000000    0.775850      1.674750  ...   \n",
       "max    833.827900    0.997400  552598.000000    0.856200    535.525700  ...   \n",
       "\n",
       "           SkewRB  KurtosisRR  KurtosisRG  KurtosisRB     EntropyRR  \\\n",
       "count  898.000000  898.000000  898.000000  898.000000  8.980000e+02   \n",
       "mean     0.250518    4.247845    5.110894    3.780928 -3.185021e+10   \n",
       "std      0.632918    2.892357    3.745463    2.049831  2.037241e+10   \n",
       "min     -1.029100    1.708200    1.607600    1.767200 -1.091220e+11   \n",
       "25%     -0.196950    2.536625    2.508850    2.577275 -4.429444e+10   \n",
       "50%      0.135550    3.069800    3.127800    3.080700 -2.826156e+10   \n",
       "75%      0.593950    4.449850    7.320400    4.283125 -1.460482e+10   \n",
       "max      3.092300   26.171100   26.736700   32.249500 -1.627316e+08   \n",
       "\n",
       "          EntropyRG     EntropyRB  ALLdaub4RR  ALLdaub4RG  ALLdaub4RB  \n",
       "count  8.980000e+02  8.980000e+02  898.000000  898.000000  898.000000  \n",
       "mean  -2.901860e+10 -2.771876e+10   50.082888   48.805681   48.098393  \n",
       "std    1.712952e+10  1.484137e+10   16.063125   14.125911   10.813862  \n",
       "min   -9.261697e+10 -8.747177e+10   15.191100   20.524700   22.130000  \n",
       "25%   -3.894638e+10 -3.564534e+10   38.224425   38.654525   39.250725  \n",
       "50%   -2.620990e+10 -2.392928e+10   53.841300   50.337800   49.614100  \n",
       "75%   -1.433105e+10 -1.660367e+10   63.063350   59.573600   56.666675  \n",
       "max   -5.627727e+08 -4.370435e+08   79.828900   83.064900   74.104600  \n",
       "\n",
       "[8 rows x 34 columns]"
      ]
     },
     "execution_count": 4,
     "metadata": {},
     "output_type": "execute_result"
    }
   ],
   "source": [
    "data.describe()"
   ]
  },
  {
   "cell_type": "markdown",
   "id": "a587fa8b-38c0-4581-a7b0-8acb90c2a79a",
   "metadata": {
    "id": "a587fa8b-38c0-4581-a7b0-8acb90c2a79a"
   },
   "source": [
    "### Explaining the meaning of the columns and making observations about the dataset"
   ]
  },
  {
   "cell_type": "markdown",
   "id": "e63c0865-e8d4-4a3a-9192-1e3a4373a49e",
   "metadata": {
    "id": "e63c0865-e8d4-4a3a-9192-1e3a4373a49e"
   },
   "source": [
    "<table>\n",
    "<tr><tr><th><th style=\"text-align:center\">Feature<th style=\"text-align:center\">Description<th style=\"text-align:center\">Observations<tr><tr>\n",
    "<tr><td><td style=\"text-align:center\">AREA<td style=\"text-align:left\">According to <a href=\"https://onlinelibrary.wiley.com/doi/epdf/10.1155/2021/4793293\">Research Article Classification of Date Fruits into Genetic Varieties Using Image Analysis</a> one of the main features, among morphological ones<td style=\"text-align:left\">Based on mean, min and max values and standard deviation values, we can conclude the data is somehow is clustered close to the mean<td>\n",
    "<tr><td><td style=\"text-align:center\">PERIMETER<td style=\"text-align:left\">According to <a href=\"https://onlinelibrary.wiley.com/doi/epdf/10.1155/2021/4793293\">Research Article Classification of Date Fruits into Genetic Varieties Using Image Analysis</a> one of the main features, among morphological ones<td style=\"text-align:left\">Based on mean, min and max values and standard deviation values, we can conclude the data is somehow is clustered close to the mean<td>\n",
    "<tr><td><td style=\"text-align:center\">MAJOR_AXIS<td style=\"text-align:left\">According to <a href=\"https://onlinelibrary.wiley.com/doi/epdf/10.1155/2021/4793293\">Research Article Classification of Date Fruits into Genetic Varieties Using Image Analysis</a> one of the main features, among morphological ones<td style=\"text-align:left\">Based on mean, min and max values and standard deviation values, we can conclude the data is somehow is clustered close to the mean<td>\n",
    "<tr><tr><tr><td><td style=\"text-align:center\">MINOR_AXIS<td style=\"text-align:left\">According to <a href=\"https://onlinelibrary.wiley.com/doi/epdf/10.1155/2021/4793293\">Research Article Classification of Date Fruits into Genetic Varieties Using Image Analysis</a> one of the main features, among morphological ones<td style=\"text-align:left\">Based on mean, min and max values and standard deviation values, we can conclude the data is clustered close to the mean<td>\n",
    "<tr><td><td style=\"text-align:center\">ECCENTRICITY<td style=\"text-align:left\">According to <a href=\"https://onlinelibrary.wiley.com/doi/epdf/10.1155/2021/4793293\">Research Article Classification of Date Fruits into Genetic Varieties Using Image Analysis</a> one of the main features, among morphological ones<td style=\"text-align:left\">Based on mean, min and max values and standard deviation values, we can conclude the data is somehow is clustered close to the mean<td>\n",
    "<tr><td><td style=\"text-align:center\">EQDIASQ<td style=\"text-align:left\">According to <a href=\"https://onlinelibrary.wiley.com/doi/epdf/10.1155/2021/4793293\">Research Article Classification of Date Fruits into Genetic Varieties Using Image Analysis</a> one of the subfeatures, among morphological ones<td style=\"text-align:left\">Based on mean, min and max values and standard deviation values, we can conclude the data is somehow clustered close to the mean<td>\n",
    "<tr><td><td style=\"text-align:center\">SOLIDITY<td style=\"text-align:left\">According to <a href=\"https://onlinelibrary.wiley.com/doi/epdf/10.1155/2021/4793293\">Research Article Classification of Date Fruits into Genetic Varieties Using Image Analysis</a> one of the subfeatures, among morphological ones<td style=\"text-align:left\">Based on mean, min and max values and standard deviation values, we can conclude the data is clustered close to the mean<td>\n",
    "<tr><tr><tr><td><td style=\"text-align:center\">CONVEX_AREA<td style=\"text-align:left\">According to <a href=\"https://onlinelibrary.wiley.com/doi/epdf/10.1155/2021/4793293\">Research Article Classification of Date Fruits into Genetic Varieties Using Image Analysis</a> one of the subfeatures, among morphological ones<td style=\"text-align:left\">Based on mean, min and max values and standard deviation values, we can conclude the data is somehow is clustered close to the mean<td>\n",
    "<tr><td><td style=\"text-align:center\">EXTENT<td style=\"text-align:left\">According to <a href=\"https://onlinelibrary.wiley.com/doi/epdf/10.1155/2021/4793293\">Research Article Classification of Date Fruits into Genetic Varieties Using Image Analysis</a> one of the subfeatures, among morphological ones<td style=\"text-align:left\">Based on mean, min and max values and standard deviation values, we can conclude the data is somehow is clustered close to the mean<td>\n",
    "<tr><td><td style=\"text-align:center\">ASPECT_RATIO<td style=\"text-align:left\">According to <a href=\"https://onlinelibrary.wiley.com/doi/epdf/10.1155/2021/4793293\">Research Article Classification of Date Fruits into Genetic Varieties Using Image Analysis</a> one of the subfeatures, among morphological ones<td style=\"text-align:left\">Based on mean, min and max values and standard deviation values, we can conclude the data is higly dispersed<td>\n",
    "<tr><td><td style=\"text-align:center\">ROUNDNESS<td style=\"text-align:left\">According to <a href=\"https://onlinelibrary.wiley.com/doi/epdf/10.1155/2021/4793293\">Research Article Classification of Date Fruits into Genetic Varieties Using Image Analysis</a> one of the main features, among morphological ones<td style=\"text-align:left\"><td>\n",
    "<tr><td><td style=\"text-align:center\">COMPACTNESS<td style=\"text-align:left\">According to <a href=\"https://onlinelibrary.wiley.com/doi/epdf/10.1155/2021/4793293\">Research Article Classification of Date Fruits into Genetic Varieties Using Image Analysis</a> one of the subfeatures, among morphological ones<td style=\"text-align:left\"><td>\n",
    "<tr><tr><tr><td><td style=\"text-align:center\">SHAPEFACTOR_1<td style=\"text-align:left\">According to <a href=\"https://onlinelibrary.wiley.com/doi/epdf/10.1155/2021/4793293\">Research Article Classification of Date Fruits into Genetic Varieties Using Image Analysis</a> one of the main features, among shape ones<td style=\"text-align:left\"><td>\n",
    "<tr><td><td style=\"text-align:center\">SHAPEFACTOR_2<td style=\"text-align:left\">According to <a href=\"https://onlinelibrary.wiley.com/doi/epdf/10.1155/2021/4793293\">Research Article Classification of Date Fruits into Genetic Varieties Using Image Analysis</a> one of the main features, among shape ones<td style=\"text-align:left\"><td>\n",
    "<tr><td><td style=\"text-align:center\">SHAPEFACTOR_3<td style=\"text-align:left\">According to <a href=\"https://onlinelibrary.wiley.com/doi/epdf/10.1155/2021/4793293\">Research Article Classification of Date Fruits into Genetic Varieties Using Image Analysis</a> one of the subfeatures, among shape ones<td style=\"text-align:left\"><td>\n",
    "<tr><td><td style=\"text-align:center\">SHAPEFACTOR_4<td style=\"text-align:left\">According to <a href=\"https://onlinelibrary.wiley.com/doi/epdf/10.1155/2021/4793293\">Research Article Classification of Date Fruits into Genetic Varieties Using Image Analysis</a> one of the subfeatures, among shape ones<td style=\"text-align:left\"><td>\n",
    "<tr><tr><tr><td><td style=\"text-align:center\">MeanRR<td style=\"text-align:left\">According to <a href=\"https://onlinelibrary.wiley.com/doi/epdf/10.1155/2021/4793293\">Research Article Classification of Date Fruits into Genetic Varieties Using Image Analysis</a> one of the main features, among color ones<td style=\"text-align:left\"><td>\n",
    "<tr><td><td style=\"text-align:center\">MeanRG<td style=\"text-align:left\">According to <a href=\"https://onlinelibrary.wiley.com/doi/epdf/10.1155/2021/4793293\">Research Article Classification of Date Fruits into Genetic Varieties Using Image Analysis</a> one of the subfeatures, among color ones<td style=\"text-align:left\"><td>\n",
    "<tr><tr><tr><td><td style=\"text-align:center\">MeanRB<td style=\"text-align:left\">According to <a href=\"https://onlinelibrary.wiley.com/doi/epdf/10.1155/2021/4793293\">Research Article Classification of Date Fruits into Genetic Varieties Using Image Analysis</a> one of the subfeatures, among color ones<td style=\"text-align:left\"><td>\n",
    "<tr><td><td style=\"text-align:center\">StdDevRR<td style=\"text-align:left\">According to <a href=\"https://onlinelibrary.wiley.com/doi/epdf/10.1155/2021/4793293\">Research Article Classification of Date Fruits into Genetic Varieties Using Image Analysis</a> one of the main features, among color ones<td style=\"text-align:left\"><td>\n",
    "<tr><td><td style=\"text-align:center\">StdDevRG<td style=\"text-align:left\">According to <a href=\"https://onlinelibrary.wiley.com/doi/epdf/10.1155/2021/4793293\">Research Article Classification of Date Fruits into Genetic Varieties Using Image Analysis</a> one of the subfeatures, among color ones<td style=\"text-align:left\"><td>\n",
    "<tr><td><td style=\"text-align:center\">StdDevRB<td style=\"text-align:left\">According to <a href=\"https://onlinelibrary.wiley.com/doi/epdf/10.1155/2021/4793293\">Research Article Classification of Date Fruits into Genetic Varieties Using Image Analysis</a> one of the subfeatures, among color ones<td style=\"text-align:left\"><td>\n",
    "<tr><tr><tr><td><td style=\"text-align:center\">SkewRR<td style=\"text-align:left\">According to <a href=\"https://onlinelibrary.wiley.com/doi/epdf/10.1155/2021/4793293\">Research Article Classification of Date Fruits into Genetic Varieties Using Image Analysis</a> one of the main features, among color ones<td style=\"text-align:left\"><td>\n",
    "<tr><td><td style=\"text-align:center\">SkewRG<td style=\"text-align:left\">According to <a href=\"https://onlinelibrary.wiley.com/doi/epdf/10.1155/2021/4793293\">Research Article Classification of Date Fruits into Genetic Varieties Using Image Analysis</a> one of the subfeatures, among color ones<td style=\"text-align:left\"><td>\n",
    "<tr><td><td style=\"text-align:center\">SkewRB<td style=\"text-align:left\">According to <a href=\"https://onlinelibrary.wiley.com/doi/epdf/10.1155/2021/4793293\">Research Article Classification of Date Fruits into Genetic Varieties Using Image Analysis</a> one of the subfeatures, among color ones<td style=\"text-align:left\">Based on mean, min and max values and standard deviation values, we can conclude the data is highly disperse and right-skewed<td>\n",
    "<tr><td><td style=\"text-align:center\">KURTOSISRR<td style=\"text-align:left\">According to <a href=\"https://onlinelibrary.wiley.com/doi/epdf/10.1155/2021/4793293\">Research Article Classification of Date Fruits into Genetic Varieties Using Image Analysis</a> one of the main features, among color ones<td style=\"text-align:left\">Based on mean, min and max values and standard deviation values, we can conclude the data is somehow disperse and right-skewed<td>\n",
    "<tr><td><td style=\"text-align:center\">KURTOSISRG<td style=\"text-align:left\">According to <a href=\"https://onlinelibrary.wiley.com/doi/epdf/10.1155/2021/4793293\">Research Article Classification of Date Fruits into Genetic Varieties Using Image Analysis</a> one of the subfeatures, among color ones<td style=\"text-align:left\">Based on mean, min and max values and standard deviation values, we can conclude the data is somehow is clustered close to the mean<td>\n",
    "<tr><tr><tr><td><td style=\"text-align:center\">KURTOSISRB<td style=\"text-align:left\">According to <a href=\"https://onlinelibrary.wiley.com/doi/epdf/10.1155/2021/4793293\">Research Article Classification of Date Fruits into Genetic Varieties Using Image Analysis</a> one of the subfeatures, among color ones<td style=\"text-align:left\">Based on mean, min and max values and standard deviation values, we can conclude the data is clustered close to the mean<td>\n",
    "<tr><td><td style=\"text-align:center\">ENTROPYRR<td style=\"text-align:left\">According to <a href=\"https://onlinelibrary.wiley.com/doi/epdf/10.1155/2021/4793293\">Research Article Classification of Date Fruits into Genetic Varieties Using Image Analysis</a> one of the main features, among color ones<td style=\"text-align:left\">Based on mean, min and max values and standard deviation values, we can conclude the data is highly disperse<td>\n",
    "<tr><td><td style=\"text-align:center\">ENTROPYRG<td style=\"text-align:left\">According to <a href=\"https://onlinelibrary.wiley.com/doi/epdf/10.1155/2021/4793293\">Research Article Classification of Date Fruits into Genetic Varieties Using Image Analysis</a> one of the subfeatures, among color ones<td style=\"text-align:left\">Based on mean, min and max values and standard deviation values, we can conclude the data is highly disperse<td>\n",
    "<tr><td><td style=\"text-align:center\">ENTROPYEB<td style=\"text-align:left\">According to <a href=\"https://onlinelibrary.wiley.com/doi/epdf/10.1155/2021/4793293\">Research Article Classification of Date Fruits into Genetic Varieties Using Image Analysis</a> one of the subfeatures, among color ones<td style=\"text-align:left\">Based on mean, min and max values and standard deviation values, we can conclude the data is highly disperse<td>\n",
    "<tr><tr><tr><td><td style=\"text-align:center\">ALLdaub4RR<td style=\"text-align:left\">According to <a href=\"https://onlinelibrary.wiley.com/doi/epdf/10.1155/2021/4793293\">Research Article Classification of Date Fruits into Genetic Varieties Using Image Analysis</a> one of the main features, among color ones<td style=\"text-align:left\">Based on mean, min and max values and standard deviation values, we can conclude the data is partially disperse and right-skewed<td>\n",
    "<tr><tr><tr><td><td style=\"text-align:center\">ALLdaub4RG<td style=\"text-align:left\">According to <a href=\"https://onlinelibrary.wiley.com/doi/epdf/10.1155/2021/4793293\">Research Article Classification of Date Fruits into Genetic Varieties Using Image Analysis</a> one of the subfeatures, among color ones<td style=\"text-align:left\">Based on mean, min and max values and standard deviation values, we can conclude the data is partially disperse and right-skewed<td>\n",
    "<tr><td><td style=\"text-align:center\">ALLdaub4RB<td style=\"text-align:left\">According to <a href=\"https://onlinelibrary.wiley.com/doi/epdf/10.1155/2021/4793293\">Research Article Classification of Date Fruits into Genetic Varieties Using Image Analysis</a> one of the subfeatures, among color ones<td style=\"text-align:left\">Based on mean, min and max values and standard deviation values, we can conclude the data is partially disperse and right-skewed<td>\n",
    "</table>"
   ]
  },
  {
   "cell_type": "markdown",
   "id": "b797f96f-b49e-49a9-b3c2-e44c2e755378",
   "metadata": {
    "id": "b797f96f-b49e-49a9-b3c2-e44c2e755378"
   },
   "source": [
    "## Checking for missing values and data type"
   ]
  },
  {
   "cell_type": "code",
   "execution_count": 5,
   "id": "c5700f77-2e7b-403a-9597-817205bed948",
   "metadata": {
    "colab": {
     "base_uri": "https://localhost:8080/"
    },
    "id": "c5700f77-2e7b-403a-9597-817205bed948",
    "outputId": "c1f0fc0a-0385-4c6a-ef39-2555bb6f5e47"
   },
   "outputs": [
    {
     "name": "stdout",
     "output_type": "stream",
     "text": [
      "<class 'pandas.core.frame.DataFrame'>\n",
      "RangeIndex: 898 entries, 0 to 897\n",
      "Data columns (total 35 columns):\n",
      " #   Column         Non-Null Count  Dtype  \n",
      "---  ------         --------------  -----  \n",
      " 0   AREA           898 non-null    int64  \n",
      " 1   PERIMETER      898 non-null    float64\n",
      " 2   MAJOR_AXIS     898 non-null    float64\n",
      " 3   MINOR_AXIS     898 non-null    float64\n",
      " 4   ECCENTRICITY   898 non-null    float64\n",
      " 5   EQDIASQ        898 non-null    float64\n",
      " 6   SOLIDITY       898 non-null    float64\n",
      " 7   CONVEX_AREA    898 non-null    int64  \n",
      " 8   EXTENT         898 non-null    float64\n",
      " 9   ASPECT_RATIO   898 non-null    float64\n",
      " 10  ROUNDNESS      898 non-null    float64\n",
      " 11  COMPACTNESS    898 non-null    float64\n",
      " 12  SHAPEFACTOR_1  898 non-null    float64\n",
      " 13  SHAPEFACTOR_2  898 non-null    float64\n",
      " 14  SHAPEFACTOR_3  898 non-null    float64\n",
      " 15  SHAPEFACTOR_4  898 non-null    float64\n",
      " 16  MeanRR         898 non-null    float64\n",
      " 17  MeanRG         898 non-null    float64\n",
      " 18  MeanRB         898 non-null    float64\n",
      " 19  StdDevRR       898 non-null    float64\n",
      " 20  StdDevRG       898 non-null    float64\n",
      " 21  StdDevRB       898 non-null    float64\n",
      " 22  SkewRR         898 non-null    float64\n",
      " 23  SkewRG         898 non-null    float64\n",
      " 24  SkewRB         898 non-null    float64\n",
      " 25  KurtosisRR     898 non-null    float64\n",
      " 26  KurtosisRG     898 non-null    float64\n",
      " 27  KurtosisRB     898 non-null    float64\n",
      " 28  EntropyRR      898 non-null    float64\n",
      " 29  EntropyRG      898 non-null    int64  \n",
      " 30  EntropyRB      898 non-null    int64  \n",
      " 31  ALLdaub4RR     898 non-null    float64\n",
      " 32  ALLdaub4RG     898 non-null    float64\n",
      " 33  ALLdaub4RB     898 non-null    float64\n",
      " 34  Class          898 non-null    object \n",
      "dtypes: float64(30), int64(4), object(1)\n",
      "memory usage: 245.7+ KB\n"
     ]
    }
   ],
   "source": [
    "data.info()"
   ]
  },
  {
   "cell_type": "code",
   "execution_count": 6,
   "id": "4c729fa8-2840-4134-8c40-9f22d39891b5",
   "metadata": {
    "colab": {
     "base_uri": "https://localhost:8080/"
    },
    "id": "4c729fa8-2840-4134-8c40-9f22d39891b5",
    "outputId": "5d0a319c-b990-424b-ca8e-328a48155241"
   },
   "outputs": [
    {
     "name": "stdout",
     "output_type": "stream",
     "text": [
      "<class 'pandas.core.frame.DataFrame'>\n",
      "RangeIndex: 898 entries, 0 to 897\n",
      "Data columns (total 35 columns):\n",
      " #   Column         Non-Null Count  Dtype  \n",
      "---  ------         --------------  -----  \n",
      " 0   AREA           898 non-null    float64\n",
      " 1   PERIMETER      898 non-null    float64\n",
      " 2   MAJOR_AXIS     898 non-null    float64\n",
      " 3   MINOR_AXIS     898 non-null    float64\n",
      " 4   ECCENTRICITY   898 non-null    float64\n",
      " 5   EQDIASQ        898 non-null    float64\n",
      " 6   SOLIDITY       898 non-null    float64\n",
      " 7   CONVEX_AREA    898 non-null    float64\n",
      " 8   EXTENT         898 non-null    float64\n",
      " 9   ASPECT_RATIO   898 non-null    float64\n",
      " 10  ROUNDNESS      898 non-null    float64\n",
      " 11  COMPACTNESS    898 non-null    float64\n",
      " 12  SHAPEFACTOR_1  898 non-null    float64\n",
      " 13  SHAPEFACTOR_2  898 non-null    float64\n",
      " 14  SHAPEFACTOR_3  898 non-null    float64\n",
      " 15  SHAPEFACTOR_4  898 non-null    float64\n",
      " 16  MeanRR         898 non-null    float64\n",
      " 17  MeanRG         898 non-null    float64\n",
      " 18  MeanRB         898 non-null    float64\n",
      " 19  StdDevRR       898 non-null    float64\n",
      " 20  StdDevRG       898 non-null    float64\n",
      " 21  StdDevRB       898 non-null    float64\n",
      " 22  SkewRR         898 non-null    float64\n",
      " 23  SkewRG         898 non-null    float64\n",
      " 24  SkewRB         898 non-null    float64\n",
      " 25  KurtosisRR     898 non-null    float64\n",
      " 26  KurtosisRG     898 non-null    float64\n",
      " 27  KurtosisRB     898 non-null    float64\n",
      " 28  EntropyRR      898 non-null    float64\n",
      " 29  EntropyRG      898 non-null    float64\n",
      " 30  EntropyRB      898 non-null    float64\n",
      " 31  ALLdaub4RR     898 non-null    float64\n",
      " 32  ALLdaub4RG     898 non-null    float64\n",
      " 33  ALLdaub4RB     898 non-null    float64\n",
      " 34  Class          898 non-null    string \n",
      "dtypes: float64(34), string(1)\n",
      "memory usage: 245.7 KB\n"
     ]
    }
   ],
   "source": [
    "# Changing columns (features): AREA, CONVEX_AREA, ENTROPYRG and ENTROPYRB values to floats and column Class to string values\n",
    "data['AREA'] = data['AREA'].astype(float)\n",
    "data['CONVEX_AREA'] = data['CONVEX_AREA'].astype(float)\n",
    "data['EntropyRG'] = data['EntropyRG'].astype(float)\n",
    "data['EntropyRB'] = data['EntropyRB'].astype(float)\n",
    "data['Class'] = data['Class'].astype('string')\n",
    "data.info()"
   ]
  },
  {
   "cell_type": "markdown",
   "id": "7e791d8c-fea2-479b-9b21-e4118df3d393",
   "metadata": {
    "id": "7e791d8c-fea2-479b-9b21-e4118df3d393"
   },
   "source": [
    "## Checking for duplicate entries"
   ]
  },
  {
   "cell_type": "code",
   "execution_count": 7,
   "id": "a928bcb7-4b6e-421e-a189-47fc56cb0834",
   "metadata": {
    "colab": {
     "base_uri": "https://localhost:8080/",
     "height": 168
    },
    "id": "a928bcb7-4b6e-421e-a189-47fc56cb0834",
    "outputId": "0a62001f-085d-475a-9ac3-7332a6d88ab7"
   },
   "outputs": [
    {
     "name": "stdout",
     "output_type": "stream",
     "text": [
      "Duplicate entries amount: 0\n",
      "\n",
      "Duplicate entries:\n",
      "\n"
     ]
    },
    {
     "data": {
      "application/vnd.google.colaboratory.intrinsic+json": {
       "type": "dataframe"
      },
      "text/html": [
       "\n",
       "  <div id=\"df-6708d58a-7d79-486c-9b98-c90572d032f1\" class=\"colab-df-container\">\n",
       "    <div>\n",
       "<style scoped>\n",
       "    .dataframe tbody tr th:only-of-type {\n",
       "        vertical-align: middle;\n",
       "    }\n",
       "\n",
       "    .dataframe tbody tr th {\n",
       "        vertical-align: top;\n",
       "    }\n",
       "\n",
       "    .dataframe thead th {\n",
       "        text-align: right;\n",
       "    }\n",
       "</style>\n",
       "<table border=\"1\" class=\"dataframe\">\n",
       "  <thead>\n",
       "    <tr style=\"text-align: right;\">\n",
       "      <th></th>\n",
       "      <th>AREA</th>\n",
       "      <th>PERIMETER</th>\n",
       "      <th>MAJOR_AXIS</th>\n",
       "      <th>MINOR_AXIS</th>\n",
       "      <th>ECCENTRICITY</th>\n",
       "      <th>EQDIASQ</th>\n",
       "      <th>SOLIDITY</th>\n",
       "      <th>CONVEX_AREA</th>\n",
       "      <th>EXTENT</th>\n",
       "      <th>ASPECT_RATIO</th>\n",
       "      <th>...</th>\n",
       "      <th>KurtosisRR</th>\n",
       "      <th>KurtosisRG</th>\n",
       "      <th>KurtosisRB</th>\n",
       "      <th>EntropyRR</th>\n",
       "      <th>EntropyRG</th>\n",
       "      <th>EntropyRB</th>\n",
       "      <th>ALLdaub4RR</th>\n",
       "      <th>ALLdaub4RG</th>\n",
       "      <th>ALLdaub4RB</th>\n",
       "      <th>Class</th>\n",
       "    </tr>\n",
       "  </thead>\n",
       "  <tbody>\n",
       "  </tbody>\n",
       "</table>\n",
       "<p>0 rows × 35 columns</p>\n",
       "</div>\n",
       "    <div class=\"colab-df-buttons\">\n",
       "\n",
       "  <div class=\"colab-df-container\">\n",
       "    <button class=\"colab-df-convert\" onclick=\"convertToInteractive('df-6708d58a-7d79-486c-9b98-c90572d032f1')\"\n",
       "            title=\"Convert this dataframe to an interactive table.\"\n",
       "            style=\"display:none;\">\n",
       "\n",
       "  <svg xmlns=\"http://www.w3.org/2000/svg\" height=\"24px\" viewBox=\"0 -960 960 960\">\n",
       "    <path d=\"M120-120v-720h720v720H120Zm60-500h600v-160H180v160Zm220 220h160v-160H400v160Zm0 220h160v-160H400v160ZM180-400h160v-160H180v160Zm440 0h160v-160H620v160ZM180-180h160v-160H180v160Zm440 0h160v-160H620v160Z\"/>\n",
       "  </svg>\n",
       "    </button>\n",
       "\n",
       "  <style>\n",
       "    .colab-df-container {\n",
       "      display:flex;\n",
       "      gap: 12px;\n",
       "    }\n",
       "\n",
       "    .colab-df-convert {\n",
       "      background-color: #E8F0FE;\n",
       "      border: none;\n",
       "      border-radius: 50%;\n",
       "      cursor: pointer;\n",
       "      display: none;\n",
       "      fill: #1967D2;\n",
       "      height: 32px;\n",
       "      padding: 0 0 0 0;\n",
       "      width: 32px;\n",
       "    }\n",
       "\n",
       "    .colab-df-convert:hover {\n",
       "      background-color: #E2EBFA;\n",
       "      box-shadow: 0px 1px 2px rgba(60, 64, 67, 0.3), 0px 1px 3px 1px rgba(60, 64, 67, 0.15);\n",
       "      fill: #174EA6;\n",
       "    }\n",
       "\n",
       "    .colab-df-buttons div {\n",
       "      margin-bottom: 4px;\n",
       "    }\n",
       "\n",
       "    [theme=dark] .colab-df-convert {\n",
       "      background-color: #3B4455;\n",
       "      fill: #D2E3FC;\n",
       "    }\n",
       "\n",
       "    [theme=dark] .colab-df-convert:hover {\n",
       "      background-color: #434B5C;\n",
       "      box-shadow: 0px 1px 3px 1px rgba(0, 0, 0, 0.15);\n",
       "      filter: drop-shadow(0px 1px 2px rgba(0, 0, 0, 0.3));\n",
       "      fill: #FFFFFF;\n",
       "    }\n",
       "  </style>\n",
       "\n",
       "    <script>\n",
       "      const buttonEl =\n",
       "        document.querySelector('#df-6708d58a-7d79-486c-9b98-c90572d032f1 button.colab-df-convert');\n",
       "      buttonEl.style.display =\n",
       "        google.colab.kernel.accessAllowed ? 'block' : 'none';\n",
       "\n",
       "      async function convertToInteractive(key) {\n",
       "        const element = document.querySelector('#df-6708d58a-7d79-486c-9b98-c90572d032f1');\n",
       "        const dataTable =\n",
       "          await google.colab.kernel.invokeFunction('convertToInteractive',\n",
       "                                                    [key], {});\n",
       "        if (!dataTable) return;\n",
       "\n",
       "        const docLinkHtml = 'Like what you see? Visit the ' +\n",
       "          '<a target=\"_blank\" href=https://colab.research.google.com/notebooks/data_table.ipynb>data table notebook</a>'\n",
       "          + ' to learn more about interactive tables.';\n",
       "        element.innerHTML = '';\n",
       "        dataTable['output_type'] = 'display_data';\n",
       "        await google.colab.output.renderOutput(dataTable, element);\n",
       "        const docLink = document.createElement('div');\n",
       "        docLink.innerHTML = docLinkHtml;\n",
       "        element.appendChild(docLink);\n",
       "      }\n",
       "    </script>\n",
       "  </div>\n",
       "\n",
       "\n",
       "    </div>\n",
       "  </div>\n"
      ],
      "text/plain": [
       "Empty DataFrame\n",
       "Columns: [AREA, PERIMETER, MAJOR_AXIS, MINOR_AXIS, ECCENTRICITY, EQDIASQ, SOLIDITY, CONVEX_AREA, EXTENT, ASPECT_RATIO, ROUNDNESS, COMPACTNESS, SHAPEFACTOR_1, SHAPEFACTOR_2, SHAPEFACTOR_3, SHAPEFACTOR_4, MeanRR, MeanRG, MeanRB, StdDevRR, StdDevRG, StdDevRB, SkewRR, SkewRG, SkewRB, KurtosisRR, KurtosisRG, KurtosisRB, EntropyRR, EntropyRG, EntropyRB, ALLdaub4RR, ALLdaub4RG, ALLdaub4RB, Class]\n",
       "Index: []\n",
       "\n",
       "[0 rows x 35 columns]"
      ]
     },
     "execution_count": 7,
     "metadata": {},
     "output_type": "execute_result"
    }
   ],
   "source": [
    "# Using pandas.DataFrame.duplicates to check for duplicate entries.\n",
    "duplicates = data.duplicated()\n",
    "\n",
    "# Printing duplicate entries amount\n",
    "print(f'Duplicate entries amount: {duplicates.sum()}\\n')\n",
    "\n",
    "# Printing duplicates entries\n",
    "print('Duplicate entries:\\n')\n",
    "data[duplicates]"
   ]
  },
  {
   "cell_type": "markdown",
   "id": "69f9207f-830d-407d-968d-f6ee91e304c1",
   "metadata": {
    "id": "69f9207f-830d-407d-968d-f6ee91e304c1"
   },
   "source": [
    "### <span style='color:blue'>There aren't any duplicates entries</span>"
   ]
  },
  {
   "cell_type": "markdown",
   "id": "9eec10b0-ee92-4c03-b4ed-0b717571cecc",
   "metadata": {
    "id": "9eec10b0-ee92-4c03-b4ed-0b717571cecc"
   },
   "source": [
    "## Creating a bar plot using seaborn.barplot of the number of elements in each category"
   ]
  },
  {
   "cell_type": "code",
   "execution_count": 8,
   "id": "2380a39b-776f-4dcd-8882-b3b1882e49b7",
   "metadata": {
    "colab": {
     "base_uri": "https://localhost:8080/",
     "height": 269
    },
    "id": "2380a39b-776f-4dcd-8882-b3b1882e49b7",
    "outputId": "195fa0f9-5b2a-47eb-b08e-8c50aa27eaed"
   },
   "outputs": [
    {
     "data": {
      "application/vnd.google.colaboratory.intrinsic+json": {
       "summary": "{\n  \"name\": \"counts\",\n  \"rows\": 7,\n  \"fields\": [\n    {\n      \"column\": \"Class\",\n      \"properties\": {\n        \"dtype\": \"string\",\n        \"num_unique_values\": 7,\n        \"samples\": [\n          \"BERHI\",\n          \"DEGLET\",\n          \"SAFAVI\"\n        ],\n        \"semantic_type\": \"\",\n        \"description\": \"\"\n      }\n    },\n    {\n      \"column\": \"Count\",\n      \"properties\": {\n        \"dtype\": \"number\",\n        \"std\": 59,\n        \"min\": 65,\n        \"max\": 204,\n        \"num_unique_values\": 7,\n        \"samples\": [\n          65,\n          98,\n          199\n        ],\n        \"semantic_type\": \"\",\n        \"description\": \"\"\n      }\n    }\n  ]\n}",
       "type": "dataframe",
       "variable_name": "counts"
      },
      "text/html": [
       "\n",
       "  <div id=\"df-845f10c9-376e-493c-a23e-fb8a5bce022f\" class=\"colab-df-container\">\n",
       "    <div>\n",
       "<style scoped>\n",
       "    .dataframe tbody tr th:only-of-type {\n",
       "        vertical-align: middle;\n",
       "    }\n",
       "\n",
       "    .dataframe tbody tr th {\n",
       "        vertical-align: top;\n",
       "    }\n",
       "\n",
       "    .dataframe thead th {\n",
       "        text-align: right;\n",
       "    }\n",
       "</style>\n",
       "<table border=\"1\" class=\"dataframe\">\n",
       "  <thead>\n",
       "    <tr style=\"text-align: right;\">\n",
       "      <th></th>\n",
       "      <th>Class</th>\n",
       "      <th>Count</th>\n",
       "    </tr>\n",
       "  </thead>\n",
       "  <tbody>\n",
       "    <tr>\n",
       "      <th>0</th>\n",
       "      <td>BERHI</td>\n",
       "      <td>65</td>\n",
       "    </tr>\n",
       "    <tr>\n",
       "      <th>1</th>\n",
       "      <td>DEGLET</td>\n",
       "      <td>98</td>\n",
       "    </tr>\n",
       "    <tr>\n",
       "      <th>2</th>\n",
       "      <td>DOKOL</td>\n",
       "      <td>204</td>\n",
       "    </tr>\n",
       "    <tr>\n",
       "      <th>3</th>\n",
       "      <td>IRAQI</td>\n",
       "      <td>72</td>\n",
       "    </tr>\n",
       "    <tr>\n",
       "      <th>4</th>\n",
       "      <td>ROTANA</td>\n",
       "      <td>166</td>\n",
       "    </tr>\n",
       "    <tr>\n",
       "      <th>5</th>\n",
       "      <td>SAFAVI</td>\n",
       "      <td>199</td>\n",
       "    </tr>\n",
       "    <tr>\n",
       "      <th>6</th>\n",
       "      <td>SOGAY</td>\n",
       "      <td>94</td>\n",
       "    </tr>\n",
       "  </tbody>\n",
       "</table>\n",
       "</div>\n",
       "    <div class=\"colab-df-buttons\">\n",
       "\n",
       "  <div class=\"colab-df-container\">\n",
       "    <button class=\"colab-df-convert\" onclick=\"convertToInteractive('df-845f10c9-376e-493c-a23e-fb8a5bce022f')\"\n",
       "            title=\"Convert this dataframe to an interactive table.\"\n",
       "            style=\"display:none;\">\n",
       "\n",
       "  <svg xmlns=\"http://www.w3.org/2000/svg\" height=\"24px\" viewBox=\"0 -960 960 960\">\n",
       "    <path d=\"M120-120v-720h720v720H120Zm60-500h600v-160H180v160Zm220 220h160v-160H400v160Zm0 220h160v-160H400v160ZM180-400h160v-160H180v160Zm440 0h160v-160H620v160ZM180-180h160v-160H180v160Zm440 0h160v-160H620v160Z\"/>\n",
       "  </svg>\n",
       "    </button>\n",
       "\n",
       "  <style>\n",
       "    .colab-df-container {\n",
       "      display:flex;\n",
       "      gap: 12px;\n",
       "    }\n",
       "\n",
       "    .colab-df-convert {\n",
       "      background-color: #E8F0FE;\n",
       "      border: none;\n",
       "      border-radius: 50%;\n",
       "      cursor: pointer;\n",
       "      display: none;\n",
       "      fill: #1967D2;\n",
       "      height: 32px;\n",
       "      padding: 0 0 0 0;\n",
       "      width: 32px;\n",
       "    }\n",
       "\n",
       "    .colab-df-convert:hover {\n",
       "      background-color: #E2EBFA;\n",
       "      box-shadow: 0px 1px 2px rgba(60, 64, 67, 0.3), 0px 1px 3px 1px rgba(60, 64, 67, 0.15);\n",
       "      fill: #174EA6;\n",
       "    }\n",
       "\n",
       "    .colab-df-buttons div {\n",
       "      margin-bottom: 4px;\n",
       "    }\n",
       "\n",
       "    [theme=dark] .colab-df-convert {\n",
       "      background-color: #3B4455;\n",
       "      fill: #D2E3FC;\n",
       "    }\n",
       "\n",
       "    [theme=dark] .colab-df-convert:hover {\n",
       "      background-color: #434B5C;\n",
       "      box-shadow: 0px 1px 3px 1px rgba(0, 0, 0, 0.15);\n",
       "      filter: drop-shadow(0px 1px 2px rgba(0, 0, 0, 0.3));\n",
       "      fill: #FFFFFF;\n",
       "    }\n",
       "  </style>\n",
       "\n",
       "    <script>\n",
       "      const buttonEl =\n",
       "        document.querySelector('#df-845f10c9-376e-493c-a23e-fb8a5bce022f button.colab-df-convert');\n",
       "      buttonEl.style.display =\n",
       "        google.colab.kernel.accessAllowed ? 'block' : 'none';\n",
       "\n",
       "      async function convertToInteractive(key) {\n",
       "        const element = document.querySelector('#df-845f10c9-376e-493c-a23e-fb8a5bce022f');\n",
       "        const dataTable =\n",
       "          await google.colab.kernel.invokeFunction('convertToInteractive',\n",
       "                                                    [key], {});\n",
       "        if (!dataTable) return;\n",
       "\n",
       "        const docLinkHtml = 'Like what you see? Visit the ' +\n",
       "          '<a target=\"_blank\" href=https://colab.research.google.com/notebooks/data_table.ipynb>data table notebook</a>'\n",
       "          + ' to learn more about interactive tables.';\n",
       "        element.innerHTML = '';\n",
       "        dataTable['output_type'] = 'display_data';\n",
       "        await google.colab.output.renderOutput(dataTable, element);\n",
       "        const docLink = document.createElement('div');\n",
       "        docLink.innerHTML = docLinkHtml;\n",
       "        element.appendChild(docLink);\n",
       "      }\n",
       "    </script>\n",
       "  </div>\n",
       "\n",
       "\n",
       "<div id=\"df-4f7f2081-188b-421d-91b5-a70e1ff557c5\">\n",
       "  <button class=\"colab-df-quickchart\" onclick=\"quickchart('df-4f7f2081-188b-421d-91b5-a70e1ff557c5')\"\n",
       "            title=\"Suggest charts\"\n",
       "            style=\"display:none;\">\n",
       "\n",
       "<svg xmlns=\"http://www.w3.org/2000/svg\" height=\"24px\"viewBox=\"0 0 24 24\"\n",
       "     width=\"24px\">\n",
       "    <g>\n",
       "        <path d=\"M19 3H5c-1.1 0-2 .9-2 2v14c0 1.1.9 2 2 2h14c1.1 0 2-.9 2-2V5c0-1.1-.9-2-2-2zM9 17H7v-7h2v7zm4 0h-2V7h2v10zm4 0h-2v-4h2v4z\"/>\n",
       "    </g>\n",
       "</svg>\n",
       "  </button>\n",
       "\n",
       "<style>\n",
       "  .colab-df-quickchart {\n",
       "      --bg-color: #E8F0FE;\n",
       "      --fill-color: #1967D2;\n",
       "      --hover-bg-color: #E2EBFA;\n",
       "      --hover-fill-color: #174EA6;\n",
       "      --disabled-fill-color: #AAA;\n",
       "      --disabled-bg-color: #DDD;\n",
       "  }\n",
       "\n",
       "  [theme=dark] .colab-df-quickchart {\n",
       "      --bg-color: #3B4455;\n",
       "      --fill-color: #D2E3FC;\n",
       "      --hover-bg-color: #434B5C;\n",
       "      --hover-fill-color: #FFFFFF;\n",
       "      --disabled-bg-color: #3B4455;\n",
       "      --disabled-fill-color: #666;\n",
       "  }\n",
       "\n",
       "  .colab-df-quickchart {\n",
       "    background-color: var(--bg-color);\n",
       "    border: none;\n",
       "    border-radius: 50%;\n",
       "    cursor: pointer;\n",
       "    display: none;\n",
       "    fill: var(--fill-color);\n",
       "    height: 32px;\n",
       "    padding: 0;\n",
       "    width: 32px;\n",
       "  }\n",
       "\n",
       "  .colab-df-quickchart:hover {\n",
       "    background-color: var(--hover-bg-color);\n",
       "    box-shadow: 0 1px 2px rgba(60, 64, 67, 0.3), 0 1px 3px 1px rgba(60, 64, 67, 0.15);\n",
       "    fill: var(--button-hover-fill-color);\n",
       "  }\n",
       "\n",
       "  .colab-df-quickchart-complete:disabled,\n",
       "  .colab-df-quickchart-complete:disabled:hover {\n",
       "    background-color: var(--disabled-bg-color);\n",
       "    fill: var(--disabled-fill-color);\n",
       "    box-shadow: none;\n",
       "  }\n",
       "\n",
       "  .colab-df-spinner {\n",
       "    border: 2px solid var(--fill-color);\n",
       "    border-color: transparent;\n",
       "    border-bottom-color: var(--fill-color);\n",
       "    animation:\n",
       "      spin 1s steps(1) infinite;\n",
       "  }\n",
       "\n",
       "  @keyframes spin {\n",
       "    0% {\n",
       "      border-color: transparent;\n",
       "      border-bottom-color: var(--fill-color);\n",
       "      border-left-color: var(--fill-color);\n",
       "    }\n",
       "    20% {\n",
       "      border-color: transparent;\n",
       "      border-left-color: var(--fill-color);\n",
       "      border-top-color: var(--fill-color);\n",
       "    }\n",
       "    30% {\n",
       "      border-color: transparent;\n",
       "      border-left-color: var(--fill-color);\n",
       "      border-top-color: var(--fill-color);\n",
       "      border-right-color: var(--fill-color);\n",
       "    }\n",
       "    40% {\n",
       "      border-color: transparent;\n",
       "      border-right-color: var(--fill-color);\n",
       "      border-top-color: var(--fill-color);\n",
       "    }\n",
       "    60% {\n",
       "      border-color: transparent;\n",
       "      border-right-color: var(--fill-color);\n",
       "    }\n",
       "    80% {\n",
       "      border-color: transparent;\n",
       "      border-right-color: var(--fill-color);\n",
       "      border-bottom-color: var(--fill-color);\n",
       "    }\n",
       "    90% {\n",
       "      border-color: transparent;\n",
       "      border-bottom-color: var(--fill-color);\n",
       "    }\n",
       "  }\n",
       "</style>\n",
       "\n",
       "  <script>\n",
       "    async function quickchart(key) {\n",
       "      const quickchartButtonEl =\n",
       "        document.querySelector('#' + key + ' button');\n",
       "      quickchartButtonEl.disabled = true;  // To prevent multiple clicks.\n",
       "      quickchartButtonEl.classList.add('colab-df-spinner');\n",
       "      try {\n",
       "        const charts = await google.colab.kernel.invokeFunction(\n",
       "            'suggestCharts', [key], {});\n",
       "      } catch (error) {\n",
       "        console.error('Error during call to suggestCharts:', error);\n",
       "      }\n",
       "      quickchartButtonEl.classList.remove('colab-df-spinner');\n",
       "      quickchartButtonEl.classList.add('colab-df-quickchart-complete');\n",
       "    }\n",
       "    (() => {\n",
       "      let quickchartButtonEl =\n",
       "        document.querySelector('#df-4f7f2081-188b-421d-91b5-a70e1ff557c5 button');\n",
       "      quickchartButtonEl.style.display =\n",
       "        google.colab.kernel.accessAllowed ? 'block' : 'none';\n",
       "    })();\n",
       "  </script>\n",
       "</div>\n",
       "\n",
       "  <div id=\"id_8d3eb29d-1d61-48a9-aa01-aafab45a95cb\">\n",
       "    <style>\n",
       "      .colab-df-generate {\n",
       "        background-color: #E8F0FE;\n",
       "        border: none;\n",
       "        border-radius: 50%;\n",
       "        cursor: pointer;\n",
       "        display: none;\n",
       "        fill: #1967D2;\n",
       "        height: 32px;\n",
       "        padding: 0 0 0 0;\n",
       "        width: 32px;\n",
       "      }\n",
       "\n",
       "      .colab-df-generate:hover {\n",
       "        background-color: #E2EBFA;\n",
       "        box-shadow: 0px 1px 2px rgba(60, 64, 67, 0.3), 0px 1px 3px 1px rgba(60, 64, 67, 0.15);\n",
       "        fill: #174EA6;\n",
       "      }\n",
       "\n",
       "      [theme=dark] .colab-df-generate {\n",
       "        background-color: #3B4455;\n",
       "        fill: #D2E3FC;\n",
       "      }\n",
       "\n",
       "      [theme=dark] .colab-df-generate:hover {\n",
       "        background-color: #434B5C;\n",
       "        box-shadow: 0px 1px 3px 1px rgba(0, 0, 0, 0.15);\n",
       "        filter: drop-shadow(0px 1px 2px rgba(0, 0, 0, 0.3));\n",
       "        fill: #FFFFFF;\n",
       "      }\n",
       "    </style>\n",
       "    <button class=\"colab-df-generate\" onclick=\"generateWithVariable('counts')\"\n",
       "            title=\"Generate code using this dataframe.\"\n",
       "            style=\"display:none;\">\n",
       "\n",
       "  <svg xmlns=\"http://www.w3.org/2000/svg\" height=\"24px\"viewBox=\"0 0 24 24\"\n",
       "       width=\"24px\">\n",
       "    <path d=\"M7,19H8.4L18.45,9,17,7.55,7,17.6ZM5,21V16.75L18.45,3.32a2,2,0,0,1,2.83,0l1.4,1.43a1.91,1.91,0,0,1,.58,1.4,1.91,1.91,0,0,1-.58,1.4L9.25,21ZM18.45,9,17,7.55Zm-12,3A5.31,5.31,0,0,0,4.9,8.1,5.31,5.31,0,0,0,1,6.5,5.31,5.31,0,0,0,4.9,4.9,5.31,5.31,0,0,0,6.5,1,5.31,5.31,0,0,0,8.1,4.9,5.31,5.31,0,0,0,12,6.5,5.46,5.46,0,0,0,6.5,12Z\"/>\n",
       "  </svg>\n",
       "    </button>\n",
       "    <script>\n",
       "      (() => {\n",
       "      const buttonEl =\n",
       "        document.querySelector('#id_8d3eb29d-1d61-48a9-aa01-aafab45a95cb button.colab-df-generate');\n",
       "      buttonEl.style.display =\n",
       "        google.colab.kernel.accessAllowed ? 'block' : 'none';\n",
       "\n",
       "      buttonEl.onclick = () => {\n",
       "        google.colab.notebook.generateWithVariable('counts');\n",
       "      }\n",
       "      })();\n",
       "    </script>\n",
       "  </div>\n",
       "\n",
       "    </div>\n",
       "  </div>\n"
      ],
      "text/plain": [
       "    Class  Count\n",
       "0   BERHI     65\n",
       "1  DEGLET     98\n",
       "2   DOKOL    204\n",
       "3   IRAQI     72\n",
       "4  ROTANA    166\n",
       "5  SAFAVI    199\n",
       "6   SOGAY     94"
      ]
     },
     "execution_count": 8,
     "metadata": {},
     "output_type": "execute_result"
    }
   ],
   "source": [
    "# Getting the count per each Class\n",
    "counts = data.groupby('Class').size().reset_index(name='Count')\n",
    "counts"
   ]
  },
  {
   "cell_type": "code",
   "execution_count": 9,
   "id": "46facca0-a648-4e1f-bbbc-09a1caa84531",
   "metadata": {
    "colab": {
     "base_uri": "https://localhost:8080/",
     "height": 472
    },
    "id": "46facca0-a648-4e1f-bbbc-09a1caa84531",
    "outputId": "812b21db-41a4-412e-a270-4e54c2088023"
   },
   "outputs": [
    {
     "data": {
      "image/png": "[encoded data removed]",
      "text/plain": [
       "<Figure size 640x480 with 1 Axes>"
      ]
     },
     "metadata": {},
     "output_type": "display_data"
    }
   ],
   "source": [
    "plot = sns.barplot(data = counts, x = \"Class\", y = \"Count\", hue = \"Class\", palette = 'viridis')\n",
    "\n",
    "# Adding counts on each bar\n",
    "for p in plot.patches:\n",
    "    width = p.get_width()\n",
    "    x = p.get_x() + width / 2\n",
    "    y = p.get_height()\n",
    "    plot.text(x, y, f'{y:.0f}', ha='center', va='bottom')\n",
    "\n",
    "plt.xlabel('Class')\n",
    "plt.ylabel('Number of Elements')\n",
    "plt.title('Number of Elements of Each Class')\n",
    "plt.show()"
   ]
  },
  {
   "cell_type": "markdown",
   "id": "7784b5c8-ad1e-4bb3-b6af-499227994f3e",
   "metadata": {
    "id": "7784b5c8-ad1e-4bb3-b6af-499227994f3e"
   },
   "source": [
    "## Separating labels from features"
   ]
  },
  {
   "cell_type": "code",
   "execution_count": 10,
   "id": "295c4611-3ddc-49fd-a465-82eecf76ccb6",
   "metadata": {
    "colab": {
     "base_uri": "https://localhost:8080/",
     "height": 444
    },
    "id": "295c4611-3ddc-49fd-a465-82eecf76ccb6",
    "outputId": "60c47987-93c6-4933-9491-6d0bdae5dc32"
   },
   "outputs": [
    {
     "data": {
      "application/vnd.google.colaboratory.intrinsic+json": {
       "type": "dataframe",
       "variable_name": "features"
      },
      "text/html": [
       "\n",
       "  <div id=\"df-dfd161ad-c243-4dc3-be25-1729e0fecc8b\" class=\"colab-df-container\">\n",
       "    <div>\n",
       "<style scoped>\n",
       "    .dataframe tbody tr th:only-of-type {\n",
       "        vertical-align: middle;\n",
       "    }\n",
       "\n",
       "    .dataframe tbody tr th {\n",
       "        vertical-align: top;\n",
       "    }\n",
       "\n",
       "    .dataframe thead th {\n",
       "        text-align: right;\n",
       "    }\n",
       "</style>\n",
       "<table border=\"1\" class=\"dataframe\">\n",
       "  <thead>\n",
       "    <tr style=\"text-align: right;\">\n",
       "      <th></th>\n",
       "      <th>AREA</th>\n",
       "      <th>PERIMETER</th>\n",
       "      <th>MAJOR_AXIS</th>\n",
       "      <th>MINOR_AXIS</th>\n",
       "      <th>ECCENTRICITY</th>\n",
       "      <th>EQDIASQ</th>\n",
       "      <th>SOLIDITY</th>\n",
       "      <th>CONVEX_AREA</th>\n",
       "      <th>EXTENT</th>\n",
       "      <th>ASPECT_RATIO</th>\n",
       "      <th>...</th>\n",
       "      <th>SkewRB</th>\n",
       "      <th>KurtosisRR</th>\n",
       "      <th>KurtosisRG</th>\n",
       "      <th>KurtosisRB</th>\n",
       "      <th>EntropyRR</th>\n",
       "      <th>EntropyRG</th>\n",
       "      <th>EntropyRB</th>\n",
       "      <th>ALLdaub4RR</th>\n",
       "      <th>ALLdaub4RG</th>\n",
       "      <th>ALLdaub4RB</th>\n",
       "    </tr>\n",
       "  </thead>\n",
       "  <tbody>\n",
       "    <tr>\n",
       "      <th>0</th>\n",
       "      <td>422163.0</td>\n",
       "      <td>2378.9080</td>\n",
       "      <td>837.8484</td>\n",
       "      <td>645.6693</td>\n",
       "      <td>0.6373</td>\n",
       "      <td>733.1539</td>\n",
       "      <td>0.9947</td>\n",
       "      <td>424428.0</td>\n",
       "      <td>0.7831</td>\n",
       "      <td>1.2976</td>\n",
       "      <td>...</td>\n",
       "      <td>0.6019</td>\n",
       "      <td>3.2370</td>\n",
       "      <td>2.9574</td>\n",
       "      <td>4.2287</td>\n",
       "      <td>-5.919126e+10</td>\n",
       "      <td>-5.071421e+10</td>\n",
       "      <td>-3.992237e+10</td>\n",
       "      <td>58.7255</td>\n",
       "      <td>54.9554</td>\n",
       "      <td>47.8400</td>\n",
       "    </tr>\n",
       "    <tr>\n",
       "      <th>1</th>\n",
       "      <td>338136.0</td>\n",
       "      <td>2085.1440</td>\n",
       "      <td>723.8198</td>\n",
       "      <td>595.2073</td>\n",
       "      <td>0.5690</td>\n",
       "      <td>656.1464</td>\n",
       "      <td>0.9974</td>\n",
       "      <td>339014.0</td>\n",
       "      <td>0.7795</td>\n",
       "      <td>1.2161</td>\n",
       "      <td>...</td>\n",
       "      <td>0.4134</td>\n",
       "      <td>2.6228</td>\n",
       "      <td>2.6350</td>\n",
       "      <td>3.1704</td>\n",
       "      <td>-3.423307e+10</td>\n",
       "      <td>-3.746260e+10</td>\n",
       "      <td>-3.147779e+10</td>\n",
       "      <td>50.0259</td>\n",
       "      <td>52.8168</td>\n",
       "      <td>47.8315</td>\n",
       "    </tr>\n",
       "    <tr>\n",
       "      <th>2</th>\n",
       "      <td>526843.0</td>\n",
       "      <td>2647.3940</td>\n",
       "      <td>940.7379</td>\n",
       "      <td>715.3638</td>\n",
       "      <td>0.6494</td>\n",
       "      <td>819.0222</td>\n",
       "      <td>0.9962</td>\n",
       "      <td>528876.0</td>\n",
       "      <td>0.7657</td>\n",
       "      <td>1.3150</td>\n",
       "      <td>...</td>\n",
       "      <td>0.9183</td>\n",
       "      <td>3.7516</td>\n",
       "      <td>3.8611</td>\n",
       "      <td>4.7192</td>\n",
       "      <td>-9.394835e+10</td>\n",
       "      <td>-7.473822e+10</td>\n",
       "      <td>-6.031121e+10</td>\n",
       "      <td>65.4772</td>\n",
       "      <td>59.2860</td>\n",
       "      <td>51.9378</td>\n",
       "    </tr>\n",
       "    <tr>\n",
       "      <th>3</th>\n",
       "      <td>416063.0</td>\n",
       "      <td>2351.2100</td>\n",
       "      <td>827.9804</td>\n",
       "      <td>645.2988</td>\n",
       "      <td>0.6266</td>\n",
       "      <td>727.8378</td>\n",
       "      <td>0.9948</td>\n",
       "      <td>418255.0</td>\n",
       "      <td>0.7759</td>\n",
       "      <td>1.2831</td>\n",
       "      <td>...</td>\n",
       "      <td>1.8028</td>\n",
       "      <td>5.0401</td>\n",
       "      <td>8.6136</td>\n",
       "      <td>8.2618</td>\n",
       "      <td>-3.207431e+10</td>\n",
       "      <td>-3.206093e+10</td>\n",
       "      <td>-2.957501e+10</td>\n",
       "      <td>43.3900</td>\n",
       "      <td>44.1259</td>\n",
       "      <td>41.1882</td>\n",
       "    </tr>\n",
       "    <tr>\n",
       "      <th>4</th>\n",
       "      <td>347562.0</td>\n",
       "      <td>2160.3540</td>\n",
       "      <td>763.9877</td>\n",
       "      <td>582.8359</td>\n",
       "      <td>0.6465</td>\n",
       "      <td>665.2291</td>\n",
       "      <td>0.9908</td>\n",
       "      <td>350797.0</td>\n",
       "      <td>0.7569</td>\n",
       "      <td>1.3108</td>\n",
       "      <td>...</td>\n",
       "      <td>0.8865</td>\n",
       "      <td>2.7016</td>\n",
       "      <td>2.9761</td>\n",
       "      <td>4.4146</td>\n",
       "      <td>-3.998097e+10</td>\n",
       "      <td>-3.598004e+10</td>\n",
       "      <td>-2.559328e+10</td>\n",
       "      <td>52.7743</td>\n",
       "      <td>50.9080</td>\n",
       "      <td>42.6666</td>\n",
       "    </tr>\n",
       "    <tr>\n",
       "      <th>...</th>\n",
       "      <td>...</td>\n",
       "      <td>...</td>\n",
       "      <td>...</td>\n",
       "      <td>...</td>\n",
       "      <td>...</td>\n",
       "      <td>...</td>\n",
       "      <td>...</td>\n",
       "      <td>...</td>\n",
       "      <td>...</td>\n",
       "      <td>...</td>\n",
       "      <td>...</td>\n",
       "      <td>...</td>\n",
       "      <td>...</td>\n",
       "      <td>...</td>\n",
       "      <td>...</td>\n",
       "      <td>...</td>\n",
       "      <td>...</td>\n",
       "      <td>...</td>\n",
       "      <td>...</td>\n",
       "      <td>...</td>\n",
       "      <td>...</td>\n",
       "    </tr>\n",
       "    <tr>\n",
       "      <th>893</th>\n",
       "      <td>255403.0</td>\n",
       "      <td>1925.3650</td>\n",
       "      <td>691.8453</td>\n",
       "      <td>477.1796</td>\n",
       "      <td>0.7241</td>\n",
       "      <td>570.2536</td>\n",
       "      <td>0.9785</td>\n",
       "      <td>261028.0</td>\n",
       "      <td>0.7269</td>\n",
       "      <td>1.4499</td>\n",
       "      <td>...</td>\n",
       "      <td>-0.1398</td>\n",
       "      <td>2.2423</td>\n",
       "      <td>2.3704</td>\n",
       "      <td>2.7202</td>\n",
       "      <td>-2.529642e+10</td>\n",
       "      <td>-1.916888e+10</td>\n",
       "      <td>-1.847339e+10</td>\n",
       "      <td>49.0869</td>\n",
       "      <td>43.0422</td>\n",
       "      <td>42.4153</td>\n",
       "    </tr>\n",
       "    <tr>\n",
       "      <th>894</th>\n",
       "      <td>365924.0</td>\n",
       "      <td>2664.8230</td>\n",
       "      <td>855.4633</td>\n",
       "      <td>551.5447</td>\n",
       "      <td>0.7644</td>\n",
       "      <td>682.5752</td>\n",
       "      <td>0.9466</td>\n",
       "      <td>386566.0</td>\n",
       "      <td>0.6695</td>\n",
       "      <td>1.5510</td>\n",
       "      <td>...</td>\n",
       "      <td>0.5611</td>\n",
       "      <td>3.4109</td>\n",
       "      <td>3.5805</td>\n",
       "      <td>3.9910</td>\n",
       "      <td>-3.160522e+10</td>\n",
       "      <td>-2.194537e+10</td>\n",
       "      <td>-1.927791e+10</td>\n",
       "      <td>46.8086</td>\n",
       "      <td>39.1046</td>\n",
       "      <td>36.5502</td>\n",
       "    </tr>\n",
       "    <tr>\n",
       "      <th>895</th>\n",
       "      <td>254330.0</td>\n",
       "      <td>1926.7360</td>\n",
       "      <td>747.4943</td>\n",
       "      <td>435.6219</td>\n",
       "      <td>0.8126</td>\n",
       "      <td>569.0545</td>\n",
       "      <td>0.9925</td>\n",
       "      <td>256255.0</td>\n",
       "      <td>0.7240</td>\n",
       "      <td>1.7159</td>\n",
       "      <td>...</td>\n",
       "      <td>0.2665</td>\n",
       "      <td>2.2759</td>\n",
       "      <td>2.5090</td>\n",
       "      <td>2.6951</td>\n",
       "      <td>-2.224277e+10</td>\n",
       "      <td>-1.959492e+10</td>\n",
       "      <td>-1.759215e+10</td>\n",
       "      <td>44.1325</td>\n",
       "      <td>40.7986</td>\n",
       "      <td>40.9769</td>\n",
       "    </tr>\n",
       "    <tr>\n",
       "      <th>896</th>\n",
       "      <td>238955.0</td>\n",
       "      <td>1906.2679</td>\n",
       "      <td>716.6485</td>\n",
       "      <td>441.8297</td>\n",
       "      <td>0.7873</td>\n",
       "      <td>551.5859</td>\n",
       "      <td>0.9604</td>\n",
       "      <td>248795.0</td>\n",
       "      <td>0.6954</td>\n",
       "      <td>1.6220</td>\n",
       "      <td>...</td>\n",
       "      <td>0.5325</td>\n",
       "      <td>2.6769</td>\n",
       "      <td>2.6874</td>\n",
       "      <td>2.7991</td>\n",
       "      <td>-2.604860e+10</td>\n",
       "      <td>-2.129982e+10</td>\n",
       "      <td>-1.980998e+10</td>\n",
       "      <td>51.2267</td>\n",
       "      <td>45.7162</td>\n",
       "      <td>45.6260</td>\n",
       "    </tr>\n",
       "    <tr>\n",
       "      <th>897</th>\n",
       "      <td>343792.0</td>\n",
       "      <td>2289.2720</td>\n",
       "      <td>823.8438</td>\n",
       "      <td>534.7757</td>\n",
       "      <td>0.7607</td>\n",
       "      <td>661.6113</td>\n",
       "      <td>0.9781</td>\n",
       "      <td>351472.0</td>\n",
       "      <td>0.6941</td>\n",
       "      <td>1.5405</td>\n",
       "      <td>...</td>\n",
       "      <td>0.4318</td>\n",
       "      <td>2.5138</td>\n",
       "      <td>3.0369</td>\n",
       "      <td>3.0865</td>\n",
       "      <td>-3.198348e+10</td>\n",
       "      <td>-2.048251e+10</td>\n",
       "      <td>-2.121935e+10</td>\n",
       "      <td>47.3454</td>\n",
       "      <td>38.6966</td>\n",
       "      <td>39.6738</td>\n",
       "    </tr>\n",
       "  </tbody>\n",
       "</table>\n",
       "<p>898 rows × 34 columns</p>\n",
       "</div>\n",
       "    <div class=\"colab-df-buttons\">\n",
       "\n",
       "  <div class=\"colab-df-container\">\n",
       "    <button class=\"colab-df-convert\" onclick=\"convertToInteractive('df-dfd161ad-c243-4dc3-be25-1729e0fecc8b')\"\n",
       "            title=\"Convert this dataframe to an interactive table.\"\n",
       "            style=\"display:none;\">\n",
       "\n",
       "  <svg xmlns=\"http://www.w3.org/2000/svg\" height=\"24px\" viewBox=\"0 -960 960 960\">\n",
       "    <path d=\"M120-120v-720h720v720H120Zm60-500h600v-160H180v160Zm220 220h160v-160H400v160Zm0 220h160v-160H400v160ZM180-400h160v-160H180v160Zm440 0h160v-160H620v160ZM180-180h160v-160H180v160Zm440 0h160v-160H620v160Z\"/>\n",
       "  </svg>\n",
       "    </button>\n",
       "\n",
       "  <style>\n",
       "    .colab-df-container {\n",
       "      display:flex;\n",
       "      gap: 12px;\n",
       "    }\n",
       "\n",
       "    .colab-df-convert {\n",
       "      background-color: #E8F0FE;\n",
       "      border: none;\n",
       "      border-radius: 50%;\n",
       "      cursor: pointer;\n",
       "      display: none;\n",
       "      fill: #1967D2;\n",
       "      height: 32px;\n",
       "      padding: 0 0 0 0;\n",
       "      width: 32px;\n",
       "    }\n",
       "\n",
       "    .colab-df-convert:hover {\n",
       "      background-color: #E2EBFA;\n",
       "      box-shadow: 0px 1px 2px rgba(60, 64, 67, 0.3), 0px 1px 3px 1px rgba(60, 64, 67, 0.15);\n",
       "      fill: #174EA6;\n",
       "    }\n",
       "\n",
       "    .colab-df-buttons div {\n",
       "      margin-bottom: 4px;\n",
       "    }\n",
       "\n",
       "    [theme=dark] .colab-df-convert {\n",
       "      background-color: #3B4455;\n",
       "      fill: #D2E3FC;\n",
       "    }\n",
       "\n",
       "    [theme=dark] .colab-df-convert:hover {\n",
       "      background-color: #434B5C;\n",
       "      box-shadow: 0px 1px 3px 1px rgba(0, 0, 0, 0.15);\n",
       "      filter: drop-shadow(0px 1px 2px rgba(0, 0, 0, 0.3));\n",
       "      fill: #FFFFFF;\n",
       "    }\n",
       "  </style>\n",
       "\n",
       "    <script>\n",
       "      const buttonEl =\n",
       "        document.querySelector('#df-dfd161ad-c243-4dc3-be25-1729e0fecc8b button.colab-df-convert');\n",
       "      buttonEl.style.display =\n",
       "        google.colab.kernel.accessAllowed ? 'block' : 'none';\n",
       "\n",
       "      async function convertToInteractive(key) {\n",
       "        const element = document.querySelector('#df-dfd161ad-c243-4dc3-be25-1729e0fecc8b');\n",
       "        const dataTable =\n",
       "          await google.colab.kernel.invokeFunction('convertToInteractive',\n",
       "                                                    [key], {});\n",
       "        if (!dataTable) return;\n",
       "\n",
       "        const docLinkHtml = 'Like what you see? Visit the ' +\n",
       "          '<a target=\"_blank\" href=https://colab.research.google.com/notebooks/data_table.ipynb>data table notebook</a>'\n",
       "          + ' to learn more about interactive tables.';\n",
       "        element.innerHTML = '';\n",
       "        dataTable['output_type'] = 'display_data';\n",
       "        await google.colab.output.renderOutput(dataTable, element);\n",
       "        const docLink = document.createElement('div');\n",
       "        docLink.innerHTML = docLinkHtml;\n",
       "        element.appendChild(docLink);\n",
       "      }\n",
       "    </script>\n",
       "  </div>\n",
       "\n",
       "\n",
       "<div id=\"df-c1b6af19-d9a0-4a11-a341-2f92d59c5d01\">\n",
       "  <button class=\"colab-df-quickchart\" onclick=\"quickchart('df-c1b6af19-d9a0-4a11-a341-2f92d59c5d01')\"\n",
       "            title=\"Suggest charts\"\n",
       "            style=\"display:none;\">\n",
       "\n",
       "<svg xmlns=\"http://www.w3.org/2000/svg\" height=\"24px\"viewBox=\"0 0 24 24\"\n",
       "     width=\"24px\">\n",
       "    <g>\n",
       "        <path d=\"M19 3H5c-1.1 0-2 .9-2 2v14c0 1.1.9 2 2 2h14c1.1 0 2-.9 2-2V5c0-1.1-.9-2-2-2zM9 17H7v-7h2v7zm4 0h-2V7h2v10zm4 0h-2v-4h2v4z\"/>\n",
       "    </g>\n",
       "</svg>\n",
       "  </button>\n",
       "\n",
       "<style>\n",
       "  .colab-df-quickchart {\n",
       "      --bg-color: #E8F0FE;\n",
       "      --fill-color: #1967D2;\n",
       "      --hover-bg-color: #E2EBFA;\n",
       "      --hover-fill-color: #174EA6;\n",
       "      --disabled-fill-color: #AAA;\n",
       "      --disabled-bg-color: #DDD;\n",
       "  }\n",
       "\n",
       "  [theme=dark] .colab-df-quickchart {\n",
       "      --bg-color: #3B4455;\n",
       "      --fill-color: #D2E3FC;\n",
       "      --hover-bg-color: #434B5C;\n",
       "      --hover-fill-color: #FFFFFF;\n",
       "      --disabled-bg-color: #3B4455;\n",
       "      --disabled-fill-color: #666;\n",
       "  }\n",
       "\n",
       "  .colab-df-quickchart {\n",
       "    background-color: var(--bg-color);\n",
       "    border: none;\n",
       "    border-radius: 50%;\n",
       "    cursor: pointer;\n",
       "    display: none;\n",
       "    fill: var(--fill-color);\n",
       "    height: 32px;\n",
       "    padding: 0;\n",
       "    width: 32px;\n",
       "  }\n",
       "\n",
       "  .colab-df-quickchart:hover {\n",
       "    background-color: var(--hover-bg-color);\n",
       "    box-shadow: 0 1px 2px rgba(60, 64, 67, 0.3), 0 1px 3px 1px rgba(60, 64, 67, 0.15);\n",
       "    fill: var(--button-hover-fill-color);\n",
       "  }\n",
       "\n",
       "  .colab-df-quickchart-complete:disabled,\n",
       "  .colab-df-quickchart-complete:disabled:hover {\n",
       "    background-color: var(--disabled-bg-color);\n",
       "    fill: var(--disabled-fill-color);\n",
       "    box-shadow: none;\n",
       "  }\n",
       "\n",
       "  .colab-df-spinner {\n",
       "    border: 2px solid var(--fill-color);\n",
       "    border-color: transparent;\n",
       "    border-bottom-color: var(--fill-color);\n",
       "    animation:\n",
       "      spin 1s steps(1) infinite;\n",
       "  }\n",
       "\n",
       "  @keyframes spin {\n",
       "    0% {\n",
       "      border-color: transparent;\n",
       "      border-bottom-color: var(--fill-color);\n",
       "      border-left-color: var(--fill-color);\n",
       "    }\n",
       "    20% {\n",
       "      border-color: transparent;\n",
       "      border-left-color: var(--fill-color);\n",
       "      border-top-color: var(--fill-color);\n",
       "    }\n",
       "    30% {\n",
       "      border-color: transparent;\n",
       "      border-left-color: var(--fill-color);\n",
       "      border-top-color: var(--fill-color);\n",
       "      border-right-color: var(--fill-color);\n",
       "    }\n",
       "    40% {\n",
       "      border-color: transparent;\n",
       "      border-right-color: var(--fill-color);\n",
       "      border-top-color: var(--fill-color);\n",
       "    }\n",
       "    60% {\n",
       "      border-color: transparent;\n",
       "      border-right-color: var(--fill-color);\n",
       "    }\n",
       "    80% {\n",
       "      border-color: transparent;\n",
       "      border-right-color: var(--fill-color);\n",
       "      border-bottom-color: var(--fill-color);\n",
       "    }\n",
       "    90% {\n",
       "      border-color: transparent;\n",
       "      border-bottom-color: var(--fill-color);\n",
       "    }\n",
       "  }\n",
       "</style>\n",
       "\n",
       "  <script>\n",
       "    async function quickchart(key) {\n",
       "      const quickchartButtonEl =\n",
       "        document.querySelector('#' + key + ' button');\n",
       "      quickchartButtonEl.disabled = true;  // To prevent multiple clicks.\n",
       "      quickchartButtonEl.classList.add('colab-df-spinner');\n",
       "      try {\n",
       "        const charts = await google.colab.kernel.invokeFunction(\n",
       "            'suggestCharts', [key], {});\n",
       "      } catch (error) {\n",
       "        console.error('Error during call to suggestCharts:', error);\n",
       "      }\n",
       "      quickchartButtonEl.classList.remove('colab-df-spinner');\n",
       "      quickchartButtonEl.classList.add('colab-df-quickchart-complete');\n",
       "    }\n",
       "    (() => {\n",
       "      let quickchartButtonEl =\n",
       "        document.querySelector('#df-c1b6af19-d9a0-4a11-a341-2f92d59c5d01 button');\n",
       "      quickchartButtonEl.style.display =\n",
       "        google.colab.kernel.accessAllowed ? 'block' : 'none';\n",
       "    })();\n",
       "  </script>\n",
       "</div>\n",
       "\n",
       "  <div id=\"id_85fbb225-7fef-4d3a-8677-67cef4a39e00\">\n",
       "    <style>\n",
       "      .colab-df-generate {\n",
       "        background-color: #E8F0FE;\n",
       "        border: none;\n",
       "        border-radius: 50%;\n",
       "        cursor: pointer;\n",
       "        display: none;\n",
       "        fill: #1967D2;\n",
       "        height: 32px;\n",
       "        padding: 0 0 0 0;\n",
       "        width: 32px;\n",
       "      }\n",
       "\n",
       "      .colab-df-generate:hover {\n",
       "        background-color: #E2EBFA;\n",
       "        box-shadow: 0px 1px 2px rgba(60, 64, 67, 0.3), 0px 1px 3px 1px rgba(60, 64, 67, 0.15);\n",
       "        fill: #174EA6;\n",
       "      }\n",
       "\n",
       "      [theme=dark] .colab-df-generate {\n",
       "        background-color: #3B4455;\n",
       "        fill: #D2E3FC;\n",
       "      }\n",
       "\n",
       "      [theme=dark] .colab-df-generate:hover {\n",
       "        background-color: #434B5C;\n",
       "        box-shadow: 0px 1px 3px 1px rgba(0, 0, 0, 0.15);\n",
       "        filter: drop-shadow(0px 1px 2px rgba(0, 0, 0, 0.3));\n",
       "        fill: #FFFFFF;\n",
       "      }\n",
       "    </style>\n",
       "    <button class=\"colab-df-generate\" onclick=\"generateWithVariable('features')\"\n",
       "            title=\"Generate code using this dataframe.\"\n",
       "            style=\"display:none;\">\n",
       "\n",
       "  <svg xmlns=\"http://www.w3.org/2000/svg\" height=\"24px\"viewBox=\"0 0 24 24\"\n",
       "       width=\"24px\">\n",
       "    <path d=\"M7,19H8.4L18.45,9,17,7.55,7,17.6ZM5,21V16.75L18.45,3.32a2,2,0,0,1,2.83,0l1.4,1.43a1.91,1.91,0,0,1,.58,1.4,1.91,1.91,0,0,1-.58,1.4L9.25,21ZM18.45,9,17,7.55Zm-12,3A5.31,5.31,0,0,0,4.9,8.1,5.31,5.31,0,0,0,1,6.5,5.31,5.31,0,0,0,4.9,4.9,5.31,5.31,0,0,0,6.5,1,5.31,5.31,0,0,0,8.1,4.9,5.31,5.31,0,0,0,12,6.5,5.46,5.46,0,0,0,6.5,12Z\"/>\n",
       "  </svg>\n",
       "    </button>\n",
       "    <script>\n",
       "      (() => {\n",
       "      const buttonEl =\n",
       "        document.querySelector('#id_85fbb225-7fef-4d3a-8677-67cef4a39e00 button.colab-df-generate');\n",
       "      buttonEl.style.display =\n",
       "        google.colab.kernel.accessAllowed ? 'block' : 'none';\n",
       "\n",
       "      buttonEl.onclick = () => {\n",
       "        google.colab.notebook.generateWithVariable('features');\n",
       "      }\n",
       "      })();\n",
       "    </script>\n",
       "  </div>\n",
       "\n",
       "    </div>\n",
       "  </div>\n"
      ],
      "text/plain": [
       "         AREA  PERIMETER  MAJOR_AXIS  MINOR_AXIS  ECCENTRICITY   EQDIASQ  \\\n",
       "0    422163.0  2378.9080    837.8484    645.6693        0.6373  733.1539   \n",
       "1    338136.0  2085.1440    723.8198    595.2073        0.5690  656.1464   \n",
       "2    526843.0  2647.3940    940.7379    715.3638        0.6494  819.0222   \n",
       "3    416063.0  2351.2100    827.9804    645.2988        0.6266  727.8378   \n",
       "4    347562.0  2160.3540    763.9877    582.8359        0.6465  665.2291   \n",
       "..        ...        ...         ...         ...           ...       ...   \n",
       "893  255403.0  1925.3650    691.8453    477.1796        0.7241  570.2536   \n",
       "894  365924.0  2664.8230    855.4633    551.5447        0.7644  682.5752   \n",
       "895  254330.0  1926.7360    747.4943    435.6219        0.8126  569.0545   \n",
       "896  238955.0  1906.2679    716.6485    441.8297        0.7873  551.5859   \n",
       "897  343792.0  2289.2720    823.8438    534.7757        0.7607  661.6113   \n",
       "\n",
       "     SOLIDITY  CONVEX_AREA  EXTENT  ASPECT_RATIO  ...  SkewRB  KurtosisRR  \\\n",
       "0      0.9947     424428.0  0.7831        1.2976  ...  0.6019      3.2370   \n",
       "1      0.9974     339014.0  0.7795        1.2161  ...  0.4134      2.6228   \n",
       "2      0.9962     528876.0  0.7657        1.3150  ...  0.9183      3.7516   \n",
       "3      0.9948     418255.0  0.7759        1.2831  ...  1.8028      5.0401   \n",
       "4      0.9908     350797.0  0.7569        1.3108  ...  0.8865      2.7016   \n",
       "..        ...          ...     ...           ...  ...     ...         ...   \n",
       "893    0.9785     261028.0  0.7269        1.4499  ... -0.1398      2.2423   \n",
       "894    0.9466     386566.0  0.6695        1.5510  ...  0.5611      3.4109   \n",
       "895    0.9925     256255.0  0.7240        1.7159  ...  0.2665      2.2759   \n",
       "896    0.9604     248795.0  0.6954        1.6220  ...  0.5325      2.6769   \n",
       "897    0.9781     351472.0  0.6941        1.5405  ...  0.4318      2.5138   \n",
       "\n",
       "     KurtosisRG  KurtosisRB     EntropyRR     EntropyRG     EntropyRB  \\\n",
       "0        2.9574      4.2287 -5.919126e+10 -5.071421e+10 -3.992237e+10   \n",
       "1        2.6350      3.1704 -3.423307e+10 -3.746260e+10 -3.147779e+10   \n",
       "2        3.8611      4.7192 -9.394835e+10 -7.473822e+10 -6.031121e+10   \n",
       "3        8.6136      8.2618 -3.207431e+10 -3.206093e+10 -2.957501e+10   \n",
       "4        2.9761      4.4146 -3.998097e+10 -3.598004e+10 -2.559328e+10   \n",
       "..          ...         ...           ...           ...           ...   \n",
       "893      2.3704      2.7202 -2.529642e+10 -1.916888e+10 -1.847339e+10   \n",
       "894      3.5805      3.9910 -3.160522e+10 -2.194537e+10 -1.927791e+10   \n",
       "895      2.5090      2.6951 -2.224277e+10 -1.959492e+10 -1.759215e+10   \n",
       "896      2.6874      2.7991 -2.604860e+10 -2.129982e+10 -1.980998e+10   \n",
       "897      3.0369      3.0865 -3.198348e+10 -2.048251e+10 -2.121935e+10   \n",
       "\n",
       "     ALLdaub4RR  ALLdaub4RG  ALLdaub4RB  \n",
       "0       58.7255     54.9554     47.8400  \n",
       "1       50.0259     52.8168     47.8315  \n",
       "2       65.4772     59.2860     51.9378  \n",
       "3       43.3900     44.1259     41.1882  \n",
       "4       52.7743     50.9080     42.6666  \n",
       "..          ...         ...         ...  \n",
       "893     49.0869     43.0422     42.4153  \n",
       "894     46.8086     39.1046     36.5502  \n",
       "895     44.1325     40.7986     40.9769  \n",
       "896     51.2267     45.7162     45.6260  \n",
       "897     47.3454     38.6966     39.6738  \n",
       "\n",
       "[898 rows x 34 columns]"
      ]
     },
     "execution_count": 10,
     "metadata": {},
     "output_type": "execute_result"
    }
   ],
   "source": [
    "features = data.drop(columns = ['Class'])\n",
    "features"
   ]
  },
  {
   "cell_type": "code",
   "execution_count": 11,
   "id": "7813e99f-b3bf-4e8f-8636-f3780f75eac9",
   "metadata": {
    "colab": {
     "base_uri": "https://localhost:8080/",
     "height": 424
    },
    "id": "7813e99f-b3bf-4e8f-8636-f3780f75eac9",
    "outputId": "1af824a3-acb8-4f06-d31d-4c63f7163aa5"
   },
   "outputs": [
    {
     "data": {
      "application/vnd.google.colaboratory.intrinsic+json": {
       "summary": "{\n  \"name\": \"labels\",\n  \"rows\": 898,\n  \"fields\": [\n    {\n      \"column\": \"Class\",\n      \"properties\": {\n        \"dtype\": \"string\",\n        \"num_unique_values\": 7,\n        \"samples\": [\n          \"BERHI\",\n          \"DEGLET\",\n          \"SAFAVI\"\n        ],\n        \"semantic_type\": \"\",\n        \"description\": \"\"\n      }\n    }\n  ]\n}",
       "type": "dataframe",
       "variable_name": "labels"
      },
      "text/html": [
       "\n",
       "  <div id=\"df-6641f937-2a9b-47c1-833f-e0a83a5901d7\" class=\"colab-df-container\">\n",
       "    <div>\n",
       "<style scoped>\n",
       "    .dataframe tbody tr th:only-of-type {\n",
       "        vertical-align: middle;\n",
       "    }\n",
       "\n",
       "    .dataframe tbody tr th {\n",
       "        vertical-align: top;\n",
       "    }\n",
       "\n",
       "    .dataframe thead th {\n",
       "        text-align: right;\n",
       "    }\n",
       "</style>\n",
       "<table border=\"1\" class=\"dataframe\">\n",
       "  <thead>\n",
       "    <tr style=\"text-align: right;\">\n",
       "      <th></th>\n",
       "      <th>Class</th>\n",
       "    </tr>\n",
       "  </thead>\n",
       "  <tbody>\n",
       "    <tr>\n",
       "      <th>0</th>\n",
       "      <td>BERHI</td>\n",
       "    </tr>\n",
       "    <tr>\n",
       "      <th>1</th>\n",
       "      <td>BERHI</td>\n",
       "    </tr>\n",
       "    <tr>\n",
       "      <th>2</th>\n",
       "      <td>BERHI</td>\n",
       "    </tr>\n",
       "    <tr>\n",
       "      <th>3</th>\n",
       "      <td>BERHI</td>\n",
       "    </tr>\n",
       "    <tr>\n",
       "      <th>4</th>\n",
       "      <td>BERHI</td>\n",
       "    </tr>\n",
       "    <tr>\n",
       "      <th>...</th>\n",
       "      <td>...</td>\n",
       "    </tr>\n",
       "    <tr>\n",
       "      <th>893</th>\n",
       "      <td>SOGAY</td>\n",
       "    </tr>\n",
       "    <tr>\n",
       "      <th>894</th>\n",
       "      <td>SOGAY</td>\n",
       "    </tr>\n",
       "    <tr>\n",
       "      <th>895</th>\n",
       "      <td>SOGAY</td>\n",
       "    </tr>\n",
       "    <tr>\n",
       "      <th>896</th>\n",
       "      <td>SOGAY</td>\n",
       "    </tr>\n",
       "    <tr>\n",
       "      <th>897</th>\n",
       "      <td>SOGAY</td>\n",
       "    </tr>\n",
       "  </tbody>\n",
       "</table>\n",
       "<p>898 rows × 1 columns</p>\n",
       "</div>\n",
       "    <div class=\"colab-df-buttons\">\n",
       "\n",
       "  <div class=\"colab-df-container\">\n",
       "    <button class=\"colab-df-convert\" onclick=\"convertToInteractive('df-6641f937-2a9b-47c1-833f-e0a83a5901d7')\"\n",
       "            title=\"Convert this dataframe to an interactive table.\"\n",
       "            style=\"display:none;\">\n",
       "\n",
       "  <svg xmlns=\"http://www.w3.org/2000/svg\" height=\"24px\" viewBox=\"0 -960 960 960\">\n",
       "    <path d=\"M120-120v-720h720v720H120Zm60-500h600v-160H180v160Zm220 220h160v-160H400v160Zm0 220h160v-160H400v160ZM180-400h160v-160H180v160Zm440 0h160v-160H620v160ZM180-180h160v-160H180v160Zm440 0h160v-160H620v160Z\"/>\n",
       "  </svg>\n",
       "    </button>\n",
       "\n",
       "  <style>\n",
       "    .colab-df-container {\n",
       "      display:flex;\n",
       "      gap: 12px;\n",
       "    }\n",
       "\n",
       "    .colab-df-convert {\n",
       "      background-color: #E8F0FE;\n",
       "      border: none;\n",
       "      border-radius: 50%;\n",
       "      cursor: pointer;\n",
       "      display: none;\n",
       "      fill: #1967D2;\n",
       "      height: 32px;\n",
       "      padding: 0 0 0 0;\n",
       "      width: 32px;\n",
       "    }\n",
       "\n",
       "    .colab-df-convert:hover {\n",
       "      background-color: #E2EBFA;\n",
       "      box-shadow: 0px 1px 2px rgba(60, 64, 67, 0.3), 0px 1px 3px 1px rgba(60, 64, 67, 0.15);\n",
       "      fill: #174EA6;\n",
       "    }\n",
       "\n",
       "    .colab-df-buttons div {\n",
       "      margin-bottom: 4px;\n",
       "    }\n",
       "\n",
       "    [theme=dark] .colab-df-convert {\n",
       "      background-color: #3B4455;\n",
       "      fill: #D2E3FC;\n",
       "    }\n",
       "\n",
       "    [theme=dark] .colab-df-convert:hover {\n",
       "      background-color: #434B5C;\n",
       "      box-shadow: 0px 1px 3px 1px rgba(0, 0, 0, 0.15);\n",
       "      filter: drop-shadow(0px 1px 2px rgba(0, 0, 0, 0.3));\n",
       "      fill: #FFFFFF;\n",
       "    }\n",
       "  </style>\n",
       "\n",
       "    <script>\n",
       "      const buttonEl =\n",
       "        document.querySelector('#df-6641f937-2a9b-47c1-833f-e0a83a5901d7 button.colab-df-convert');\n",
       "      buttonEl.style.display =\n",
       "        google.colab.kernel.accessAllowed ? 'block' : 'none';\n",
       "\n",
       "      async function convertToInteractive(key) {\n",
       "        const element = document.querySelector('#df-6641f937-2a9b-47c1-833f-e0a83a5901d7');\n",
       "        const dataTable =\n",
       "          await google.colab.kernel.invokeFunction('convertToInteractive',\n",
       "                                                    [key], {});\n",
       "        if (!dataTable) return;\n",
       "\n",
       "        const docLinkHtml = 'Like what you see? Visit the ' +\n",
       "          '<a target=\"_blank\" href=https://colab.research.google.com/notebooks/data_table.ipynb>data table notebook</a>'\n",
       "          + ' to learn more about interactive tables.';\n",
       "        element.innerHTML = '';\n",
       "        dataTable['output_type'] = 'display_data';\n",
       "        await google.colab.output.renderOutput(dataTable, element);\n",
       "        const docLink = document.createElement('div');\n",
       "        docLink.innerHTML = docLinkHtml;\n",
       "        element.appendChild(docLink);\n",
       "      }\n",
       "    </script>\n",
       "  </div>\n",
       "\n",
       "\n",
       "<div id=\"df-87b5894a-f885-42ac-ac7b-c96fb25c8098\">\n",
       "  <button class=\"colab-df-quickchart\" onclick=\"quickchart('df-87b5894a-f885-42ac-ac7b-c96fb25c8098')\"\n",
       "            title=\"Suggest charts\"\n",
       "            style=\"display:none;\">\n",
       "\n",
       "<svg xmlns=\"http://www.w3.org/2000/svg\" height=\"24px\"viewBox=\"0 0 24 24\"\n",
       "     width=\"24px\">\n",
       "    <g>\n",
       "        <path d=\"M19 3H5c-1.1 0-2 .9-2 2v14c0 1.1.9 2 2 2h14c1.1 0 2-.9 2-2V5c0-1.1-.9-2-2-2zM9 17H7v-7h2v7zm4 0h-2V7h2v10zm4 0h-2v-4h2v4z\"/>\n",
       "    </g>\n",
       "</svg>\n",
       "  </button>\n",
       "\n",
       "<style>\n",
       "  .colab-df-quickchart {\n",
       "      --bg-color: #E8F0FE;\n",
       "      --fill-color: #1967D2;\n",
       "      --hover-bg-color: #E2EBFA;\n",
       "      --hover-fill-color: #174EA6;\n",
       "      --disabled-fill-color: #AAA;\n",
       "      --disabled-bg-color: #DDD;\n",
       "  }\n",
       "\n",
       "  [theme=dark] .colab-df-quickchart {\n",
       "      --bg-color: #3B4455;\n",
       "      --fill-color: #D2E3FC;\n",
       "      --hover-bg-color: #434B5C;\n",
       "      --hover-fill-color: #FFFFFF;\n",
       "      --disabled-bg-color: #3B4455;\n",
       "      --disabled-fill-color: #666;\n",
       "  }\n",
       "\n",
       "  .colab-df-quickchart {\n",
       "    background-color: var(--bg-color);\n",
       "    border: none;\n",
       "    border-radius: 50%;\n",
       "    cursor: pointer;\n",
       "    display: none;\n",
       "    fill: var(--fill-color);\n",
       "    height: 32px;\n",
       "    padding: 0;\n",
       "    width: 32px;\n",
       "  }\n",
       "\n",
       "  .colab-df-quickchart:hover {\n",
       "    background-color: var(--hover-bg-color);\n",
       "    box-shadow: 0 1px 2px rgba(60, 64, 67, 0.3), 0 1px 3px 1px rgba(60, 64, 67, 0.15);\n",
       "    fill: var(--button-hover-fill-color);\n",
       "  }\n",
       "\n",
       "  .colab-df-quickchart-complete:disabled,\n",
       "  .colab-df-quickchart-complete:disabled:hover {\n",
       "    background-color: var(--disabled-bg-color);\n",
       "    fill: var(--disabled-fill-color);\n",
       "    box-shadow: none;\n",
       "  }\n",
       "\n",
       "  .colab-df-spinner {\n",
       "    border: 2px solid var(--fill-color);\n",
       "    border-color: transparent;\n",
       "    border-bottom-color: var(--fill-color);\n",
       "    animation:\n",
       "      spin 1s steps(1) infinite;\n",
       "  }\n",
       "\n",
       "  @keyframes spin {\n",
       "    0% {\n",
       "      border-color: transparent;\n",
       "      border-bottom-color: var(--fill-color);\n",
       "      border-left-color: var(--fill-color);\n",
       "    }\n",
       "    20% {\n",
       "      border-color: transparent;\n",
       "      border-left-color: var(--fill-color);\n",
       "      border-top-color: var(--fill-color);\n",
       "    }\n",
       "    30% {\n",
       "      border-color: transparent;\n",
       "      border-left-color: var(--fill-color);\n",
       "      border-top-color: var(--fill-color);\n",
       "      border-right-color: var(--fill-color);\n",
       "    }\n",
       "    40% {\n",
       "      border-color: transparent;\n",
       "      border-right-color: var(--fill-color);\n",
       "      border-top-color: var(--fill-color);\n",
       "    }\n",
       "    60% {\n",
       "      border-color: transparent;\n",
       "      border-right-color: var(--fill-color);\n",
       "    }\n",
       "    80% {\n",
       "      border-color: transparent;\n",
       "      border-right-color: var(--fill-color);\n",
       "      border-bottom-color: var(--fill-color);\n",
       "    }\n",
       "    90% {\n",
       "      border-color: transparent;\n",
       "      border-bottom-color: var(--fill-color);\n",
       "    }\n",
       "  }\n",
       "</style>\n",
       "\n",
       "  <script>\n",
       "    async function quickchart(key) {\n",
       "      const quickchartButtonEl =\n",
       "        document.querySelector('#' + key + ' button');\n",
       "      quickchartButtonEl.disabled = true;  // To prevent multiple clicks.\n",
       "      quickchartButtonEl.classList.add('colab-df-spinner');\n",
       "      try {\n",
       "        const charts = await google.colab.kernel.invokeFunction(\n",
       "            'suggestCharts', [key], {});\n",
       "      } catch (error) {\n",
       "        console.error('Error during call to suggestCharts:', error);\n",
       "      }\n",
       "      quickchartButtonEl.classList.remove('colab-df-spinner');\n",
       "      quickchartButtonEl.classList.add('colab-df-quickchart-complete');\n",
       "    }\n",
       "    (() => {\n",
       "      let quickchartButtonEl =\n",
       "        document.querySelector('#df-87b5894a-f885-42ac-ac7b-c96fb25c8098 button');\n",
       "      quickchartButtonEl.style.display =\n",
       "        google.colab.kernel.accessAllowed ? 'block' : 'none';\n",
       "    })();\n",
       "  </script>\n",
       "</div>\n",
       "\n",
       "  <div id=\"id_25e4436f-df33-4b85-8e29-90b2e69f4ee7\">\n",
       "    <style>\n",
       "      .colab-df-generate {\n",
       "        background-color: #E8F0FE;\n",
       "        border: none;\n",
       "        border-radius: 50%;\n",
       "        cursor: pointer;\n",
       "        display: none;\n",
       "        fill: #1967D2;\n",
       "        height: 32px;\n",
       "        padding: 0 0 0 0;\n",
       "        width: 32px;\n",
       "      }\n",
       "\n",
       "      .colab-df-generate:hover {\n",
       "        background-color: #E2EBFA;\n",
       "        box-shadow: 0px 1px 2px rgba(60, 64, 67, 0.3), 0px 1px 3px 1px rgba(60, 64, 67, 0.15);\n",
       "        fill: #174EA6;\n",
       "      }\n",
       "\n",
       "      [theme=dark] .colab-df-generate {\n",
       "        background-color: #3B4455;\n",
       "        fill: #D2E3FC;\n",
       "      }\n",
       "\n",
       "      [theme=dark] .colab-df-generate:hover {\n",
       "        background-color: #434B5C;\n",
       "        box-shadow: 0px 1px 3px 1px rgba(0, 0, 0, 0.15);\n",
       "        filter: drop-shadow(0px 1px 2px rgba(0, 0, 0, 0.3));\n",
       "        fill: #FFFFFF;\n",
       "      }\n",
       "    </style>\n",
       "    <button class=\"colab-df-generate\" onclick=\"generateWithVariable('labels')\"\n",
       "            title=\"Generate code using this dataframe.\"\n",
       "            style=\"display:none;\">\n",
       "\n",
       "  <svg xmlns=\"http://www.w3.org/2000/svg\" height=\"24px\"viewBox=\"0 0 24 24\"\n",
       "       width=\"24px\">\n",
       "    <path d=\"M7,19H8.4L18.45,9,17,7.55,7,17.6ZM5,21V16.75L18.45,3.32a2,2,0,0,1,2.83,0l1.4,1.43a1.91,1.91,0,0,1,.58,1.4,1.91,1.91,0,0,1-.58,1.4L9.25,21ZM18.45,9,17,7.55Zm-12,3A5.31,5.31,0,0,0,4.9,8.1,5.31,5.31,0,0,0,1,6.5,5.31,5.31,0,0,0,4.9,4.9,5.31,5.31,0,0,0,6.5,1,5.31,5.31,0,0,0,8.1,4.9,5.31,5.31,0,0,0,12,6.5,5.46,5.46,0,0,0,6.5,12Z\"/>\n",
       "  </svg>\n",
       "    </button>\n",
       "    <script>\n",
       "      (() => {\n",
       "      const buttonEl =\n",
       "        document.querySelector('#id_25e4436f-df33-4b85-8e29-90b2e69f4ee7 button.colab-df-generate');\n",
       "      buttonEl.style.display =\n",
       "        google.colab.kernel.accessAllowed ? 'block' : 'none';\n",
       "\n",
       "      buttonEl.onclick = () => {\n",
       "        google.colab.notebook.generateWithVariable('labels');\n",
       "      }\n",
       "      })();\n",
       "    </script>\n",
       "  </div>\n",
       "\n",
       "    </div>\n",
       "  </div>\n"
      ],
      "text/plain": [
       "     Class\n",
       "0    BERHI\n",
       "1    BERHI\n",
       "2    BERHI\n",
       "3    BERHI\n",
       "4    BERHI\n",
       "..     ...\n",
       "893  SOGAY\n",
       "894  SOGAY\n",
       "895  SOGAY\n",
       "896  SOGAY\n",
       "897  SOGAY\n",
       "\n",
       "[898 rows x 1 columns]"
      ]
     },
     "execution_count": 11,
     "metadata": {},
     "output_type": "execute_result"
    }
   ],
   "source": [
    "labels = pd.DataFrame(data['Class'])\n",
    "labels"
   ]
  },
  {
   "cell_type": "markdown",
   "id": "8ebcc31f-a443-4054-b223-c242f1fe8cfc",
   "metadata": {
    "id": "8ebcc31f-a443-4054-b223-c242f1fe8cfc"
   },
   "source": [
    "## Using sklearn.preprocessing.LabelEncoder to convert the string labels into integers."
   ]
  },
  {
   "cell_type": "code",
   "execution_count": 12,
   "id": "81948485-5315-4c6a-afe7-b4dc64d2d82f",
   "metadata": {
    "colab": {
     "base_uri": "https://localhost:8080/",
     "height": 424
    },
    "id": "81948485-5315-4c6a-afe7-b4dc64d2d82f",
    "outputId": "cc6f9216-87d4-4ee1-d368-6c49581f9662"
   },
   "outputs": [
    {
     "data": {
      "application/vnd.google.colaboratory.intrinsic+json": {
       "summary": "{\n  \"name\": \"labels\",\n  \"rows\": 898,\n  \"fields\": [\n    {\n      \"column\": \"Class\",\n      \"properties\": {\n        \"dtype\": \"string\",\n        \"num_unique_values\": 7,\n        \"samples\": [\n          \"BERHI\",\n          \"DEGLET\",\n          \"SAFAVI\"\n        ],\n        \"semantic_type\": \"\",\n        \"description\": \"\"\n      }\n    },\n    {\n      \"column\": \"Encoded_Class\",\n      \"properties\": {\n        \"dtype\": \"number\",\n        \"std\": 1,\n        \"min\": 0,\n        \"max\": 6,\n        \"num_unique_values\": 7,\n        \"samples\": [\n          0,\n          1,\n          5\n        ],\n        \"semantic_type\": \"\",\n        \"description\": \"\"\n      }\n    }\n  ]\n}",
       "type": "dataframe",
       "variable_name": "labels"
      },
      "text/html": [
       "\n",
       "  <div id=\"df-ed368d2f-a739-4a17-9de5-51f338968260\" class=\"colab-df-container\">\n",
       "    <div>\n",
       "<style scoped>\n",
       "    .dataframe tbody tr th:only-of-type {\n",
       "        vertical-align: middle;\n",
       "    }\n",
       "\n",
       "    .dataframe tbody tr th {\n",
       "        vertical-align: top;\n",
       "    }\n",
       "\n",
       "    .dataframe thead th {\n",
       "        text-align: right;\n",
       "    }\n",
       "</style>\n",
       "<table border=\"1\" class=\"dataframe\">\n",
       "  <thead>\n",
       "    <tr style=\"text-align: right;\">\n",
       "      <th></th>\n",
       "      <th>Class</th>\n",
       "      <th>Encoded_Class</th>\n",
       "    </tr>\n",
       "  </thead>\n",
       "  <tbody>\n",
       "    <tr>\n",
       "      <th>0</th>\n",
       "      <td>BERHI</td>\n",
       "      <td>0</td>\n",
       "    </tr>\n",
       "    <tr>\n",
       "      <th>1</th>\n",
       "      <td>BERHI</td>\n",
       "      <td>0</td>\n",
       "    </tr>\n",
       "    <tr>\n",
       "      <th>2</th>\n",
       "      <td>BERHI</td>\n",
       "      <td>0</td>\n",
       "    </tr>\n",
       "    <tr>\n",
       "      <th>3</th>\n",
       "      <td>BERHI</td>\n",
       "      <td>0</td>\n",
       "    </tr>\n",
       "    <tr>\n",
       "      <th>4</th>\n",
       "      <td>BERHI</td>\n",
       "      <td>0</td>\n",
       "    </tr>\n",
       "    <tr>\n",
       "      <th>...</th>\n",
       "      <td>...</td>\n",
       "      <td>...</td>\n",
       "    </tr>\n",
       "    <tr>\n",
       "      <th>893</th>\n",
       "      <td>SOGAY</td>\n",
       "      <td>6</td>\n",
       "    </tr>\n",
       "    <tr>\n",
       "      <th>894</th>\n",
       "      <td>SOGAY</td>\n",
       "      <td>6</td>\n",
       "    </tr>\n",
       "    <tr>\n",
       "      <th>895</th>\n",
       "      <td>SOGAY</td>\n",
       "      <td>6</td>\n",
       "    </tr>\n",
       "    <tr>\n",
       "      <th>896</th>\n",
       "      <td>SOGAY</td>\n",
       "      <td>6</td>\n",
       "    </tr>\n",
       "    <tr>\n",
       "      <th>897</th>\n",
       "      <td>SOGAY</td>\n",
       "      <td>6</td>\n",
       "    </tr>\n",
       "  </tbody>\n",
       "</table>\n",
       "<p>898 rows × 2 columns</p>\n",
       "</div>\n",
       "    <div class=\"colab-df-buttons\">\n",
       "\n",
       "  <div class=\"colab-df-container\">\n",
       "    <button class=\"colab-df-convert\" onclick=\"convertToInteractive('df-ed368d2f-a739-4a17-9de5-51f338968260')\"\n",
       "            title=\"Convert this dataframe to an interactive table.\"\n",
       "            style=\"display:none;\">\n",
       "\n",
       "  <svg xmlns=\"http://www.w3.org/2000/svg\" height=\"24px\" viewBox=\"0 -960 960 960\">\n",
       "    <path d=\"M120-120v-720h720v720H120Zm60-500h600v-160H180v160Zm220 220h160v-160H400v160Zm0 220h160v-160H400v160ZM180-400h160v-160H180v160Zm440 0h160v-160H620v160ZM180-180h160v-160H180v160Zm440 0h160v-160H620v160Z\"/>\n",
       "  </svg>\n",
       "    </button>\n",
       "\n",
       "  <style>\n",
       "    .colab-df-container {\n",
       "      display:flex;\n",
       "      gap: 12px;\n",
       "    }\n",
       "\n",
       "    .colab-df-convert {\n",
       "      background-color: #E8F0FE;\n",
       "      border: none;\n",
       "      border-radius: 50%;\n",
       "      cursor: pointer;\n",
       "      display: none;\n",
       "      fill: #1967D2;\n",
       "      height: 32px;\n",
       "      padding: 0 0 0 0;\n",
       "      width: 32px;\n",
       "    }\n",
       "\n",
       "    .colab-df-convert:hover {\n",
       "      background-color: #E2EBFA;\n",
       "      box-shadow: 0px 1px 2px rgba(60, 64, 67, 0.3), 0px 1px 3px 1px rgba(60, 64, 67, 0.15);\n",
       "      fill: #174EA6;\n",
       "    }\n",
       "\n",
       "    .colab-df-buttons div {\n",
       "      margin-bottom: 4px;\n",
       "    }\n",
       "\n",
       "    [theme=dark] .colab-df-convert {\n",
       "      background-color: #3B4455;\n",
       "      fill: #D2E3FC;\n",
       "    }\n",
       "\n",
       "    [theme=dark] .colab-df-convert:hover {\n",
       "      background-color: #434B5C;\n",
       "      box-shadow: 0px 1px 3px 1px rgba(0, 0, 0, 0.15);\n",
       "      filter: drop-shadow(0px 1px 2px rgba(0, 0, 0, 0.3));\n",
       "      fill: #FFFFFF;\n",
       "    }\n",
       "  </style>\n",
       "\n",
       "    <script>\n",
       "      const buttonEl =\n",
       "        document.querySelector('#df-ed368d2f-a739-4a17-9de5-51f338968260 button.colab-df-convert');\n",
       "      buttonEl.style.display =\n",
       "        google.colab.kernel.accessAllowed ? 'block' : 'none';\n",
       "\n",
       "      async function convertToInteractive(key) {\n",
       "        const element = document.querySelector('#df-ed368d2f-a739-4a17-9de5-51f338968260');\n",
       "        const dataTable =\n",
       "          await google.colab.kernel.invokeFunction('convertToInteractive',\n",
       "                                                    [key], {});\n",
       "        if (!dataTable) return;\n",
       "\n",
       "        const docLinkHtml = 'Like what you see? Visit the ' +\n",
       "          '<a target=\"_blank\" href=https://colab.research.google.com/notebooks/data_table.ipynb>data table notebook</a>'\n",
       "          + ' to learn more about interactive tables.';\n",
       "        element.innerHTML = '';\n",
       "        dataTable['output_type'] = 'display_data';\n",
       "        await google.colab.output.renderOutput(dataTable, element);\n",
       "        const docLink = document.createElement('div');\n",
       "        docLink.innerHTML = docLinkHtml;\n",
       "        element.appendChild(docLink);\n",
       "      }\n",
       "    </script>\n",
       "  </div>\n",
       "\n",
       "\n",
       "<div id=\"df-95e7f439-a41b-4a77-a834-5211a24e63c8\">\n",
       "  <button class=\"colab-df-quickchart\" onclick=\"quickchart('df-95e7f439-a41b-4a77-a834-5211a24e63c8')\"\n",
       "            title=\"Suggest charts\"\n",
       "            style=\"display:none;\">\n",
       "\n",
       "<svg xmlns=\"http://www.w3.org/2000/svg\" height=\"24px\"viewBox=\"0 0 24 24\"\n",
       "     width=\"24px\">\n",
       "    <g>\n",
       "        <path d=\"M19 3H5c-1.1 0-2 .9-2 2v14c0 1.1.9 2 2 2h14c1.1 0 2-.9 2-2V5c0-1.1-.9-2-2-2zM9 17H7v-7h2v7zm4 0h-2V7h2v10zm4 0h-2v-4h2v4z\"/>\n",
       "    </g>\n",
       "</svg>\n",
       "  </button>\n",
       "\n",
       "<style>\n",
       "  .colab-df-quickchart {\n",
       "      --bg-color: #E8F0FE;\n",
       "      --fill-color: #1967D2;\n",
       "      --hover-bg-color: #E2EBFA;\n",
       "      --hover-fill-color: #174EA6;\n",
       "      --disabled-fill-color: #AAA;\n",
       "      --disabled-bg-color: #DDD;\n",
       "  }\n",
       "\n",
       "  [theme=dark] .colab-df-quickchart {\n",
       "      --bg-color: #3B4455;\n",
       "      --fill-color: #D2E3FC;\n",
       "      --hover-bg-color: #434B5C;\n",
       "      --hover-fill-color: #FFFFFF;\n",
       "      --disabled-bg-color: #3B4455;\n",
       "      --disabled-fill-color: #666;\n",
       "  }\n",
       "\n",
       "  .colab-df-quickchart {\n",
       "    background-color: var(--bg-color);\n",
       "    border: none;\n",
       "    border-radius: 50%;\n",
       "    cursor: pointer;\n",
       "    display: none;\n",
       "    fill: var(--fill-color);\n",
       "    height: 32px;\n",
       "    padding: 0;\n",
       "    width: 32px;\n",
       "  }\n",
       "\n",
       "  .colab-df-quickchart:hover {\n",
       "    background-color: var(--hover-bg-color);\n",
       "    box-shadow: 0 1px 2px rgba(60, 64, 67, 0.3), 0 1px 3px 1px rgba(60, 64, 67, 0.15);\n",
       "    fill: var(--button-hover-fill-color);\n",
       "  }\n",
       "\n",
       "  .colab-df-quickchart-complete:disabled,\n",
       "  .colab-df-quickchart-complete:disabled:hover {\n",
       "    background-color: var(--disabled-bg-color);\n",
       "    fill: var(--disabled-fill-color);\n",
       "    box-shadow: none;\n",
       "  }\n",
       "\n",
       "  .colab-df-spinner {\n",
       "    border: 2px solid var(--fill-color);\n",
       "    border-color: transparent;\n",
       "    border-bottom-color: var(--fill-color);\n",
       "    animation:\n",
       "      spin 1s steps(1) infinite;\n",
       "  }\n",
       "\n",
       "  @keyframes spin {\n",
       "    0% {\n",
       "      border-color: transparent;\n",
       "      border-bottom-color: var(--fill-color);\n",
       "      border-left-color: var(--fill-color);\n",
       "    }\n",
       "    20% {\n",
       "      border-color: transparent;\n",
       "      border-left-color: var(--fill-color);\n",
       "      border-top-color: var(--fill-color);\n",
       "    }\n",
       "    30% {\n",
       "      border-color: transparent;\n",
       "      border-left-color: var(--fill-color);\n",
       "      border-top-color: var(--fill-color);\n",
       "      border-right-color: var(--fill-color);\n",
       "    }\n",
       "    40% {\n",
       "      border-color: transparent;\n",
       "      border-right-color: var(--fill-color);\n",
       "      border-top-color: var(--fill-color);\n",
       "    }\n",
       "    60% {\n",
       "      border-color: transparent;\n",
       "      border-right-color: var(--fill-color);\n",
       "    }\n",
       "    80% {\n",
       "      border-color: transparent;\n",
       "      border-right-color: var(--fill-color);\n",
       "      border-bottom-color: var(--fill-color);\n",
       "    }\n",
       "    90% {\n",
       "      border-color: transparent;\n",
       "      border-bottom-color: var(--fill-color);\n",
       "    }\n",
       "  }\n",
       "</style>\n",
       "\n",
       "  <script>\n",
       "    async function quickchart(key) {\n",
       "      const quickchartButtonEl =\n",
       "        document.querySelector('#' + key + ' button');\n",
       "      quickchartButtonEl.disabled = true;  // To prevent multiple clicks.\n",
       "      quickchartButtonEl.classList.add('colab-df-spinner');\n",
       "      try {\n",
       "        const charts = await google.colab.kernel.invokeFunction(\n",
       "            'suggestCharts', [key], {});\n",
       "      } catch (error) {\n",
       "        console.error('Error during call to suggestCharts:', error);\n",
       "      }\n",
       "      quickchartButtonEl.classList.remove('colab-df-spinner');\n",
       "      quickchartButtonEl.classList.add('colab-df-quickchart-complete');\n",
       "    }\n",
       "    (() => {\n",
       "      let quickchartButtonEl =\n",
       "        document.querySelector('#df-95e7f439-a41b-4a77-a834-5211a24e63c8 button');\n",
       "      quickchartButtonEl.style.display =\n",
       "        google.colab.kernel.accessAllowed ? 'block' : 'none';\n",
       "    })();\n",
       "  </script>\n",
       "</div>\n",
       "\n",
       "  <div id=\"id_adab75ae-6c71-4c9b-8d84-eca4dfc6378b\">\n",
       "    <style>\n",
       "      .colab-df-generate {\n",
       "        background-color: #E8F0FE;\n",
       "        border: none;\n",
       "        border-radius: 50%;\n",
       "        cursor: pointer;\n",
       "        display: none;\n",
       "        fill: #1967D2;\n",
       "        height: 32px;\n",
       "        padding: 0 0 0 0;\n",
       "        width: 32px;\n",
       "      }\n",
       "\n",
       "      .colab-df-generate:hover {\n",
       "        background-color: #E2EBFA;\n",
       "        box-shadow: 0px 1px 2px rgba(60, 64, 67, 0.3), 0px 1px 3px 1px rgba(60, 64, 67, 0.15);\n",
       "        fill: #174EA6;\n",
       "      }\n",
       "\n",
       "      [theme=dark] .colab-df-generate {\n",
       "        background-color: #3B4455;\n",
       "        fill: #D2E3FC;\n",
       "      }\n",
       "\n",
       "      [theme=dark] .colab-df-generate:hover {\n",
       "        background-color: #434B5C;\n",
       "        box-shadow: 0px 1px 3px 1px rgba(0, 0, 0, 0.15);\n",
       "        filter: drop-shadow(0px 1px 2px rgba(0, 0, 0, 0.3));\n",
       "        fill: #FFFFFF;\n",
       "      }\n",
       "    </style>\n",
       "    <button class=\"colab-df-generate\" onclick=\"generateWithVariable('labels')\"\n",
       "            title=\"Generate code using this dataframe.\"\n",
       "            style=\"display:none;\">\n",
       "\n",
       "  <svg xmlns=\"http://www.w3.org/2000/svg\" height=\"24px\"viewBox=\"0 0 24 24\"\n",
       "       width=\"24px\">\n",
       "    <path d=\"M7,19H8.4L18.45,9,17,7.55,7,17.6ZM5,21V16.75L18.45,3.32a2,2,0,0,1,2.83,0l1.4,1.43a1.91,1.91,0,0,1,.58,1.4,1.91,1.91,0,0,1-.58,1.4L9.25,21ZM18.45,9,17,7.55Zm-12,3A5.31,5.31,0,0,0,4.9,8.1,5.31,5.31,0,0,0,1,6.5,5.31,5.31,0,0,0,4.9,4.9,5.31,5.31,0,0,0,6.5,1,5.31,5.31,0,0,0,8.1,4.9,5.31,5.31,0,0,0,12,6.5,5.46,5.46,0,0,0,6.5,12Z\"/>\n",
       "  </svg>\n",
       "    </button>\n",
       "    <script>\n",
       "      (() => {\n",
       "      const buttonEl =\n",
       "        document.querySelector('#id_adab75ae-6c71-4c9b-8d84-eca4dfc6378b button.colab-df-generate');\n",
       "      buttonEl.style.display =\n",
       "        google.colab.kernel.accessAllowed ? 'block' : 'none';\n",
       "\n",
       "      buttonEl.onclick = () => {\n",
       "        google.colab.notebook.generateWithVariable('labels');\n",
       "      }\n",
       "      })();\n",
       "    </script>\n",
       "  </div>\n",
       "\n",
       "    </div>\n",
       "  </div>\n"
      ],
      "text/plain": [
       "     Class  Encoded_Class\n",
       "0    BERHI              0\n",
       "1    BERHI              0\n",
       "2    BERHI              0\n",
       "3    BERHI              0\n",
       "4    BERHI              0\n",
       "..     ...            ...\n",
       "893  SOGAY              6\n",
       "894  SOGAY              6\n",
       "895  SOGAY              6\n",
       "896  SOGAY              6\n",
       "897  SOGAY              6\n",
       "\n",
       "[898 rows x 2 columns]"
      ]
     },
     "execution_count": 12,
     "metadata": {},
     "output_type": "execute_result"
    }
   ],
   "source": [
    "# Initializing LabelEncoder\n",
    "encoder = LabelEncoder()\n",
    "\n",
    "# Fitting and transforming the labels\n",
    "labels['Encoded_Class'] = encoder.fit_transform(labels['Class'])\n",
    "labels"
   ]
  },
  {
   "cell_type": "code",
   "execution_count": 13,
   "id": "8a4d449c-ca3d-4429-a8e9-ec1a0492160d",
   "metadata": {
    "colab": {
     "base_uri": "https://localhost:8080/"
    },
    "id": "8a4d449c-ca3d-4429-a8e9-ec1a0492160d",
    "outputId": "742ec750-e44f-42a5-825a-3cbe4e27abcc"
   },
   "outputs": [
    {
     "name": "stdout",
     "output_type": "stream",
     "text": [
      "{'BERHI': 0, 'DEGLET': 1, 'DOKOL': 2, 'IRAQI': 3, 'ROTANA': 4, 'SAFAVI': 5, 'SOGAY': 6}\n"
     ]
    }
   ],
   "source": [
    "# Class mapping displaying the encoded class for each class\n",
    "print(dict(zip(encoder.classes_, encoder.transform(encoder.classes_))))"
   ]
  },
  {
   "cell_type": "markdown",
   "id": "d6c88883-592a-4235-b5b0-d15dee7672a7",
   "metadata": {
    "id": "d6c88883-592a-4235-b5b0-d15dee7672a7"
   },
   "source": [
    "## Reshape the labels into a 2d array"
   ]
  },
  {
   "cell_type": "code",
   "execution_count": 14,
   "id": "07dcfd84-8f0e-4609-85ca-d9d8ff3bde99",
   "metadata": {
    "colab": {
     "base_uri": "https://localhost:8080/"
    },
    "id": "07dcfd84-8f0e-4609-85ca-d9d8ff3bde99",
    "outputId": "6a868cdf-0996-4779-dc5f-bec8934043c0"
   },
   "outputs": [
    {
     "data": {
      "text/plain": [
       "(898, 1)"
      ]
     },
     "execution_count": 14,
     "metadata": {},
     "output_type": "execute_result"
    }
   ],
   "source": [
    "# Getting rid of Class column\n",
    "encoded_labels = labels.drop(columns = ['Class'])\n",
    "\n",
    "encoded_labels_reshaped = encoded_labels.to_numpy()\n",
    "encoded_labels_reshaped.shape"
   ]
  },
  {
   "cell_type": "markdown",
   "id": "e81891ed-7d61-42ae-92ba-066ebfbec85e",
   "metadata": {
    "id": "e81891ed-7d61-42ae-92ba-066ebfbec85e"
   },
   "source": [
    "## Use sklearn.preprocessing.MinMaxScaler to scale the features (keeping encoded_labels intact)"
   ]
  },
  {
   "cell_type": "code",
   "execution_count": 15,
   "id": "aa8389dd-b52e-4483-9d8f-df501cba15ab",
   "metadata": {
    "colab": {
     "base_uri": "https://localhost:8080/"
    },
    "id": "aa8389dd-b52e-4483-9d8f-df501cba15ab",
    "outputId": "99e5fb15-2c61-43c5-ad8d-758e7799fb8b"
   },
   "outputs": [
    {
     "data": {
      "text/plain": [
       "array([[0.77227446, 0.77207865, 0.56560444, ..., 0.67351302, 0.55053709,\n",
       "        0.4946647 ],\n",
       "       [0.61783464, 0.61747978, 0.43690403, ..., 0.53892305, 0.51634149,\n",
       "        0.49450116],\n",
       "       [0.96467405, 0.9133745 , 0.6817325 , ..., 0.77796738, 0.61978216,\n",
       "        0.57350706],\n",
       "       ...,\n",
       "       [0.46380101, 0.53411457, 0.46362467, ..., 0.44774729, 0.32417389,\n",
       "        0.36261751],\n",
       "       [0.43554209, 0.52334284, 0.42881001, ..., 0.55750041, 0.40280492,\n",
       "        0.45206697],\n",
       "       [0.62823025, 0.72490601, 0.5497979 , ..., 0.4974535 , 0.29056351,\n",
       "        0.33754565]])"
      ]
     },
     "execution_count": 15,
     "metadata": {},
     "output_type": "execute_result"
    }
   ],
   "source": [
    "# Initializing the scaler\n",
    "scaler = MinMaxScaler()\n",
    "\n",
    "# Fitting and transforming the features (scaling process)\n",
    "scaled_features = scaler.fit_transform(features)\n",
    "scaled_features"
   ]
  },
  {
   "cell_type": "markdown",
   "id": "f327ef88-a7f3-49ad-ba6c-743d542aa054",
   "metadata": {
    "id": "f327ef88-a7f3-49ad-ba6c-743d542aa054"
   },
   "source": [
    "## Splitting the data into training, testing and validation sets with appropriate proportions"
   ]
  },
  {
   "cell_type": "code",
   "execution_count": 16,
   "id": "15aac1f6-b338-41e9-af64-833a1d2093d2",
   "metadata": {
    "id": "15aac1f6-b338-41e9-af64-833a1d2093d2"
   },
   "outputs": [],
   "source": [
    "train_scaled_features, reminder_features, train_encoded_labels, reminder_labels = \\\n",
    "    train_test_split(scaled_features, encoded_labels, train_size = 0.75, random_state = 42)\n",
    "\n",
    "test_scaled_features, val_scaled_features, test_encoded_labels, val_encoded_labels = train_test_split(\n",
    "    reminder_features, reminder_labels, test_size = 0.15, random_state = 42)"
   ]
  },
  {
   "cell_type": "code",
   "execution_count": 17,
   "id": "8626491d-4237-4ec0-94fd-8f2d20ef4852",
   "metadata": {
    "colab": {
     "base_uri": "https://localhost:8080/"
    },
    "id": "8626491d-4237-4ec0-94fd-8f2d20ef4852",
    "outputId": "b2af6204-7a18-4282-8493-2b64bc2109b7"
   },
   "outputs": [
    {
     "name": "stdout",
     "output_type": "stream",
     "text": [
      "Train Scaled Features:\n",
      "\n",
      "Lenght: 673 \n",
      "Shape: (673, 34)\n",
      "\n",
      "Test Scaled Features:\n",
      "\n",
      "Lenght: 191 \n",
      "Shape: (191, 34)\n",
      "\n",
      "Validation Scaled Features:\n",
      "\n",
      "Lenght: 34 \n",
      "Shape: (34, 34)\n",
      "\n",
      "Train Encoded Labels:\n",
      "\n",
      "Lenght:673\n",
      "Shape: (673, 1)\n",
      "\n",
      "Test Encoded Labels:\n",
      "\n",
      "Lenght: 191\n",
      "Shape: (191, 1)\n",
      "\n",
      "Validation Encoded Labels:\n",
      "\n",
      "Lenght: 34\n",
      "Shape: (34, 1)\n"
     ]
    }
   ],
   "source": [
    "# Displaying splitted data length and shape\n",
    "print(f'Train Scaled Features:\\n\\nLenght: {len(train_scaled_features)} \\nShape: {train_scaled_features.shape}')\n",
    "print(f'\\nTest Scaled Features:\\n\\nLenght: {len(test_scaled_features)} \\nShape: {test_scaled_features.shape}')\n",
    "print(f'\\nValidation Scaled Features:\\n\\nLenght: {len(val_scaled_features)} \\nShape: {val_scaled_features.shape}')\n",
    "print(f'\\nTrain Encoded Labels:\\n\\nLenght:{len(train_encoded_labels)}\\nShape: {train_encoded_labels.shape}')\n",
    "print(f'\\nTest Encoded Labels:\\n\\nLenght: {len(test_encoded_labels)}\\nShape: {test_encoded_labels.shape}')\n",
    "print(f'\\nValidation Encoded Labels:\\n\\nLenght: {len(val_encoded_labels)}\\nShape: {val_encoded_labels.shape}')"
   ]
  },
  {
   "cell_type": "markdown",
   "id": "4f95ff69-9b0c-4e3b-91dc-6d0981f4c32e",
   "metadata": {
    "id": "4f95ff69-9b0c-4e3b-91dc-6d0981f4c32e"
   },
   "source": [
    "## **2. Modeling Steps**"
   ]
  },
  {
   "cell_type": "markdown",
   "id": "d47e4f06-670c-4935-984b-e13087c33ea9",
   "metadata": {
    "id": "d47e4f06-670c-4935-984b-e13087c33ea9"
   },
   "source": [
    "## Using tf.keras.Sequential to create a fully connected artificial neural network with at least two hidden layers and choosing an activation function for each layer, making sure the input and output dimensions are appropriate for the data"
   ]
  },
  {
   "cell_type": "code",
   "execution_count": 18,
   "id": "1e38f825-b80c-4c6b-97e1-afca0392ce48",
   "metadata": {
    "colab": {
     "base_uri": "https://localhost:8080/"
    },
    "id": "1e38f825-b80c-4c6b-97e1-afca0392ce48",
    "outputId": "2cd004b1-b166-4c46-caaa-86c1d58d33c5"
   },
   "outputs": [
    {
     "name": "stderr",
     "output_type": "stream",
     "text": [
      "/usr/local/lib/python3.10/dist-packages/keras/src/layers/core/dense.py:87: UserWarning: Do not pass an `input_shape`/`input_dim` argument to a layer. When using Sequential models, prefer using an `Input(shape)` object as the first layer in the model instead.\n",
      "  super().__init__(activity_regularizer=activity_regularizer, **kwargs)\n"
     ]
    }
   ],
   "source": [
    "model = Sequential()\n",
    "model.add(Dense(1000,input_shape = (34,), activation = 'relu'))\n",
    "model.add(Dense(500,  activation = 'relu'))\n",
    "model.add(Dense(250,  activation = 'relu'))\n",
    "model.add(Dense(100,  activation = 'relu'))\n",
    "model.add(Dense(7,  activation = 'softmax'))    # Due to class amount (7), using softmax and 7 neurons in the last layer"
   ]
  },
  {
   "cell_type": "code",
   "execution_count": 19,
   "id": "faa4cb27-4af6-464f-8c6d-a53be5acb90e",
   "metadata": {
    "colab": {
     "base_uri": "https://localhost:8080/",
     "height": 298
    },
    "id": "faa4cb27-4af6-464f-8c6d-a53be5acb90e",
    "outputId": "43bd89ab-5a25-467c-d8db-eb0f46c09fd2"
   },
   "outputs": [
    {
     "data": {
      "text/html": [
       "<pre style=\"white-space:pre;overflow-x:auto;line-height:normal;font-family:Menlo,'DejaVu Sans Mono',consolas,'Courier New',monospace\"><span style=\"font-weight: bold\">Model: \"sequential\"</span>\n",
       "</pre>\n"
      ],
      "text/plain": [
       "\u001b[1mModel: \"sequential\"\u001b[0m\n"
      ]
     },
     "metadata": {},
     "output_type": "display_data"
    },
    {
     "data": {
      "text/html": [
       "<pre style=\"white-space:pre;overflow-x:auto;line-height:normal;font-family:Menlo,'DejaVu Sans Mono',consolas,'Courier New',monospace\">┏━━━━━━━━━━━━━━━━━━━━━━━━━━━━━━━━━━━━━━┳━━━━━━━━━━━━━━━━━━━━━━━━━━━━━┳━━━━━━━━━━━━━━━━━┓\n",
       "┃<span style=\"font-weight: bold\"> Layer (type)                         </span>┃<span style=\"font-weight: bold\"> Output Shape                </span>┃<span style=\"font-weight: bold\">         Param # </span>┃\n",
       "┡━━━━━━━━━━━━━━━━━━━━━━━━━━━━━━━━━━━━━━╇━━━━━━━━━━━━━━━━━━━━━━━━━━━━━╇━━━━━━━━━━━━━━━━━┩\n",
       "│ dense (<span style=\"color: #0087ff; text-decoration-color: #0087ff\">Dense</span>)                        │ (<span style=\"color: #00d7ff; text-decoration-color: #00d7ff\">None</span>, <span style=\"color: #00af00; text-decoration-color: #00af00\">1000</span>)                │          <span style=\"color: #00af00; text-decoration-color: #00af00\">35,000</span> │\n",
       "├──────────────────────────────────────┼─────────────────────────────┼─────────────────┤\n",
       "│ dense_1 (<span style=\"color: #0087ff; text-decoration-color: #0087ff\">Dense</span>)                      │ (<span style=\"color: #00d7ff; text-decoration-color: #00d7ff\">None</span>, <span style=\"color: #00af00; text-decoration-color: #00af00\">500</span>)                 │         <span style=\"color: #00af00; text-decoration-color: #00af00\">500,500</span> │\n",
       "├──────────────────────────────────────┼─────────────────────────────┼─────────────────┤\n",
       "│ dense_2 (<span style=\"color: #0087ff; text-decoration-color: #0087ff\">Dense</span>)                      │ (<span style=\"color: #00d7ff; text-decoration-color: #00d7ff\">None</span>, <span style=\"color: #00af00; text-decoration-color: #00af00\">250</span>)                 │         <span style=\"color: #00af00; text-decoration-color: #00af00\">125,250</span> │\n",
       "├──────────────────────────────────────┼─────────────────────────────┼─────────────────┤\n",
       "│ dense_3 (<span style=\"color: #0087ff; text-decoration-color: #0087ff\">Dense</span>)                      │ (<span style=\"color: #00d7ff; text-decoration-color: #00d7ff\">None</span>, <span style=\"color: #00af00; text-decoration-color: #00af00\">100</span>)                 │          <span style=\"color: #00af00; text-decoration-color: #00af00\">25,100</span> │\n",
       "├──────────────────────────────────────┼─────────────────────────────┼─────────────────┤\n",
       "│ dense_4 (<span style=\"color: #0087ff; text-decoration-color: #0087ff\">Dense</span>)                      │ (<span style=\"color: #00d7ff; text-decoration-color: #00d7ff\">None</span>, <span style=\"color: #00af00; text-decoration-color: #00af00\">7</span>)                   │             <span style=\"color: #00af00; text-decoration-color: #00af00\">707</span> │\n",
       "└──────────────────────────────────────┴─────────────────────────────┴─────────────────┘\n",
       "</pre>\n"
      ],
      "text/plain": [
       "┏━━━━━━━━━━━━━━━━━━━━━━━━━━━━━━━━━━━━━━┳━━━━━━━━━━━━━━━━━━━━━━━━━━━━━┳━━━━━━━━━━━━━━━━━┓\n",
       "┃\u001b[1m \u001b[0m\u001b[1mLayer (type)                        \u001b[0m\u001b[1m \u001b[0m┃\u001b[1m \u001b[0m\u001b[1mOutput Shape               \u001b[0m\u001b[1m \u001b[0m┃\u001b[1m \u001b[0m\u001b[1m        Param #\u001b[0m\u001b[1m \u001b[0m┃\n",
       "┡━━━━━━━━━━━━━━━━━━━━━━━━━━━━━━━━━━━━━━╇━━━━━━━━━━━━━━━━━━━━━━━━━━━━━╇━━━━━━━━━━━━━━━━━┩\n",
       "│ dense (\u001b[38;5;33mDense\u001b[0m)                        │ (\u001b[38;5;45mNone\u001b[0m, \u001b[38;5;34m1000\u001b[0m)                │          \u001b[38;5;34m35,000\u001b[0m │\n",
       "├──────────────────────────────────────┼─────────────────────────────┼─────────────────┤\n",
       "│ dense_1 (\u001b[38;5;33mDense\u001b[0m)                      │ (\u001b[38;5;45mNone\u001b[0m, \u001b[38;5;34m500\u001b[0m)                 │         \u001b[38;5;34m500,500\u001b[0m │\n",
       "├──────────────────────────────────────┼─────────────────────────────┼─────────────────┤\n",
       "│ dense_2 (\u001b[38;5;33mDense\u001b[0m)                      │ (\u001b[38;5;45mNone\u001b[0m, \u001b[38;5;34m250\u001b[0m)                 │         \u001b[38;5;34m125,250\u001b[0m │\n",
       "├──────────────────────────────────────┼─────────────────────────────┼─────────────────┤\n",
       "│ dense_3 (\u001b[38;5;33mDense\u001b[0m)                      │ (\u001b[38;5;45mNone\u001b[0m, \u001b[38;5;34m100\u001b[0m)                 │          \u001b[38;5;34m25,100\u001b[0m │\n",
       "├──────────────────────────────────────┼─────────────────────────────┼─────────────────┤\n",
       "│ dense_4 (\u001b[38;5;33mDense\u001b[0m)                      │ (\u001b[38;5;45mNone\u001b[0m, \u001b[38;5;34m7\u001b[0m)                   │             \u001b[38;5;34m707\u001b[0m │\n",
       "└──────────────────────────────────────┴─────────────────────────────┴─────────────────┘\n"
      ]
     },
     "metadata": {},
     "output_type": "display_data"
    },
    {
     "data": {
      "text/html": [
       "<pre style=\"white-space:pre;overflow-x:auto;line-height:normal;font-family:Menlo,'DejaVu Sans Mono',consolas,'Courier New',monospace\"><span style=\"font-weight: bold\"> Total params: </span><span style=\"color: #00af00; text-decoration-color: #00af00\">686,557</span> (2.62 MB)\n",
       "</pre>\n"
      ],
      "text/plain": [
       "\u001b[1m Total params: \u001b[0m\u001b[38;5;34m686,557\u001b[0m (2.62 MB)\n"
      ]
     },
     "metadata": {},
     "output_type": "display_data"
    },
    {
     "data": {
      "text/html": [
       "<pre style=\"white-space:pre;overflow-x:auto;line-height:normal;font-family:Menlo,'DejaVu Sans Mono',consolas,'Courier New',monospace\"><span style=\"font-weight: bold\"> Trainable params: </span><span style=\"color: #00af00; text-decoration-color: #00af00\">686,557</span> (2.62 MB)\n",
       "</pre>\n"
      ],
      "text/plain": [
       "\u001b[1m Trainable params: \u001b[0m\u001b[38;5;34m686,557\u001b[0m (2.62 MB)\n"
      ]
     },
     "metadata": {},
     "output_type": "display_data"
    },
    {
     "data": {
      "text/html": [
       "<pre style=\"white-space:pre;overflow-x:auto;line-height:normal;font-family:Menlo,'DejaVu Sans Mono',consolas,'Courier New',monospace\"><span style=\"font-weight: bold\"> Non-trainable params: </span><span style=\"color: #00af00; text-decoration-color: #00af00\">0</span> (0.00 B)\n",
       "</pre>\n"
      ],
      "text/plain": [
       "\u001b[1m Non-trainable params: \u001b[0m\u001b[38;5;34m0\u001b[0m (0.00 B)\n"
      ]
     },
     "metadata": {},
     "output_type": "display_data"
    }
   ],
   "source": [
    "# Printing the model summary\n",
    "model.summary()"
   ]
  },
  {
   "cell_type": "markdown",
   "id": "e0e7bd69-d4e5-4f35-ab87-df963def2e2a",
   "metadata": {
    "id": "e0e7bd69-d4e5-4f35-ab87-df963def2e2a"
   },
   "source": [
    "## Compiling the model with a choice of optimizer and loss function, and setting the metrics argument equal to 'accuracy'"
   ]
  },
  {
   "cell_type": "code",
   "execution_count": 22,
   "id": "b94c8f61-86fb-491a-8e47-34b4bea8a79d",
   "metadata": {
    "id": "b94c8f61-86fb-491a-8e47-34b4bea8a79d"
   },
   "outputs": [],
   "source": [
    "# Considering this is a classification problem Adam optimizer is a good choice.\n",
    "# As loss function, using SparseCategoricalCrossentropy as we have 7 labels provided as integer values\n",
    "model.compile(optimizer=tf.optimizers.Adam(learning_rate = 0.01), loss = 'SparseCategoricalCrossentropy', metrics=['accuracy'])"
   ]
  },
  {
   "cell_type": "markdown",
   "id": "f0f6be34-2895-43b7-bd99-6b79449ddeda",
   "metadata": {
    "id": "f0f6be34-2895-43b7-bd99-6b79449ddeda"
   },
   "source": [
    "## Training the model and recording the training accuracy"
   ]
  },
  {
   "cell_type": "code",
   "execution_count": null,
   "id": "694654b8-e439-4060-8c34-d5fcc881a041",
   "metadata": {
    "id": "694654b8-e439-4060-8c34-d5fcc881a041",
    "outputId": "c875b4b7-1be0-4d51-c5c6-dcc5c36ccc7c"
   },
   "outputs": [
    {
     "name": "stdout",
     "output_type": "stream",
     "text": [
      "Epoch 1/30\n"
     ]
    },
    {
     "name": "stderr",
     "output_type": "stream",
     "text": [
      "2024-09-21 11:08:46.371881: I tensorflow/core/grappler/optimizers/custom_graph_optimizer_registry.cc:114] Plugin optimizer for device_type GPU is enabled.\n",
      "2024-09-21 11:08:46.439076: E tensorflow/core/grappler/optimizers/meta_optimizer.cc:954] model_pruner failed: INVALID_ARGUMENT: Graph does not contain terminal node AssignAddVariableOp_10.\n"
     ]
    },
    {
     "name": "stdout",
     "output_type": "stream",
     "text": [
      "22/22 [==============================] - 7s 155ms/step - loss: 181.5596 - accuracy: 0.1828\n",
      "Epoch 2/30\n",
      "22/22 [==============================] - 0s 9ms/step - loss: 983.0439 - accuracy: 0.1694\n",
      "Epoch 3/30\n",
      "22/22 [==============================] - 0s 8ms/step - loss: 1330.9790 - accuracy: 0.1575\n",
      "Epoch 4/30\n",
      "22/22 [==============================] - 0s 8ms/step - loss: 1215.4536 - accuracy: 0.1872\n",
      "Epoch 5/30\n",
      "22/22 [==============================] - 0s 8ms/step - loss: 996.3935 - accuracy: 0.1813\n",
      "Epoch 6/30\n",
      "22/22 [==============================] - 0s 8ms/step - loss: 810.2037 - accuracy: 0.1575\n",
      "Epoch 7/30\n",
      "22/22 [==============================] - 0s 8ms/step - loss: 1129.3650 - accuracy: 0.2006\n",
      "Epoch 8/30\n",
      "22/22 [==============================] - 0s 9ms/step - loss: 1463.9082 - accuracy: 0.1664\n",
      "Epoch 9/30\n",
      "22/22 [==============================] - 0s 8ms/step - loss: 1235.7307 - accuracy: 0.1382\n",
      "Epoch 10/30\n",
      "22/22 [==============================] - 0s 8ms/step - loss: 1018.8654 - accuracy: 0.2021\n",
      "Epoch 11/30\n",
      "22/22 [==============================] - 0s 8ms/step - loss: 647.5308 - accuracy: 0.1634\n",
      "Epoch 12/30\n",
      "22/22 [==============================] - 0s 8ms/step - loss: 767.2233 - accuracy: 0.1842\n",
      "Epoch 13/30\n",
      "22/22 [==============================] - 0s 8ms/step - loss: 756.2811 - accuracy: 0.1783\n",
      "Epoch 14/30\n",
      "22/22 [==============================] - 0s 8ms/step - loss: 730.8557 - accuracy: 0.1724\n",
      "Epoch 15/30\n",
      "22/22 [==============================] - 0s 8ms/step - loss: 543.4855 - accuracy: 0.1857\n",
      "Epoch 16/30\n",
      "22/22 [==============================] - 0s 9ms/step - loss: 980.5217 - accuracy: 0.1337\n",
      "Epoch 17/30\n",
      "22/22 [==============================] - 0s 9ms/step - loss: 844.7307 - accuracy: 0.2036\n",
      "Epoch 18/30\n",
      "22/22 [==============================] - 0s 10ms/step - loss: 824.9099 - accuracy: 0.1917\n",
      "Epoch 19/30\n",
      "22/22 [==============================] - 0s 10ms/step - loss: 816.0153 - accuracy: 0.1545\n",
      "Epoch 20/30\n",
      "22/22 [==============================] - 0s 9ms/step - loss: 801.1079 - accuracy: 0.1813\n",
      "Epoch 21/30\n",
      "22/22 [==============================] - 0s 8ms/step - loss: 854.4066 - accuracy: 0.1679\n",
      "Epoch 22/30\n",
      "22/22 [==============================] - 0s 8ms/step - loss: 900.9506 - accuracy: 0.1501\n",
      "Epoch 23/30\n",
      "22/22 [==============================] - 0s 8ms/step - loss: 1003.5639 - accuracy: 0.1917\n",
      "Epoch 24/30\n",
      "22/22 [==============================] - 0s 8ms/step - loss: 870.1765 - accuracy: 0.1842\n",
      "Epoch 25/30\n",
      "22/22 [==============================] - 0s 8ms/step - loss: 860.9594 - accuracy: 0.1441\n",
      "Epoch 26/30\n",
      "22/22 [==============================] - 0s 8ms/step - loss: 796.2495 - accuracy: 0.1798\n",
      "Epoch 27/30\n",
      "22/22 [==============================] - 0s 9ms/step - loss: 538.0976 - accuracy: 0.1828\n",
      "Epoch 28/30\n",
      "22/22 [==============================] - 0s 8ms/step - loss: 769.2681 - accuracy: 0.1872\n",
      "Epoch 29/30\n",
      "22/22 [==============================] - 0s 9ms/step - loss: 579.0304 - accuracy: 0.1872\n",
      "Epoch 30/30\n",
      "22/22 [==============================] - 0s 8ms/step - loss: 869.2802 - accuracy: 0.1664\n"
     ]
    },
    {
     "data": {
      "text/plain": [
       "<keras.callbacks.History at 0x7f9df4c01bb0>"
      ]
     },
     "execution_count": 20,
     "metadata": {},
     "output_type": "execute_result"
    }
   ],
   "source": [
    "model.fit(train_scaled_features, train_encoded_labels, epochs = 30)"
   ]
  },
  {
   "cell_type": "markdown",
   "id": "dd66ff82-4633-4cc3-a375-ffe720b4d536",
   "metadata": {
    "id": "dd66ff82-4633-4cc3-a375-ffe720b4d536"
   },
   "source": [
    "### **<span style=color:blue>Training accuracy is approximately 0.17</span>**"
   ]
  },
  {
   "cell_type": "markdown",
   "id": "f1485906-5efd-43aa-b6cd-6e3462831e8c",
   "metadata": {
    "id": "f1485906-5efd-43aa-b6cd-6e3462831e8c"
   },
   "source": [
    "## Finding the validation accuracy and confusion matrix"
   ]
  },
  {
   "cell_type": "code",
   "execution_count": 23,
   "id": "06f0cc55-7a41-4517-8ce4-68844d1f6025",
   "metadata": {
    "colab": {
     "base_uri": "https://localhost:8080/"
    },
    "id": "06f0cc55-7a41-4517-8ce4-68844d1f6025",
    "outputId": "e1a83d1f-ad8f-4838-8958-e7a727642f23"
   },
   "outputs": [
    {
     "name": "stdout",
     "output_type": "stream",
     "text": [
      "\u001b[1m2/2\u001b[0m \u001b[32m━━━━━━━━━━━━━━━━━━━━\u001b[0m\u001b[37m\u001b[0m \u001b[1m1s\u001b[0m 26ms/step - accuracy: 0.1397 - loss: 1.9533 \n"
     ]
    },
    {
     "data": {
      "text/plain": [
       "[1.9526796340942383, 0.14705882966518402]"
      ]
     },
     "execution_count": 23,
     "metadata": {},
     "output_type": "execute_result"
    }
   ],
   "source": [
    "model.evaluate(val_scaled_features, val_encoded_labels)"
   ]
  },
  {
   "cell_type": "markdown",
   "id": "aa66bd31-a018-4a1a-a9bc-d608b62f965c",
   "metadata": {
    "id": "aa66bd31-a018-4a1a-a9bc-d608b62f965c"
   },
   "source": [
    "### **<span style='color:blue'>The Validation set accuracy is approximately 0.15. Therefore comparing to model's train accuracy (0.17), this model is a bit overfitting</span>**"
   ]
  },
  {
   "cell_type": "code",
   "execution_count": 24,
   "id": "83716824-5736-4f19-9ae7-e120e6dabbc7",
   "metadata": {
    "colab": {
     "base_uri": "https://localhost:8080/"
    },
    "id": "83716824-5736-4f19-9ae7-e120e6dabbc7",
    "outputId": "bebe3e06-3413-4612-c9fe-9100390b65f5"
   },
   "outputs": [
    {
     "name": "stdout",
     "output_type": "stream",
     "text": [
      "\u001b[1m2/2\u001b[0m \u001b[32m━━━━━━━━━━━━━━━━━━━━\u001b[0m\u001b[37m\u001b[0m \u001b[1m0s\u001b[0m 65ms/step\n"
     ]
    },
    {
     "data": {
      "text/plain": [
       "array([5, 5, 5, 5, 5, 5, 5, 5, 5, 5, 5, 5, 5, 5, 5, 5, 5, 5, 5, 5, 5, 5,\n",
       "       5, 5, 5, 5, 5, 5, 5, 5, 5, 5, 5, 5])"
      ]
     },
     "execution_count": 24,
     "metadata": {},
     "output_type": "execute_result"
    }
   ],
   "source": [
    "# Generating predictions based on validation set, using np.argmax to actually get integers values for each predicted class\n",
    "val_predictions = np.argmax(model.predict(val_scaled_features), axis = 1)\n",
    "val_predictions"
   ]
  },
  {
   "cell_type": "code",
   "execution_count": 25,
   "id": "bde2b857-9160-4dfb-ac62-e79b55e622fa",
   "metadata": {
    "colab": {
     "base_uri": "https://localhost:8080/"
    },
    "id": "bde2b857-9160-4dfb-ac62-e79b55e622fa",
    "outputId": "6cff79cc-f494-40e8-9bfd-34b7d7465fbb"
   },
   "outputs": [
    {
     "data": {
      "text/plain": [
       "array([[0, 0, 0, 0, 0, 4, 0],\n",
       "       [0, 0, 0, 0, 0, 5, 0],\n",
       "       [0, 0, 0, 0, 0, 5, 0],\n",
       "       [0, 0, 0, 0, 0, 2, 0],\n",
       "       [0, 0, 0, 0, 0, 8, 0],\n",
       "       [0, 0, 0, 0, 0, 5, 0],\n",
       "       [0, 0, 0, 0, 0, 5, 0]])"
      ]
     },
     "execution_count": 25,
     "metadata": {},
     "output_type": "execute_result"
    }
   ],
   "source": [
    "# Generating the confusion matrix for validation set\n",
    "val_cnf_matrix = confusion_matrix(val_encoded_labels, val_predictions)\n",
    "val_cnf_matrix"
   ]
  },
  {
   "cell_type": "markdown",
   "id": "8a0553f4-8d1f-4953-be7e-b9799b87db00",
   "metadata": {
    "id": "8a0553f4-8d1f-4953-be7e-b9799b87db00"
   },
   "source": [
    "## Returning to the above steps to try at least five different choices of hyperparameters (including dimensions, activation functions, number of layers, optimizer, loss function, etc.). Neatly present a description each model tried along with the training and validation accuracies, and the confusion matrix."
   ]
  },
  {
   "cell_type": "code",
   "execution_count": 26,
   "id": "329748b2-bb59-4e84-b8e3-ca453331b5f8",
   "metadata": {
    "id": "329748b2-bb59-4e84-b8e3-ca453331b5f8"
   },
   "outputs": [],
   "source": [
    "# Creating model1, comparing to model1 keeping the same number of layers but reducing the number of neurons per each one\n",
    "model1 = Sequential()\n",
    "model1.add(Dense(500, activation = 'relu'))\n",
    "model1.add(Dense(250,  activation = 'relu'))\n",
    "model1.add(Dense(125,  activation = 'relu'))\n",
    "model1.add(Dense(65,  activation = 'relu'))\n",
    "model1.add(Dense(7,  activation = 'softmax'))  # Due to class amount (7), using softmax and 7 neurons in the last layer"
   ]
  },
  {
   "cell_type": "code",
   "execution_count": 28,
   "id": "50e1d227-d172-40f6-9107-5c2765586397",
   "metadata": {
    "id": "50e1d227-d172-40f6-9107-5c2765586397"
   },
   "outputs": [],
   "source": [
    "# Changing optimizer to Adagrad\n",
    "# As loss function, using SparseCategoricalCrossentropy as we have 7 labels provided as integer values\n",
    "model1.compile(optimizer=tf.optimizers.Adagrad(learning_rate = 0.01), loss = 'SparseCategoricalCrossentropy', metrics= ['accuracy'])"
   ]
  },
  {
   "cell_type": "code",
   "execution_count": null,
   "id": "3cd787d4-9d50-4f2a-adf4-c8fbe61cd84f",
   "metadata": {
    "id": "3cd787d4-9d50-4f2a-adf4-c8fbe61cd84f",
    "outputId": "c589c13b-09ab-485d-b498-b4ef68450a1b"
   },
   "outputs": [
    {
     "name": "stdout",
     "output_type": "stream",
     "text": [
      "Epoch 1/30\n"
     ]
    },
    {
     "name": "stderr",
     "output_type": "stream",
     "text": [
      "2024-09-21 11:09:15.010086: I tensorflow/core/grappler/optimizers/custom_graph_optimizer_registry.cc:114] Plugin optimizer for device_type GPU is enabled.\n",
      "2024-09-21 11:09:15.046101: E tensorflow/core/grappler/optimizers/meta_optimizer.cc:954] model_pruner failed: INVALID_ARGUMENT: Graph does not contain terminal node AssignAddVariableOp_10.\n"
     ]
    },
    {
     "name": "stdout",
     "output_type": "stream",
     "text": [
      "22/22 [==============================] - 2s 43ms/step - loss: 1.7749 - accuracy: 0.4042\n",
      "Epoch 2/30\n",
      "22/22 [==============================] - 0s 8ms/step - loss: 1.5399 - accuracy: 0.5438\n",
      "Epoch 3/30\n",
      "22/22 [==============================] - 0s 8ms/step - loss: 1.2790 - accuracy: 0.6077\n",
      "Epoch 4/30\n",
      "22/22 [==============================] - 0s 7ms/step - loss: 1.1035 - accuracy: 0.6241\n",
      "Epoch 5/30\n",
      "22/22 [==============================] - 0s 8ms/step - loss: 0.9356 - accuracy: 0.6761\n",
      "Epoch 6/30\n",
      "22/22 [==============================] - 0s 7ms/step - loss: 0.8219 - accuracy: 0.7028\n",
      "Epoch 7/30\n",
      "22/22 [==============================] - 0s 8ms/step - loss: 0.7931 - accuracy: 0.7132\n",
      "Epoch 8/30\n",
      "22/22 [==============================] - 0s 8ms/step - loss: 0.6976 - accuracy: 0.7578\n",
      "Epoch 9/30\n",
      "22/22 [==============================] - 0s 8ms/step - loss: 0.6426 - accuracy: 0.7712\n",
      "Epoch 10/30\n",
      "22/22 [==============================] - 0s 7ms/step - loss: 0.5965 - accuracy: 0.7949\n",
      "Epoch 11/30\n",
      "22/22 [==============================] - 0s 8ms/step - loss: 0.5770 - accuracy: 0.7816\n",
      "Epoch 12/30\n",
      "22/22 [==============================] - 0s 7ms/step - loss: 0.5928 - accuracy: 0.7771\n",
      "Epoch 13/30\n",
      "22/22 [==============================] - 0s 7ms/step - loss: 0.5233 - accuracy: 0.8053\n",
      "Epoch 14/30\n",
      "22/22 [==============================] - 0s 8ms/step - loss: 0.5035 - accuracy: 0.8217\n",
      "Epoch 15/30\n",
      "22/22 [==============================] - 0s 7ms/step - loss: 0.6090 - accuracy: 0.7845\n",
      "Epoch 16/30\n",
      "22/22 [==============================] - 0s 8ms/step - loss: 0.4923 - accuracy: 0.8187\n",
      "Epoch 17/30\n",
      "22/22 [==============================] - 0s 8ms/step - loss: 0.5012 - accuracy: 0.8068\n",
      "Epoch 18/30\n",
      "22/22 [==============================] - 0s 8ms/step - loss: 0.5212 - accuracy: 0.8068\n",
      "Epoch 19/30\n",
      "22/22 [==============================] - 0s 9ms/step - loss: 0.4505 - accuracy: 0.8306\n",
      "Epoch 20/30\n",
      "22/22 [==============================] - 0s 9ms/step - loss: 0.4935 - accuracy: 0.8232\n",
      "Epoch 21/30\n",
      "22/22 [==============================] - 0s 9ms/step - loss: 0.4666 - accuracy: 0.8262\n",
      "Epoch 22/30\n",
      "22/22 [==============================] - 0s 8ms/step - loss: 0.4232 - accuracy: 0.8470\n",
      "Epoch 23/30\n",
      "22/22 [==============================] - 0s 7ms/step - loss: 0.4377 - accuracy: 0.8321\n",
      "Epoch 24/30\n",
      "22/22 [==============================] - 0s 7ms/step - loss: 0.4191 - accuracy: 0.8440\n",
      "Epoch 25/30\n",
      "22/22 [==============================] - 0s 7ms/step - loss: 0.4074 - accuracy: 0.8499\n",
      "Epoch 26/30\n",
      "22/22 [==============================] - 0s 7ms/step - loss: 0.3989 - accuracy: 0.8514\n",
      "Epoch 27/30\n",
      "22/22 [==============================] - 0s 7ms/step - loss: 0.3865 - accuracy: 0.8544\n",
      "Epoch 28/30\n",
      "22/22 [==============================] - 0s 7ms/step - loss: 0.3868 - accuracy: 0.8559\n",
      "Epoch 29/30\n",
      "22/22 [==============================] - 0s 8ms/step - loss: 0.3863 - accuracy: 0.8514\n",
      "Epoch 30/30\n",
      "22/22 [==============================] - 0s 8ms/step - loss: 0.3748 - accuracy: 0.8618\n"
     ]
    },
    {
     "data": {
      "text/plain": [
       "<keras.callbacks.History at 0x7f9e03120a60>"
      ]
     },
     "execution_count": 26,
     "metadata": {},
     "output_type": "execute_result"
    }
   ],
   "source": [
    "# Training model1\n",
    "model1.fit(train_scaled_features, train_encoded_labels, epochs = 30)"
   ]
  },
  {
   "cell_type": "markdown",
   "id": "ec51972c-3faf-46b2-8249-f5092bd016a4",
   "metadata": {
    "id": "ec51972c-3faf-46b2-8249-f5092bd016a4"
   },
   "source": [
    "### <span style='color:blue'>model1 training accuracy is approximately 0.86</span>"
   ]
  },
  {
   "cell_type": "code",
   "execution_count": 29,
   "id": "44f5b9b9-c7d5-402c-8bb5-124169a47288",
   "metadata": {
    "colab": {
     "base_uri": "https://localhost:8080/"
    },
    "id": "44f5b9b9-c7d5-402c-8bb5-124169a47288",
    "outputId": "b86c91c7-79eb-4160-badc-94068afa7d2c"
   },
   "outputs": [
    {
     "name": "stdout",
     "output_type": "stream",
     "text": [
      "\u001b[1m2/2\u001b[0m \u001b[32m━━━━━━━━━━━━━━━━━━━━\u001b[0m\u001b[37m\u001b[0m \u001b[1m1s\u001b[0m 10ms/step - accuracy: 0.1397 - loss: 1.9629\n"
     ]
    },
    {
     "data": {
      "text/plain": [
       "[1.9622464179992676, 0.14705882966518402]"
      ]
     },
     "execution_count": 29,
     "metadata": {},
     "output_type": "execute_result"
    }
   ],
   "source": [
    "# Finding validation accuracy for model1\n",
    "model1.evaluate(val_scaled_features, val_encoded_labels)"
   ]
  },
  {
   "cell_type": "markdown",
   "id": "e07327bd-df68-467d-a09b-006059932cf3",
   "metadata": {
    "id": "e07327bd-df68-467d-a09b-006059932cf3"
   },
   "source": [
    "### <span style='color:blue'>model1 validation accuracy is approximately 0.77 Therefore comparing to model1's train accuracy (0.86), this model is overfitting</span>"
   ]
  },
  {
   "cell_type": "code",
   "execution_count": 30,
   "id": "bcfa4b5a-0bae-4d12-b6c5-ac7d457e936d",
   "metadata": {
    "colab": {
     "base_uri": "https://localhost:8080/"
    },
    "id": "bcfa4b5a-0bae-4d12-b6c5-ac7d457e936d",
    "outputId": "03605621-1089-478a-8218-237bac688886"
   },
   "outputs": [
    {
     "name": "stdout",
     "output_type": "stream",
     "text": [
      "\u001b[1m2/2\u001b[0m \u001b[32m━━━━━━━━━━━━━━━━━━━━\u001b[0m\u001b[37m\u001b[0m \u001b[1m0s\u001b[0m 119ms/step\n"
     ]
    },
    {
     "data": {
      "text/plain": [
       "array([3, 3, 3, 3, 5, 3, 3, 3, 3, 2, 3, 3, 3, 3, 3, 3, 3, 3, 3, 3, 3, 3,\n",
       "       3, 3, 3, 5, 3, 5, 5, 3, 5, 5, 3, 5])"
      ]
     },
     "execution_count": 30,
     "metadata": {},
     "output_type": "execute_result"
    }
   ],
   "source": [
    "# Generating predictions based on validation set, using np.argmax to actually get integers values for each predicted class (model1)\n",
    "val_predictions1 = np.argmax(model1.predict(val_scaled_features), axis = 1)\n",
    "val_predictions1"
   ]
  },
  {
   "cell_type": "code",
   "execution_count": 31,
   "id": "36b1100b-6396-4b3c-9026-696ee5ea880b",
   "metadata": {
    "colab": {
     "base_uri": "https://localhost:8080/"
    },
    "id": "36b1100b-6396-4b3c-9026-696ee5ea880b",
    "outputId": "c75683f2-b0b6-4f3c-fc5e-6b6da36d7d8b"
   },
   "outputs": [
    {
     "data": {
      "text/plain": [
       "array([[0, 0, 0, 3, 0, 1, 0],\n",
       "       [0, 0, 0, 4, 0, 1, 0],\n",
       "       [0, 0, 0, 5, 0, 0, 0],\n",
       "       [0, 0, 0, 2, 0, 0, 0],\n",
       "       [0, 0, 0, 6, 0, 2, 0],\n",
       "       [0, 0, 1, 1, 0, 3, 0],\n",
       "       [0, 0, 0, 5, 0, 0, 0]])"
      ]
     },
     "execution_count": 31,
     "metadata": {},
     "output_type": "execute_result"
    }
   ],
   "source": [
    "# Generating the confusion matrix for validation set (model1)\n",
    "val_cnf_matrix1 = confusion_matrix(val_encoded_labels, val_predictions1)\n",
    "val_cnf_matrix1"
   ]
  },
  {
   "cell_type": "code",
   "execution_count": 32,
   "id": "20f1a5e4-5790-45b6-ac9f-13d515d7c256",
   "metadata": {
    "id": "20f1a5e4-5790-45b6-ac9f-13d515d7c256"
   },
   "outputs": [],
   "source": [
    "# Creating model2, reducing number of layers, changing the activation function compared to the initial model\n",
    "model2 = Sequential()\n",
    "model2.add(Dense(1000, activation = 'softmax'))\n",
    "model2.add(Dense(500,  activation = 'softmax'))\n",
    "model2.add(Dense(250,  activation = 'softmax'))\n",
    "model2.add(Dense(7,  activation = 'softmax'))    # Due to class amount (7), using softmax and 7 neurons in the last layer"
   ]
  },
  {
   "cell_type": "code",
   "execution_count": 34,
   "id": "5ee46766-e215-4952-b949-56e4b922598b",
   "metadata": {
    "id": "5ee46766-e215-4952-b949-56e4b922598b"
   },
   "outputs": [],
   "source": [
    "# Changing the optimizer to RMSprop\n",
    "# As loss function, using SparseCategoricalCrossentropy as we have 7 labels provided as integer values\n",
    "model2.compile(optimizer=tf.optimizers.RMSprop(learning_rate = 0.01), loss = 'SparseCategoricalCrossentropy', metrics= ['accuracy'])"
   ]
  },
  {
   "cell_type": "code",
   "execution_count": null,
   "id": "7bee3d44-3103-4cac-b6c0-8bed28fa00f5",
   "metadata": {
    "id": "7bee3d44-3103-4cac-b6c0-8bed28fa00f5",
    "outputId": "58c629f6-a854-4077-eef7-038d6d7c2e1e"
   },
   "outputs": [
    {
     "name": "stdout",
     "output_type": "stream",
     "text": [
      "Epoch 1/30\n"
     ]
    },
    {
     "name": "stderr",
     "output_type": "stream",
     "text": [
      "2024-09-21 11:09:46.377437: I tensorflow/core/grappler/optimizers/custom_graph_optimizer_registry.cc:114] Plugin optimizer for device_type GPU is enabled.\n"
     ]
    },
    {
     "name": "stdout",
     "output_type": "stream",
     "text": [
      "22/22 [==============================] - 2s 26ms/step - loss: 1.9046 - accuracy: 0.2095\n",
      "Epoch 2/30\n",
      "22/22 [==============================] - 0s 11ms/step - loss: 1.8742 - accuracy: 0.2333\n",
      "Epoch 3/30\n",
      "22/22 [==============================] - 0s 11ms/step - loss: 1.8680 - accuracy: 0.2214\n",
      "Epoch 4/30\n",
      "22/22 [==============================] - 0s 11ms/step - loss: 1.8627 - accuracy: 0.2333\n",
      "Epoch 5/30\n",
      "22/22 [==============================] - 0s 12ms/step - loss: 1.8622 - accuracy: 0.2333\n",
      "Epoch 6/30\n",
      "22/22 [==============================] - 0s 12ms/step - loss: 1.8622 - accuracy: 0.2333\n",
      "Epoch 7/30\n",
      "22/22 [==============================] - 0s 11ms/step - loss: 1.8629 - accuracy: 0.2333\n",
      "Epoch 8/30\n",
      "22/22 [==============================] - 0s 11ms/step - loss: 1.8631 - accuracy: 0.2333\n",
      "Epoch 9/30\n",
      "22/22 [==============================] - 0s 11ms/step - loss: 1.8627 - accuracy: 0.2333\n",
      "Epoch 10/30\n",
      "22/22 [==============================] - 0s 11ms/step - loss: 1.8623 - accuracy: 0.2140\n",
      "Epoch 11/30\n",
      "22/22 [==============================] - 0s 11ms/step - loss: 1.8616 - accuracy: 0.2333\n",
      "Epoch 12/30\n",
      "22/22 [==============================] - 0s 11ms/step - loss: 1.8621 - accuracy: 0.2333\n",
      "Epoch 13/30\n",
      "22/22 [==============================] - 0s 12ms/step - loss: 1.8615 - accuracy: 0.2155\n",
      "Epoch 14/30\n",
      "22/22 [==============================] - 0s 12ms/step - loss: 1.8619 - accuracy: 0.2155\n",
      "Epoch 15/30\n",
      "22/22 [==============================] - 0s 12ms/step - loss: 1.8616 - accuracy: 0.2333\n",
      "Epoch 16/30\n",
      "22/22 [==============================] - 0s 12ms/step - loss: 1.8620 - accuracy: 0.2333\n",
      "Epoch 17/30\n",
      "22/22 [==============================] - 0s 11ms/step - loss: 1.8616 - accuracy: 0.2333\n",
      "Epoch 18/30\n",
      "22/22 [==============================] - 0s 11ms/step - loss: 1.8620 - accuracy: 0.2333\n",
      "Epoch 19/30\n",
      "22/22 [==============================] - 0s 11ms/step - loss: 1.8620 - accuracy: 0.2155\n",
      "Epoch 20/30\n",
      "22/22 [==============================] - 0s 13ms/step - loss: 1.8616 - accuracy: 0.2333\n",
      "Epoch 21/30\n",
      "22/22 [==============================] - 0s 13ms/step - loss: 1.8617 - accuracy: 0.2333\n",
      "Epoch 22/30\n",
      "22/22 [==============================] - 0s 12ms/step - loss: 1.8614 - accuracy: 0.2333\n",
      "Epoch 23/30\n",
      "22/22 [==============================] - 0s 13ms/step - loss: 1.8612 - accuracy: 0.2333\n",
      "Epoch 24/30\n",
      "22/22 [==============================] - 0s 13ms/step - loss: 1.8620 - accuracy: 0.2333\n",
      "Epoch 25/30\n",
      "22/22 [==============================] - 0s 13ms/step - loss: 1.8620 - accuracy: 0.1976\n",
      "Epoch 26/30\n",
      "22/22 [==============================] - 0s 12ms/step - loss: 1.8612 - accuracy: 0.2273\n",
      "Epoch 27/30\n",
      "22/22 [==============================] - 0s 11ms/step - loss: 1.8612 - accuracy: 0.2333\n",
      "Epoch 28/30\n",
      "22/22 [==============================] - 0s 12ms/step - loss: 1.8620 - accuracy: 0.2333\n",
      "Epoch 29/30\n",
      "22/22 [==============================] - 0s 13ms/step - loss: 1.8623 - accuracy: 0.2333\n",
      "Epoch 30/30\n",
      "22/22 [==============================] - 0s 14ms/step - loss: 1.8620 - accuracy: 0.2333\n"
     ]
    },
    {
     "data": {
      "text/plain": [
       "<keras.callbacks.History at 0x7f9df5649c40>"
      ]
     },
     "execution_count": 32,
     "metadata": {},
     "output_type": "execute_result"
    }
   ],
   "source": [
    "# Training model2\n",
    "model2.fit(train_scaled_features, train_encoded_labels, epochs = 30)"
   ]
  },
  {
   "cell_type": "markdown",
   "id": "3fc58507-b87e-49df-abdb-51aeda275e3e",
   "metadata": {
    "id": "3fc58507-b87e-49df-abdb-51aeda275e3e"
   },
   "source": [
    "### <span style='color:blue'>model2 training accuracy is approximately 0.23</span>"
   ]
  },
  {
   "cell_type": "code",
   "execution_count": 35,
   "id": "098401cb-e254-47b7-9780-54d73030170f",
   "metadata": {
    "colab": {
     "base_uri": "https://localhost:8080/"
    },
    "id": "098401cb-e254-47b7-9780-54d73030170f",
    "outputId": "538f1dd8-a43f-49bb-f515-69d8f4151061"
   },
   "outputs": [
    {
     "name": "stdout",
     "output_type": "stream",
     "text": [
      "\u001b[1m2/2\u001b[0m \u001b[32m━━━━━━━━━━━━━━━━━━━━\u001b[0m\u001b[37m\u001b[0m \u001b[1m1s\u001b[0m 11ms/step - accuracy: 0.1501 - loss: 1.9463 \n"
     ]
    },
    {
     "data": {
      "text/plain": [
       "[1.9463223218917847, 0.14705882966518402]"
      ]
     },
     "execution_count": 35,
     "metadata": {},
     "output_type": "execute_result"
    }
   ],
   "source": [
    "# Finding validation accuracy for model2\n",
    "model2.evaluate(val_scaled_features, val_encoded_labels)"
   ]
  },
  {
   "cell_type": "markdown",
   "id": "09306dd2-966a-44e8-9502-9d1e8bf9f899",
   "metadata": {
    "id": "09306dd2-966a-44e8-9502-9d1e8bf9f899"
   },
   "source": [
    "### <span style='color:blue'>model2 validation accuracy is approximately 0.15. Therefore comparing to model2's train accuracy (0.23), this model is overfitting</span>"
   ]
  },
  {
   "cell_type": "code",
   "execution_count": 36,
   "id": "588b8325-cfeb-44ef-9696-8e42ec531840",
   "metadata": {
    "id": "588b8325-cfeb-44ef-9696-8e42ec531840"
   },
   "outputs": [],
   "source": [
    "# Creating model3, reducing number of layers, changing the activation function compared to the initial model in some layers\n",
    "model3 = Sequential()\n",
    "model3.add(Dense(1000, activation = 'relu'))\n",
    "model3.add(Dense(7,  activation = 'softmax'))    # Due to class amount (7), using softmax and 7 neurons in the last layer"
   ]
  },
  {
   "cell_type": "code",
   "execution_count": 38,
   "id": "47e1ae20-323f-4177-9ddc-330ffa104947",
   "metadata": {
    "id": "47e1ae20-323f-4177-9ddc-330ffa104947"
   },
   "outputs": [],
   "source": [
    "# Considering this is a classification problem Adam optimizer is a good choice.\n",
    "# As loss function, using SparseCategoricalCrossentropy as we have 7 labels provided as integer values\n",
    "model3.compile(optimizer=tf.optimizers.Adam(learning_rate = 0.01), loss = 'SparseCategoricalCrossentropy', metrics=['accuracy'])"
   ]
  },
  {
   "cell_type": "code",
   "execution_count": 39,
   "id": "cdcc136d-25f2-4c7c-8a37-4f30a7a42922",
   "metadata": {
    "colab": {
     "base_uri": "https://localhost:8080/"
    },
    "id": "cdcc136d-25f2-4c7c-8a37-4f30a7a42922",
    "outputId": "ea3e432d-d25f-4500-831d-553ac30ed046"
   },
   "outputs": [
    {
     "name": "stdout",
     "output_type": "stream",
     "text": [
      "Epoch 1/30\n",
      "\u001b[1m22/22\u001b[0m \u001b[32m━━━━━━━━━━━━━━━━━━━━\u001b[0m\u001b[37m\u001b[0m \u001b[1m2s\u001b[0m 2ms/step - accuracy: 0.4176 - loss: 1.5645\n",
      "Epoch 2/30\n",
      "\u001b[1m22/22\u001b[0m \u001b[32m━━━━━━━━━━━━━━━━━━━━\u001b[0m\u001b[37m\u001b[0m \u001b[1m0s\u001b[0m 3ms/step - accuracy: 0.7132 - loss: 0.7105\n",
      "Epoch 3/30\n",
      "\u001b[1m22/22\u001b[0m \u001b[32m━━━━━━━━━━━━━━━━━━━━\u001b[0m\u001b[37m\u001b[0m \u001b[1m0s\u001b[0m 2ms/step - accuracy: 0.7081 - loss: 0.8204 \n",
      "Epoch 4/30\n",
      "\u001b[1m22/22\u001b[0m \u001b[32m━━━━━━━━━━━━━━━━━━━━\u001b[0m\u001b[37m\u001b[0m \u001b[1m0s\u001b[0m 3ms/step - accuracy: 0.8061 - loss: 0.5007\n",
      "Epoch 5/30\n",
      "\u001b[1m22/22\u001b[0m \u001b[32m━━━━━━━━━━━━━━━━━━━━\u001b[0m\u001b[37m\u001b[0m \u001b[1m0s\u001b[0m 2ms/step - accuracy: 0.8287 - loss: 0.4090 \n",
      "Epoch 6/30\n",
      "\u001b[1m22/22\u001b[0m \u001b[32m━━━━━━━━━━━━━━━━━━━━\u001b[0m\u001b[37m\u001b[0m \u001b[1m0s\u001b[0m 2ms/step - accuracy: 0.8567 - loss: 0.4050 \n",
      "Epoch 7/30\n",
      "\u001b[1m22/22\u001b[0m \u001b[32m━━━━━━━━━━━━━━━━━━━━\u001b[0m\u001b[37m\u001b[0m \u001b[1m0s\u001b[0m 4ms/step - accuracy: 0.8124 - loss: 0.5683\n",
      "Epoch 8/30\n",
      "\u001b[1m22/22\u001b[0m \u001b[32m━━━━━━━━━━━━━━━━━━━━\u001b[0m\u001b[37m\u001b[0m \u001b[1m0s\u001b[0m 4ms/step - accuracy: 0.8331 - loss: 0.4103\n",
      "Epoch 9/30\n",
      "\u001b[1m22/22\u001b[0m \u001b[32m━━━━━━━━━━━━━━━━━━━━\u001b[0m\u001b[37m\u001b[0m \u001b[1m0s\u001b[0m 3ms/step - accuracy: 0.7107 - loss: 0.8240\n",
      "Epoch 10/30\n",
      "\u001b[1m22/22\u001b[0m \u001b[32m━━━━━━━━━━━━━━━━━━━━\u001b[0m\u001b[37m\u001b[0m \u001b[1m0s\u001b[0m 2ms/step - accuracy: 0.8602 - loss: 0.3838 \n",
      "Epoch 11/30\n",
      "\u001b[1m22/22\u001b[0m \u001b[32m━━━━━━━━━━━━━━━━━━━━\u001b[0m\u001b[37m\u001b[0m \u001b[1m0s\u001b[0m 2ms/step - accuracy: 0.8521 - loss: 0.4770 \n",
      "Epoch 12/30\n",
      "\u001b[1m22/22\u001b[0m \u001b[32m━━━━━━━━━━━━━━━━━━━━\u001b[0m\u001b[37m\u001b[0m \u001b[1m0s\u001b[0m 2ms/step - accuracy: 0.8846 - loss: 0.3603 \n",
      "Epoch 13/30\n",
      "\u001b[1m22/22\u001b[0m \u001b[32m━━━━━━━━━━━━━━━━━━━━\u001b[0m\u001b[37m\u001b[0m \u001b[1m0s\u001b[0m 2ms/step - accuracy: 0.8200 - loss: 0.5491 \n",
      "Epoch 14/30\n",
      "\u001b[1m22/22\u001b[0m \u001b[32m━━━━━━━━━━━━━━━━━━━━\u001b[0m\u001b[37m\u001b[0m \u001b[1m0s\u001b[0m 3ms/step - accuracy: 0.7701 - loss: 0.6886\n",
      "Epoch 15/30\n",
      "\u001b[1m22/22\u001b[0m \u001b[32m━━━━━━━━━━━━━━━━━━━━\u001b[0m\u001b[37m\u001b[0m \u001b[1m0s\u001b[0m 2ms/step - accuracy: 0.8383 - loss: 0.3853 \n",
      "Epoch 16/30\n",
      "\u001b[1m22/22\u001b[0m \u001b[32m━━━━━━━━━━━━━━━━━━━━\u001b[0m\u001b[37m\u001b[0m \u001b[1m0s\u001b[0m 3ms/step - accuracy: 0.8711 - loss: 0.3917\n",
      "Epoch 17/30\n",
      "\u001b[1m22/22\u001b[0m \u001b[32m━━━━━━━━━━━━━━━━━━━━\u001b[0m\u001b[37m\u001b[0m \u001b[1m0s\u001b[0m 2ms/step - accuracy: 0.8904 - loss: 0.2791 \n",
      "Epoch 18/30\n",
      "\u001b[1m22/22\u001b[0m \u001b[32m━━━━━━━━━━━━━━━━━━━━\u001b[0m\u001b[37m\u001b[0m \u001b[1m0s\u001b[0m 2ms/step - accuracy: 0.8806 - loss: 0.3222 \n",
      "Epoch 19/30\n",
      "\u001b[1m22/22\u001b[0m \u001b[32m━━━━━━━━━━━━━━━━━━━━\u001b[0m\u001b[37m\u001b[0m \u001b[1m0s\u001b[0m 2ms/step - accuracy: 0.8871 - loss: 0.2945 \n",
      "Epoch 20/30\n",
      "\u001b[1m22/22\u001b[0m \u001b[32m━━━━━━━━━━━━━━━━━━━━\u001b[0m\u001b[37m\u001b[0m \u001b[1m0s\u001b[0m 3ms/step - accuracy: 0.8194 - loss: 0.4933\n",
      "Epoch 21/30\n",
      "\u001b[1m22/22\u001b[0m \u001b[32m━━━━━━━━━━━━━━━━━━━━\u001b[0m\u001b[37m\u001b[0m \u001b[1m0s\u001b[0m 2ms/step - accuracy: 0.8993 - loss: 0.2923 \n",
      "Epoch 22/30\n",
      "\u001b[1m22/22\u001b[0m \u001b[32m━━━━━━━━━━━━━━━━━━━━\u001b[0m\u001b[37m\u001b[0m \u001b[1m0s\u001b[0m 2ms/step - accuracy: 0.8864 - loss: 0.3171 \n",
      "Epoch 23/30\n",
      "\u001b[1m22/22\u001b[0m \u001b[32m━━━━━━━━━━━━━━━━━━━━\u001b[0m\u001b[37m\u001b[0m \u001b[1m0s\u001b[0m 2ms/step - accuracy: 0.9006 - loss: 0.2505 \n",
      "Epoch 24/30\n",
      "\u001b[1m22/22\u001b[0m \u001b[32m━━━━━━━━━━━━━━━━━━━━\u001b[0m\u001b[37m\u001b[0m \u001b[1m0s\u001b[0m 4ms/step - accuracy: 0.8368 - loss: 0.4110\n",
      "Epoch 25/30\n",
      "\u001b[1m22/22\u001b[0m \u001b[32m━━━━━━━━━━━━━━━━━━━━\u001b[0m\u001b[37m\u001b[0m \u001b[1m0s\u001b[0m 3ms/step - accuracy: 0.8689 - loss: 0.3037\n",
      "Epoch 26/30\n",
      "\u001b[1m22/22\u001b[0m \u001b[32m━━━━━━━━━━━━━━━━━━━━\u001b[0m\u001b[37m\u001b[0m \u001b[1m0s\u001b[0m 2ms/step - accuracy: 0.8969 - loss: 0.2677 \n",
      "Epoch 27/30\n",
      "\u001b[1m22/22\u001b[0m \u001b[32m━━━━━━━━━━━━━━━━━━━━\u001b[0m\u001b[37m\u001b[0m \u001b[1m0s\u001b[0m 3ms/step - accuracy: 0.8909 - loss: 0.3043\n",
      "Epoch 28/30\n",
      "\u001b[1m22/22\u001b[0m \u001b[32m━━━━━━━━━━━━━━━━━━━━\u001b[0m\u001b[37m\u001b[0m \u001b[1m0s\u001b[0m 3ms/step - accuracy: 0.8726 - loss: 0.3650\n",
      "Epoch 29/30\n",
      "\u001b[1m22/22\u001b[0m \u001b[32m━━━━━━━━━━━━━━━━━━━━\u001b[0m\u001b[37m\u001b[0m \u001b[1m0s\u001b[0m 3ms/step - accuracy: 0.8797 - loss: 0.3021\n",
      "Epoch 30/30\n",
      "\u001b[1m22/22\u001b[0m \u001b[32m━━━━━━━━━━━━━━━━━━━━\u001b[0m\u001b[37m\u001b[0m \u001b[1m0s\u001b[0m 3ms/step - accuracy: 0.8960 - loss: 0.2566\n"
     ]
    },
    {
     "data": {
      "text/plain": [
       "<keras.src.callbacks.history.History at 0x791e62663160>"
      ]
     },
     "execution_count": 39,
     "metadata": {},
     "output_type": "execute_result"
    }
   ],
   "source": [
    "# Training model3\n",
    "model3.fit(train_scaled_features, train_encoded_labels, epochs = 30)"
   ]
  },
  {
   "cell_type": "markdown",
   "id": "-jeGIChpEuxV",
   "metadata": {
    "id": "-jeGIChpEuxV"
   },
   "source": [
    "### <span style='color:blue'>model3 train accuracy is approximately 0.90</span>"
   ]
  },
  {
   "cell_type": "code",
   "execution_count": 40,
   "id": "722d11ed-a2cb-4baa-8a3b-047fc97b4591",
   "metadata": {
    "colab": {
     "base_uri": "https://localhost:8080/"
    },
    "id": "722d11ed-a2cb-4baa-8a3b-047fc97b4591",
    "outputId": "e240e6f5-a490-4afa-8fd0-a69b427e9763"
   },
   "outputs": [
    {
     "name": "stdout",
     "output_type": "stream",
     "text": [
      "\u001b[1m2/2\u001b[0m \u001b[32m━━━━━━━━━━━━━━━━━━━━\u001b[0m\u001b[37m\u001b[0m \u001b[1m0s\u001b[0m 10ms/step - accuracy: 0.9203 - loss: 0.1860 \n"
     ]
    },
    {
     "data": {
      "text/plain": [
       "[0.1900593489408493, 0.9117646813392639]"
      ]
     },
     "execution_count": 40,
     "metadata": {},
     "output_type": "execute_result"
    }
   ],
   "source": [
    "# Finding validation accuracy for model3\n",
    "model3.evaluate(val_scaled_features, val_encoded_labels)"
   ]
  },
  {
   "cell_type": "markdown",
   "id": "1c7a3e8f-4b9b-476e-84aa-4682d18b3eb0",
   "metadata": {
    "id": "1c7a3e8f-4b9b-476e-84aa-4682d18b3eb0"
   },
   "source": [
    "### <span style='color:blue'>model3 accuracy is approximately 0.91. Therefore comparing to model3's train accuracy (0.90), this model fits well the validation set</span>"
   ]
  },
  {
   "cell_type": "code",
   "execution_count": 41,
   "id": "c30140ac-1d28-4ed2-9846-194d14999189",
   "metadata": {
    "colab": {
     "base_uri": "https://localhost:8080/"
    },
    "id": "c30140ac-1d28-4ed2-9846-194d14999189",
    "outputId": "ad3fe47f-1185-442f-ac0c-1731e4759f8f"
   },
   "outputs": [
    {
     "name": "stderr",
     "output_type": "stream",
     "text": [
      "WARNING:tensorflow:5 out of the last 5 calls to <function TensorFlowTrainer.make_predict_function.<locals>.one_step_on_data_distributed at 0x791e733e13f0> triggered tf.function retracing. Tracing is expensive and the excessive number of tracings could be due to (1) creating @tf.function repeatedly in a loop, (2) passing tensors with different shapes, (3) passing Python objects instead of tensors. For (1), please define your @tf.function outside of the loop. For (2), @tf.function has reduce_retracing=True option that can avoid unnecessary retracing. For (3), please refer to https://www.tensorflow.org/guide/function#controlling_retracing and https://www.tensorflow.org/api_docs/python/tf/function for  more details.\n"
     ]
    },
    {
     "name": "stdout",
     "output_type": "stream",
     "text": [
      "\r",
      "\u001b[1m1/2\u001b[0m \u001b[32m━━━━━━━━━━\u001b[0m\u001b[37m━━━━━━━━━━\u001b[0m \u001b[1m0s\u001b[0m 142ms/step"
     ]
    },
    {
     "name": "stderr",
     "output_type": "stream",
     "text": [
      "WARNING:tensorflow:6 out of the last 6 calls to <function TensorFlowTrainer.make_predict_function.<locals>.one_step_on_data_distributed at 0x791e733e13f0> triggered tf.function retracing. Tracing is expensive and the excessive number of tracings could be due to (1) creating @tf.function repeatedly in a loop, (2) passing tensors with different shapes, (3) passing Python objects instead of tensors. For (1), please define your @tf.function outside of the loop. For (2), @tf.function has reduce_retracing=True option that can avoid unnecessary retracing. For (3), please refer to https://www.tensorflow.org/guide/function#controlling_retracing and https://www.tensorflow.org/api_docs/python/tf/function for  more details.\n"
     ]
    },
    {
     "name": "stdout",
     "output_type": "stream",
     "text": [
      "\u001b[1m2/2\u001b[0m \u001b[32m━━━━━━━━━━━━━━━━━━━━\u001b[0m\u001b[37m\u001b[0m \u001b[1m0s\u001b[0m 76ms/step\n"
     ]
    },
    {
     "data": {
      "text/plain": [
       "array([1, 1, 4, 4, 0, 2, 2, 2, 0, 5, 4, 4, 6, 2, 6, 1, 3, 0, 3, 0, 4, 6,\n",
       "       4, 4, 2, 4, 1, 5, 6, 5, 5, 4, 1, 5])"
      ]
     },
     "execution_count": 41,
     "metadata": {},
     "output_type": "execute_result"
    }
   ],
   "source": [
    "# Generating predictions based on validation set, using np.argmax to actually get integers values for each predicted class\n",
    "val_predictions3 = np.argmax(model3.predict(val_scaled_features), axis = 1)\n",
    "val_predictions3"
   ]
  },
  {
   "cell_type": "code",
   "execution_count": 42,
   "id": "787a02d8-ed84-41fa-b685-a297e4a03040",
   "metadata": {
    "colab": {
     "base_uri": "https://localhost:8080/"
    },
    "id": "787a02d8-ed84-41fa-b685-a297e4a03040",
    "outputId": "a03c3a71-1a08-454c-a64d-b9aff4038b8d"
   },
   "outputs": [
    {
     "data": {
      "text/plain": [
       "array([[4, 0, 0, 0, 0, 0, 0],\n",
       "       [0, 4, 0, 0, 0, 0, 1],\n",
       "       [0, 0, 5, 0, 0, 0, 0],\n",
       "       [0, 0, 0, 2, 0, 0, 0],\n",
       "       [0, 0, 0, 0, 8, 0, 0],\n",
       "       [0, 0, 0, 0, 0, 5, 0],\n",
       "       [0, 1, 0, 0, 1, 0, 3]])"
      ]
     },
     "execution_count": 42,
     "metadata": {},
     "output_type": "execute_result"
    }
   ],
   "source": [
    "# Generating the confusion matrix for validation set\n",
    "val_cnf_matrix3 = confusion_matrix(val_encoded_labels, val_predictions3)\n",
    "val_cnf_matrix3"
   ]
  },
  {
   "cell_type": "code",
   "execution_count": 43,
   "id": "91b51eb0-06a7-4d37-b705-36b3f0107a7b",
   "metadata": {
    "id": "91b51eb0-06a7-4d37-b705-36b3f0107a7b"
   },
   "outputs": [],
   "source": [
    "# Creating model4, reducing number of layers, changing the activation function compared to the initial model in some layers\n",
    "model4 = Sequential()\n",
    "model4.add(Dense(500, activation = 'tanh'))\n",
    "model4.add(Dense(250,  activation = 'tanh'))\n",
    "model4.add(Dense(175,  activation = 'tanh'))\n",
    "model4.add(Dense(7,  activation = 'softmax'))    # Due to class amount (7), using softmax and 7 neurons in the last layer"
   ]
  },
  {
   "cell_type": "code",
   "execution_count": 45,
   "id": "aab4a785-6e0d-4f19-a74f-f0828757dbe2",
   "metadata": {
    "id": "aab4a785-6e0d-4f19-a74f-f0828757dbe2"
   },
   "outputs": [],
   "source": [
    "# Changing optimizar to Adamax\n",
    "# As loss function, using SparseCategoricalCrossentropy as we have 7 labels provided as integer values\n",
    "model4.compile(optimizer=tf.optimizers.Adamax(learning_rate = 0.01), loss = 'SparseCategoricalCrossentropy', metrics=['accuracy'])"
   ]
  },
  {
   "cell_type": "code",
   "execution_count": 46,
   "id": "c72253e9-6812-4214-b584-18427f05b94e",
   "metadata": {
    "colab": {
     "base_uri": "https://localhost:8080/"
    },
    "id": "c72253e9-6812-4214-b584-18427f05b94e",
    "outputId": "b44cb1d0-2cb2-46ba-815d-95dd686fcc0d"
   },
   "outputs": [
    {
     "name": "stdout",
     "output_type": "stream",
     "text": [
      "Epoch 1/30\n",
      "\u001b[1m22/22\u001b[0m \u001b[32m━━━━━━━━━━━━━━━━━━━━\u001b[0m\u001b[37m\u001b[0m \u001b[1m2s\u001b[0m 9ms/step - accuracy: 0.3630 - loss: 2.6830\n",
      "Epoch 2/30\n",
      "\u001b[1m22/22\u001b[0m \u001b[32m━━━━━━━━━━━━━━━━━━━━\u001b[0m\u001b[37m\u001b[0m \u001b[1m0s\u001b[0m 7ms/step - accuracy: 0.6365 - loss: 1.0414\n",
      "Epoch 3/30\n",
      "\u001b[1m22/22\u001b[0m \u001b[32m━━━━━━━━━━━━━━━━━━━━\u001b[0m\u001b[37m\u001b[0m \u001b[1m0s\u001b[0m 9ms/step - accuracy: 0.7804 - loss: 0.5878\n",
      "Epoch 4/30\n",
      "\u001b[1m22/22\u001b[0m \u001b[32m━━━━━━━━━━━━━━━━━━━━\u001b[0m\u001b[37m\u001b[0m \u001b[1m0s\u001b[0m 7ms/step - accuracy: 0.8310 - loss: 0.3900\n",
      "Epoch 5/30\n",
      "\u001b[1m22/22\u001b[0m \u001b[32m━━━━━━━━━━━━━━━━━━━━\u001b[0m\u001b[37m\u001b[0m \u001b[1m0s\u001b[0m 12ms/step - accuracy: 0.8281 - loss: 0.4021\n",
      "Epoch 6/30\n",
      "\u001b[1m22/22\u001b[0m \u001b[32m━━━━━━━━━━━━━━━━━━━━\u001b[0m\u001b[37m\u001b[0m \u001b[1m1s\u001b[0m 13ms/step - accuracy: 0.8453 - loss: 0.4260\n",
      "Epoch 7/30\n",
      "\u001b[1m22/22\u001b[0m \u001b[32m━━━━━━━━━━━━━━━━━━━━\u001b[0m\u001b[37m\u001b[0m \u001b[1m1s\u001b[0m 11ms/step - accuracy: 0.8507 - loss: 0.4317\n",
      "Epoch 8/30\n",
      "\u001b[1m22/22\u001b[0m \u001b[32m━━━━━━━━━━━━━━━━━━━━\u001b[0m\u001b[37m\u001b[0m \u001b[1m0s\u001b[0m 12ms/step - accuracy: 0.8485 - loss: 0.3924\n",
      "Epoch 9/30\n",
      "\u001b[1m22/22\u001b[0m \u001b[32m━━━━━━━━━━━━━━━━━━━━\u001b[0m\u001b[37m\u001b[0m \u001b[1m1s\u001b[0m 12ms/step - accuracy: 0.8783 - loss: 0.2906\n",
      "Epoch 10/30\n",
      "\u001b[1m22/22\u001b[0m \u001b[32m━━━━━━━━━━━━━━━━━━━━\u001b[0m\u001b[37m\u001b[0m \u001b[1m0s\u001b[0m 7ms/step - accuracy: 0.8846 - loss: 0.2798\n",
      "Epoch 11/30\n",
      "\u001b[1m22/22\u001b[0m \u001b[32m━━━━━━━━━━━━━━━━━━━━\u001b[0m\u001b[37m\u001b[0m \u001b[1m0s\u001b[0m 7ms/step - accuracy: 0.8967 - loss: 0.2738\n",
      "Epoch 12/30\n",
      "\u001b[1m22/22\u001b[0m \u001b[32m━━━━━━━━━━━━━━━━━━━━\u001b[0m\u001b[37m\u001b[0m \u001b[1m0s\u001b[0m 7ms/step - accuracy: 0.9110 - loss: 0.2407\n",
      "Epoch 13/30\n",
      "\u001b[1m22/22\u001b[0m \u001b[32m━━━━━━━━━━━━━━━━━━━━\u001b[0m\u001b[37m\u001b[0m \u001b[1m0s\u001b[0m 6ms/step - accuracy: 0.8161 - loss: 0.4867\n",
      "Epoch 14/30\n",
      "\u001b[1m22/22\u001b[0m \u001b[32m━━━━━━━━━━━━━━━━━━━━\u001b[0m\u001b[37m\u001b[0m \u001b[1m0s\u001b[0m 7ms/step - accuracy: 0.8942 - loss: 0.2760\n",
      "Epoch 15/30\n",
      "\u001b[1m22/22\u001b[0m \u001b[32m━━━━━━━━━━━━━━━━━━━━\u001b[0m\u001b[37m\u001b[0m \u001b[1m0s\u001b[0m 7ms/step - accuracy: 0.9151 - loss: 0.2300\n",
      "Epoch 16/30\n",
      "\u001b[1m22/22\u001b[0m \u001b[32m━━━━━━━━━━━━━━━━━━━━\u001b[0m\u001b[37m\u001b[0m \u001b[1m0s\u001b[0m 7ms/step - accuracy: 0.8971 - loss: 0.3250\n",
      "Epoch 17/30\n",
      "\u001b[1m22/22\u001b[0m \u001b[32m━━━━━━━━━━━━━━━━━━━━\u001b[0m\u001b[37m\u001b[0m \u001b[1m0s\u001b[0m 9ms/step - accuracy: 0.8718 - loss: 0.3245\n",
      "Epoch 18/30\n",
      "\u001b[1m22/22\u001b[0m \u001b[32m━━━━━━━━━━━━━━━━━━━━\u001b[0m\u001b[37m\u001b[0m \u001b[1m0s\u001b[0m 7ms/step - accuracy: 0.9250 - loss: 0.2226\n",
      "Epoch 19/30\n",
      "\u001b[1m22/22\u001b[0m \u001b[32m━━━━━━━━━━━━━━━━━━━━\u001b[0m\u001b[37m\u001b[0m \u001b[1m0s\u001b[0m 6ms/step - accuracy: 0.8546 - loss: 0.4968\n",
      "Epoch 20/30\n",
      "\u001b[1m22/22\u001b[0m \u001b[32m━━━━━━━━━━━━━━━━━━━━\u001b[0m\u001b[37m\u001b[0m \u001b[1m0s\u001b[0m 7ms/step - accuracy: 0.8751 - loss: 0.2823\n",
      "Epoch 21/30\n",
      "\u001b[1m22/22\u001b[0m \u001b[32m━━━━━━━━━━━━━━━━━━━━\u001b[0m\u001b[37m\u001b[0m \u001b[1m0s\u001b[0m 7ms/step - accuracy: 0.9181 - loss: 0.2177\n",
      "Epoch 22/30\n",
      "\u001b[1m22/22\u001b[0m \u001b[32m━━━━━━━━━━━━━━━━━━━━\u001b[0m\u001b[37m\u001b[0m \u001b[1m0s\u001b[0m 7ms/step - accuracy: 0.9286 - loss: 0.2073\n",
      "Epoch 23/30\n",
      "\u001b[1m22/22\u001b[0m \u001b[32m━━━━━━━━━━━━━━━━━━━━\u001b[0m\u001b[37m\u001b[0m \u001b[1m0s\u001b[0m 7ms/step - accuracy: 0.9125 - loss: 0.2466\n",
      "Epoch 24/30\n",
      "\u001b[1m22/22\u001b[0m \u001b[32m━━━━━━━━━━━━━━━━━━━━\u001b[0m\u001b[37m\u001b[0m \u001b[1m0s\u001b[0m 6ms/step - accuracy: 0.9217 - loss: 0.2135\n",
      "Epoch 25/30\n",
      "\u001b[1m22/22\u001b[0m \u001b[32m━━━━━━━━━━━━━━━━━━━━\u001b[0m\u001b[37m\u001b[0m \u001b[1m0s\u001b[0m 8ms/step - accuracy: 0.9352 - loss: 0.2090\n",
      "Epoch 26/30\n",
      "\u001b[1m22/22\u001b[0m \u001b[32m━━━━━━━━━━━━━━━━━━━━\u001b[0m\u001b[37m\u001b[0m \u001b[1m0s\u001b[0m 7ms/step - accuracy: 0.9326 - loss: 0.1995\n",
      "Epoch 27/30\n",
      "\u001b[1m22/22\u001b[0m \u001b[32m━━━━━━━━━━━━━━━━━━━━\u001b[0m\u001b[37m\u001b[0m \u001b[1m0s\u001b[0m 7ms/step - accuracy: 0.8632 - loss: 0.3812\n",
      "Epoch 28/30\n",
      "\u001b[1m22/22\u001b[0m \u001b[32m━━━━━━━━━━━━━━━━━━━━\u001b[0m\u001b[37m\u001b[0m \u001b[1m0s\u001b[0m 7ms/step - accuracy: 0.8910 - loss: 0.2607\n",
      "Epoch 29/30\n",
      "\u001b[1m22/22\u001b[0m \u001b[32m━━━━━━━━━━━━━━━━━━━━\u001b[0m\u001b[37m\u001b[0m \u001b[1m0s\u001b[0m 7ms/step - accuracy: 0.9347 - loss: 0.1752\n",
      "Epoch 30/30\n",
      "\u001b[1m22/22\u001b[0m \u001b[32m━━━━━━━━━━━━━━━━━━━━\u001b[0m\u001b[37m\u001b[0m \u001b[1m0s\u001b[0m 6ms/step - accuracy: 0.9203 - loss: 0.1997\n"
     ]
    },
    {
     "data": {
      "text/plain": [
       "<keras.src.callbacks.history.History at 0x791e7315d000>"
      ]
     },
     "execution_count": 46,
     "metadata": {},
     "output_type": "execute_result"
    }
   ],
   "source": [
    "# Training model4\n",
    "model4.fit(train_scaled_features, train_encoded_labels, epochs = 30)"
   ]
  },
  {
   "cell_type": "markdown",
   "id": "4555d7d8-a20c-4f74-b978-ea4853ec1883",
   "metadata": {
    "id": "4555d7d8-a20c-4f74-b978-ea4853ec1883"
   },
   "source": [
    "### <span style='color:blue'>model4 training accuracy is approximately 0.92</span>"
   ]
  },
  {
   "cell_type": "code",
   "execution_count": 47,
   "id": "6e71d5c3-1617-45b0-967e-f691709e2152",
   "metadata": {
    "colab": {
     "base_uri": "https://localhost:8080/"
    },
    "id": "6e71d5c3-1617-45b0-967e-f691709e2152",
    "outputId": "addc8dd7-b8e2-4db8-f18f-73da777a714d"
   },
   "outputs": [
    {
     "name": "stderr",
     "output_type": "stream",
     "text": [
      "WARNING:tensorflow:5 out of the last 9 calls to <function TensorFlowTrainer.make_test_function.<locals>.one_step_on_iterator at 0x791e7321a830> triggered tf.function retracing. Tracing is expensive and the excessive number of tracings could be due to (1) creating @tf.function repeatedly in a loop, (2) passing tensors with different shapes, (3) passing Python objects instead of tensors. For (1), please define your @tf.function outside of the loop. For (2), @tf.function has reduce_retracing=True option that can avoid unnecessary retracing. For (3), please refer to https://www.tensorflow.org/guide/function#controlling_retracing and https://www.tensorflow.org/api_docs/python/tf/function for  more details.\n"
     ]
    },
    {
     "name": "stdout",
     "output_type": "stream",
     "text": [
      "\u001b[1m2/2\u001b[0m \u001b[32m━━━━━━━━━━━━━━━━━━━━\u001b[0m\u001b[37m\u001b[0m \u001b[1m0s\u001b[0m 13ms/step - accuracy: 0.9400 - loss: 0.2389 \n"
     ]
    },
    {
     "data": {
      "text/plain": [
       "[0.23989051580429077, 0.9411764740943909]"
      ]
     },
     "execution_count": 47,
     "metadata": {},
     "output_type": "execute_result"
    }
   ],
   "source": [
    "# Finding validation accuracy for model4\n",
    "model4.evaluate(val_scaled_features, val_encoded_labels)"
   ]
  },
  {
   "cell_type": "markdown",
   "id": "6a841644-80aa-496e-9cc6-b26961f2573e",
   "metadata": {
    "id": "6a841644-80aa-496e-9cc6-b26961f2573e"
   },
   "source": [
    "### <span style='color:blue'>model4 validation accuracy is approximately 0.94. Therefore comparing to model4's train accuracy (0.92), this model fits well the validation set</span>"
   ]
  },
  {
   "cell_type": "code",
   "execution_count": 48,
   "id": "f548f175-96e4-42a6-a3ee-34a23f76890a",
   "metadata": {
    "colab": {
     "base_uri": "https://localhost:8080/"
    },
    "id": "f548f175-96e4-42a6-a3ee-34a23f76890a",
    "outputId": "a523ba58-d371-4192-e415-78121cf4b347"
   },
   "outputs": [
    {
     "name": "stdout",
     "output_type": "stream",
     "text": [
      "\u001b[1m2/2\u001b[0m \u001b[32m━━━━━━━━━━━━━━━━━━━━\u001b[0m\u001b[37m\u001b[0m \u001b[1m0s\u001b[0m 59ms/step\n"
     ]
    },
    {
     "data": {
      "text/plain": [
       "array([1, 1, 4, 6, 0, 2, 2, 2, 0, 5, 4, 4, 6, 2, 6, 1, 3, 0, 3, 0, 4, 6,\n",
       "       4, 6, 2, 4, 1, 5, 6, 5, 5, 4, 6, 5])"
      ]
     },
     "execution_count": 48,
     "metadata": {},
     "output_type": "execute_result"
    }
   ],
   "source": [
    "# Generating predictions based on validation set, using np.argmax to actually get integers values for each predicted class (model4)\n",
    "val_predictions4 = np.argmax(model4.predict(val_scaled_features), axis = 1)\n",
    "val_predictions4"
   ]
  },
  {
   "cell_type": "code",
   "execution_count": 49,
   "id": "10c57485-063f-4c99-b42b-65a5ac240a44",
   "metadata": {
    "colab": {
     "base_uri": "https://localhost:8080/"
    },
    "id": "10c57485-063f-4c99-b42b-65a5ac240a44",
    "outputId": "757535b5-38ae-40ad-da68-75681d42cbcf"
   },
   "outputs": [
    {
     "data": {
      "text/plain": [
       "array([[4, 0, 0, 0, 0, 0, 0],\n",
       "       [0, 4, 0, 0, 0, 0, 1],\n",
       "       [0, 0, 5, 0, 0, 0, 0],\n",
       "       [0, 0, 0, 2, 0, 0, 0],\n",
       "       [0, 0, 0, 0, 7, 0, 1],\n",
       "       [0, 0, 0, 0, 0, 5, 0],\n",
       "       [0, 0, 0, 0, 0, 0, 5]])"
      ]
     },
     "execution_count": 49,
     "metadata": {},
     "output_type": "execute_result"
    }
   ],
   "source": [
    "# Generating the confusion matrix for validation set (model4)\n",
    "val_cnf_matrix4 = confusion_matrix(val_encoded_labels, val_predictions4)\n",
    "val_cnf_matrix4"
   ]
  },
  {
   "cell_type": "code",
   "execution_count": 50,
   "id": "33896e8b-4bce-40c9-b724-303f4d0efd35",
   "metadata": {
    "id": "33896e8b-4bce-40c9-b724-303f4d0efd35"
   },
   "outputs": [],
   "source": [
    "# Creating model5, increasing number of layers, changing the activation function compared to the initial model\n",
    "model5 = Sequential()\n",
    "model5.add(Dense(1000, activation = 'softmax'))\n",
    "model5.add(Dense(500,  activation = 'softmax'))\n",
    "model5.add(Dense(250,  activation = 'softmax'))\n",
    "model5.add(Dense(175,  activation = 'softmax'))\n",
    "model5.add(Dense(7,  activation = 'softmax'))    # Due to class amount (7), using softmax and 7 neurons in the last layer"
   ]
  },
  {
   "cell_type": "code",
   "execution_count": 52,
   "id": "fb4ca5a2-792f-4467-9066-620530a3d421",
   "metadata": {
    "id": "fb4ca5a2-792f-4467-9066-620530a3d421"
   },
   "outputs": [],
   "source": [
    "# Using Adan optimizer\n",
    "# As loss function, using SparseCategoricalCrossentropy as we have 7 labels provided as integer values\n",
    "model5.compile(optimizer=tf.optimizers.SGD(learning_rate = 0.01), loss = 'SparseCategoricalCrossentropy', metrics=['accuracy'])"
   ]
  },
  {
   "cell_type": "code",
   "execution_count": 53,
   "id": "b2063248-7ceb-4945-8c20-6c4f3653e6e9",
   "metadata": {
    "colab": {
     "base_uri": "https://localhost:8080/"
    },
    "id": "b2063248-7ceb-4945-8c20-6c4f3653e6e9",
    "outputId": "74bc48bb-b2fa-4870-ebe9-3e0613230c9d"
   },
   "outputs": [
    {
     "name": "stdout",
     "output_type": "stream",
     "text": [
      "Epoch 1/30\n",
      "\u001b[1m22/22\u001b[0m \u001b[32m━━━━━━━━━━━━━━━━━━━━\u001b[0m\u001b[37m\u001b[0m \u001b[1m5s\u001b[0m 20ms/step - accuracy: 0.1185 - loss: 1.9451\n",
      "Epoch 2/30\n",
      "\u001b[1m22/22\u001b[0m \u001b[32m━━━━━━━━━━━━━━━━━━━━\u001b[0m\u001b[37m\u001b[0m \u001b[1m1s\u001b[0m 22ms/step - accuracy: 0.2165 - loss: 1.9408\n",
      "Epoch 3/30\n",
      "\u001b[1m22/22\u001b[0m \u001b[32m━━━━━━━━━━━━━━━━━━━━\u001b[0m\u001b[37m\u001b[0m \u001b[1m1s\u001b[0m 22ms/step - accuracy: 0.2560 - loss: 1.9350\n",
      "Epoch 4/30\n",
      "\u001b[1m22/22\u001b[0m \u001b[32m━━━━━━━━━━━━━━━━━━━━\u001b[0m\u001b[37m\u001b[0m \u001b[1m1s\u001b[0m 24ms/step - accuracy: 0.2654 - loss: 1.9308\n",
      "Epoch 5/30\n",
      "\u001b[1m22/22\u001b[0m \u001b[32m━━━━━━━━━━━━━━━━━━━━\u001b[0m\u001b[37m\u001b[0m \u001b[1m0s\u001b[0m 13ms/step - accuracy: 0.2315 - loss: 1.9280\n",
      "Epoch 6/30\n",
      "\u001b[1m22/22\u001b[0m \u001b[32m━━━━━━━━━━━━━━━━━━━━\u001b[0m\u001b[37m\u001b[0m \u001b[1m0s\u001b[0m 13ms/step - accuracy: 0.2147 - loss: 1.9223\n",
      "Epoch 7/30\n",
      "\u001b[1m22/22\u001b[0m \u001b[32m━━━━━━━━━━━━━━━━━━━━\u001b[0m\u001b[37m\u001b[0m \u001b[1m1s\u001b[0m 12ms/step - accuracy: 0.2569 - loss: 1.9170\n",
      "Epoch 8/30\n",
      "\u001b[1m22/22\u001b[0m \u001b[32m━━━━━━━━━━━━━━━━━━━━\u001b[0m\u001b[37m\u001b[0m \u001b[1m0s\u001b[0m 12ms/step - accuracy: 0.2423 - loss: 1.9158\n",
      "Epoch 9/30\n",
      "\u001b[1m22/22\u001b[0m \u001b[32m━━━━━━━━━━━━━━━━━━━━\u001b[0m\u001b[37m\u001b[0m \u001b[1m0s\u001b[0m 12ms/step - accuracy: 0.2236 - loss: 1.9139\n",
      "Epoch 10/30\n",
      "\u001b[1m22/22\u001b[0m \u001b[32m━━━━━━━━━━━━━━━━━━━━\u001b[0m\u001b[37m\u001b[0m \u001b[1m0s\u001b[0m 14ms/step - accuracy: 0.2270 - loss: 1.9094\n",
      "Epoch 11/30\n",
      "\u001b[1m22/22\u001b[0m \u001b[32m━━━━━━━━━━━━━━━━━━━━\u001b[0m\u001b[37m\u001b[0m \u001b[1m1s\u001b[0m 12ms/step - accuracy: 0.2424 - loss: 1.9072\n",
      "Epoch 12/30\n",
      "\u001b[1m22/22\u001b[0m \u001b[32m━━━━━━━━━━━━━━━━━━━━\u001b[0m\u001b[37m\u001b[0m \u001b[1m0s\u001b[0m 14ms/step - accuracy: 0.2240 - loss: 1.9107\n",
      "Epoch 13/30\n",
      "\u001b[1m22/22\u001b[0m \u001b[32m━━━━━━━━━━━━━━━━━━━━\u001b[0m\u001b[37m\u001b[0m \u001b[1m1s\u001b[0m 16ms/step - accuracy: 0.2352 - loss: 1.9012\n",
      "Epoch 14/30\n",
      "\u001b[1m22/22\u001b[0m \u001b[32m━━━━━━━━━━━━━━━━━━━━\u001b[0m\u001b[37m\u001b[0m \u001b[1m1s\u001b[0m 20ms/step - accuracy: 0.2276 - loss: 1.8998\n",
      "Epoch 15/30\n",
      "\u001b[1m22/22\u001b[0m \u001b[32m━━━━━━━━━━━━━━━━━━━━\u001b[0m\u001b[37m\u001b[0m \u001b[1m1s\u001b[0m 22ms/step - accuracy: 0.2445 - loss: 1.8969\n",
      "Epoch 16/30\n",
      "\u001b[1m22/22\u001b[0m \u001b[32m━━━━━━━━━━━━━━━━━━━━\u001b[0m\u001b[37m\u001b[0m \u001b[1m1s\u001b[0m 21ms/step - accuracy: 0.2016 - loss: 1.8905\n",
      "Epoch 17/30\n",
      "\u001b[1m22/22\u001b[0m \u001b[32m━━━━━━━━━━━━━━━━━━━━\u001b[0m\u001b[37m\u001b[0m \u001b[1m1s\u001b[0m 20ms/step - accuracy: 0.2392 - loss: 1.8885\n",
      "Epoch 18/30\n",
      "\u001b[1m22/22\u001b[0m \u001b[32m━━━━━━━━━━━━━━━━━━━━\u001b[0m\u001b[37m\u001b[0m \u001b[1m0s\u001b[0m 20ms/step - accuracy: 0.2372 - loss: 1.8893\n",
      "Epoch 19/30\n",
      "\u001b[1m22/22\u001b[0m \u001b[32m━━━━━━━━━━━━━━━━━━━━\u001b[0m\u001b[37m\u001b[0m \u001b[1m1s\u001b[0m 24ms/step - accuracy: 0.2473 - loss: 1.8814\n",
      "Epoch 20/30\n",
      "\u001b[1m22/22\u001b[0m \u001b[32m━━━━━━━━━━━━━━━━━━━━\u001b[0m\u001b[37m\u001b[0m \u001b[1m0s\u001b[0m 15ms/step - accuracy: 0.2359 - loss: 1.8813\n",
      "Epoch 21/30\n",
      "\u001b[1m22/22\u001b[0m \u001b[32m━━━━━━━━━━━━━━━━━━━━\u001b[0m\u001b[37m\u001b[0m \u001b[1m0s\u001b[0m 14ms/step - accuracy: 0.2621 - loss: 1.8751\n",
      "Epoch 22/30\n",
      "\u001b[1m22/22\u001b[0m \u001b[32m━━━━━━━━━━━━━━━━━━━━\u001b[0m\u001b[37m\u001b[0m \u001b[1m1s\u001b[0m 9ms/step - accuracy: 0.2186 - loss: 1.8853\n",
      "Epoch 23/30\n",
      "\u001b[1m22/22\u001b[0m \u001b[32m━━━━━━━━━━━━━━━━━━━━\u001b[0m\u001b[37m\u001b[0m \u001b[1m0s\u001b[0m 11ms/step - accuracy: 0.2367 - loss: 1.8759\n",
      "Epoch 24/30\n",
      "\u001b[1m22/22\u001b[0m \u001b[32m━━━━━━━━━━━━━━━━━━━━\u001b[0m\u001b[37m\u001b[0m \u001b[1m0s\u001b[0m 11ms/step - accuracy: 0.2215 - loss: 1.8917\n",
      "Epoch 25/30\n",
      "\u001b[1m22/22\u001b[0m \u001b[32m━━━━━━━━━━━━━━━━━━━━\u001b[0m\u001b[37m\u001b[0m \u001b[1m0s\u001b[0m 13ms/step - accuracy: 0.2376 - loss: 1.8860\n",
      "Epoch 26/30\n",
      "\u001b[1m22/22\u001b[0m \u001b[32m━━━━━━━━━━━━━━━━━━━━\u001b[0m\u001b[37m\u001b[0m \u001b[1m0s\u001b[0m 13ms/step - accuracy: 0.2495 - loss: 1.8735\n",
      "Epoch 27/30\n",
      "\u001b[1m22/22\u001b[0m \u001b[32m━━━━━━━━━━━━━━━━━━━━\u001b[0m\u001b[37m\u001b[0m \u001b[1m1s\u001b[0m 12ms/step - accuracy: 0.2371 - loss: 1.8870\n",
      "Epoch 28/30\n",
      "\u001b[1m22/22\u001b[0m \u001b[32m━━━━━━━━━━━━━━━━━━━━\u001b[0m\u001b[37m\u001b[0m \u001b[1m0s\u001b[0m 13ms/step - accuracy: 0.2214 - loss: 1.8738\n",
      "Epoch 29/30\n",
      "\u001b[1m22/22\u001b[0m \u001b[32m━━━━━━━━━━━━━━━━━━━━\u001b[0m\u001b[37m\u001b[0m \u001b[1m1s\u001b[0m 13ms/step - accuracy: 0.2366 - loss: 1.8719\n",
      "Epoch 30/30\n",
      "\u001b[1m22/22\u001b[0m \u001b[32m━━━━━━━━━━━━━━━━━━━━\u001b[0m\u001b[37m\u001b[0m \u001b[1m0s\u001b[0m 12ms/step - accuracy: 0.2413 - loss: 1.8698\n"
     ]
    },
    {
     "data": {
      "text/plain": [
       "<keras.src.callbacks.history.History at 0x791e726a3520>"
      ]
     },
     "execution_count": 53,
     "metadata": {},
     "output_type": "execute_result"
    }
   ],
   "source": [
    "# Training model5\n",
    "model5.fit(train_scaled_features, train_encoded_labels, epochs = 30)"
   ]
  },
  {
   "cell_type": "markdown",
   "id": "c5d3fe73-4f95-43ef-9d02-229736fb6006",
   "metadata": {
    "id": "c5d3fe73-4f95-43ef-9d02-229736fb6006"
   },
   "source": [
    "### <span style='color:blue'>model5 training accuracy is approximately 0.24</span>"
   ]
  },
  {
   "cell_type": "code",
   "execution_count": 54,
   "id": "5fb38a4e-5c6b-4033-b43d-f02eec90f64f",
   "metadata": {
    "colab": {
     "base_uri": "https://localhost:8080/"
    },
    "id": "5fb38a4e-5c6b-4033-b43d-f02eec90f64f",
    "outputId": "2939913a-6d6e-4324-f14f-27698e5a9c29"
   },
   "outputs": [
    {
     "name": "stderr",
     "output_type": "stream",
     "text": [
      "WARNING:tensorflow:6 out of the last 11 calls to <function TensorFlowTrainer.make_test_function.<locals>.one_step_on_iterator at 0x791e733e2d40> triggered tf.function retracing. Tracing is expensive and the excessive number of tracings could be due to (1) creating @tf.function repeatedly in a loop, (2) passing tensors with different shapes, (3) passing Python objects instead of tensors. For (1), please define your @tf.function outside of the loop. For (2), @tf.function has reduce_retracing=True option that can avoid unnecessary retracing. For (3), please refer to https://www.tensorflow.org/guide/function#controlling_retracing and https://www.tensorflow.org/api_docs/python/tf/function for  more details.\n"
     ]
    },
    {
     "name": "stdout",
     "output_type": "stream",
     "text": [
      "\u001b[1m2/2\u001b[0m \u001b[32m━━━━━━━━━━━━━━━━━━━━\u001b[0m\u001b[37m\u001b[0m \u001b[1m0s\u001b[0m 15ms/step - accuracy: 0.1397 - loss: 1.9368 \n"
     ]
    },
    {
     "data": {
      "text/plain": [
       "[1.9355700016021729, 0.14705882966518402]"
      ]
     },
     "execution_count": 54,
     "metadata": {},
     "output_type": "execute_result"
    }
   ],
   "source": [
    "# Finding validation accuracy for model5\n",
    "model5.evaluate(val_scaled_features, val_encoded_labels)"
   ]
  },
  {
   "cell_type": "markdown",
   "id": "8c17866e-e1c8-4892-9921-b1c908693b4e",
   "metadata": {
    "id": "8c17866e-e1c8-4892-9921-b1c908693b4e"
   },
   "source": [
    "### <span style='color:blue'>model5 validation accuracy is approximately 0.15. Therefore comparing to model5's train accuracy (0.24), this model is overfitting</span>"
   ]
  },
  {
   "cell_type": "code",
   "execution_count": 55,
   "id": "2b31a6e3-2a60-415e-b0a2-2712bade0af1",
   "metadata": {
    "colab": {
     "base_uri": "https://localhost:8080/"
    },
    "id": "2b31a6e3-2a60-415e-b0a2-2712bade0af1",
    "outputId": "46d0daf7-ff5a-42f6-8492-4df8a14fe83f"
   },
   "outputs": [
    {
     "name": "stdout",
     "output_type": "stream",
     "text": [
      "\u001b[1m2/2\u001b[0m \u001b[32m━━━━━━━━━━━━━━━━━━━━\u001b[0m\u001b[37m\u001b[0m \u001b[1m0s\u001b[0m 65ms/step\n"
     ]
    },
    {
     "data": {
      "text/plain": [
       "array([5, 5, 5, 5, 5, 5, 5, 5, 5, 5, 5, 5, 5, 5, 5, 5, 5, 5, 5, 5, 5, 5,\n",
       "       5, 5, 5, 5, 5, 5, 5, 5, 5, 5, 5, 5])"
      ]
     },
     "execution_count": 55,
     "metadata": {},
     "output_type": "execute_result"
    }
   ],
   "source": [
    "# Generating predictions based on validation set, using np.argmax to actually get integers values for each predicted class (model5)\n",
    "val_predictions5 = np.argmax(model5.predict(val_scaled_features), axis = 1)\n",
    "val_predictions5"
   ]
  },
  {
   "cell_type": "code",
   "execution_count": 56,
   "id": "b0bcd963-3015-4e71-8188-6bbd52bf7e1c",
   "metadata": {
    "colab": {
     "base_uri": "https://localhost:8080/"
    },
    "id": "b0bcd963-3015-4e71-8188-6bbd52bf7e1c",
    "outputId": "24d2cbf6-baeb-4426-81d9-c4c0bfdeb10b"
   },
   "outputs": [
    {
     "data": {
      "text/plain": [
       "array([[0, 0, 0, 0, 0, 4, 0],\n",
       "       [0, 0, 0, 0, 0, 5, 0],\n",
       "       [0, 0, 0, 0, 0, 5, 0],\n",
       "       [0, 0, 0, 0, 0, 2, 0],\n",
       "       [0, 0, 0, 0, 0, 8, 0],\n",
       "       [0, 0, 0, 0, 0, 5, 0],\n",
       "       [0, 0, 0, 0, 0, 5, 0]])"
      ]
     },
     "execution_count": 56,
     "metadata": {},
     "output_type": "execute_result"
    }
   ],
   "source": [
    "# Generating the confusion matrix for validation set (model5)\n",
    "val_cnf_matrix5 = confusion_matrix(val_encoded_labels, val_predictions5)\n",
    "val_cnf_matrix5"
   ]
  },
  {
   "cell_type": "markdown",
   "id": "640a038f-9601-49c7-a548-e106a517f534",
   "metadata": {
    "id": "640a038f-9601-49c7-a548-e106a517f534"
   },
   "source": [
    "# **3. Conclusion**"
   ]
  },
  {
   "cell_type": "markdown",
   "id": "c00a70d5-5f59-4cf7-98ba-cb622aaaecf7",
   "metadata": {
    "id": "c00a70d5-5f59-4cf7-98ba-cb622aaaecf7"
   },
   "source": [
    "## Selecting the best model"
   ]
  },
  {
   "cell_type": "code",
   "execution_count": 57,
   "id": "64ca255e-1b6a-45d0-ae2b-294d38837aee",
   "metadata": {
    "id": "64ca255e-1b6a-45d0-ae2b-294d38837aee"
   },
   "outputs": [],
   "source": [
    "best_model = model4"
   ]
  },
  {
   "cell_type": "markdown",
   "id": "a4f89d6a-8332-42f7-8c5c-2e09f2f6d111",
   "metadata": {
    "id": "a4f89d6a-8332-42f7-8c5c-2e09f2f6d111"
   },
   "source": [
    "### **<span style='color:blue'>Considering accuracy values for training and validations dataset, model is the best model.</span>**"
   ]
  },
  {
   "cell_type": "markdown",
   "id": "9ba68d7d-528a-4ef5-ae06-71e50a37fa9c",
   "metadata": {
    "id": "9ba68d7d-528a-4ef5-ae06-71e50a37fa9c"
   },
   "source": [
    "## Using the best model to make predictions on the testing set"
   ]
  },
  {
   "cell_type": "code",
   "execution_count": 58,
   "id": "ffba4d5e-975e-4c5e-927b-73ae287828d8",
   "metadata": {
    "colab": {
     "base_uri": "https://localhost:8080/"
    },
    "id": "ffba4d5e-975e-4c5e-927b-73ae287828d8",
    "outputId": "a3bcba38-25c1-41ea-b538-865e96eb47ab"
   },
   "outputs": [
    {
     "name": "stdout",
     "output_type": "stream",
     "text": [
      "\u001b[1m6/6\u001b[0m \u001b[32m━━━━━━━━━━━━━━━━━━━━\u001b[0m\u001b[37m\u001b[0m \u001b[1m0s\u001b[0m 3ms/step \n"
     ]
    },
    {
     "data": {
      "text/plain": [
       "array([6, 5, 4, 4, 2, 6, 5, 6, 6, 6, 5, 5, 2, 4, 5, 1, 1, 2, 3, 2, 1, 1,\n",
       "       5, 4, 3, 2, 1, 4, 5, 1, 4, 1, 6, 2, 6, 6, 2, 2, 6, 5, 0, 2, 1, 2,\n",
       "       5, 0, 5, 5, 4, 1, 0, 5, 6, 2, 4, 2, 5, 5, 6, 3, 5, 5, 6, 2, 2, 4,\n",
       "       1, 4, 2, 4, 6, 2, 4, 3, 6, 2, 0, 3, 1, 2, 0, 2, 4, 2, 3, 1, 3, 6,\n",
       "       0, 0, 5, 6, 0, 5, 2, 2, 2, 4, 5, 1, 2, 6, 2, 1, 2, 1, 1, 4, 2, 0,\n",
       "       1, 5, 4, 2, 1, 6, 5, 5, 5, 6, 4, 6, 4, 2, 2, 4, 5, 2, 2, 2, 5, 5,\n",
       "       4, 4, 5, 2, 2, 2, 0, 2, 1, 5, 2, 4, 4, 4, 3, 5, 2, 2, 4, 4, 6, 1,\n",
       "       4, 4, 2, 2, 3, 4, 2, 5, 6, 0, 5, 4, 2, 1, 1, 5, 2, 5, 2, 4, 5, 4,\n",
       "       1, 5, 4, 0, 4, 2, 2, 5, 0, 2, 3, 4, 5, 2, 2])"
      ]
     },
     "execution_count": 58,
     "metadata": {},
     "output_type": "execute_result"
    }
   ],
   "source": [
    "# Generating predictions based on test set, using np.argmax to actually get integers values for each predicted class (best_model)\n",
    "test_predictions = np.argmax(best_model.predict(test_scaled_features), axis = 1)\n",
    "test_predictions"
   ]
  },
  {
   "cell_type": "markdown",
   "id": "ec4c89ee-9822-489c-94ae-dbc2bcc82b7a",
   "metadata": {
    "id": "ec4c89ee-9822-489c-94ae-dbc2bcc82b7a"
   },
   "source": [
    "## Finding test set's accuracy"
   ]
  },
  {
   "cell_type": "code",
   "execution_count": 59,
   "id": "b4ede364-fe53-4c3f-a9b4-0029db35ac1c",
   "metadata": {
    "colab": {
     "base_uri": "https://localhost:8080/"
    },
    "id": "b4ede364-fe53-4c3f-a9b4-0029db35ac1c",
    "outputId": "ae74d50a-d502-4d6d-d068-366b3efd650e"
   },
   "outputs": [
    {
     "name": "stdout",
     "output_type": "stream",
     "text": [
      "\u001b[1m6/6\u001b[0m \u001b[32m━━━━━━━━━━━━━━━━━━━━\u001b[0m\u001b[37m\u001b[0m \u001b[1m0s\u001b[0m 4ms/step - accuracy: 0.9084 - loss: 0.2337 \n"
     ]
    },
    {
     "data": {
      "text/plain": [
       "[0.2133580595254898, 0.9214659929275513]"
      ]
     },
     "execution_count": 59,
     "metadata": {},
     "output_type": "execute_result"
    }
   ],
   "source": [
    "# Finding test accuracy for best_model\n",
    "best_model.evaluate(test_scaled_features, test_encoded_labels)"
   ]
  },
  {
   "cell_type": "markdown",
   "id": "ihqe1590HA2X",
   "metadata": {
    "id": "ihqe1590HA2X"
   },
   "source": [
    "### **<span style='color:blue'>best_model's (model4) test accuracy is 0.92. Therefore comparing to model4's train accuracy (0.92) and validation accuracy (0.94), this model keeps fitting well, confirming it was a good choice.</span>**"
   ]
  },
  {
   "cell_type": "markdown",
   "id": "c02fc5bf-9ef7-48ca-8f1c-d29b0b961f83",
   "metadata": {
    "id": "c02fc5bf-9ef7-48ca-8f1c-d29b0b961f83"
   },
   "source": [
    "## Displaying test set's confusion matrix"
   ]
  },
  {
   "cell_type": "code",
   "execution_count": 60,
   "id": "e82fad65-b7d4-4bf1-8057-fd9ba4faf70f",
   "metadata": {
    "colab": {
     "base_uri": "https://localhost:8080/"
    },
    "id": "e82fad65-b7d4-4bf1-8057-fd9ba4faf70f",
    "outputId": "21c4095e-ed57-4cd7-d802-78a3f32b91ea"
   },
   "outputs": [
    {
     "data": {
      "text/plain": [
       "array([[10,  0,  0,  1,  0,  0,  0],\n",
       "       [ 0, 16,  0,  0,  0,  0,  3],\n",
       "       [ 0,  4, 51,  0,  0,  0,  0],\n",
       "       [ 2,  0,  0,  9,  0,  0,  0],\n",
       "       [ 1,  0,  0,  0, 35,  0,  1],\n",
       "       [ 0,  0,  0,  0,  0, 37,  0],\n",
       "       [ 0,  3,  0,  0,  0,  0, 18]])"
      ]
     },
     "execution_count": 60,
     "metadata": {},
     "output_type": "execute_result"
    }
   ],
   "source": [
    "# Generating the confusion matrix for test set (best_model)\n",
    "test_cnf_matrix = confusion_matrix(test_encoded_labels, test_predictions)\n",
    "test_cnf_matrix"
   ]
  },
  {
   "cell_type": "markdown",
   "id": "92ec6fbd-a767-462b-9530-c41632c080b8",
   "metadata": {
    "id": "92ec6fbd-a767-462b-9530-c41632c080b8"
   },
   "source": [
    "### **How well the model works to make predictions in this case**"
   ]
  },
  {
   "cell_type": "markdown",
   "id": "07JhzehfH49h",
   "metadata": {
    "id": "07JhzehfH49h"
   },
   "source": [
    "### **<span style='color:blue'>best_model (model4) has demonstrated consistent performance, achieving a training accuracy of 0.92, exceeding this on the validation set with an accuracy of 0.94, and maintaining the same accuracy of 0.92 on the test set. We can conclude that it is generalizing effectively without overfitting</span>**"
   ]
  },
  {
   "cell_type": "code",
   "execution_count": null,
   "id": "04272a67-4635-4241-a0d2-36a35a37f2c7",
   "metadata": {
    "id": "04272a67-4635-4241-a0d2-36a35a37f2c7"
   },
   "outputs": [],
   "source": []
  }
 ],
 "metadata": {
  "colab": {
   "provenance": []
  },
  "kernelspec": {
   "display_name": "Python 3 (ipykernel)",
   "language": "python",
   "name": "python3"
  },
  "language_info": {
   "codemirror_mode": {
    "name": "ipython",
    "version": 3
   },
   "file_extension": ".py",
   "mimetype": "text/x-python",
   "name": "python",
   "nbconvert_exporter": "python",
   "pygments_lexer": "ipython3",
   "version": "3.8.0"
  }
 },
 "nbformat": 4,
 "nbformat_minor": 5
}
