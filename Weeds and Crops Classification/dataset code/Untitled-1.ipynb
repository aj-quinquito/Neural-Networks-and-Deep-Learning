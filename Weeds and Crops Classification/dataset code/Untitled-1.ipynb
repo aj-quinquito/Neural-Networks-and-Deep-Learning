{
 "cells": [
  {
   "cell_type": "code",
   "execution_count": 2,
   "metadata": {},
   "outputs": [
    {
     "name": "stdout",
     "output_type": "stream",
     "text": [
      "Dataset structure saved to C:/Users/AJ/OneDrive/Desktop/school/Neural Networks and Deep Learning/Weeds and Crops Classification/dataset_structure.json\n"
     ]
    }
   ],
   "source": [
    "import os\n",
    "import json\n",
    "\n",
    "# Function to get folder structure and files\n",
    "def get_files_and_folders(path):\n",
    "    data = {}\n",
    "    for root, dirs, files in os.walk(path):\n",
    "        relative_path = os.path.relpath(root, path)  # Get relative path\n",
    "        if relative_path == '.':  # If it's the root folder, make it an empty string\n",
    "            relative_path = \"\"\n",
    "        data[relative_path] = files  # Add files to the folder\n",
    "    return data\n",
    "\n",
    "# Define dataset paths\n",
    "train_path = 'C:/Users/AJ/OneDrive/Desktop/school/Neural Networks and Deep Learning/Weeds and Crops Classification/dataset_2_split/train'\n",
    "val_path = 'C:/Users/AJ/OneDrive/Desktop/school/Neural Networks and Deep Learning/Weeds and Crops Classification/dataset_2_split/validation'\n",
    "test_path = 'C:/Users/AJ/OneDrive/Desktop/school/Neural Networks and Deep Learning/Weeds and Crops Classification/dataset_2_split/test'\n",
    "\n",
    "# Create JSON structure\n",
    "dataset_structure = {\n",
    "    \"train\": get_files_and_folders(train_path),\n",
    "    \"validation\": get_files_and_folders(val_path),\n",
    "    \"test\": get_files_and_folders(test_path)\n",
    "}\n",
    "\n",
    "# Save the JSON structure to a file\n",
    "output_file = 'C:/Users/AJ/OneDrive/Desktop/school/Neural Networks and Deep Learning/Weeds and Crops Classification/dataset_structure.json'\n",
    "with open(output_file, 'w') as json_file:\n",
    "    json.dump(dataset_structure, json_file, indent=4)\n",
    "\n",
    "print(f\"Dataset structure saved to {output_file}\")\n"
   ]
  },
  {
   "cell_type": "code",
   "execution_count": 1,
   "metadata": {},
   "outputs": [
    {
     "name": "stdout",
     "output_type": "stream",
     "text": [
      "Dataset structure saved to C:/Users/AJ/OneDrive/Desktop/school/Neural Networks and Deep Learning/Weeds and Crops Classification/dataset_structure.json\n"
     ]
    }
   ],
   "source": [
    "import os\n",
    "import json\n",
    "\n",
    "# Function to get folder structure and files\n",
    "def directory_to_json(dir_path):\n",
    "    folder_dict = {}\n",
    "    for root, dirs, files in os.walk(dir_path):\n",
    "        relative_path = os.path.relpath(root, dir_path)  # Get the relative path\n",
    "        if relative_path == '.':  # If it's the root folder, make it an empty string\n",
    "            relative_path = \"\"\n",
    "        folder_dict[relative_path] = files  # Add files in the folder\n",
    "    return folder_dict\n",
    "\n",
    "# Define the dataset path\n",
    "dataset_path = r\"C:/Users/AJ/OneDrive/Desktop/school/Neural Networks and Deep Learning/Weeds and Crops Classification/dataset_1\"\n",
    "\n",
    "# Generate the JSON structure\n",
    "dataset_structure = directory_to_json(dataset_path)\n",
    "\n",
    "# Save the JSON structure to a file\n",
    "output_file = r\"C:/Users/AJ/OneDrive/Desktop/school/Neural Networks and Deep Learning/Weeds and Crops Classification/dataset_structure.json\"\n",
    "with open(output_file, 'w') as json_file:\n",
    "    json.dump(dataset_structure, json_file, indent=4)\n",
    "\n",
    "print(f\"Dataset structure saved to {output_file}\")\n"
   ]
  }
 ],
 "metadata": {
  "kernelspec": {
   "display_name": "cuda_env",
   "language": "python",
   "name": "python3"
  },
  "language_info": {
   "codemirror_mode": {
    "name": "ipython",
    "version": 3
   },
   "file_extension": ".py",
   "mimetype": "text/x-python",
   "name": "python",
   "nbconvert_exporter": "python",
   "pygments_lexer": "ipython3",
   "version": "3.8.20"
  }
 },
 "nbformat": 4,
 "nbformat_minor": 2
}
