{
 "cells": [
  {
   "cell_type": "code",
   "execution_count": null,
   "metadata": {},
   "outputs": [],
   "source": [
    "import tensorflow as tf\n",
    "import numpy as np\n",
    "from PIL import Image\n",
    "import os"
   ]
  },
  {
   "cell_type": "code",
   "execution_count": null,
   "metadata": {},
   "outputs": [],
   "source": [
    "model = tf.keras.applications.MobileNetV2(input_shape=(128, 128, 3), include_top=False, weights='imagenet')"
   ]
  },
  {
   "cell_type": "code",
   "execution_count": null,
   "metadata": {},
   "outputs": [],
   "source": [
    "def preprocess_image(image_path, target_size=(128, 128)):\n",
    "    \"\"\"Preprocess the image to the required input format for the model.\"\"\"\n",
    "    image = Image.open(image_path).convert('RGB')\n",
    "    image = image.resize(target_size)\n",
    "    image_array = tf.keras.preprocessing.image.img_to_array(image)\n",
    "    image_array = np.expand_dims(image_array, axis=0)  # Add batch dimension\n",
    "    image_array = tf.keras.applications.mobilenet_v2.preprocess_input(image_array)\n",
    "    return image_array"
   ]
  },
  {
   "cell_type": "code",
   "execution_count": null,
   "metadata": {},
   "outputs": [],
   "source": [
    "def generate_mask(image_array):\n",
    "    \"\"\"Generate a rough segmentation mask from the model's predictions.\"\"\"\n",
    "    # Run inference\n",
    "    predictions = model.predict(image_array)\n",
    "    # Resize back to the original input size\n",
    "    predictions = tf.image.resize(predictions, (128, 128))\n",
    "    # Take the argmax across the channels to get the most likely class for each pixel\n",
    "    mask = tf.argmax(predictions, axis=-1).numpy()[0]\n",
    "    return mask"
   ]
  },
  {
   "cell_type": "code",
   "execution_count": null,
   "metadata": {},
   "outputs": [],
   "source": [
    "def process_and_save_masks(image_folder, mask_base_folder):\n",
    "    \"\"\"Generate and save masks for all images in the specified folder, keeping masks in a separate structure.\"\"\"\n",
    "    # Get the class name from the image folder path\n",
    "    class_name = os.path.basename(image_folder)\n",
    "    # Define the corresponding mask folder for this class\n",
    "    mask_folder = os.path.join(mask_base_folder, class_name)\n",
    "    os.makedirs(mask_folder, exist_ok=True)  # Ensure the mask folder exists\n",
    "    \n",
    "    for image_name in os.listdir(image_folder):\n",
    "        if image_name.endswith(('.jpg', '.jpeg', '.png')):  # Process only image files\n",
    "            image_path = os.path.join(image_folder, image_name)\n",
    "            mask_path = os.path.join(mask_folder, image_name)\n",
    "            \n",
    "            # Preprocess image and generate mask\n",
    "            image_array = preprocess_image(image_path)\n",
    "            mask = generate_mask(image_array)\n",
    "            \n",
    "            # Convert the mask to an image and save it\n",
    "            mask_image = Image.fromarray(np.uint8(mask * 255 / np.max(mask)))  # Scale mask values to 0-255\n",
    "            mask_image = mask_image.convert(\"L\")  # Convert to grayscale\n",
    "            mask_image.save(mask_path)"
   ]
  },
  {
   "cell_type": "code",
   "execution_count": null,
   "metadata": {},
   "outputs": [],
   "source": [
    "# Define paths for the original train and validation image directories\n",
    "train_dir = 'C:/Users/AJ/OneDrive/Desktop/school/Nueral/Neural Jupyter/Project 2/augmented/train'\n",
    "val_dir = 'C:/Users/AJ/OneDrive/Desktop/school/Nueral/Neural Jupyter/Project 2/augmented/validation'\n",
    "test_dir = 'C:/Users/AJ/OneDrive/Desktop/school/Nueral/Neural Jupyter/Project 2/augmented/test'\n",
    "\n",
    "# Define paths for the new mask directories\n",
    "train_mask_dir = 'C:/Users/AJ/OneDrive/Desktop/school/Nueral/Neural Jupyter/Project 2/masks_augmented/train'\n",
    "val_mask_dir = 'C:/Users/AJ/OneDrive/Desktop/school/Nueral/Neural Jupyter/Project 2/masks_augmented/validation'\n",
    "test_mask_dir = 'C:/Users/AJ/OneDrive/Desktop/school/Nueral/Neural Jupyter/Project 2/masks_augmented/test'"
   ]
  },
  {
   "cell_type": "code",
   "execution_count": null,
   "metadata": {},
   "outputs": [],
   "source": [
    "# Iterate over each class folder and generate masks for train and validation sets\n",
    "for split_dir, mask_split_dir in [(test_dir, test_mask_dir)]:\n",
    "    for class_name in os.listdir(split_dir):\n",
    "        class_image_dir = os.path.join(split_dir, class_name)\n",
    "        if os.path.isdir(class_image_dir):\n",
    "            # Define the corresponding mask folder\n",
    "            class_mask_dir = os.path.join(mask_split_dir, class_name)\n",
    "            os.makedirs(class_mask_dir, exist_ok=True)\n",
    "            \n",
    "            # Generate and save masks for each image in this class folder\n",
    "            process_and_save_masks(class_image_dir, class_mask_dir)"
   ]
  }
 ],
 "metadata": {
  "kernelspec": {
   "display_name": "Nueral-test",
   "language": "python",
   "name": "python3"
  },
  "language_info": {
   "codemirror_mode": {
    "name": "ipython",
    "version": 3
   },
   "file_extension": ".py",
   "mimetype": "text/x-python",
   "name": "python",
   "nbconvert_exporter": "python",
   "pygments_lexer": "ipython3",
   "version": "3.9.18"
  }
 },
 "nbformat": 4,
 "nbformat_minor": 2
}
