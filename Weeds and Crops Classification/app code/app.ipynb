{
 "cells": [
  {
   "cell_type": "code",
   "execution_count": null,
   "metadata": {},
   "outputs": [],
   "source": [
    "import streamlit as st\n",
    "import tensorflow as tf\n",
    "import numpy as np\n",
    "from PIL import Image"
   ]
  },
  {
   "cell_type": "code",
   "execution_count": null,
   "metadata": {},
   "outputs": [],
   "source": [
    "# Load Models\n",
    "@st.cache(allow_output_mutation=True)\n",
    "def load_models():\n",
    "    vgg16_model = tf.keras.models.load_model(\"vgg16_model.h5\")\n",
    "    resnet50_model = tf.keras.models.load_model(\"resnet50_model.h5\")\n",
    "    simple_cnn_model = tf.keras.models.load_model(\"simple_cnn_model.h5\")\n",
    "    return vgg16_model, resnet50_model, simple_cnn_model\n",
    "\n",
    "vgg16_model, resnet50_model, simple_cnn_model = load_models()"
   ]
  },
  {
   "cell_type": "code",
   "execution_count": null,
   "metadata": {},
   "outputs": [],
   "source": [
    "# Define class labels\n",
    "class_labels = {0: \"Class 1\", 1: \"Class 2\", 2: \"Class 3\"}  # Update with your actual labels\n",
    "\n",
    "def preprocess_image(image, target_size):\n",
    "    \"\"\"Preprocess the image for prediction.\"\"\"\n",
    "    image = image.resize(target_size)\n",
    "    image = img_to_array(image) / 255.0  # Normalize\n",
    "    image = np.expand_dims(image, axis=0)\n",
    "    return image"
   ]
  },
  {
   "cell_type": "code",
   "execution_count": null,
   "metadata": {},
   "outputs": [],
   "source": [
    "# Streamlit Interface\n",
    "st.title(\"Image Classification App\")\n",
    "st.write(\"Upload an image and select a model to classify it.\")"
   ]
  },
  {
   "cell_type": "code",
   "execution_count": null,
   "metadata": {},
   "outputs": [],
   "source": [
    "# File uploader\n",
    "uploaded_file = st.file_uploader(\"Choose an image...\", type=[\"jpg\", \"jpeg\", \"png\"])"
   ]
  },
  {
   "cell_type": "code",
   "execution_count": null,
   "metadata": {},
   "outputs": [],
   "source": [
    "# Model selection\n",
    "model_option = st.selectbox(\n",
    "    \"Choose a model for prediction\",\n",
    "    (\"VGG16\", \"ResNet50\", \"Simple CNN\")\n",
    ")"
   ]
  },
  {
   "cell_type": "code",
   "execution_count": null,
   "metadata": {},
   "outputs": [],
   "source": [
    "# Process and predict\n",
    "if uploaded_file is not None:\n",
    "    image = Image.open(uploaded_file)\n",
    "    st.image(image, caption=\"Uploaded Image\", use_column_width=True)\n",
    "    st.write(\"Classifying...\")\n",
    "\n",
    "    # Resize image for the models (VGG16 and ResNet50 require 224x224 input)\n",
    "    target_size = (224, 224) if model_option in [\"VGG16\", \"ResNet50\"] else (128, 128)\n",
    "    preprocessed_image = preprocess_image(image, target_size)\n",
    "\n",
    "    # Select the model based on user choice\n",
    "    if model_option == \"VGG16\":\n",
    "        predictions = vgg16_model.predict(preprocessed_image)\n",
    "    elif model_option == \"ResNet50\":\n",
    "        predictions = resnet50_model.predict(preprocessed_image)\n",
    "    else:\n",
    "        predictions = simple_cnn_model.predict(preprocessed_image)\n",
    "\n",
    "    # Output prediction\n",
    "    predicted_class = np.argmax(predictions, axis=1)[0]\n",
    "    st.write(f\"Prediction: Class {predicted_class}\")\n"
   ]
  }
 ],
 "metadata": {
  "kernelspec": {
   "display_name": "gpu_env",
   "language": "python",
   "name": "python3"
  },
  "language_info": {
   "codemirror_mode": {
    "name": "ipython",
    "version": 3
   },
   "file_extension": ".py",
   "mimetype": "text/x-python",
   "name": "python",
   "nbconvert_exporter": "python",
   "pygments_lexer": "ipython3",
   "version": "3.8.20"
  }
 },
 "nbformat": 4,
 "nbformat_minor": 2
}
